{
 "cells": [
  {
   "cell_type": "code",
   "execution_count": 1,
   "metadata": {},
   "outputs": [],
   "source": [
    "import pickle\n",
    "import pandas as pd\n",
    "import numpy as np"
   ]
  },
  {
   "cell_type": "markdown",
   "metadata": {},
   "source": [
    "# 5. Functions and Class\n",
    "In this class we will cover everything related to creating functions and clases in Python."
   ]
  },
  {
   "cell_type": "markdown",
   "metadata": {},
   "source": [
    "- <a href='##5.1.'>5.1. Functions</a>\n",
    "     - <a href='##5.1.1.'>5.1.1. The Importance of Python Functions </a> \n",
    "     - <a href='##5.1.2.'>5.1.2. Basic structure of a function </a> \n",
    "     - <a href='##5.1.3.'>5.1.3. Function without `return` function </a> \n",
    "     - <a href='##5.1.5.'>5.1.5. Multiple objects for return </a> \n",
    "     - <a href='##5.1.5.'>5.1.5. If condition with return </a>\n",
    "     - <a href='##5.1.6.'>5.1.6. Default values to parameters </a> \n",
    "     - <a href='##5.1.7.'>5.1.7. Specify the type of a parameter and the type of the return type of a function </a> \n",
    "     - <a href='##5.1.8.'>5.1.8. Local variables VS Global variables </a> \n",
    "     - <a href='##5.1.9.'>5.1.9. Args </a> \n",
    "     - <a href='##5.1.10.'>5.1.10. Kwargs </a> \n",
    "- <a href='##5.2.'>5.2. Class </a> \n",
    "     - <a href='##5.2.1.'>5.2.1. The Importance of Python Classes </a> \n",
    "     - <a href='##5.2.2.'> 5.2.2. Defining a class </a> \n",
    "     - <a href='##5.2.3.'> 5.2.3. Attributes </a> \n",
    "     - <a href='##5.2.5.'> 5.2.5. Method </a>\n",
    "     - <a href='##5.2.6.'> 5.2.6. \\_\\_init\\_\\_() </a>\n",
    "     - <a href='##5.2.7.'> 5.2.7. Self </a>\n",
    "- <a href='##5.3.'>5.3. References </a>  "
   ]
  },
  {
   "cell_type": "markdown",
   "metadata": {},
   "source": [
    "##  <a id='#5.1.'>5.1. Functions</a>"
   ]
  },
  {
   "cell_type": "markdown",
   "metadata": {},
   "source": [
    "### <a id = '#5.1.1.'> 5.1.1.The Importance of Python Functions </a> "
   ]
  },
  {
   "cell_type": "markdown",
   "metadata": {},
   "source": [
    "- Abstraction and Reusability: Replicate the code you will use over and over again.\n",
    "- Modularity: Functions allow complex processes to be broken up into smaller steps.\n",
    "- Namespace Separation: It allows you to use variables  and used within a Python function even if they have the same name as variables defined in other functions or in the main program. "
   ]
  },
  {
   "cell_type": "markdown",
   "metadata": {},
   "source": [
    "### <a id='#5.1.2.'> 5.1.2. Basic structure of a function </a> \n",
    "A function requires **parameters**, **code** to execute and the **return** function. The **def** keyword introduces a new Python function definition.\n",
    "\n",
    "This is the basic structure:\n",
    "<br><br>\n",
    "\n",
    "<font size=\"4\">\n",
    "def name_function<font color='green'>( parameter1, parameter2 )</font>: <br> <br>\n",
    "&nbsp;&nbsp;&nbsp;&nbsp;Code<br><br>\n",
    "&nbsp;&nbsp;&nbsp;&nbsp;<font color='green'>return</font> final_output<br>\n",
    "</font>"
   ]
  },
  {
   "cell_type": "code",
   "execution_count": 1,
   "metadata": {},
   "outputs": [],
   "source": [
    "import numpy as np"
   ]
  },
  {
   "cell_type": "code",
   "execution_count": 2,
   "metadata": {},
   "outputs": [
    {
     "data": {
      "text/plain": [
       "25"
      ]
     },
     "execution_count": 2,
     "metadata": {},
     "output_type": "execute_result"
    }
   ],
   "source": [
    "5**2"
   ]
  },
  {
   "cell_type": "code",
   "execution_count": 5,
   "metadata": {},
   "outputs": [],
   "source": [
    "def power(x):\n",
    "    # code\n",
    "    xsq = x**2\n",
    "    \n",
    "    return xsq"
   ]
  },
  {
   "cell_type": "code",
   "execution_count": 6,
   "metadata": {},
   "outputs": [
    {
     "data": {
      "text/plain": [
       "49"
      ]
     },
     "execution_count": 6,
     "metadata": {},
     "output_type": "execute_result"
    }
   ],
   "source": [
    "power(x=7)"
   ]
  },
  {
   "cell_type": "code",
   "execution_count": 7,
   "metadata": {},
   "outputs": [],
   "source": [
    "def calculator(x, y):\n",
    "    # code\n",
    "    mult = x * y\n",
    "    \n",
    "    return mult"
   ]
  },
  {
   "cell_type": "code",
   "execution_count": 10,
   "metadata": {},
   "outputs": [],
   "source": [
    "import numpy as np"
   ]
  },
  {
   "cell_type": "code",
   "execution_count": 8,
   "metadata": {},
   "outputs": [
    {
     "data": {
      "text/plain": [
       "500"
      ]
     },
     "execution_count": 8,
     "metadata": {},
     "output_type": "execute_result"
    }
   ],
   "source": [
    "calculator(x=10, y=50)"
   ]
  },
  {
   "cell_type": "code",
   "execution_count": 25,
   "metadata": {},
   "outputs": [],
   "source": [
    "def calculator(x, y, z, p):\n",
    "    # code\n",
    "    vanessa = x * y * z * p\n",
    "    \n",
    "    return vanessa"
   ]
  },
  {
   "cell_type": "code",
   "execution_count": 22,
   "metadata": {},
   "outputs": [
    {
     "data": {
      "text/plain": [
       "2400"
      ]
     },
     "execution_count": 22,
     "metadata": {},
     "output_type": "execute_result"
    }
   ],
   "source": [
    "calculator(x= 10, y=5, z=2, p=24)"
   ]
  },
  {
   "cell_type": "code",
   "execution_count": 23,
   "metadata": {},
   "outputs": [
    {
     "data": {
      "text/plain": [
       "2400"
      ]
     },
     "execution_count": 23,
     "metadata": {},
     "output_type": "execute_result"
    }
   ],
   "source": [
    "calculator( 10, 5, 2, 24)"
   ]
  },
  {
   "cell_type": "code",
   "execution_count": 24,
   "metadata": {},
   "outputs": [
    {
     "data": {
      "text/plain": [
       "2400"
      ]
     },
     "execution_count": 24,
     "metadata": {},
     "output_type": "execute_result"
    }
   ],
   "source": [
    "calculator( p=24,z=2, x= 10, y=5)"
   ]
  },
  {
   "cell_type": "code",
   "execution_count": null,
   "metadata": {},
   "outputs": [],
   "source": [
    "vec_1= np.arange(0, 10)\n",
    "vec_2 = np.arange(0, 10)"
   ]
  },
  {
   "cell_type": "code",
   "execution_count": 15,
   "metadata": {},
   "outputs": [
    {
     "data": {
      "text/plain": [
       "array([0, 1, 2, 3, 4, 5, 6, 7, 8, 9])"
      ]
     },
     "execution_count": 15,
     "metadata": {},
     "output_type": "execute_result"
    }
   ],
   "source": [
    "vec_1*vec_2"
   ]
  },
  {
   "cell_type": "code",
   "execution_count": 16,
   "metadata": {},
   "outputs": [
    {
     "data": {
      "text/plain": [
       "array([0, 1, 2, 3, 4, 5, 6, 7, 8, 9])"
      ]
     },
     "execution_count": 16,
     "metadata": {},
     "output_type": "execute_result"
    }
   ],
   "source": [
    "vec_2"
   ]
  },
  {
   "cell_type": "code",
   "execution_count": 13,
   "metadata": {},
   "outputs": [
    {
     "data": {
      "text/plain": [
       "array([ 0,  1,  4,  9, 16, 25, 36, 49, 64, 81])"
      ]
     },
     "execution_count": 13,
     "metadata": {},
     "output_type": "execute_result"
    }
   ],
   "source": [
    "calculator(x=vec_1, y=vec_2)"
   ]
  },
  {
   "cell_type": "code",
   "execution_count": 14,
   "metadata": {},
   "outputs": [
    {
     "data": {
      "text/plain": [
       "array([0, 1, 2, 3, 4, 5, 6, 7, 8, 9])"
      ]
     },
     "execution_count": 14,
     "metadata": {},
     "output_type": "execute_result"
    }
   ],
   "source": [
    "vec_1"
   ]
  },
  {
   "cell_type": "code",
   "execution_count": 5,
   "metadata": {},
   "outputs": [],
   "source": [
    "def multiplication(x, y, z):\n",
    "    result = x*y*z\n",
    "    return result"
   ]
  },
  {
   "cell_type": "code",
   "execution_count": 8,
   "metadata": {},
   "outputs": [
    {
     "data": {
      "text/plain": [
       "96"
      ]
     },
     "execution_count": 8,
     "metadata": {},
     "output_type": "execute_result"
    }
   ],
   "source": [
    "multiplication(8, 6, 2)"
   ]
  },
  {
   "cell_type": "code",
   "execution_count": 32,
   "metadata": {},
   "outputs": [],
   "source": [
    "marco = 28"
   ]
  },
  {
   "cell_type": "code",
   "execution_count": 33,
   "metadata": {},
   "outputs": [
    {
     "data": {
      "text/plain": [
       "28"
      ]
     },
     "execution_count": 33,
     "metadata": {},
     "output_type": "execute_result"
    }
   ],
   "source": [
    "marco"
   ]
  },
  {
   "cell_type": "code",
   "execution_count": 38,
   "metadata": {},
   "outputs": [
    {
     "data": {
      "text/plain": [
       "False"
      ]
     },
     "execution_count": 38,
     "metadata": {},
     "output_type": "execute_result"
    }
   ],
   "source": [
    "True == 25"
   ]
  },
  {
   "cell_type": "code",
   "execution_count": 34,
   "metadata": {},
   "outputs": [
    {
     "data": {
      "text/plain": [
       "False"
      ]
     },
     "execution_count": 34,
     "metadata": {},
     "output_type": "execute_result"
    }
   ],
   "source": [
    "100 == 1"
   ]
  },
  {
   "cell_type": "code",
   "execution_count": 42,
   "metadata": {},
   "outputs": [
    {
     "name": "stdout",
     "output_type": "stream",
     "text": [
      "100\n"
     ]
    }
   ],
   "source": [
    "if 60>50:\n",
    "    vanessa = 100\n",
    "    print(vanessa)"
   ]
  },
  {
   "cell_type": "code",
   "execution_count": 44,
   "metadata": {},
   "outputs": [
    {
     "data": {
      "text/plain": [
       "False"
      ]
     },
     "execution_count": 44,
     "metadata": {},
     "output_type": "execute_result"
    }
   ],
   "source": [
    "0 == 1"
   ]
  },
  {
   "cell_type": "code",
   "execution_count": 46,
   "metadata": {},
   "outputs": [
    {
     "data": {
      "text/plain": [
       "False"
      ]
     },
     "execution_count": 46,
     "metadata": {},
     "output_type": "execute_result"
    }
   ],
   "source": [
    "False == 1"
   ]
  },
  {
   "cell_type": "code",
   "execution_count": 49,
   "metadata": {},
   "outputs": [],
   "source": [
    "def info_students(x, y, z):\n",
    "    \n",
    "    if z == 1:\n",
    "        name = \"Her name is {}\".format(x)\n",
    "        lastname = \"Her lastname is {}\".format(y)\n",
    "        \n",
    "    else:\n",
    "        name = \"His name is {}\".format(x)\n",
    "        lastname = \"His lastname is {}\".format(y)\n",
    "    \n",
    "    return print(name,\",\",  lastname)"
   ]
  },
  {
   "cell_type": "code",
   "execution_count": 64,
   "metadata": {},
   "outputs": [
    {
     "name": "stdout",
     "output_type": "stream",
     "text": [
      "Her name is Valeria , Her lastname is Reyes\n"
     ]
    }
   ],
   "source": [
    "info_students(x=\"Valeria\", y=\"Reyes\", z=True)"
   ]
  },
  {
   "cell_type": "code",
   "execution_count": 97,
   "metadata": {},
   "outputs": [],
   "source": [
    "def info_students(x, y, z):\n",
    "    \n",
    "    if z == 1:\n",
    "        name = \"Her name is {}\".format(x)\n",
    "        lastname = \"Her lastname is {}\".format(y)\n",
    "        \n",
    "    else:\n",
    "        name = \"His name is {}\".format(x)\n",
    "        lastname = \"His lastname is {}\".format(y)\n",
    "    \n",
    "    return name, lastname"
   ]
  },
  {
   "cell_type": "code",
   "execution_count": 95,
   "metadata": {},
   "outputs": [
    {
     "data": {
      "text/plain": [
       "('Her name is Valeria', 'Her lastname is Reyes')"
      ]
     },
     "execution_count": 95,
     "metadata": {},
     "output_type": "execute_result"
    }
   ],
   "source": [
    "info_students(x=\"Valeria\", y=\"Reyes\", z=True)"
   ]
  },
  {
   "cell_type": "code",
   "execution_count": 91,
   "metadata": {},
   "outputs": [],
   "source": [
    "def multiplication(x, y, z):\n",
    "    mult_1 = x*y \n",
    "    mult_3 = z*y \n",
    "    \n",
    "    result = x*y*z\n",
    "    \n",
    "    return result, mult_1, mult_3"
   ]
  },
  {
   "cell_type": "code",
   "execution_count": 92,
   "metadata": {},
   "outputs": [
    {
     "data": {
      "text/plain": [
       "(120, 20, 30)"
      ]
     },
     "execution_count": 92,
     "metadata": {},
     "output_type": "execute_result"
    }
   ],
   "source": [
    "multiplication(4, 5, 6)"
   ]
  },
  {
   "cell_type": "code",
   "execution_count": 94,
   "metadata": {},
   "outputs": [
    {
     "ename": "NameError",
     "evalue": "name 'mult_3' is not defined",
     "output_type": "error",
     "traceback": [
      "\u001b[1;31m---------------------------------------------------------------------------\u001b[0m",
      "\u001b[1;31mNameError\u001b[0m                                 Traceback (most recent call last)",
      "\u001b[1;32mC:\\Users\\ALEXAN~1\\AppData\\Local\\Temp/ipykernel_36464/685433500.py\u001b[0m in \u001b[0;36m<module>\u001b[1;34m\u001b[0m\n\u001b[1;32m----> 1\u001b[1;33m \u001b[0mmult_3\u001b[0m\u001b[1;33m\u001b[0m\u001b[1;33m\u001b[0m\u001b[0m\n\u001b[0m",
      "\u001b[1;31mNameError\u001b[0m: name 'mult_3' is not defined"
     ]
    }
   ],
   "source": [
    "mult_3"
   ]
  },
  {
   "cell_type": "code",
   "execution_count": 72,
   "metadata": {},
   "outputs": [
    {
     "ename": "NameError",
     "evalue": "name 'lastname' is not defined",
     "output_type": "error",
     "traceback": [
      "\u001b[1;31m---------------------------------------------------------------------------\u001b[0m",
      "\u001b[1;31mNameError\u001b[0m                                 Traceback (most recent call last)",
      "\u001b[1;32mC:\\Users\\ALEXAN~1\\AppData\\Local\\Temp/ipykernel_36464/808077539.py\u001b[0m in \u001b[0;36m<module>\u001b[1;34m\u001b[0m\n\u001b[1;32m----> 1\u001b[1;33m \u001b[0mlastname\u001b[0m\u001b[1;33m\u001b[0m\u001b[1;33m\u001b[0m\u001b[0m\n\u001b[0m",
      "\u001b[1;31mNameError\u001b[0m: name 'lastname' is not defined"
     ]
    }
   ],
   "source": [
    "lastname"
   ]
  },
  {
   "cell_type": "code",
   "execution_count": 53,
   "metadata": {},
   "outputs": [],
   "source": [
    "nathaly = \"Belapatiño\""
   ]
  },
  {
   "cell_type": "code",
   "execution_count": 62,
   "metadata": {},
   "outputs": [],
   "source": [
    "nathaly_2 = \"Belapatiño\""
   ]
  },
  {
   "cell_type": "code",
   "execution_count": 61,
   "metadata": {},
   "outputs": [
    {
     "data": {
      "text/plain": [
       "'Belapatiño'"
      ]
     },
     "execution_count": 61,
     "metadata": {},
     "output_type": "execute_result"
    }
   ],
   "source": [
    "nathaly_2"
   ]
  },
  {
   "cell_type": "code",
   "execution_count": 63,
   "metadata": {},
   "outputs": [
    {
     "name": "stdout",
     "output_type": "stream",
     "text": [
      "Her name is Valeria , Her lastname is Reyes\n"
     ]
    }
   ],
   "source": [
    "info_students(x=\"Valeria\", y=\"Reyes\", z=True)"
   ]
  },
  {
   "cell_type": "code",
   "execution_count": 29,
   "metadata": {},
   "outputs": [
    {
     "name": "stdout",
     "output_type": "stream",
     "text": [
      "Her name is Valeria , Her lastname is Reyes\n"
     ]
    }
   ],
   "source": [
    "info_students(x = \"Valeria\", y = \"Reyes\", z = True)"
   ]
  },
  {
   "cell_type": "code",
   "execution_count": 30,
   "metadata": {},
   "outputs": [
    {
     "name": "stdout",
     "output_type": "stream",
     "text": [
      "His name is Pablo , His lastname is Paredes\n"
     ]
    }
   ],
   "source": [
    "info_students(x = \"Pablo\", y = \"Paredes\", z=False)"
   ]
  },
  {
   "cell_type": "code",
   "execution_count": 18,
   "metadata": {},
   "outputs": [
    {
     "name": "stdout",
     "output_type": "stream",
     "text": [
      "His name is Guillermo , His lastname is Coronado\n"
     ]
    }
   ],
   "source": [
    "info_students(\"Guillermo\", \"Coronado\", False)"
   ]
  },
  {
   "cell_type": "code",
   "execution_count": 14,
   "metadata": {},
   "outputs": [],
   "source": [
    "def calculator(x, y):\n",
    "    \n",
    "    if x < y:\n",
    "        print(\"division out range\")\n",
    "        result = np.nan\n",
    "    else: \n",
    "        result  = x/y\n",
    "    \n",
    "    return result"
   ]
  },
  {
   "cell_type": "code",
   "execution_count": 16,
   "metadata": {},
   "outputs": [
    {
     "data": {
      "text/plain": [
       "1.3333333333333333"
      ]
     },
     "execution_count": 16,
     "metadata": {},
     "output_type": "execute_result"
    }
   ],
   "source": [
    "calculator(4, 3)"
   ]
  },
  {
   "cell_type": "code",
   "execution_count": 17,
   "metadata": {},
   "outputs": [],
   "source": [
    "def calculator( x, y, z ):\n",
    "    \n",
    "    result = x * y * z\n",
    "    \n",
    "    return result"
   ]
  },
  {
   "cell_type": "code",
   "execution_count": 20,
   "metadata": {},
   "outputs": [
    {
     "data": {
      "text/plain": [
       "60040"
      ]
     },
     "execution_count": 20,
     "metadata": {},
     "output_type": "execute_result"
    }
   ],
   "source": [
    "calculator( 158, 38, 10 )"
   ]
  },
  {
   "cell_type": "code",
   "execution_count": 22,
   "metadata": {},
   "outputs": [
    {
     "data": {
      "text/plain": [
       "0"
      ]
     },
     "execution_count": 22,
     "metadata": {},
     "output_type": "execute_result"
    }
   ],
   "source": [
    "calculator( 4, 7, 0)"
   ]
  },
  {
   "cell_type": "code",
   "execution_count": 19,
   "metadata": {},
   "outputs": [
    {
     "ename": "TypeError",
     "evalue": "calculator() missing 1 required positional argument: 'z'",
     "output_type": "error",
     "traceback": [
      "\u001b[1;31m---------------------------------------------------------------------------\u001b[0m",
      "\u001b[1;31mTypeError\u001b[0m                                 Traceback (most recent call last)",
      "\u001b[1;32mC:\\Users\\ALEXAN~1\\AppData\\Local\\Temp/ipykernel_39524/2897035931.py\u001b[0m in \u001b[0;36m<module>\u001b[1;34m\u001b[0m\n\u001b[1;32m----> 1\u001b[1;33m \u001b[0mreturn1\u001b[0m \u001b[1;33m=\u001b[0m \u001b[0mcalculator\u001b[0m\u001b[1;33m(\u001b[0m \u001b[1;36m4\u001b[0m\u001b[1;33m,\u001b[0m \u001b[1;36m7\u001b[0m \u001b[1;33m)\u001b[0m\u001b[1;33m\u001b[0m\u001b[1;33m\u001b[0m\u001b[0m\n\u001b[0m\u001b[0;32m      2\u001b[0m \u001b[0mreturn1\u001b[0m\u001b[1;33m\u001b[0m\u001b[1;33m\u001b[0m\u001b[0m\n",
      "\u001b[1;31mTypeError\u001b[0m: calculator() missing 1 required positional argument: 'z'"
     ]
    }
   ],
   "source": [
    "return1 = calculator( 4, 7 )\n",
    "return1"
   ]
  },
  {
   "cell_type": "markdown",
   "metadata": {},
   "source": [
    "### <a id='#5.1.3.'>5.1.3. Function without `return` function </a> \n",
    "When we define a function without the `return` function, the generated function does not return any output."
   ]
  },
  {
   "cell_type": "code",
   "execution_count": 44,
   "metadata": {},
   "outputs": [],
   "source": [
    "x2 = 5\n",
    "y2 = 10"
   ]
  },
  {
   "cell_type": "code",
   "execution_count": 106,
   "metadata": {},
   "outputs": [],
   "source": [
    "def calculator_square( x, y ):\n",
    "    \n",
    "    x2 = x * x\n",
    "    y2 = y * y\n",
    "    \n",
    "    result = x2 * y2 \n",
    "    \n",
    "    #return result"
   ]
  },
  {
   "cell_type": "code",
   "execution_count": 108,
   "metadata": {},
   "outputs": [],
   "source": [
    "calculator_square( 5, 10 )"
   ]
  },
  {
   "cell_type": "code",
   "execution_count": 50,
   "metadata": {},
   "outputs": [
    {
     "data": {
      "text/plain": [
       "2500"
      ]
     },
     "execution_count": 50,
     "metadata": {},
     "output_type": "execute_result"
    }
   ],
   "source": [
    "calculator_square( x, y )"
   ]
  },
  {
   "cell_type": "code",
   "execution_count": 6,
   "metadata": {},
   "outputs": [
    {
     "data": {
      "text/plain": [
       "784"
      ]
     },
     "execution_count": 6,
     "metadata": {},
     "output_type": "execute_result"
    }
   ],
   "source": [
    "return2 = calculator_square( 4, 7 )\n",
    "return2"
   ]
  },
  {
   "cell_type": "code",
   "execution_count": 53,
   "metadata": {},
   "outputs": [],
   "source": [
    "def info_students(x, y, z):\n",
    "    \n",
    "    if z == 1:\n",
    "        name = \"Her name is {}\".format(x)\n",
    "        lastname = \"Her lastname is {}\".format(y)\n",
    "        \n",
    "    else:\n",
    "        name = \"His name is {}\".format(x)\n",
    "        lastname = \"His lastname is {}\".format(y)\n",
    "    \n",
    "    return print(name,\",\",  lastname)\n",
    "    #return lastname"
   ]
  },
  {
   "cell_type": "code",
   "execution_count": 83,
   "metadata": {},
   "outputs": [],
   "source": [
    "def info_students(x, y, z, s, e):\n",
    "    \n",
    "    if z == 1:\n",
    "        name = \"Her name is {}\".format(x)\n",
    "        lastname = \"Her lastname is {}\".format(y)\n",
    "        school = \"Her school is {}\".format(s)\n",
    "        \n",
    "        if e >= 18: \n",
    "            age = \"She is an adult\"\n",
    "    \n",
    "        else:\n",
    "            age = \"She is a kid\"\n",
    "        \n",
    "    else:\n",
    "        name = \"His name is {}\".format(x)\n",
    "        lastname = \"His lastname is {}\".format(y)\n",
    "        school = \"His school is {}\".format(s)\n",
    "        \n",
    "        if e >= 18: \n",
    "            age = \"He is an adult\"\n",
    "    \n",
    "        else:\n",
    "            age = \"He is a kid\"\n",
    "\n",
    "    #return print(name,\",\",  lastname)\n",
    "    return name, lastname, school, age"
   ]
  },
  {
   "cell_type": "code",
   "execution_count": 90,
   "metadata": {},
   "outputs": [
    {
     "data": {
      "text/plain": [
       "20"
      ]
     },
     "execution_count": 90,
     "metadata": {},
     "output_type": "execute_result"
    }
   ],
   "source": [
    "tupe_1 = (10, 20, \"true\", True)\n",
    "tupe_1[1]"
   ]
  },
  {
   "cell_type": "code",
   "execution_count": 84,
   "metadata": {},
   "outputs": [
    {
     "data": {
      "text/plain": [
       "('Her name is Gabriela',\n",
       " 'Her lastname is Narvaez',\n",
       " 'Her school is CIFO',\n",
       " 'She is a kid')"
      ]
     },
     "execution_count": 84,
     "metadata": {},
     "output_type": "execute_result"
    }
   ],
   "source": [
    "info_students(\"Gabriela\", \"Narvaez\", True , \"CIFO\", 17)"
   ]
  },
  {
   "cell_type": "code",
   "execution_count": 81,
   "metadata": {},
   "outputs": [],
   "source": [
    "name_student =  info_students(\"Gabriela\", \"Narvaez\", True , \"CIFO\", 17)"
   ]
  },
  {
   "cell_type": "code",
   "execution_count": 82,
   "metadata": {},
   "outputs": [
    {
     "data": {
      "text/plain": [
       "('Her name is Gabriela',\n",
       " 'Her lastname is Narvaez',\n",
       " 'Her school is CIFO',\n",
       " 'She is a kid')"
      ]
     },
     "execution_count": 82,
     "metadata": {},
     "output_type": "execute_result"
    }
   ],
   "source": [
    "name_student"
   ]
  },
  {
   "cell_type": "code",
   "execution_count": 36,
   "metadata": {},
   "outputs": [
    {
     "ename": "NameError",
     "evalue": "name 'name' is not defined",
     "output_type": "error",
     "traceback": [
      "\u001b[1;31m---------------------------------------------------------------------------\u001b[0m",
      "\u001b[1;31mNameError\u001b[0m                                 Traceback (most recent call last)",
      "\u001b[1;32mC:\\Users\\ALEXAN~1\\AppData\\Local\\Temp/ipykernel_17784/3474671970.py\u001b[0m in \u001b[0;36m<module>\u001b[1;34m\u001b[0m\n\u001b[1;32m----> 1\u001b[1;33m \u001b[0mname\u001b[0m\u001b[1;33m\u001b[0m\u001b[1;33m\u001b[0m\u001b[0m\n\u001b[0m",
      "\u001b[1;31mNameError\u001b[0m: name 'name' is not defined"
     ]
    }
   ],
   "source": [
    "name"
   ]
  },
  {
   "cell_type": "markdown",
   "metadata": {},
   "source": [
    "### <a id='#5.1.5.'>5.1.5. Multiple objects for return </a> \n",
    "The output of a function can have several objects. These objects are stored in a tuple by default."
   ]
  },
  {
   "cell_type": "code",
   "execution_count": 51,
   "metadata": {},
   "outputs": [],
   "source": [
    "def calculator_square( x, y ):\n",
    "    \n",
    "    x2 = x * x\n",
    "    y2 = y * y\n",
    "    \n",
    "    result = x2 * y2   \n",
    "    \n",
    "    return result, x2, y2"
   ]
  },
  {
   "cell_type": "code",
   "execution_count": 52,
   "metadata": {},
   "outputs": [
    {
     "data": {
      "text/plain": [
       "(144, 9, 16)"
      ]
     },
     "execution_count": 52,
     "metadata": {},
     "output_type": "execute_result"
    }
   ],
   "source": [
    "calculator_square(3, 4)"
   ]
  },
  {
   "cell_type": "code",
   "execution_count": 53,
   "metadata": {},
   "outputs": [
    {
     "data": {
      "text/plain": [
       "(5184, 64, 81)"
      ]
     },
     "execution_count": 53,
     "metadata": {},
     "output_type": "execute_result"
    }
   ],
   "source": [
    "result4 = calculator_square( 8, 9 )\n",
    "result4"
   ]
  },
  {
   "cell_type": "code",
   "execution_count": 54,
   "metadata": {},
   "outputs": [
    {
     "data": {
      "text/plain": [
       "tuple"
      ]
     },
     "execution_count": 54,
     "metadata": {},
     "output_type": "execute_result"
    }
   ],
   "source": [
    "type(result4)"
   ]
  },
  {
   "cell_type": "code",
   "execution_count": 58,
   "metadata": {},
   "outputs": [
    {
     "data": {
      "text/plain": [
       "81"
      ]
     },
     "execution_count": 58,
     "metadata": {},
     "output_type": "execute_result"
    }
   ],
   "source": [
    "result4[2]"
   ]
  },
  {
   "cell_type": "markdown",
   "metadata": {},
   "source": [
    "We can name the outputs in one line."
   ]
  },
  {
   "cell_type": "code",
   "execution_count": 59,
   "metadata": {},
   "outputs": [],
   "source": [
    "output_1 = result4[0]\n",
    "output_2 = result4[1]\n",
    "output_3 = result4[2]"
   ]
  },
  {
   "cell_type": "code",
   "execution_count": 63,
   "metadata": {},
   "outputs": [
    {
     "data": {
      "text/plain": [
       "64"
      ]
     },
     "execution_count": 63,
     "metadata": {},
     "output_type": "execute_result"
    }
   ],
   "source": [
    "output_2"
   ]
  },
  {
   "cell_type": "code",
   "execution_count": 11,
   "metadata": {},
   "outputs": [],
   "source": [
    "result5, x_2, y_2 = calculator_square( 8, 9 )"
   ]
  },
  {
   "cell_type": "markdown",
   "metadata": {},
   "source": [
    "### <a id='#5.1.5.'>5.1.5. If condition with return </a>"
   ]
  },
  {
   "cell_type": "code",
   "execution_count": 109,
   "metadata": {},
   "outputs": [],
   "source": [
    "def calculator_square( x, y ):\n",
    "    \n",
    "    x2 = x * x\n",
    "    y2 = y * y\n",
    "    \n",
    "    result = x2 * y2   \n",
    "    \n",
    "    if ( 200 >= result ):\n",
    "        return result, x2, y2\n",
    "    \n",
    "    elif ( 500 >= result > 200 ):\n",
    "        print( \"Large number. Get only the result variable\")\n",
    "        return result\n",
    "    \n",
    "    else:\n",
    "        print( \"Too large number. Do not return variables!\")"
   ]
  },
  {
   "cell_type": "code",
   "execution_count": 110,
   "metadata": {},
   "outputs": [
    {
     "data": {
      "text/plain": [
       "(100, 4, 25)"
      ]
     },
     "execution_count": 110,
     "metadata": {},
     "output_type": "execute_result"
    }
   ],
   "source": [
    "calculator_square(2, 5)"
   ]
  },
  {
   "cell_type": "code",
   "execution_count": 114,
   "metadata": {},
   "outputs": [
    {
     "name": "stdout",
     "output_type": "stream",
     "text": [
      "Large number. Get only the result variable\n"
     ]
    },
    {
     "data": {
      "text/plain": [
       "225"
      ]
     },
     "execution_count": 114,
     "metadata": {},
     "output_type": "execute_result"
    }
   ],
   "source": [
    "calculator_square(3, 5)"
   ]
  },
  {
   "cell_type": "code",
   "execution_count": 115,
   "metadata": {},
   "outputs": [
    {
     "name": "stdout",
     "output_type": "stream",
     "text": [
      "Too large number. Do not return variables!\n"
     ]
    }
   ],
   "source": [
    "calculator_square(10, 20)"
   ]
  },
  {
   "cell_type": "code",
   "execution_count": 72,
   "metadata": {},
   "outputs": [
    {
     "name": "stdout",
     "output_type": "stream",
     "text": [
      "Large number. Get only the result variable\n"
     ]
    },
    {
     "data": {
      "text/plain": [
       "400"
      ]
     },
     "execution_count": 72,
     "metadata": {},
     "output_type": "execute_result"
    }
   ],
   "source": [
    "calculator_square( 2, 10 )"
   ]
  },
  {
   "cell_type": "code",
   "execution_count": 73,
   "metadata": {},
   "outputs": [
    {
     "name": "stdout",
     "output_type": "stream",
     "text": [
      "Large number. Get only the result variable\n"
     ]
    },
    {
     "data": {
      "text/plain": [
       "256"
      ]
     },
     "execution_count": 73,
     "metadata": {},
     "output_type": "execute_result"
    }
   ],
   "source": [
    "calculator_square( 8, 2 )"
   ]
  },
  {
   "cell_type": "code",
   "execution_count": 74,
   "metadata": {},
   "outputs": [
    {
     "name": "stdout",
     "output_type": "stream",
     "text": [
      "Too large number. Do not return variables!\n"
     ]
    }
   ],
   "source": [
    "calculator_square( 8, 10 )"
   ]
  },
  {
   "cell_type": "markdown",
   "metadata": {},
   "source": [
    "### <a id='#5.1.6.'>5.1.6. Default values to parameters </a> \n",
    "We can define default values to parameters."
   ]
  },
  {
   "cell_type": "code",
   "execution_count": 96,
   "metadata": {},
   "outputs": [],
   "source": [
    "def calculator_base_20(x, y=20):\n",
    "    result = x*y\n",
    "    return result"
   ]
  },
  {
   "cell_type": "code",
   "execution_count": 97,
   "metadata": {},
   "outputs": [
    {
     "data": {
      "text/plain": [
       "2000"
      ]
     },
     "execution_count": 97,
     "metadata": {},
     "output_type": "execute_result"
    }
   ],
   "source": [
    "calculator_base_20( x=100 )"
   ]
  },
  {
   "cell_type": "code",
   "execution_count": null,
   "metadata": {},
   "outputs": [],
   "source": []
  },
  {
   "cell_type": "code",
   "execution_count": 82,
   "metadata": {},
   "outputs": [],
   "source": [
    "def calculator_base_10(x, y = 10):\n",
    "    result = x*y\n",
    "    return result"
   ]
  },
  {
   "cell_type": "code",
   "execution_count": 83,
   "metadata": {},
   "outputs": [
    {
     "data": {
      "text/plain": [
       "135"
      ]
     },
     "execution_count": 83,
     "metadata": {},
     "output_type": "execute_result"
    }
   ],
   "source": [
    "calculator_base_10(15, y = 9)"
   ]
  },
  {
   "cell_type": "code",
   "execution_count": 84,
   "metadata": {},
   "outputs": [],
   "source": [
    "def calculator_base_5( x , y = 5 ):\n",
    "    \n",
    "    result = x * y\n",
    "    \n",
    "    return result"
   ]
  },
  {
   "cell_type": "code",
   "execution_count": 86,
   "metadata": {},
   "outputs": [
    {
     "data": {
      "text/plain": [
       "25"
      ]
     },
     "execution_count": 86,
     "metadata": {},
     "output_type": "execute_result"
    }
   ],
   "source": [
    "calculator_base_5( x )"
   ]
  },
  {
   "cell_type": "code",
   "execution_count": 87,
   "metadata": {},
   "outputs": [
    {
     "data": {
      "text/plain": [
       "35"
      ]
     },
     "execution_count": 87,
     "metadata": {},
     "output_type": "execute_result"
    }
   ],
   "source": [
    "result3 = calculator_base_5( 7 )\n",
    "result3"
   ]
  },
  {
   "cell_type": "code",
   "execution_count": 102,
   "metadata": {},
   "outputs": [],
   "source": [
    "def info_students(x, y, s, e, sex=True):\n",
    "    \n",
    "    if sex == 1:\n",
    "        name = \"Her name is {}\".format(x)\n",
    "        lastname = \"Her lastname is {}\".format(y)\n",
    "        school = \"Her school is {}\".format(s)\n",
    "        \n",
    "        if e >= 18: \n",
    "            age = \"She is an adult\"\n",
    "    \n",
    "        else:\n",
    "            age = \"She is a kid\"\n",
    "        \n",
    "    else:\n",
    "        name = \"His name is {}\".format(x)\n",
    "        lastname = \"His lastname is {}\".format(y)\n",
    "        school = \"His school is {}\".format(s)\n",
    "        \n",
    "        if e >= 18: \n",
    "            age = \"He is an adult\"\n",
    "    \n",
    "        else:\n",
    "            age = \"He is a kid\"\n",
    "\n",
    "    #return print(name,\",\",  lastname)\n",
    "    return name, lastname, school, age"
   ]
  },
  {
   "cell_type": "code",
   "execution_count": 104,
   "metadata": {},
   "outputs": [
    {
     "data": {
      "text/plain": [
       "('Her name is Cristhian',\n",
       " 'Her lastname is Alfaro',\n",
       " 'Her school is CIFO',\n",
       " 'She is a kid')"
      ]
     },
     "execution_count": 104,
     "metadata": {},
     "output_type": "execute_result"
    }
   ],
   "source": [
    "info_students(\"Cristhian\", \"Alfaro\",\"CIFO\", 17)"
   ]
  },
  {
   "cell_type": "code",
   "execution_count": null,
   "metadata": {},
   "outputs": [],
   "source": []
  },
  {
   "cell_type": "markdown",
   "metadata": {},
   "source": [
    "### <a id='#5.1.7.'>5.1.7. Specify the type of a parameter and the type of the return type of a function </a> \n",
    "\n",
    "It is important to note that Python won't raise a TypeError if you pass a float into x, the reason for this is one of the main points in Python's design philosophy: \"We're all consenting adults here\", which means you are expected to be aware of what you can pass to a function and what you can't. If you really want to write code that throws TypeErrors you can use the isinstance function to check that the passed argument is of the proper type or a subclass of it like this:"
   ]
  },
  {
   "cell_type": "code",
   "execution_count": 118,
   "metadata": {},
   "outputs": [],
   "source": [
    "def calculator_base_10( x:int, y:float ) -> float:\n",
    "    result = x*y\n",
    "    return result"
   ]
  },
  {
   "cell_type": "code",
   "execution_count": 119,
   "metadata": {},
   "outputs": [
    {
     "data": {
      "text/plain": [
       "18.0"
      ]
     },
     "execution_count": 119,
     "metadata": {},
     "output_type": "execute_result"
    }
   ],
   "source": [
    "calculator_base_10(4, 4.5)"
   ]
  },
  {
   "cell_type": "code",
   "execution_count": 121,
   "metadata": {},
   "outputs": [
    {
     "data": {
      "text/plain": [
       "18.0"
      ]
     },
     "execution_count": 121,
     "metadata": {},
     "output_type": "execute_result"
    }
   ],
   "source": [
    "calculator_base_10( 4.5, 4 )"
   ]
  },
  {
   "cell_type": "code",
   "execution_count": 88,
   "metadata": {},
   "outputs": [],
   "source": [
    "def calculator_base_5( x : int, y : float ) -> float:\n",
    "    \n",
    "    result = x * y\n",
    "    \n",
    "    return result"
   ]
  },
  {
   "cell_type": "code",
   "execution_count": null,
   "metadata": {},
   "outputs": [],
   "source": []
  },
  {
   "cell_type": "code",
   "execution_count": 96,
   "metadata": {},
   "outputs": [
    {
     "ename": "TypeError",
     "evalue": "unsupported operand type(s) for ** or pow(): 'int' and 'str'",
     "output_type": "error",
     "traceback": [
      "\u001b[1;31m---------------------------------------------------------------------------\u001b[0m",
      "\u001b[1;31mTypeError\u001b[0m                                 Traceback (most recent call last)",
      "\u001b[1;32mC:\\Users\\ALEXAN~1\\AppData\\Local\\Temp/ipykernel_39524/3845650038.py\u001b[0m in \u001b[0;36m<module>\u001b[1;34m\u001b[0m\n\u001b[1;32m----> 1\u001b[1;33m \u001b[0mx2\u001b[0m\u001b[1;33m**\u001b[0m\u001b[1;34m\"Trea\"\u001b[0m\u001b[1;33m\u001b[0m\u001b[1;33m\u001b[0m\u001b[0m\n\u001b[0m",
      "\u001b[1;31mTypeError\u001b[0m: unsupported operand type(s) for ** or pow(): 'int' and 'str'"
     ]
    }
   ],
   "source": [
    "x2**\"Trea\""
   ]
  },
  {
   "cell_type": "code",
   "execution_count": 91,
   "metadata": {},
   "outputs": [
    {
     "data": {
      "text/plain": [
       "150.0"
      ]
     },
     "execution_count": 91,
     "metadata": {},
     "output_type": "execute_result"
    }
   ],
   "source": [
    "calculator_base_5( 10.0, 15 )"
   ]
  },
  {
   "cell_type": "code",
   "execution_count": 129,
   "metadata": {},
   "outputs": [],
   "source": [
    "def calculator_base_5( x : int, y : float , z:list, ) -> float:\n",
    "    \n",
    "    if not isinstance( x , int ):\n",
    "        raise TypeError( \"X variable is not int type.\")\n",
    "        \n",
    "    if not isinstance( y, float ):\n",
    "        raise TypeError( \"Y variable is not float type.\")\n",
    "    \n",
    "    if not isinstance( z, list ):\n",
    "        raise TypeError( \"Y variable is not list type.\")\n",
    "\n",
    "    result = x * y\n",
    "    \n",
    "    \n",
    "    return result"
   ]
  },
  {
   "cell_type": "code",
   "execution_count": 131,
   "metadata": {},
   "outputs": [
    {
     "ename": "TypeError",
     "evalue": "X variable is not int type.",
     "output_type": "error",
     "traceback": [
      "\u001b[1;31m---------------------------------------------------------------------------\u001b[0m",
      "\u001b[1;31mTypeError\u001b[0m                                 Traceback (most recent call last)",
      "\u001b[1;32mC:\\Users\\ALEXAN~1\\AppData\\Local\\Temp/ipykernel_17784/1535258023.py\u001b[0m in \u001b[0;36m<module>\u001b[1;34m\u001b[0m\n\u001b[1;32m----> 1\u001b[1;33m \u001b[0mcalculator_base_5\u001b[0m\u001b[1;33m(\u001b[0m \u001b[1;36m3.0\u001b[0m\u001b[1;33m,\u001b[0m \u001b[1;36m5.8\u001b[0m\u001b[1;33m,\u001b[0m \u001b[1;33m[\u001b[0m\u001b[1;36m1\u001b[0m\u001b[1;33m,\u001b[0m\u001b[1;36m2\u001b[0m\u001b[1;33m]\u001b[0m\u001b[1;33m)\u001b[0m\u001b[1;33m\u001b[0m\u001b[1;33m\u001b[0m\u001b[0m\n\u001b[0m",
      "\u001b[1;32mC:\\Users\\ALEXAN~1\\AppData\\Local\\Temp/ipykernel_17784/2210311499.py\u001b[0m in \u001b[0;36mcalculator_base_5\u001b[1;34m(x, y, z)\u001b[0m\n\u001b[0;32m      2\u001b[0m \u001b[1;33m\u001b[0m\u001b[0m\n\u001b[0;32m      3\u001b[0m     \u001b[1;32mif\u001b[0m \u001b[1;32mnot\u001b[0m \u001b[0misinstance\u001b[0m\u001b[1;33m(\u001b[0m \u001b[0mx\u001b[0m \u001b[1;33m,\u001b[0m \u001b[0mint\u001b[0m \u001b[1;33m)\u001b[0m\u001b[1;33m:\u001b[0m\u001b[1;33m\u001b[0m\u001b[1;33m\u001b[0m\u001b[0m\n\u001b[1;32m----> 4\u001b[1;33m         \u001b[1;32mraise\u001b[0m \u001b[0mTypeError\u001b[0m\u001b[1;33m(\u001b[0m \u001b[1;34m\"X variable is not int type.\"\u001b[0m\u001b[1;33m)\u001b[0m\u001b[1;33m\u001b[0m\u001b[1;33m\u001b[0m\u001b[0m\n\u001b[0m\u001b[0;32m      5\u001b[0m \u001b[1;33m\u001b[0m\u001b[0m\n\u001b[0;32m      6\u001b[0m     \u001b[1;32mif\u001b[0m \u001b[1;32mnot\u001b[0m \u001b[0misinstance\u001b[0m\u001b[1;33m(\u001b[0m \u001b[0my\u001b[0m\u001b[1;33m,\u001b[0m \u001b[0mfloat\u001b[0m \u001b[1;33m)\u001b[0m\u001b[1;33m:\u001b[0m\u001b[1;33m\u001b[0m\u001b[1;33m\u001b[0m\u001b[0m\n",
      "\u001b[1;31mTypeError\u001b[0m: X variable is not int type."
     ]
    }
   ],
   "source": [
    "calculator_base_5( 3.0, 5.8, [1,2])"
   ]
  },
  {
   "cell_type": "code",
   "execution_count": 26,
   "metadata": {},
   "outputs": [
    {
     "ename": "TypeError",
     "evalue": "X variable is not int type.",
     "output_type": "error",
     "traceback": [
      "\u001b[1;31m---------------------------------------------------------------------------\u001b[0m",
      "\u001b[1;31mTypeError\u001b[0m                                 Traceback (most recent call last)",
      "\u001b[1;32mC:\\Users\\ALEXAN~1\\AppData\\Local\\Temp/ipykernel_9200/471413585.py\u001b[0m in \u001b[0;36m<module>\u001b[1;34m\u001b[0m\n\u001b[1;32m----> 1\u001b[1;33m \u001b[0mcalculator_base_5\u001b[0m\u001b[1;33m(\u001b[0m \u001b[1;36m4.5\u001b[0m\u001b[1;33m,\u001b[0m \u001b[1;36m3\u001b[0m\u001b[1;33m)\u001b[0m\u001b[1;33m\u001b[0m\u001b[1;33m\u001b[0m\u001b[0m\n\u001b[0m",
      "\u001b[1;32mC:\\Users\\ALEXAN~1\\AppData\\Local\\Temp/ipykernel_9200/2980220040.py\u001b[0m in \u001b[0;36mcalculator_base_5\u001b[1;34m(x, y)\u001b[0m\n\u001b[0;32m      2\u001b[0m \u001b[1;33m\u001b[0m\u001b[0m\n\u001b[0;32m      3\u001b[0m     \u001b[1;32mif\u001b[0m \u001b[1;32mnot\u001b[0m \u001b[0misinstance\u001b[0m\u001b[1;33m(\u001b[0m \u001b[0mx\u001b[0m \u001b[1;33m,\u001b[0m \u001b[0mint\u001b[0m \u001b[1;33m)\u001b[0m\u001b[1;33m:\u001b[0m\u001b[1;33m\u001b[0m\u001b[1;33m\u001b[0m\u001b[0m\n\u001b[1;32m----> 4\u001b[1;33m         \u001b[1;32mraise\u001b[0m \u001b[0mTypeError\u001b[0m\u001b[1;33m(\u001b[0m \u001b[1;34m\"X variable is not int type.\"\u001b[0m\u001b[1;33m)\u001b[0m\u001b[1;33m\u001b[0m\u001b[1;33m\u001b[0m\u001b[0m\n\u001b[0m\u001b[0;32m      5\u001b[0m \u001b[1;33m\u001b[0m\u001b[0m\n\u001b[0;32m      6\u001b[0m     \u001b[1;32mif\u001b[0m \u001b[1;32mnot\u001b[0m \u001b[0misinstance\u001b[0m\u001b[1;33m(\u001b[0m \u001b[0my\u001b[0m\u001b[1;33m,\u001b[0m \u001b[0mfloat\u001b[0m \u001b[1;33m)\u001b[0m\u001b[1;33m:\u001b[0m\u001b[1;33m\u001b[0m\u001b[1;33m\u001b[0m\u001b[0m\n",
      "\u001b[1;31mTypeError\u001b[0m: X variable is not int type."
     ]
    }
   ],
   "source": [
    "calculator_base_5( 4.5, 3)"
   ]
  },
  {
   "cell_type": "code",
   "execution_count": 27,
   "metadata": {},
   "outputs": [
    {
     "ename": "TypeError",
     "evalue": "Y variable is not float type.",
     "output_type": "error",
     "traceback": [
      "\u001b[1;31m---------------------------------------------------------------------------\u001b[0m",
      "\u001b[1;31mTypeError\u001b[0m                                 Traceback (most recent call last)",
      "\u001b[1;32mC:\\Users\\ALEXAN~1\\AppData\\Local\\Temp/ipykernel_9200/4218193570.py\u001b[0m in \u001b[0;36m<module>\u001b[1;34m\u001b[0m\n\u001b[1;32m----> 1\u001b[1;33m \u001b[0mcalculator_base_5\u001b[0m\u001b[1;33m(\u001b[0m \u001b[1;36m4\u001b[0m\u001b[1;33m,\u001b[0m \u001b[1;36m3\u001b[0m \u001b[1;33m)\u001b[0m\u001b[1;33m\u001b[0m\u001b[1;33m\u001b[0m\u001b[0m\n\u001b[0m",
      "\u001b[1;32mC:\\Users\\ALEXAN~1\\AppData\\Local\\Temp/ipykernel_9200/2980220040.py\u001b[0m in \u001b[0;36mcalculator_base_5\u001b[1;34m(x, y)\u001b[0m\n\u001b[0;32m      5\u001b[0m \u001b[1;33m\u001b[0m\u001b[0m\n\u001b[0;32m      6\u001b[0m     \u001b[1;32mif\u001b[0m \u001b[1;32mnot\u001b[0m \u001b[0misinstance\u001b[0m\u001b[1;33m(\u001b[0m \u001b[0my\u001b[0m\u001b[1;33m,\u001b[0m \u001b[0mfloat\u001b[0m \u001b[1;33m)\u001b[0m\u001b[1;33m:\u001b[0m\u001b[1;33m\u001b[0m\u001b[1;33m\u001b[0m\u001b[0m\n\u001b[1;32m----> 7\u001b[1;33m         \u001b[1;32mraise\u001b[0m \u001b[0mTypeError\u001b[0m\u001b[1;33m(\u001b[0m \u001b[1;34m\"Y variable is not float type.\"\u001b[0m\u001b[1;33m)\u001b[0m\u001b[1;33m\u001b[0m\u001b[1;33m\u001b[0m\u001b[0m\n\u001b[0m\u001b[0;32m      8\u001b[0m \u001b[1;33m\u001b[0m\u001b[0m\n\u001b[0;32m      9\u001b[0m     \u001b[0mresult\u001b[0m \u001b[1;33m=\u001b[0m \u001b[0mx\u001b[0m \u001b[1;33m*\u001b[0m \u001b[0my\u001b[0m\u001b[1;33m\u001b[0m\u001b[1;33m\u001b[0m\u001b[0m\n",
      "\u001b[1;31mTypeError\u001b[0m: Y variable is not float type."
     ]
    }
   ],
   "source": [
    "calculator_base_5( 4, 3 )"
   ]
  },
  {
   "cell_type": "code",
   "execution_count": 28,
   "metadata": {},
   "outputs": [
    {
     "data": {
      "text/plain": [
       "15.2"
      ]
     },
     "execution_count": 28,
     "metadata": {},
     "output_type": "execute_result"
    }
   ],
   "source": [
    "calculator_base_5( 4, 3.8 )"
   ]
  },
  {
   "cell_type": "markdown",
   "metadata": {},
   "source": [
    "### <a id='#5.1.8.'>5.1.8. Local variables VS Global variables </a> \n",
    "\n",
    "|Variables|Definition|\n",
    "|---|---|\n",
    "|Global Variables| Variables declared outside a function.|\n",
    "|Local Variables | Variables declared inside a function.|\n",
    "\n",
    "The parameters and the variables created inside a function are local variables. They take values when the function is executed; however, they do not exist outside the function since they belong to a different namespace. A namespace is a system that has a unique name for every object in Python. When a Python function is called, a new namespace is created for that function, one that is distinct from all other namespaces that already exist. That is the reason we can use various functions with parameters and variables with the same name. Additionally, it explains why the variables generated inside a function do not exist outside the defined function namespace."
   ]
  },
  {
   "cell_type": "markdown",
   "metadata": {},
   "source": [
    "#### Example"
   ]
  },
  {
   "cell_type": "code",
   "execution_count": 29,
   "metadata": {},
   "outputs": [
    {
     "data": {
      "text/plain": [
       "'C:\\\\Users\\\\Alexander\\\\Documents\\\\GitHub\\\\Diplomado_PUCP\\\\Lecture_5'"
      ]
     },
     "execution_count": 29,
     "metadata": {},
     "output_type": "execute_result"
    }
   ],
   "source": [
    "pwd"
   ]
  },
  {
   "cell_type": "code",
   "execution_count": 30,
   "metadata": {},
   "outputs": [],
   "source": [
    "%run \"function_1.ipynb\""
   ]
  },
  {
   "cell_type": "code",
   "execution_count": 31,
   "metadata": {},
   "outputs": [],
   "source": [
    "def lower_case( string1  ):\n",
    "    \n",
    "    str_result = string1.lower()\n",
    "    \n",
    "    return str_result"
   ]
  },
  {
   "cell_type": "code",
   "execution_count": 32,
   "metadata": {},
   "outputs": [
    {
     "data": {
      "text/plain": [
       "'adriana'"
      ]
     },
     "execution_count": 32,
     "metadata": {},
     "output_type": "execute_result"
    }
   ],
   "source": [
    "lower_case( \"ADRIANA\")"
   ]
  },
  {
   "cell_type": "code",
   "execution_count": 33,
   "metadata": {},
   "outputs": [
    {
     "ename": "NameError",
     "evalue": "name 'str_result' is not defined",
     "output_type": "error",
     "traceback": [
      "\u001b[1;31m---------------------------------------------------------------------------\u001b[0m",
      "\u001b[1;31mNameError\u001b[0m                                 Traceback (most recent call last)",
      "\u001b[1;32mC:\\Users\\ALEXAN~1\\AppData\\Local\\Temp/ipykernel_9200/2404635967.py\u001b[0m in \u001b[0;36m<module>\u001b[1;34m\u001b[0m\n\u001b[1;32m----> 1\u001b[1;33m \u001b[0mstr_result\u001b[0m\u001b[1;33m\u001b[0m\u001b[1;33m\u001b[0m\u001b[0m\n\u001b[0m",
      "\u001b[1;31mNameError\u001b[0m: name 'str_result' is not defined"
     ]
    }
   ],
   "source": [
    "str_result"
   ]
  },
  {
   "cell_type": "code",
   "execution_count": 34,
   "metadata": {},
   "outputs": [
    {
     "data": {
      "text/plain": [
       "'diploma'"
      ]
     },
     "execution_count": 34,
     "metadata": {},
     "output_type": "execute_result"
    }
   ],
   "source": [
    "result2 = lower_case( \"DIPLOMA\")\n",
    "result2"
   ]
  },
  {
   "cell_type": "markdown",
   "metadata": {},
   "source": [
    "Now, we try to call the variable `str_result`."
   ]
  },
  {
   "cell_type": "code",
   "execution_count": 35,
   "metadata": {},
   "outputs": [
    {
     "ename": "NameError",
     "evalue": "name 'str_result' is not defined",
     "output_type": "error",
     "traceback": [
      "\u001b[1;31m---------------------------------------------------------------------------\u001b[0m",
      "\u001b[1;31mNameError\u001b[0m                                 Traceback (most recent call last)",
      "\u001b[1;32mC:\\Users\\ALEXAN~1\\AppData\\Local\\Temp/ipykernel_9200/2404635967.py\u001b[0m in \u001b[0;36m<module>\u001b[1;34m\u001b[0m\n\u001b[1;32m----> 1\u001b[1;33m \u001b[0mstr_result\u001b[0m\u001b[1;33m\u001b[0m\u001b[1;33m\u001b[0m\u001b[0m\n\u001b[0m",
      "\u001b[1;31mNameError\u001b[0m: name 'str_result' is not defined"
     ]
    }
   ],
   "source": [
    "str_result"
   ]
  },
  {
   "cell_type": "markdown",
   "metadata": {},
   "source": [
    "We can see that `str_result` is not defined. It does not exist in the main space. It was defined in the namespace of **lower_case**. In concluion, `str_result` is a local variable. <br>\n",
    "`result2` is a global variable."
   ]
  },
  {
   "cell_type": "markdown",
   "metadata": {},
   "source": [
    "### <a id='#5.1.9.'>5.1.9. Args </a> \n",
    "\n",
    "The special syntax **\\*args** in function definitions in python is used to pass a variable number of arguments to a function. The object **\\*args** is a **tuple** that contains all the arguments. When you build your code, you should consider **\\*args** as a **tuple**."
   ]
  },
  {
   "cell_type": "code",
   "execution_count": 36,
   "metadata": {},
   "outputs": [],
   "source": [
    "def calculator( *args ):\n",
    "    \n",
    "    print( f\"args is a {type( args )}\" )\n",
    "    # Get the first value\n",
    "    result = args[ 0 ]\n",
    "    \n",
    "    # Keep the rest of values\n",
    "    args1 = args[ 1: ]\n",
    "    \n",
    "    # multiply all elements\n",
    "    for element in args1:\n",
    "        result = result * element\n",
    "    \n",
    "    return result"
   ]
  },
  {
   "cell_type": "markdown",
   "metadata": {},
   "source": [
    "In this example, the values `8, 9, 50 and 40` are storing in a list."
   ]
  },
  {
   "cell_type": "code",
   "execution_count": 37,
   "metadata": {},
   "outputs": [
    {
     "name": "stdout",
     "output_type": "stream",
     "text": [
      "args is a <class 'tuple'>\n"
     ]
    },
    {
     "data": {
      "text/plain": [
       "24480000"
      ]
     },
     "execution_count": 37,
     "metadata": {},
     "output_type": "execute_result"
    }
   ],
   "source": [
    "calculator( 8, 9, 50, 40, 10, 17 )"
   ]
  },
  {
   "cell_type": "markdown",
   "metadata": {},
   "source": [
    "We can use **\\*args** with a different name (e.g., **\\*list_vars** ). We should keep the asterisk (**\\***)."
   ]
  },
  {
   "cell_type": "code",
   "execution_count": 132,
   "metadata": {},
   "outputs": [],
   "source": [
    "def calculator( *list_vars ):\n",
    "    \n",
    "    print( f\"args is a { type( list_vars ) }\" )\n",
    "    # Get the first value\n",
    "    result = list_vars[ 0 ]\n",
    "    \n",
    "    # Keep the rest of values\n",
    "    list_vars1 = list_vars[ 1: ]\n",
    "    \n",
    "    # multiply all elements\n",
    "    for element in list_vars1:\n",
    "        result = result * element\n",
    "    \n",
    "    return result"
   ]
  },
  {
   "cell_type": "code",
   "execution_count": 134,
   "metadata": {},
   "outputs": [
    {
     "name": "stdout",
     "output_type": "stream",
     "text": [
      "args is a <class 'tuple'>\n"
     ]
    },
    {
     "data": {
      "text/plain": [
       "794880000"
      ]
     },
     "execution_count": 134,
     "metadata": {},
     "output_type": "execute_result"
    }
   ],
   "source": [
    "calculator( 8, 9, 50, 40, 23, 20, 12 )"
   ]
  },
  {
   "cell_type": "markdown",
   "metadata": {},
   "source": [
    "### <a id='#5.1.10.'>5.1.10. Kwargs </a> \n",
    "\n",
    "The special syntax **\\*kwargs** in function definitions in python is used to pass a keyworded, variable-length argument list. We use the name kwargs with the double star. The reason is because the double star allows us to pass through keyword arguments (and any number of them)."
   ]
  },
  {
   "cell_type": "code",
   "execution_count": 142,
   "metadata": {},
   "outputs": [],
   "source": [
    "def calculator( *list_vars, **kwargs):\n",
    "    \n",
    "    print( type( list_vars ) )\n",
    "    print( type( kwargs ) )\n",
    "    \n",
    "    if ( kwargs[ 'function' ] == \"Potencia\" ) :\n",
    "        \n",
    "        # Get the first value\n",
    "        result = potencia( list_vars )\n",
    "    \n",
    "    elif ( kwargs[ 'function' ] == \"multiplication\" ) :\n",
    "\n",
    "        # Get the first value\n",
    "        result = list_vars[ 0 ]\n",
    "\n",
    "        # Keep the rest of values\n",
    "        list_vars2 = list_vars[ 1: ]\n",
    "\n",
    "        # multiply all elements\n",
    "        for element in list_vars2:\n",
    "            result = result * element\n",
    "    else:\n",
    "        raise ValueError( f\"The function argument {kwargs[ 'function' ]} is not supported.\" )\n",
    "\n",
    "    return result"
   ]
  },
  {
   "cell_type": "code",
   "execution_count": 140,
   "metadata": {},
   "outputs": [
    {
     "name": "stdout",
     "output_type": "stream",
     "text": [
      "<class 'tuple'>\n",
      "<class 'dict'>\n"
     ]
    },
    {
     "data": {
      "text/plain": [
       "30"
      ]
     },
     "execution_count": 140,
     "metadata": {},
     "output_type": "execute_result"
    }
   ],
   "source": [
    "calculator( 4, 5, 6, 7, 8, function = \"addition\" )"
   ]
  },
  {
   "cell_type": "code",
   "execution_count": 141,
   "metadata": {
    "scrolled": false
   },
   "outputs": [
    {
     "name": "stdout",
     "output_type": "stream",
     "text": [
      "<class 'tuple'>\n",
      "<class 'dict'>\n"
     ]
    },
    {
     "ename": "ValueError",
     "evalue": "The function argument division is not supported.",
     "output_type": "error",
     "traceback": [
      "\u001b[1;31m---------------------------------------------------------------------------\u001b[0m",
      "\u001b[1;31mValueError\u001b[0m                                Traceback (most recent call last)",
      "\u001b[1;32m<ipython-input-141-bf8334b8975c>\u001b[0m in \u001b[0;36m<module>\u001b[1;34m\u001b[0m\n\u001b[1;32m----> 1\u001b[1;33m \u001b[0mcalculator\u001b[0m\u001b[1;33m(\u001b[0m \u001b[1;36m4\u001b[0m\u001b[1;33m,\u001b[0m \u001b[1;36m5\u001b[0m\u001b[1;33m,\u001b[0m \u001b[1;36m6\u001b[0m\u001b[1;33m,\u001b[0m \u001b[1;36m7\u001b[0m\u001b[1;33m,\u001b[0m \u001b[1;36m8\u001b[0m\u001b[1;33m,\u001b[0m \u001b[0mfunction\u001b[0m \u001b[1;33m=\u001b[0m \u001b[1;34m\"division\"\u001b[0m \u001b[1;33m)\u001b[0m\u001b[1;33m\u001b[0m\u001b[1;33m\u001b[0m\u001b[0m\n\u001b[0m",
      "\u001b[1;32m<ipython-input-139-691a0f9b9fe8>\u001b[0m in \u001b[0;36mcalculator\u001b[1;34m(*list_vars, **kwargs)\u001b[0m\n\u001b[0;32m     21\u001b[0m             \u001b[0mresult\u001b[0m \u001b[1;33m=\u001b[0m \u001b[0mresult\u001b[0m \u001b[1;33m*\u001b[0m \u001b[0melement\u001b[0m\u001b[1;33m\u001b[0m\u001b[1;33m\u001b[0m\u001b[0m\n\u001b[0;32m     22\u001b[0m     \u001b[1;32melse\u001b[0m\u001b[1;33m:\u001b[0m\u001b[1;33m\u001b[0m\u001b[1;33m\u001b[0m\u001b[0m\n\u001b[1;32m---> 23\u001b[1;33m         \u001b[1;32mraise\u001b[0m \u001b[0mValueError\u001b[0m\u001b[1;33m(\u001b[0m \u001b[1;34mf\"The function argument {kwargs[ 'function' ]} is not supported.\"\u001b[0m \u001b[1;33m)\u001b[0m\u001b[1;33m\u001b[0m\u001b[1;33m\u001b[0m\u001b[0m\n\u001b[0m\u001b[0;32m     24\u001b[0m \u001b[1;33m\u001b[0m\u001b[0m\n\u001b[0;32m     25\u001b[0m     \u001b[1;32mreturn\u001b[0m \u001b[0mresult\u001b[0m\u001b[1;33m\u001b[0m\u001b[1;33m\u001b[0m\u001b[0m\n",
      "\u001b[1;31mValueError\u001b[0m: The function argument division is not supported."
     ]
    }
   ],
   "source": [
    "calculator( 4, 5, 6, 7, 8, function = \"division\" )"
   ]
  },
  {
   "cell_type": "markdown",
   "metadata": {},
   "source": [
    "## Excersise\n",
    "#### Importing a Dictionary"
   ]
  },
  {
   "cell_type": "markdown",
   "metadata": {},
   "source": [
    "The `places_result` dictionary stores information from a Google API request that aims to geolocate all the National Identity Management Commission establishments in Nigeria. We want to store the results in a Pandas DataFrame. We want to keep the name of the establishment and its coordiantes."
   ]
  },
  {
   "cell_type": "code",
   "execution_count": 116,
   "metadata": {},
   "outputs": [
    {
     "ename": "NameError",
     "evalue": "name 'pickle' is not defined",
     "output_type": "error",
     "traceback": [
      "\u001b[1;31m---------------------------------------------------------------------------\u001b[0m",
      "\u001b[1;31mNameError\u001b[0m                                 Traceback (most recent call last)",
      "\u001b[1;32mC:\\Users\\ALEXAN~1\\AppData\\Local\\Temp/ipykernel_36464/2003854035.py\u001b[0m in \u001b[0;36m<module>\u001b[1;34m\u001b[0m\n\u001b[0;32m      1\u001b[0m \u001b[0mdictionary_places\u001b[0m \u001b[1;33m=\u001b[0m \u001b[0mopen\u001b[0m\u001b[1;33m(\u001b[0m \u001b[1;34mr\"..\\_data\\places_result\"\u001b[0m\u001b[1;33m,\u001b[0m \u001b[1;34m\"rb\"\u001b[0m\u001b[1;33m)\u001b[0m\u001b[1;33m\u001b[0m\u001b[1;33m\u001b[0m\u001b[0m\n\u001b[1;32m----> 2\u001b[1;33m \u001b[0mplaces_result\u001b[0m \u001b[1;33m=\u001b[0m \u001b[0mpickle\u001b[0m\u001b[1;33m.\u001b[0m\u001b[0mload\u001b[0m\u001b[1;33m(\u001b[0m \u001b[0mdictionary_places\u001b[0m \u001b[1;33m)\u001b[0m\u001b[1;33m\u001b[0m\u001b[1;33m\u001b[0m\u001b[0m\n\u001b[0m",
      "\u001b[1;31mNameError\u001b[0m: name 'pickle' is not defined"
     ]
    }
   ],
   "source": [
    "dictionary_places = open( r\"..\\_data\\places_result\", \"rb\")\n",
    "places_result = pickle.load( dictionary_places )"
   ]
  },
  {
   "cell_type": "code",
   "execution_count": 151,
   "metadata": {},
   "outputs": [
    {
     "data": {
      "text/plain": [
       "dict"
      ]
     },
     "execution_count": 151,
     "metadata": {},
     "output_type": "execute_result"
    }
   ],
   "source": [
    "# It is a dictionary\n",
    "type( places_result )"
   ]
  },
  {
   "cell_type": "code",
   "execution_count": 152,
   "metadata": {},
   "outputs": [
    {
     "name": "stdout",
     "output_type": "stream",
     "text": [
      "National Identity Management Commission (Nimc)\n",
      "National Identity Management Commission NIMC\n",
      "National Identity Management Commission\n",
      "National Identity Management Commission (Nimc)\n",
      "National Identity Management Commission\n",
      "National Identity Management Commission\n",
      "National Identity Management Commission (Nimc)\n",
      "National Identity Management Commission\n",
      "National Identity Management Commission (Nimc)\n",
      "National Identity Management Commission (Nimc)\n",
      "National Identity Management Center\n",
      "National Identity Management Commision (NIMC) Lagos\n",
      "National Identity Management Commission\n",
      "National Identity Management Commission (Nimc)\n",
      "National Identity Management Commission Umuahia\n",
      "National Identity Management Commission\n",
      "National Identity Management Commission (Nimc)\n",
      "National Identity Management Commission, Northwest Zonal Office\n",
      "National Identity Management Commission Nimc\n"
     ]
    }
   ],
   "source": [
    "# See all the establishments\n",
    "\n",
    "i = 0\n",
    "while True:\n",
    "    try:\n",
    "        i = i + 1\n",
    "        print( places_result['results'][i]['name'] )\n",
    "    except:\n",
    "        break"
   ]
  },
  {
   "cell_type": "code",
   "execution_count": 153,
   "metadata": {},
   "outputs": [
    {
     "data": {
      "text/plain": [
       "{'lat': 9.065977, 'lng': 7.4549606}"
      ]
     },
     "execution_count": 153,
     "metadata": {},
     "output_type": "execute_result"
    }
   ],
   "source": [
    "# We want to iterate over all the results to get the location of every point\n",
    "places_result['results'][0]['geometry']['location']"
   ]
  },
  {
   "cell_type": "markdown",
   "metadata": {},
   "source": [
    "`places_result` is a nested dictionary. It is composed of a list, dictionary, and a dictionary."
   ]
  },
  {
   "cell_type": "markdown",
   "metadata": {},
   "source": [
    "First, we are going to do it using a for loop. We are not going to use a function. After we get our expected results, we will define a function."
   ]
  },
  {
   "cell_type": "markdown",
   "metadata": {},
   "source": [
    "##### We can do it lists"
   ]
  },
  {
   "cell_type": "code",
   "execution_count": 154,
   "metadata": {},
   "outputs": [],
   "source": [
    "from tqdm import tqdm"
   ]
  },
  {
   "cell_type": "code",
   "execution_count": 156,
   "metadata": {},
   "outputs": [
    {
     "name": "stderr",
     "output_type": "stream",
     "text": [
      "100%|██████████████████████████████████████████████████████████████████████████████████████████| 20/20 [00:00<?, ?it/s]\n"
     ]
    },
    {
     "data": {
      "text/html": [
       "<div>\n",
       "<style scoped>\n",
       "    .dataframe tbody tr th:only-of-type {\n",
       "        vertical-align: middle;\n",
       "    }\n",
       "\n",
       "    .dataframe tbody tr th {\n",
       "        vertical-align: top;\n",
       "    }\n",
       "\n",
       "    .dataframe thead th {\n",
       "        text-align: right;\n",
       "    }\n",
       "</style>\n",
       "<table border=\"1\" class=\"dataframe\">\n",
       "  <thead>\n",
       "    <tr style=\"text-align: right;\">\n",
       "      <th></th>\n",
       "      <th>Institution</th>\n",
       "      <th>Latitud</th>\n",
       "      <th>Longitud</th>\n",
       "    </tr>\n",
       "  </thead>\n",
       "  <tbody>\n",
       "    <tr>\n",
       "      <th>0</th>\n",
       "      <td>National Identity Management Commission</td>\n",
       "      <td>9.065977</td>\n",
       "      <td>7.454961</td>\n",
       "    </tr>\n",
       "    <tr>\n",
       "      <th>1</th>\n",
       "      <td>National Identity Management Commission (Nimc)</td>\n",
       "      <td>8.450151</td>\n",
       "      <td>4.542503</td>\n",
       "    </tr>\n",
       "    <tr>\n",
       "      <th>2</th>\n",
       "      <td>National Identity Management Commission NIMC</td>\n",
       "      <td>8.505730</td>\n",
       "      <td>8.531775</td>\n",
       "    </tr>\n",
       "    <tr>\n",
       "      <th>3</th>\n",
       "      <td>National Identity Management Commission</td>\n",
       "      <td>9.058854</td>\n",
       "      <td>7.468078</td>\n",
       "    </tr>\n",
       "    <tr>\n",
       "      <th>4</th>\n",
       "      <td>National Identity Management Commission (Nimc)</td>\n",
       "      <td>9.895973</td>\n",
       "      <td>8.931434</td>\n",
       "    </tr>\n",
       "    <tr>\n",
       "      <th>5</th>\n",
       "      <td>National Identity Management Commission</td>\n",
       "      <td>9.892295</td>\n",
       "      <td>8.917566</td>\n",
       "    </tr>\n",
       "    <tr>\n",
       "      <th>6</th>\n",
       "      <td>National Identity Management Commission</td>\n",
       "      <td>9.857233</td>\n",
       "      <td>7.967972</td>\n",
       "    </tr>\n",
       "    <tr>\n",
       "      <th>7</th>\n",
       "      <td>National Identity Management Commission (Nimc)</td>\n",
       "      <td>7.711656</td>\n",
       "      <td>8.526523</td>\n",
       "    </tr>\n",
       "    <tr>\n",
       "      <th>8</th>\n",
       "      <td>National Identity Management Commission</td>\n",
       "      <td>11.989994</td>\n",
       "      <td>8.489165</td>\n",
       "    </tr>\n",
       "    <tr>\n",
       "      <th>9</th>\n",
       "      <td>National Identity Management Commission (Nimc)</td>\n",
       "      <td>10.310332</td>\n",
       "      <td>9.826602</td>\n",
       "    </tr>\n",
       "    <tr>\n",
       "      <th>10</th>\n",
       "      <td>National Identity Management Commission (Nimc)</td>\n",
       "      <td>10.592473</td>\n",
       "      <td>7.449456</td>\n",
       "    </tr>\n",
       "    <tr>\n",
       "      <th>11</th>\n",
       "      <td>National Identity Management Center</td>\n",
       "      <td>5.471781</td>\n",
       "      <td>7.008344</td>\n",
       "    </tr>\n",
       "    <tr>\n",
       "      <th>12</th>\n",
       "      <td>National Identity Management Commision (NIMC) ...</td>\n",
       "      <td>6.617086</td>\n",
       "      <td>3.357951</td>\n",
       "    </tr>\n",
       "    <tr>\n",
       "      <th>13</th>\n",
       "      <td>National Identity Management Commission</td>\n",
       "      <td>6.460106</td>\n",
       "      <td>7.579009</td>\n",
       "    </tr>\n",
       "    <tr>\n",
       "      <th>14</th>\n",
       "      <td>National Identity Management Commission (Nimc)</td>\n",
       "      <td>9.076770</td>\n",
       "      <td>7.493777</td>\n",
       "    </tr>\n",
       "    <tr>\n",
       "      <th>15</th>\n",
       "      <td>National Identity Management Commission Umuahia</td>\n",
       "      <td>5.502502</td>\n",
       "      <td>7.517956</td>\n",
       "    </tr>\n",
       "    <tr>\n",
       "      <th>16</th>\n",
       "      <td>National Identity Management Commission</td>\n",
       "      <td>4.822006</td>\n",
       "      <td>7.007972</td>\n",
       "    </tr>\n",
       "    <tr>\n",
       "      <th>17</th>\n",
       "      <td>National Identity Management Commission (Nimc)</td>\n",
       "      <td>11.988203</td>\n",
       "      <td>8.496804</td>\n",
       "    </tr>\n",
       "    <tr>\n",
       "      <th>18</th>\n",
       "      <td>National Identity Management Commission, North...</td>\n",
       "      <td>10.543617</td>\n",
       "      <td>7.460988</td>\n",
       "    </tr>\n",
       "    <tr>\n",
       "      <th>19</th>\n",
       "      <td>National Identity Management Commission Nimc</td>\n",
       "      <td>4.849608</td>\n",
       "      <td>7.052736</td>\n",
       "    </tr>\n",
       "  </tbody>\n",
       "</table>\n",
       "</div>"
      ],
      "text/plain": [
       "                                          Institution    Latitud  Longitud\n",
       "0             National Identity Management Commission   9.065977  7.454961\n",
       "1      National Identity Management Commission (Nimc)   8.450151  4.542503\n",
       "2        National Identity Management Commission NIMC   8.505730  8.531775\n",
       "3             National Identity Management Commission   9.058854  7.468078\n",
       "4      National Identity Management Commission (Nimc)   9.895973  8.931434\n",
       "5             National Identity Management Commission   9.892295  8.917566\n",
       "6             National Identity Management Commission   9.857233  7.967972\n",
       "7      National Identity Management Commission (Nimc)   7.711656  8.526523\n",
       "8             National Identity Management Commission  11.989994  8.489165\n",
       "9      National Identity Management Commission (Nimc)  10.310332  9.826602\n",
       "10     National Identity Management Commission (Nimc)  10.592473  7.449456\n",
       "11                National Identity Management Center   5.471781  7.008344\n",
       "12  National Identity Management Commision (NIMC) ...   6.617086  3.357951\n",
       "13            National Identity Management Commission   6.460106  7.579009\n",
       "14     National Identity Management Commission (Nimc)   9.076770  7.493777\n",
       "15    National Identity Management Commission Umuahia   5.502502  7.517956\n",
       "16            National Identity Management Commission   4.822006  7.007972\n",
       "17     National Identity Management Commission (Nimc)  11.988203  8.496804\n",
       "18  National Identity Management Commission, North...  10.543617  7.460988\n",
       "19       National Identity Management Commission Nimc   4.849608  7.052736"
      ]
     },
     "execution_count": 156,
     "metadata": {},
     "output_type": "execute_result"
    }
   ],
   "source": [
    "# Lists\n",
    "latitudes = []\n",
    "longitudes = []\n",
    "institutions = []\n",
    "\n",
    "\n",
    "# define all the results\n",
    "results = places_result[ 'results' ]\n",
    "# loop para guardar cada uno de los elementos\n",
    "for row in tqdm( range( 0 , len( results ) ) ):\n",
    "    \n",
    "    # latitude\n",
    "    lat = results[ row ]['geometry']['location']['lat']\n",
    "    \n",
    "    # Longitude\n",
    "    lng = results[ row ]['geometry']['location']['lng']\n",
    "    \n",
    "    # nombre de la institution\n",
    "    institution = results[ row ]['name']\n",
    "    \n",
    "    # Save results\n",
    "    latitudes.append( lat )\n",
    "    longitudes.append( lng )\n",
    "    institutions.append( institution )\n",
    "    \n",
    "# Diccionario\n",
    "final_result = { 'Institution': institutions, 'Latitud' : latitudes, 'Longitud' : longitudes }\n",
    "# Dataframe\n",
    "df_result = pd.DataFrame( final_result )\n",
    "df_result"
   ]
  },
  {
   "cell_type": "markdown",
   "metadata": {},
   "source": [
    "##### We can do it using iteration over rows of a DataFrame"
   ]
  },
  {
   "cell_type": "code",
   "execution_count": 157,
   "metadata": {},
   "outputs": [
    {
     "name": "stderr",
     "output_type": "stream",
     "text": [
      "100%|█████████████████████████████████████████████████████████████████████████████████| 20/20 [00:00<00:00, 466.35it/s]\n"
     ]
    },
    {
     "data": {
      "text/html": [
       "<div>\n",
       "<style scoped>\n",
       "    .dataframe tbody tr th:only-of-type {\n",
       "        vertical-align: middle;\n",
       "    }\n",
       "\n",
       "    .dataframe tbody tr th {\n",
       "        vertical-align: top;\n",
       "    }\n",
       "\n",
       "    .dataframe thead th {\n",
       "        text-align: right;\n",
       "    }\n",
       "</style>\n",
       "<table border=\"1\" class=\"dataframe\">\n",
       "  <thead>\n",
       "    <tr style=\"text-align: right;\">\n",
       "      <th></th>\n",
       "      <th>Institution</th>\n",
       "      <th>Latitude</th>\n",
       "      <th>Longitud</th>\n",
       "    </tr>\n",
       "  </thead>\n",
       "  <tbody>\n",
       "    <tr>\n",
       "      <th>0</th>\n",
       "      <td>National Identity Management Commission</td>\n",
       "      <td>9.065977</td>\n",
       "      <td>7.454961</td>\n",
       "    </tr>\n",
       "    <tr>\n",
       "      <th>1</th>\n",
       "      <td>National Identity Management Commission (Nimc)</td>\n",
       "      <td>8.450151</td>\n",
       "      <td>4.542503</td>\n",
       "    </tr>\n",
       "    <tr>\n",
       "      <th>2</th>\n",
       "      <td>National Identity Management Commission NIMC</td>\n",
       "      <td>8.505730</td>\n",
       "      <td>8.531775</td>\n",
       "    </tr>\n",
       "    <tr>\n",
       "      <th>3</th>\n",
       "      <td>National Identity Management Commission</td>\n",
       "      <td>9.058854</td>\n",
       "      <td>7.468078</td>\n",
       "    </tr>\n",
       "    <tr>\n",
       "      <th>4</th>\n",
       "      <td>National Identity Management Commission (Nimc)</td>\n",
       "      <td>9.895973</td>\n",
       "      <td>8.931434</td>\n",
       "    </tr>\n",
       "    <tr>\n",
       "      <th>5</th>\n",
       "      <td>National Identity Management Commission</td>\n",
       "      <td>9.892295</td>\n",
       "      <td>8.917566</td>\n",
       "    </tr>\n",
       "    <tr>\n",
       "      <th>6</th>\n",
       "      <td>National Identity Management Commission</td>\n",
       "      <td>9.857233</td>\n",
       "      <td>7.967972</td>\n",
       "    </tr>\n",
       "    <tr>\n",
       "      <th>7</th>\n",
       "      <td>National Identity Management Commission (Nimc)</td>\n",
       "      <td>7.711656</td>\n",
       "      <td>8.526523</td>\n",
       "    </tr>\n",
       "    <tr>\n",
       "      <th>8</th>\n",
       "      <td>National Identity Management Commission</td>\n",
       "      <td>11.989994</td>\n",
       "      <td>8.489165</td>\n",
       "    </tr>\n",
       "    <tr>\n",
       "      <th>9</th>\n",
       "      <td>National Identity Management Commission (Nimc)</td>\n",
       "      <td>10.310332</td>\n",
       "      <td>9.826602</td>\n",
       "    </tr>\n",
       "    <tr>\n",
       "      <th>10</th>\n",
       "      <td>National Identity Management Commission (Nimc)</td>\n",
       "      <td>10.592473</td>\n",
       "      <td>7.449456</td>\n",
       "    </tr>\n",
       "    <tr>\n",
       "      <th>11</th>\n",
       "      <td>National Identity Management Center</td>\n",
       "      <td>5.471781</td>\n",
       "      <td>7.008344</td>\n",
       "    </tr>\n",
       "    <tr>\n",
       "      <th>12</th>\n",
       "      <td>National Identity Management Commision (NIMC) ...</td>\n",
       "      <td>6.617086</td>\n",
       "      <td>3.357951</td>\n",
       "    </tr>\n",
       "    <tr>\n",
       "      <th>13</th>\n",
       "      <td>National Identity Management Commission</td>\n",
       "      <td>6.460106</td>\n",
       "      <td>7.579009</td>\n",
       "    </tr>\n",
       "    <tr>\n",
       "      <th>14</th>\n",
       "      <td>National Identity Management Commission (Nimc)</td>\n",
       "      <td>9.076770</td>\n",
       "      <td>7.493777</td>\n",
       "    </tr>\n",
       "    <tr>\n",
       "      <th>15</th>\n",
       "      <td>National Identity Management Commission Umuahia</td>\n",
       "      <td>5.502502</td>\n",
       "      <td>7.517956</td>\n",
       "    </tr>\n",
       "    <tr>\n",
       "      <th>16</th>\n",
       "      <td>National Identity Management Commission</td>\n",
       "      <td>4.822006</td>\n",
       "      <td>7.007972</td>\n",
       "    </tr>\n",
       "    <tr>\n",
       "      <th>17</th>\n",
       "      <td>National Identity Management Commission (Nimc)</td>\n",
       "      <td>11.988203</td>\n",
       "      <td>8.496804</td>\n",
       "    </tr>\n",
       "    <tr>\n",
       "      <th>18</th>\n",
       "      <td>National Identity Management Commission, North...</td>\n",
       "      <td>10.543617</td>\n",
       "      <td>7.460988</td>\n",
       "    </tr>\n",
       "    <tr>\n",
       "      <th>19</th>\n",
       "      <td>National Identity Management Commission Nimc</td>\n",
       "      <td>4.849608</td>\n",
       "      <td>7.052736</td>\n",
       "    </tr>\n",
       "  </tbody>\n",
       "</table>\n",
       "</div>"
      ],
      "text/plain": [
       "                                          Institution   Latitude  Longitud\n",
       "0             National Identity Management Commission   9.065977  7.454961\n",
       "1      National Identity Management Commission (Nimc)   8.450151  4.542503\n",
       "2        National Identity Management Commission NIMC   8.505730  8.531775\n",
       "3             National Identity Management Commission   9.058854  7.468078\n",
       "4      National Identity Management Commission (Nimc)   9.895973  8.931434\n",
       "5             National Identity Management Commission   9.892295  8.917566\n",
       "6             National Identity Management Commission   9.857233  7.967972\n",
       "7      National Identity Management Commission (Nimc)   7.711656  8.526523\n",
       "8             National Identity Management Commission  11.989994  8.489165\n",
       "9      National Identity Management Commission (Nimc)  10.310332  9.826602\n",
       "10     National Identity Management Commission (Nimc)  10.592473  7.449456\n",
       "11                National Identity Management Center   5.471781  7.008344\n",
       "12  National Identity Management Commision (NIMC) ...   6.617086  3.357951\n",
       "13            National Identity Management Commission   6.460106  7.579009\n",
       "14     National Identity Management Commission (Nimc)   9.076770  7.493777\n",
       "15    National Identity Management Commission Umuahia   5.502502  7.517956\n",
       "16            National Identity Management Commission   4.822006  7.007972\n",
       "17     National Identity Management Commission (Nimc)  11.988203  8.496804\n",
       "18  National Identity Management Commission, North...  10.543617  7.460988\n",
       "19       National Identity Management Commission Nimc   4.849608  7.052736"
      ]
     },
     "execution_count": 157,
     "metadata": {},
     "output_type": "execute_result"
    }
   ],
   "source": [
    "df2 = pd.DataFrame( columns = ['Institution','Latitude','Longitud'] )\n",
    "\n",
    "results = places_result['results']\n",
    "\n",
    "for fila in tqdm(range( 0 , len( results ) )):\n",
    "    \n",
    "    df2.loc[fila] = [results[ fila ]['name'], \\\n",
    "                       results[ fila ]['geometry']['location']['lat'], \\\n",
    "                       results[ fila ]['geometry']['location']['lng']]\n",
    "    \n",
    "df2"
   ]
  },
  {
   "cell_type": "code",
   "execution_count": 160,
   "metadata": {},
   "outputs": [],
   "source": [
    "def dict_output( dictionary , output = 'tuples'):\n",
    "    \n",
    "    # key results\n",
    "    results = dictionary['results']\n",
    "    \n",
    "    # Lists\n",
    "    latitudes = []\n",
    "    longitudes = []\n",
    "    inst = []\n",
    "    \n",
    "    # iterate over values and store in lists\n",
    "    # we are going to use lists apporach\n",
    "    for fila in range( 0 , len( results ) ):\n",
    "        # latitude\n",
    "        lat = results[ fila ]['geometry']['location']['lat']\n",
    "\n",
    "        # Longitude\n",
    "        lng = results[ fila ]['geometry']['location']['lng']\n",
    "\n",
    "        # nombre de la institucion\n",
    "        institucion = results[ fila ]['name']\n",
    "\n",
    "        # Save results\n",
    "        latitudes.append( lat )\n",
    "        longitudes.append( lng )\n",
    "        inst.append( institucion )\n",
    "    \n",
    "    # Store all values in \n",
    "    # dictionary\n",
    "    results_dict = { 'Instituciones': institutions, 'Latitud' : latitudes, 'Longitud' : longitudes }\n",
    "    \n",
    "    # pandas\n",
    "    results_pd = pd.DataFrame( results_dict )\n",
    "    \n",
    "    # tuple\n",
    "    results_tuple = ( latitudes , longitudes , inst )\n",
    "    \n",
    "    # We can use return with if condition\n",
    "    if output == 'dataframe':\n",
    "        return results_pd\n",
    "    \n",
    "    elif output == 'dictionary':\n",
    "        return results_dict\n",
    "    \n",
    "    elif output == 'tuple':\n",
    "        return results_tuple\n",
    "    \n",
    "    else:\n",
    "        raise Exception( f'''The output value ({output}) is wrong. \\nYou can only use `tuple`, `dataframe`, or `dictionary` as argument variables.''' )"
   ]
  },
  {
   "cell_type": "code",
   "execution_count": 161,
   "metadata": {},
   "outputs": [
    {
     "data": {
      "text/plain": [
       "([9.065977,\n",
       "  8.450151,\n",
       "  8.50573,\n",
       "  9.058854499999999,\n",
       "  9.895973,\n",
       "  9.892294699999999,\n",
       "  9.8572331,\n",
       "  7.711655800000001,\n",
       "  11.9899944,\n",
       "  10.310332,\n",
       "  10.592473,\n",
       "  5.4717813,\n",
       "  6.617086,\n",
       "  6.460105899999999,\n",
       "  9.07677,\n",
       "  5.5025021,\n",
       "  4.822006,\n",
       "  11.988203,\n",
       "  10.5436173,\n",
       "  4.8496083],\n",
       " [7.4549606,\n",
       "  4.542503,\n",
       "  8.531774799999999,\n",
       "  7.468077600000001,\n",
       "  8.931434,\n",
       "  8.9175658,\n",
       "  7.967971899999998,\n",
       "  8.5265235,\n",
       "  8.4891647,\n",
       "  9.826602,\n",
       "  7.449456,\n",
       "  7.0083439,\n",
       "  3.357951,\n",
       "  7.579008999999999,\n",
       "  7.493777,\n",
       "  7.517955600000001,\n",
       "  7.0079724,\n",
       "  8.496804,\n",
       "  7.4609879,\n",
       "  7.0527365],\n",
       " ['National Identity Management Commission',\n",
       "  'National Identity Management Commission (Nimc)',\n",
       "  'National Identity Management Commission NIMC',\n",
       "  'National Identity Management Commission',\n",
       "  'National Identity Management Commission (Nimc)',\n",
       "  'National Identity Management Commission',\n",
       "  'National Identity Management Commission',\n",
       "  'National Identity Management Commission (Nimc)',\n",
       "  'National Identity Management Commission',\n",
       "  'National Identity Management Commission (Nimc)',\n",
       "  'National Identity Management Commission (Nimc)',\n",
       "  'National Identity Management Center',\n",
       "  'National Identity Management Commision (NIMC) Lagos',\n",
       "  'National Identity Management Commission',\n",
       "  'National Identity Management Commission (Nimc)',\n",
       "  'National Identity Management Commission Umuahia',\n",
       "  'National Identity Management Commission',\n",
       "  'National Identity Management Commission (Nimc)',\n",
       "  'National Identity Management Commission, Northwest Zonal Office',\n",
       "  'National Identity Management Commission Nimc'])"
      ]
     },
     "execution_count": 161,
     "metadata": {},
     "output_type": "execute_result"
    }
   ],
   "source": [
    "dict_output( places_result, output = \"tuple\" )"
   ]
  },
  {
   "cell_type": "code",
   "execution_count": 162,
   "metadata": {},
   "outputs": [
    {
     "data": {
      "text/html": [
       "<div>\n",
       "<style scoped>\n",
       "    .dataframe tbody tr th:only-of-type {\n",
       "        vertical-align: middle;\n",
       "    }\n",
       "\n",
       "    .dataframe tbody tr th {\n",
       "        vertical-align: top;\n",
       "    }\n",
       "\n",
       "    .dataframe thead th {\n",
       "        text-align: right;\n",
       "    }\n",
       "</style>\n",
       "<table border=\"1\" class=\"dataframe\">\n",
       "  <thead>\n",
       "    <tr style=\"text-align: right;\">\n",
       "      <th></th>\n",
       "      <th>Instituciones</th>\n",
       "      <th>Latitud</th>\n",
       "      <th>Longitud</th>\n",
       "    </tr>\n",
       "  </thead>\n",
       "  <tbody>\n",
       "    <tr>\n",
       "      <th>0</th>\n",
       "      <td>National Identity Management Commission</td>\n",
       "      <td>9.065977</td>\n",
       "      <td>7.454961</td>\n",
       "    </tr>\n",
       "    <tr>\n",
       "      <th>1</th>\n",
       "      <td>National Identity Management Commission (Nimc)</td>\n",
       "      <td>8.450151</td>\n",
       "      <td>4.542503</td>\n",
       "    </tr>\n",
       "    <tr>\n",
       "      <th>2</th>\n",
       "      <td>National Identity Management Commission NIMC</td>\n",
       "      <td>8.505730</td>\n",
       "      <td>8.531775</td>\n",
       "    </tr>\n",
       "    <tr>\n",
       "      <th>3</th>\n",
       "      <td>National Identity Management Commission</td>\n",
       "      <td>9.058854</td>\n",
       "      <td>7.468078</td>\n",
       "    </tr>\n",
       "    <tr>\n",
       "      <th>4</th>\n",
       "      <td>National Identity Management Commission (Nimc)</td>\n",
       "      <td>9.895973</td>\n",
       "      <td>8.931434</td>\n",
       "    </tr>\n",
       "    <tr>\n",
       "      <th>5</th>\n",
       "      <td>National Identity Management Commission</td>\n",
       "      <td>9.892295</td>\n",
       "      <td>8.917566</td>\n",
       "    </tr>\n",
       "    <tr>\n",
       "      <th>6</th>\n",
       "      <td>National Identity Management Commission</td>\n",
       "      <td>9.857233</td>\n",
       "      <td>7.967972</td>\n",
       "    </tr>\n",
       "    <tr>\n",
       "      <th>7</th>\n",
       "      <td>National Identity Management Commission (Nimc)</td>\n",
       "      <td>7.711656</td>\n",
       "      <td>8.526523</td>\n",
       "    </tr>\n",
       "    <tr>\n",
       "      <th>8</th>\n",
       "      <td>National Identity Management Commission</td>\n",
       "      <td>11.989994</td>\n",
       "      <td>8.489165</td>\n",
       "    </tr>\n",
       "    <tr>\n",
       "      <th>9</th>\n",
       "      <td>National Identity Management Commission (Nimc)</td>\n",
       "      <td>10.310332</td>\n",
       "      <td>9.826602</td>\n",
       "    </tr>\n",
       "    <tr>\n",
       "      <th>10</th>\n",
       "      <td>National Identity Management Commission (Nimc)</td>\n",
       "      <td>10.592473</td>\n",
       "      <td>7.449456</td>\n",
       "    </tr>\n",
       "    <tr>\n",
       "      <th>11</th>\n",
       "      <td>National Identity Management Center</td>\n",
       "      <td>5.471781</td>\n",
       "      <td>7.008344</td>\n",
       "    </tr>\n",
       "    <tr>\n",
       "      <th>12</th>\n",
       "      <td>National Identity Management Commision (NIMC) ...</td>\n",
       "      <td>6.617086</td>\n",
       "      <td>3.357951</td>\n",
       "    </tr>\n",
       "    <tr>\n",
       "      <th>13</th>\n",
       "      <td>National Identity Management Commission</td>\n",
       "      <td>6.460106</td>\n",
       "      <td>7.579009</td>\n",
       "    </tr>\n",
       "    <tr>\n",
       "      <th>14</th>\n",
       "      <td>National Identity Management Commission (Nimc)</td>\n",
       "      <td>9.076770</td>\n",
       "      <td>7.493777</td>\n",
       "    </tr>\n",
       "    <tr>\n",
       "      <th>15</th>\n",
       "      <td>National Identity Management Commission Umuahia</td>\n",
       "      <td>5.502502</td>\n",
       "      <td>7.517956</td>\n",
       "    </tr>\n",
       "    <tr>\n",
       "      <th>16</th>\n",
       "      <td>National Identity Management Commission</td>\n",
       "      <td>4.822006</td>\n",
       "      <td>7.007972</td>\n",
       "    </tr>\n",
       "    <tr>\n",
       "      <th>17</th>\n",
       "      <td>National Identity Management Commission (Nimc)</td>\n",
       "      <td>11.988203</td>\n",
       "      <td>8.496804</td>\n",
       "    </tr>\n",
       "    <tr>\n",
       "      <th>18</th>\n",
       "      <td>National Identity Management Commission, North...</td>\n",
       "      <td>10.543617</td>\n",
       "      <td>7.460988</td>\n",
       "    </tr>\n",
       "    <tr>\n",
       "      <th>19</th>\n",
       "      <td>National Identity Management Commission Nimc</td>\n",
       "      <td>4.849608</td>\n",
       "      <td>7.052736</td>\n",
       "    </tr>\n",
       "  </tbody>\n",
       "</table>\n",
       "</div>"
      ],
      "text/plain": [
       "                                        Instituciones    Latitud  Longitud\n",
       "0             National Identity Management Commission   9.065977  7.454961\n",
       "1      National Identity Management Commission (Nimc)   8.450151  4.542503\n",
       "2        National Identity Management Commission NIMC   8.505730  8.531775\n",
       "3             National Identity Management Commission   9.058854  7.468078\n",
       "4      National Identity Management Commission (Nimc)   9.895973  8.931434\n",
       "5             National Identity Management Commission   9.892295  8.917566\n",
       "6             National Identity Management Commission   9.857233  7.967972\n",
       "7      National Identity Management Commission (Nimc)   7.711656  8.526523\n",
       "8             National Identity Management Commission  11.989994  8.489165\n",
       "9      National Identity Management Commission (Nimc)  10.310332  9.826602\n",
       "10     National Identity Management Commission (Nimc)  10.592473  7.449456\n",
       "11                National Identity Management Center   5.471781  7.008344\n",
       "12  National Identity Management Commision (NIMC) ...   6.617086  3.357951\n",
       "13            National Identity Management Commission   6.460106  7.579009\n",
       "14     National Identity Management Commission (Nimc)   9.076770  7.493777\n",
       "15    National Identity Management Commission Umuahia   5.502502  7.517956\n",
       "16            National Identity Management Commission   4.822006  7.007972\n",
       "17     National Identity Management Commission (Nimc)  11.988203  8.496804\n",
       "18  National Identity Management Commission, North...  10.543617  7.460988\n",
       "19       National Identity Management Commission Nimc   4.849608  7.052736"
      ]
     },
     "execution_count": 162,
     "metadata": {},
     "output_type": "execute_result"
    }
   ],
   "source": [
    "dict_output( places_result, output = \"dataframe\" )"
   ]
  },
  {
   "cell_type": "code",
   "execution_count": 164,
   "metadata": {},
   "outputs": [
    {
     "data": {
      "text/plain": [
       "{'Instituciones': ['National Identity Management Commission',\n",
       "  'National Identity Management Commission (Nimc)',\n",
       "  'National Identity Management Commission NIMC',\n",
       "  'National Identity Management Commission',\n",
       "  'National Identity Management Commission (Nimc)',\n",
       "  'National Identity Management Commission',\n",
       "  'National Identity Management Commission',\n",
       "  'National Identity Management Commission (Nimc)',\n",
       "  'National Identity Management Commission',\n",
       "  'National Identity Management Commission (Nimc)',\n",
       "  'National Identity Management Commission (Nimc)',\n",
       "  'National Identity Management Center',\n",
       "  'National Identity Management Commision (NIMC) Lagos',\n",
       "  'National Identity Management Commission',\n",
       "  'National Identity Management Commission (Nimc)',\n",
       "  'National Identity Management Commission Umuahia',\n",
       "  'National Identity Management Commission',\n",
       "  'National Identity Management Commission (Nimc)',\n",
       "  'National Identity Management Commission, Northwest Zonal Office',\n",
       "  'National Identity Management Commission Nimc'],\n",
       " 'Latitud': [9.065977,\n",
       "  8.450151,\n",
       "  8.50573,\n",
       "  9.058854499999999,\n",
       "  9.895973,\n",
       "  9.892294699999999,\n",
       "  9.8572331,\n",
       "  7.711655800000001,\n",
       "  11.9899944,\n",
       "  10.310332,\n",
       "  10.592473,\n",
       "  5.4717813,\n",
       "  6.617086,\n",
       "  6.460105899999999,\n",
       "  9.07677,\n",
       "  5.5025021,\n",
       "  4.822006,\n",
       "  11.988203,\n",
       "  10.5436173,\n",
       "  4.8496083],\n",
       " 'Longitud': [7.4549606,\n",
       "  4.542503,\n",
       "  8.531774799999999,\n",
       "  7.468077600000001,\n",
       "  8.931434,\n",
       "  8.9175658,\n",
       "  7.967971899999998,\n",
       "  8.5265235,\n",
       "  8.4891647,\n",
       "  9.826602,\n",
       "  7.449456,\n",
       "  7.0083439,\n",
       "  3.357951,\n",
       "  7.579008999999999,\n",
       "  7.493777,\n",
       "  7.517955600000001,\n",
       "  7.0079724,\n",
       "  8.496804,\n",
       "  7.4609879,\n",
       "  7.0527365]}"
      ]
     },
     "execution_count": 164,
     "metadata": {},
     "output_type": "execute_result"
    }
   ],
   "source": [
    "dict_output( places_result, output = \"dictionary\" )"
   ]
  },
  {
   "cell_type": "code",
   "execution_count": 165,
   "metadata": {},
   "outputs": [
    {
     "ename": "Exception",
     "evalue": "The output value (list) is wrong. \nYou can only use `tuple`, `dataframe`, or `dictionary` as argument variables.",
     "output_type": "error",
     "traceback": [
      "\u001b[1;31m---------------------------------------------------------------------------\u001b[0m",
      "\u001b[1;31mException\u001b[0m                                 Traceback (most recent call last)",
      "\u001b[1;32m<ipython-input-165-e91397d3200f>\u001b[0m in \u001b[0;36m<module>\u001b[1;34m\u001b[0m\n\u001b[1;32m----> 1\u001b[1;33m \u001b[0mdict_output\u001b[0m\u001b[1;33m(\u001b[0m \u001b[0mplaces_result\u001b[0m\u001b[1;33m,\u001b[0m \u001b[0moutput\u001b[0m \u001b[1;33m=\u001b[0m \u001b[1;34m\"list\"\u001b[0m \u001b[1;33m)\u001b[0m\u001b[1;33m\u001b[0m\u001b[1;33m\u001b[0m\u001b[0m\n\u001b[0m",
      "\u001b[1;32m<ipython-input-160-0ecbb021015a>\u001b[0m in \u001b[0;36mdict_output\u001b[1;34m(dictionary, output)\u001b[0m\n\u001b[0;32m     47\u001b[0m \u001b[1;33m\u001b[0m\u001b[0m\n\u001b[0;32m     48\u001b[0m     \u001b[1;32melse\u001b[0m\u001b[1;33m:\u001b[0m\u001b[1;33m\u001b[0m\u001b[1;33m\u001b[0m\u001b[0m\n\u001b[1;32m---> 49\u001b[1;33m         \u001b[1;32mraise\u001b[0m \u001b[0mException\u001b[0m\u001b[1;33m(\u001b[0m \u001b[1;34mf'''The output value ({output}) is wrong. \\nYou can only use `tuple`, `dataframe`, or `dictionary` as argument variables.'''\u001b[0m \u001b[1;33m)\u001b[0m\u001b[1;33m\u001b[0m\u001b[1;33m\u001b[0m\u001b[0m\n\u001b[0m",
      "\u001b[1;31mException\u001b[0m: The output value (list) is wrong. \nYou can only use `tuple`, `dataframe`, or `dictionary` as argument variables."
     ]
    }
   ],
   "source": [
    "dict_output( places_result, output = \"list\" )"
   ]
  },
  {
   "cell_type": "code",
   "execution_count": 118,
   "metadata": {},
   "outputs": [],
   "source": [
    "import pandas as pd"
   ]
  },
  {
   "cell_type": "code",
   "execution_count": 119,
   "metadata": {},
   "outputs": [],
   "source": [
    "extraction_fish = pd.read_csv( r\"..\\_data\\production_fish.csv\" )"
   ]
  },
  {
   "cell_type": "code",
   "execution_count": 120,
   "metadata": {},
   "outputs": [
    {
     "data": {
      "text/html": [
       "<div>\n",
       "<style scoped>\n",
       "    .dataframe tbody tr th:only-of-type {\n",
       "        vertical-align: middle;\n",
       "    }\n",
       "\n",
       "    .dataframe tbody tr th {\n",
       "        vertical-align: top;\n",
       "    }\n",
       "\n",
       "    .dataframe thead th {\n",
       "        text-align: right;\n",
       "    }\n",
       "</style>\n",
       "<table border=\"1\" class=\"dataframe\">\n",
       "  <thead>\n",
       "    <tr style=\"text-align: right;\">\n",
       "      <th></th>\n",
       "      <th>year</th>\n",
       "      <th>Consumo Industrial - Anchoveta</th>\n",
       "      <th>Consumo Humano - Congelado - Concha de abanico</th>\n",
       "      <th>Consumo Humano - Congelado - Langostino</th>\n",
       "      <th>Consumo Humano - Congelado - Merluza</th>\n",
       "      <th>Consumo Humano - Congelado - Calamar gigante</th>\n",
       "      <th>Consumo Humano - Conservas - Atún</th>\n",
       "      <th>Consumo Humano - Conservas - Caballa</th>\n",
       "      <th>Consumo Humano - Conservas - Jurel</th>\n",
       "      <th>Consumo Humano - Conservas - Sardina</th>\n",
       "      <th>Consumo Humano - Fresco - Concha de abanico</th>\n",
       "      <th>Consumo Humano - Fresco - Jurel</th>\n",
       "      <th>Consumo Humano - Fresco - Liza</th>\n",
       "      <th>Consumo Humano - Fresco - Tollo</th>\n",
       "      <th>total_production</th>\n",
       "    </tr>\n",
       "  </thead>\n",
       "  <tbody>\n",
       "    <tr>\n",
       "      <th>0</th>\n",
       "      <td>2005</td>\n",
       "      <td>8628.396000</td>\n",
       "      <td>13.537000</td>\n",
       "      <td>9.021000</td>\n",
       "      <td>23.279000</td>\n",
       "      <td>235.630000</td>\n",
       "      <td>9.877000</td>\n",
       "      <td>25.711000</td>\n",
       "      <td>20.481000</td>\n",
       "      <td>0.165000</td>\n",
       "      <td>1.843080</td>\n",
       "      <td>56.167940</td>\n",
       "      <td>5.875600</td>\n",
       "      <td>0.430000</td>\n",
       "      <td>9030.413620</td>\n",
       "    </tr>\n",
       "    <tr>\n",
       "      <th>1</th>\n",
       "      <td>2006</td>\n",
       "      <td>5891.838000</td>\n",
       "      <td>14.714000</td>\n",
       "      <td>11.295000</td>\n",
       "      <td>25.189000</td>\n",
       "      <td>365.729000</td>\n",
       "      <td>11.336000</td>\n",
       "      <td>58.245000</td>\n",
       "      <td>122.904000</td>\n",
       "      <td>0.048000</td>\n",
       "      <td>4.048000</td>\n",
       "      <td>136.827000</td>\n",
       "      <td>3.166000</td>\n",
       "      <td>1.584000</td>\n",
       "      <td>6646.923000</td>\n",
       "    </tr>\n",
       "    <tr>\n",
       "      <th>2</th>\n",
       "      <td>2007</td>\n",
       "      <td>6084.713000</td>\n",
       "      <td>19.937000</td>\n",
       "      <td>13.548000</td>\n",
       "      <td>28.358488</td>\n",
       "      <td>379.556594</td>\n",
       "      <td>3.713293</td>\n",
       "      <td>26.248739</td>\n",
       "      <td>82.910307</td>\n",
       "      <td>0.001020</td>\n",
       "      <td>4.822991</td>\n",
       "      <td>134.887316</td>\n",
       "      <td>9.317622</td>\n",
       "      <td>2.834958</td>\n",
       "      <td>6790.849328</td>\n",
       "    </tr>\n",
       "    <tr>\n",
       "      <th>3</th>\n",
       "      <td>2008</td>\n",
       "      <td>6159.387000</td>\n",
       "      <td>18.790000</td>\n",
       "      <td>12.817000</td>\n",
       "      <td>26.348398</td>\n",
       "      <td>484.162082</td>\n",
       "      <td>3.283711</td>\n",
       "      <td>47.694121</td>\n",
       "      <td>58.864202</td>\n",
       "      <td>0.000000</td>\n",
       "      <td>0.828187</td>\n",
       "      <td>80.092885</td>\n",
       "      <td>14.514054</td>\n",
       "      <td>2.933360</td>\n",
       "      <td>6909.715000</td>\n",
       "    </tr>\n",
       "    <tr>\n",
       "      <th>4</th>\n",
       "      <td>2009</td>\n",
       "      <td>5828.636000</td>\n",
       "      <td>24.634372</td>\n",
       "      <td>11.877399</td>\n",
       "      <td>36.774763</td>\n",
       "      <td>355.106589</td>\n",
       "      <td>2.017061</td>\n",
       "      <td>51.355908</td>\n",
       "      <td>14.289041</td>\n",
       "      <td>0.000000</td>\n",
       "      <td>1.843072</td>\n",
       "      <td>47.079175</td>\n",
       "      <td>17.311344</td>\n",
       "      <td>4.057886</td>\n",
       "      <td>6394.982610</td>\n",
       "    </tr>\n",
       "    <tr>\n",
       "      <th>5</th>\n",
       "      <td>2010</td>\n",
       "      <td>3330.413040</td>\n",
       "      <td>60.001250</td>\n",
       "      <td>14.477939</td>\n",
       "      <td>25.647697</td>\n",
       "      <td>327.571909</td>\n",
       "      <td>9.182845</td>\n",
       "      <td>9.729522</td>\n",
       "      <td>5.774274</td>\n",
       "      <td>0.000000</td>\n",
       "      <td>2.824749</td>\n",
       "      <td>10.404933</td>\n",
       "      <td>9.706363</td>\n",
       "      <td>4.994712</td>\n",
       "      <td>3810.729233</td>\n",
       "    </tr>\n",
       "    <tr>\n",
       "      <th>6</th>\n",
       "      <td>2011</td>\n",
       "      <td>7000.092781</td>\n",
       "      <td>92.027637</td>\n",
       "      <td>23.384478</td>\n",
       "      <td>28.544458</td>\n",
       "      <td>373.195661</td>\n",
       "      <td>6.586856</td>\n",
       "      <td>20.478814</td>\n",
       "      <td>83.277943</td>\n",
       "      <td>0.054463</td>\n",
       "      <td>0.873130</td>\n",
       "      <td>72.955117</td>\n",
       "      <td>12.124808</td>\n",
       "      <td>5.687520</td>\n",
       "      <td>7719.283666</td>\n",
       "    </tr>\n",
       "    <tr>\n",
       "      <th>7</th>\n",
       "      <td>2012</td>\n",
       "      <td>3693.871080</td>\n",
       "      <td>38.933390</td>\n",
       "      <td>22.707220</td>\n",
       "      <td>21.054780</td>\n",
       "      <td>457.072670</td>\n",
       "      <td>1.115060</td>\n",
       "      <td>9.978510</td>\n",
       "      <td>43.693940</td>\n",
       "      <td>0.088460</td>\n",
       "      <td>0.744610</td>\n",
       "      <td>72.930470</td>\n",
       "      <td>17.162420</td>\n",
       "      <td>4.235380</td>\n",
       "      <td>4383.587990</td>\n",
       "    </tr>\n",
       "    <tr>\n",
       "      <th>8</th>\n",
       "      <td>2013</td>\n",
       "      <td>4754.118210</td>\n",
       "      <td>89.293284</td>\n",
       "      <td>19.111372</td>\n",
       "      <td>31.187461</td>\n",
       "      <td>410.759534</td>\n",
       "      <td>7.136436</td>\n",
       "      <td>26.600553</td>\n",
       "      <td>7.197624</td>\n",
       "      <td>0.000000</td>\n",
       "      <td>2.180252</td>\n",
       "      <td>54.454541</td>\n",
       "      <td>12.530821</td>\n",
       "      <td>3.945647</td>\n",
       "      <td>5418.515737</td>\n",
       "    </tr>\n",
       "    <tr>\n",
       "      <th>9</th>\n",
       "      <td>2014</td>\n",
       "      <td>2255.453460</td>\n",
       "      <td>52.266500</td>\n",
       "      <td>21.762990</td>\n",
       "      <td>30.770800</td>\n",
       "      <td>465.007580</td>\n",
       "      <td>4.734540</td>\n",
       "      <td>29.576440</td>\n",
       "      <td>8.882560</td>\n",
       "      <td>0.000000</td>\n",
       "      <td>0.608160</td>\n",
       "      <td>46.346459</td>\n",
       "      <td>12.248670</td>\n",
       "      <td>5.206880</td>\n",
       "      <td>2932.865039</td>\n",
       "    </tr>\n",
       "    <tr>\n",
       "      <th>10</th>\n",
       "      <td>2015</td>\n",
       "      <td>3616.481500</td>\n",
       "      <td>14.843150</td>\n",
       "      <td>26.772210</td>\n",
       "      <td>25.644130</td>\n",
       "      <td>426.932300</td>\n",
       "      <td>11.082120</td>\n",
       "      <td>15.314910</td>\n",
       "      <td>2.769796</td>\n",
       "      <td>0.164140</td>\n",
       "      <td>0.615910</td>\n",
       "      <td>17.536930</td>\n",
       "      <td>12.463520</td>\n",
       "      <td>7.717680</td>\n",
       "      <td>4178.338296</td>\n",
       "    </tr>\n",
       "    <tr>\n",
       "      <th>11</th>\n",
       "      <td>2016</td>\n",
       "      <td>2732.733740</td>\n",
       "      <td>10.090130</td>\n",
       "      <td>29.253750</td>\n",
       "      <td>25.800210</td>\n",
       "      <td>246.124700</td>\n",
       "      <td>10.884490</td>\n",
       "      <td>57.675170</td>\n",
       "      <td>0.412040</td>\n",
       "      <td>0.007490</td>\n",
       "      <td>0.579750</td>\n",
       "      <td>12.472050</td>\n",
       "      <td>15.757580</td>\n",
       "      <td>9.453130</td>\n",
       "      <td>3151.244230</td>\n",
       "    </tr>\n",
       "    <tr>\n",
       "      <th>12</th>\n",
       "      <td>2017</td>\n",
       "      <td>3165.490240</td>\n",
       "      <td>4.596090</td>\n",
       "      <td>38.760070</td>\n",
       "      <td>37.147430</td>\n",
       "      <td>252.429930</td>\n",
       "      <td>11.802750</td>\n",
       "      <td>23.249140</td>\n",
       "      <td>1.052910</td>\n",
       "      <td>0.000000</td>\n",
       "      <td>0.373700</td>\n",
       "      <td>6.889530</td>\n",
       "      <td>29.061740</td>\n",
       "      <td>6.692660</td>\n",
       "      <td>3577.546190</td>\n",
       "    </tr>\n",
       "    <tr>\n",
       "      <th>13</th>\n",
       "      <td>2018</td>\n",
       "      <td>6072.887839</td>\n",
       "      <td>36.530349</td>\n",
       "      <td>31.505879</td>\n",
       "      <td>34.876576</td>\n",
       "      <td>319.146488</td>\n",
       "      <td>18.138975</td>\n",
       "      <td>24.610468</td>\n",
       "      <td>14.619846</td>\n",
       "      <td>0.000000</td>\n",
       "      <td>1.551366</td>\n",
       "      <td>14.720969</td>\n",
       "      <td>23.326310</td>\n",
       "      <td>3.672117</td>\n",
       "      <td>6595.587183</td>\n",
       "    </tr>\n",
       "    <tr>\n",
       "      <th>14</th>\n",
       "      <td>2019</td>\n",
       "      <td>3381.437222</td>\n",
       "      <td>53.112863</td>\n",
       "      <td>42.857637</td>\n",
       "      <td>28.979849</td>\n",
       "      <td>483.765239</td>\n",
       "      <td>17.839298</td>\n",
       "      <td>19.598784</td>\n",
       "      <td>27.733432</td>\n",
       "      <td>0.000000</td>\n",
       "      <td>1.226521</td>\n",
       "      <td>40.798701</td>\n",
       "      <td>24.029820</td>\n",
       "      <td>1.241883</td>\n",
       "      <td>4122.621249</td>\n",
       "    </tr>\n",
       "    <tr>\n",
       "      <th>15</th>\n",
       "      <td>2020</td>\n",
       "      <td>4314.558220</td>\n",
       "      <td>46.995287</td>\n",
       "      <td>34.516971</td>\n",
       "      <td>19.842900</td>\n",
       "      <td>407.384850</td>\n",
       "      <td>3.843680</td>\n",
       "      <td>28.408700</td>\n",
       "      <td>23.475890</td>\n",
       "      <td>0.000000</td>\n",
       "      <td>0.616697</td>\n",
       "      <td>48.115810</td>\n",
       "      <td>14.992172</td>\n",
       "      <td>0.544585</td>\n",
       "      <td>4943.295762</td>\n",
       "    </tr>\n",
       "  </tbody>\n",
       "</table>\n",
       "</div>"
      ],
      "text/plain": [
       "    year  Consumo Industrial - Anchoveta  \\\n",
       "0   2005                     8628.396000   \n",
       "1   2006                     5891.838000   \n",
       "2   2007                     6084.713000   \n",
       "3   2008                     6159.387000   \n",
       "4   2009                     5828.636000   \n",
       "5   2010                     3330.413040   \n",
       "6   2011                     7000.092781   \n",
       "7   2012                     3693.871080   \n",
       "8   2013                     4754.118210   \n",
       "9   2014                     2255.453460   \n",
       "10  2015                     3616.481500   \n",
       "11  2016                     2732.733740   \n",
       "12  2017                     3165.490240   \n",
       "13  2018                     6072.887839   \n",
       "14  2019                     3381.437222   \n",
       "15  2020                     4314.558220   \n",
       "\n",
       "    Consumo Humano - Congelado - Concha de abanico  \\\n",
       "0                                        13.537000   \n",
       "1                                        14.714000   \n",
       "2                                        19.937000   \n",
       "3                                        18.790000   \n",
       "4                                        24.634372   \n",
       "5                                        60.001250   \n",
       "6                                        92.027637   \n",
       "7                                        38.933390   \n",
       "8                                        89.293284   \n",
       "9                                        52.266500   \n",
       "10                                       14.843150   \n",
       "11                                       10.090130   \n",
       "12                                        4.596090   \n",
       "13                                       36.530349   \n",
       "14                                       53.112863   \n",
       "15                                       46.995287   \n",
       "\n",
       "    Consumo Humano - Congelado - Langostino  \\\n",
       "0                                  9.021000   \n",
       "1                                 11.295000   \n",
       "2                                 13.548000   \n",
       "3                                 12.817000   \n",
       "4                                 11.877399   \n",
       "5                                 14.477939   \n",
       "6                                 23.384478   \n",
       "7                                 22.707220   \n",
       "8                                 19.111372   \n",
       "9                                 21.762990   \n",
       "10                                26.772210   \n",
       "11                                29.253750   \n",
       "12                                38.760070   \n",
       "13                                31.505879   \n",
       "14                                42.857637   \n",
       "15                                34.516971   \n",
       "\n",
       "    Consumo Humano - Congelado - Merluza  \\\n",
       "0                              23.279000   \n",
       "1                              25.189000   \n",
       "2                              28.358488   \n",
       "3                              26.348398   \n",
       "4                              36.774763   \n",
       "5                              25.647697   \n",
       "6                              28.544458   \n",
       "7                              21.054780   \n",
       "8                              31.187461   \n",
       "9                              30.770800   \n",
       "10                             25.644130   \n",
       "11                             25.800210   \n",
       "12                             37.147430   \n",
       "13                             34.876576   \n",
       "14                             28.979849   \n",
       "15                             19.842900   \n",
       "\n",
       "    Consumo Humano - Congelado - Calamar gigante  \\\n",
       "0                                     235.630000   \n",
       "1                                     365.729000   \n",
       "2                                     379.556594   \n",
       "3                                     484.162082   \n",
       "4                                     355.106589   \n",
       "5                                     327.571909   \n",
       "6                                     373.195661   \n",
       "7                                     457.072670   \n",
       "8                                     410.759534   \n",
       "9                                     465.007580   \n",
       "10                                    426.932300   \n",
       "11                                    246.124700   \n",
       "12                                    252.429930   \n",
       "13                                    319.146488   \n",
       "14                                    483.765239   \n",
       "15                                    407.384850   \n",
       "\n",
       "    Consumo Humano - Conservas - Atún  Consumo Humano - Conservas - Caballa  \\\n",
       "0                            9.877000                             25.711000   \n",
       "1                           11.336000                             58.245000   \n",
       "2                            3.713293                             26.248739   \n",
       "3                            3.283711                             47.694121   \n",
       "4                            2.017061                             51.355908   \n",
       "5                            9.182845                              9.729522   \n",
       "6                            6.586856                             20.478814   \n",
       "7                            1.115060                              9.978510   \n",
       "8                            7.136436                             26.600553   \n",
       "9                            4.734540                             29.576440   \n",
       "10                          11.082120                             15.314910   \n",
       "11                          10.884490                             57.675170   \n",
       "12                          11.802750                             23.249140   \n",
       "13                          18.138975                             24.610468   \n",
       "14                          17.839298                             19.598784   \n",
       "15                           3.843680                             28.408700   \n",
       "\n",
       "    Consumo Humano - Conservas - Jurel  Consumo Humano - Conservas - Sardina  \\\n",
       "0                            20.481000                              0.165000   \n",
       "1                           122.904000                              0.048000   \n",
       "2                            82.910307                              0.001020   \n",
       "3                            58.864202                              0.000000   \n",
       "4                            14.289041                              0.000000   \n",
       "5                             5.774274                              0.000000   \n",
       "6                            83.277943                              0.054463   \n",
       "7                            43.693940                              0.088460   \n",
       "8                             7.197624                              0.000000   \n",
       "9                             8.882560                              0.000000   \n",
       "10                            2.769796                              0.164140   \n",
       "11                            0.412040                              0.007490   \n",
       "12                            1.052910                              0.000000   \n",
       "13                           14.619846                              0.000000   \n",
       "14                           27.733432                              0.000000   \n",
       "15                           23.475890                              0.000000   \n",
       "\n",
       "    Consumo Humano - Fresco - Concha de abanico  \\\n",
       "0                                      1.843080   \n",
       "1                                      4.048000   \n",
       "2                                      4.822991   \n",
       "3                                      0.828187   \n",
       "4                                      1.843072   \n",
       "5                                      2.824749   \n",
       "6                                      0.873130   \n",
       "7                                      0.744610   \n",
       "8                                      2.180252   \n",
       "9                                      0.608160   \n",
       "10                                     0.615910   \n",
       "11                                     0.579750   \n",
       "12                                     0.373700   \n",
       "13                                     1.551366   \n",
       "14                                     1.226521   \n",
       "15                                     0.616697   \n",
       "\n",
       "    Consumo Humano - Fresco - Jurel  Consumo Humano - Fresco - Liza  \\\n",
       "0                         56.167940                        5.875600   \n",
       "1                        136.827000                        3.166000   \n",
       "2                        134.887316                        9.317622   \n",
       "3                         80.092885                       14.514054   \n",
       "4                         47.079175                       17.311344   \n",
       "5                         10.404933                        9.706363   \n",
       "6                         72.955117                       12.124808   \n",
       "7                         72.930470                       17.162420   \n",
       "8                         54.454541                       12.530821   \n",
       "9                         46.346459                       12.248670   \n",
       "10                        17.536930                       12.463520   \n",
       "11                        12.472050                       15.757580   \n",
       "12                         6.889530                       29.061740   \n",
       "13                        14.720969                       23.326310   \n",
       "14                        40.798701                       24.029820   \n",
       "15                        48.115810                       14.992172   \n",
       "\n",
       "    Consumo Humano - Fresco - Tollo  total_production  \n",
       "0                          0.430000       9030.413620  \n",
       "1                          1.584000       6646.923000  \n",
       "2                          2.834958       6790.849328  \n",
       "3                          2.933360       6909.715000  \n",
       "4                          4.057886       6394.982610  \n",
       "5                          4.994712       3810.729233  \n",
       "6                          5.687520       7719.283666  \n",
       "7                          4.235380       4383.587990  \n",
       "8                          3.945647       5418.515737  \n",
       "9                          5.206880       2932.865039  \n",
       "10                         7.717680       4178.338296  \n",
       "11                         9.453130       3151.244230  \n",
       "12                         6.692660       3577.546190  \n",
       "13                         3.672117       6595.587183  \n",
       "14                         1.241883       4122.621249  \n",
       "15                         0.544585       4943.295762  "
      ]
     },
     "execution_count": 120,
     "metadata": {},
     "output_type": "execute_result"
    }
   ],
   "source": [
    "extraction_fish"
   ]
  },
  {
   "cell_type": "code",
   "execution_count": 122,
   "metadata": {},
   "outputs": [
    {
     "data": {
      "text/html": [
       "<div>\n",
       "<style scoped>\n",
       "    .dataframe tbody tr th:only-of-type {\n",
       "        vertical-align: middle;\n",
       "    }\n",
       "\n",
       "    .dataframe tbody tr th {\n",
       "        vertical-align: top;\n",
       "    }\n",
       "\n",
       "    .dataframe thead th {\n",
       "        text-align: right;\n",
       "    }\n",
       "</style>\n",
       "<table border=\"1\" class=\"dataframe\">\n",
       "  <thead>\n",
       "    <tr style=\"text-align: right;\">\n",
       "      <th></th>\n",
       "      <th>year</th>\n",
       "      <th>Consumo Industrial - Anchoveta</th>\n",
       "      <th>Consumo Humano - Congelado - Concha de abanico</th>\n",
       "      <th>Consumo Humano - Congelado - Langostino</th>\n",
       "      <th>Consumo Humano - Congelado - Merluza</th>\n",
       "      <th>Consumo Humano - Congelado - Calamar gigante</th>\n",
       "      <th>Consumo Humano - Conservas - Atún</th>\n",
       "      <th>Consumo Humano - Conservas - Caballa</th>\n",
       "      <th>Consumo Humano - Conservas - Jurel</th>\n",
       "      <th>Consumo Humano - Conservas - Sardina</th>\n",
       "      <th>Consumo Humano - Fresco - Concha de abanico</th>\n",
       "      <th>Consumo Humano - Fresco - Jurel</th>\n",
       "      <th>Consumo Humano - Fresco - Liza</th>\n",
       "      <th>Consumo Humano - Fresco - Tollo</th>\n",
       "      <th>total_production</th>\n",
       "    </tr>\n",
       "  </thead>\n",
       "  <tbody>\n",
       "    <tr>\n",
       "      <th>0</th>\n",
       "      <td>2005</td>\n",
       "      <td>8628.39600</td>\n",
       "      <td>13.537000</td>\n",
       "      <td>9.021000</td>\n",
       "      <td>23.279000</td>\n",
       "      <td>235.630000</td>\n",
       "      <td>9.877000</td>\n",
       "      <td>25.711000</td>\n",
       "      <td>20.481000</td>\n",
       "      <td>0.16500</td>\n",
       "      <td>1.843080</td>\n",
       "      <td>56.167940</td>\n",
       "      <td>5.875600</td>\n",
       "      <td>0.430000</td>\n",
       "      <td>9030.413620</td>\n",
       "    </tr>\n",
       "    <tr>\n",
       "      <th>1</th>\n",
       "      <td>2006</td>\n",
       "      <td>5891.83800</td>\n",
       "      <td>14.714000</td>\n",
       "      <td>11.295000</td>\n",
       "      <td>25.189000</td>\n",
       "      <td>365.729000</td>\n",
       "      <td>11.336000</td>\n",
       "      <td>58.245000</td>\n",
       "      <td>122.904000</td>\n",
       "      <td>0.04800</td>\n",
       "      <td>4.048000</td>\n",
       "      <td>136.827000</td>\n",
       "      <td>3.166000</td>\n",
       "      <td>1.584000</td>\n",
       "      <td>6646.923000</td>\n",
       "    </tr>\n",
       "    <tr>\n",
       "      <th>2</th>\n",
       "      <td>2007</td>\n",
       "      <td>6084.71300</td>\n",
       "      <td>19.937000</td>\n",
       "      <td>13.548000</td>\n",
       "      <td>28.358488</td>\n",
       "      <td>379.556594</td>\n",
       "      <td>3.713293</td>\n",
       "      <td>26.248739</td>\n",
       "      <td>82.910307</td>\n",
       "      <td>0.00102</td>\n",
       "      <td>4.822991</td>\n",
       "      <td>134.887316</td>\n",
       "      <td>9.317622</td>\n",
       "      <td>2.834958</td>\n",
       "      <td>6790.849328</td>\n",
       "    </tr>\n",
       "    <tr>\n",
       "      <th>3</th>\n",
       "      <td>2008</td>\n",
       "      <td>6159.38700</td>\n",
       "      <td>18.790000</td>\n",
       "      <td>12.817000</td>\n",
       "      <td>26.348398</td>\n",
       "      <td>484.162082</td>\n",
       "      <td>3.283711</td>\n",
       "      <td>47.694121</td>\n",
       "      <td>58.864202</td>\n",
       "      <td>0.00000</td>\n",
       "      <td>0.828187</td>\n",
       "      <td>80.092885</td>\n",
       "      <td>14.514054</td>\n",
       "      <td>2.933360</td>\n",
       "      <td>6909.715000</td>\n",
       "    </tr>\n",
       "    <tr>\n",
       "      <th>4</th>\n",
       "      <td>2009</td>\n",
       "      <td>5828.63600</td>\n",
       "      <td>24.634372</td>\n",
       "      <td>11.877399</td>\n",
       "      <td>36.774763</td>\n",
       "      <td>355.106589</td>\n",
       "      <td>2.017061</td>\n",
       "      <td>51.355908</td>\n",
       "      <td>14.289041</td>\n",
       "      <td>0.00000</td>\n",
       "      <td>1.843072</td>\n",
       "      <td>47.079175</td>\n",
       "      <td>17.311344</td>\n",
       "      <td>4.057886</td>\n",
       "      <td>6394.982610</td>\n",
       "    </tr>\n",
       "    <tr>\n",
       "      <th>5</th>\n",
       "      <td>2010</td>\n",
       "      <td>3330.41304</td>\n",
       "      <td>60.001250</td>\n",
       "      <td>14.477939</td>\n",
       "      <td>25.647697</td>\n",
       "      <td>327.571909</td>\n",
       "      <td>9.182845</td>\n",
       "      <td>9.729522</td>\n",
       "      <td>5.774274</td>\n",
       "      <td>0.00000</td>\n",
       "      <td>2.824749</td>\n",
       "      <td>10.404933</td>\n",
       "      <td>9.706363</td>\n",
       "      <td>4.994712</td>\n",
       "      <td>3810.729233</td>\n",
       "    </tr>\n",
       "  </tbody>\n",
       "</table>\n",
       "</div>"
      ],
      "text/plain": [
       "   year  Consumo Industrial - Anchoveta  \\\n",
       "0  2005                      8628.39600   \n",
       "1  2006                      5891.83800   \n",
       "2  2007                      6084.71300   \n",
       "3  2008                      6159.38700   \n",
       "4  2009                      5828.63600   \n",
       "5  2010                      3330.41304   \n",
       "\n",
       "   Consumo Humano - Congelado - Concha de abanico  \\\n",
       "0                                       13.537000   \n",
       "1                                       14.714000   \n",
       "2                                       19.937000   \n",
       "3                                       18.790000   \n",
       "4                                       24.634372   \n",
       "5                                       60.001250   \n",
       "\n",
       "   Consumo Humano - Congelado - Langostino  \\\n",
       "0                                 9.021000   \n",
       "1                                11.295000   \n",
       "2                                13.548000   \n",
       "3                                12.817000   \n",
       "4                                11.877399   \n",
       "5                                14.477939   \n",
       "\n",
       "   Consumo Humano - Congelado - Merluza  \\\n",
       "0                             23.279000   \n",
       "1                             25.189000   \n",
       "2                             28.358488   \n",
       "3                             26.348398   \n",
       "4                             36.774763   \n",
       "5                             25.647697   \n",
       "\n",
       "   Consumo Humano - Congelado - Calamar gigante  \\\n",
       "0                                    235.630000   \n",
       "1                                    365.729000   \n",
       "2                                    379.556594   \n",
       "3                                    484.162082   \n",
       "4                                    355.106589   \n",
       "5                                    327.571909   \n",
       "\n",
       "   Consumo Humano - Conservas - Atún  Consumo Humano - Conservas - Caballa  \\\n",
       "0                           9.877000                             25.711000   \n",
       "1                          11.336000                             58.245000   \n",
       "2                           3.713293                             26.248739   \n",
       "3                           3.283711                             47.694121   \n",
       "4                           2.017061                             51.355908   \n",
       "5                           9.182845                              9.729522   \n",
       "\n",
       "   Consumo Humano - Conservas - Jurel  Consumo Humano - Conservas - Sardina  \\\n",
       "0                           20.481000                               0.16500   \n",
       "1                          122.904000                               0.04800   \n",
       "2                           82.910307                               0.00102   \n",
       "3                           58.864202                               0.00000   \n",
       "4                           14.289041                               0.00000   \n",
       "5                            5.774274                               0.00000   \n",
       "\n",
       "   Consumo Humano - Fresco - Concha de abanico  \\\n",
       "0                                     1.843080   \n",
       "1                                     4.048000   \n",
       "2                                     4.822991   \n",
       "3                                     0.828187   \n",
       "4                                     1.843072   \n",
       "5                                     2.824749   \n",
       "\n",
       "   Consumo Humano - Fresco - Jurel  Consumo Humano - Fresco - Liza  \\\n",
       "0                        56.167940                        5.875600   \n",
       "1                       136.827000                        3.166000   \n",
       "2                       134.887316                        9.317622   \n",
       "3                        80.092885                       14.514054   \n",
       "4                        47.079175                       17.311344   \n",
       "5                        10.404933                        9.706363   \n",
       "\n",
       "   Consumo Humano - Fresco - Tollo  total_production  \n",
       "0                         0.430000       9030.413620  \n",
       "1                         1.584000       6646.923000  \n",
       "2                         2.834958       6790.849328  \n",
       "3                         2.933360       6909.715000  \n",
       "4                         4.057886       6394.982610  \n",
       "5                         4.994712       3810.729233  "
      ]
     },
     "execution_count": 122,
     "metadata": {},
     "output_type": "execute_result"
    }
   ],
   "source": [
    "extraction_fish.iloc[ 0:6, : ]"
   ]
  },
  {
   "cell_type": "code",
   "execution_count": 125,
   "metadata": {},
   "outputs": [
    {
     "data": {
      "text/html": [
       "<div>\n",
       "<style scoped>\n",
       "    .dataframe tbody tr th:only-of-type {\n",
       "        vertical-align: middle;\n",
       "    }\n",
       "\n",
       "    .dataframe tbody tr th {\n",
       "        vertical-align: top;\n",
       "    }\n",
       "\n",
       "    .dataframe thead th {\n",
       "        text-align: right;\n",
       "    }\n",
       "</style>\n",
       "<table border=\"1\" class=\"dataframe\">\n",
       "  <thead>\n",
       "    <tr style=\"text-align: right;\">\n",
       "      <th></th>\n",
       "      <th>year</th>\n",
       "      <th>Consumo Industrial - Anchoveta</th>\n",
       "      <th>Consumo Humano - Congelado - Concha de abanico</th>\n",
       "      <th>Consumo Humano - Congelado - Langostino</th>\n",
       "      <th>Consumo Humano - Congelado - Merluza</th>\n",
       "      <th>Consumo Humano - Congelado - Calamar gigante</th>\n",
       "      <th>Consumo Humano - Conservas - Atún</th>\n",
       "      <th>Consumo Humano - Conservas - Caballa</th>\n",
       "      <th>Consumo Humano - Conservas - Jurel</th>\n",
       "      <th>Consumo Humano - Conservas - Sardina</th>\n",
       "      <th>Consumo Humano - Fresco - Concha de abanico</th>\n",
       "      <th>Consumo Humano - Fresco - Jurel</th>\n",
       "      <th>Consumo Humano - Fresco - Liza</th>\n",
       "      <th>Consumo Humano - Fresco - Tollo</th>\n",
       "      <th>total_production</th>\n",
       "    </tr>\n",
       "  </thead>\n",
       "  <tbody>\n",
       "    <tr>\n",
       "      <th>3</th>\n",
       "      <td>2008</td>\n",
       "      <td>6159.387000</td>\n",
       "      <td>18.790000</td>\n",
       "      <td>12.817000</td>\n",
       "      <td>26.348398</td>\n",
       "      <td>484.162082</td>\n",
       "      <td>3.283711</td>\n",
       "      <td>47.694121</td>\n",
       "      <td>58.864202</td>\n",
       "      <td>0.000000</td>\n",
       "      <td>0.828187</td>\n",
       "      <td>80.092885</td>\n",
       "      <td>14.514054</td>\n",
       "      <td>2.933360</td>\n",
       "      <td>6909.715000</td>\n",
       "    </tr>\n",
       "    <tr>\n",
       "      <th>4</th>\n",
       "      <td>2009</td>\n",
       "      <td>5828.636000</td>\n",
       "      <td>24.634372</td>\n",
       "      <td>11.877399</td>\n",
       "      <td>36.774763</td>\n",
       "      <td>355.106589</td>\n",
       "      <td>2.017061</td>\n",
       "      <td>51.355908</td>\n",
       "      <td>14.289041</td>\n",
       "      <td>0.000000</td>\n",
       "      <td>1.843072</td>\n",
       "      <td>47.079175</td>\n",
       "      <td>17.311344</td>\n",
       "      <td>4.057886</td>\n",
       "      <td>6394.982610</td>\n",
       "    </tr>\n",
       "    <tr>\n",
       "      <th>5</th>\n",
       "      <td>2010</td>\n",
       "      <td>3330.413040</td>\n",
       "      <td>60.001250</td>\n",
       "      <td>14.477939</td>\n",
       "      <td>25.647697</td>\n",
       "      <td>327.571909</td>\n",
       "      <td>9.182845</td>\n",
       "      <td>9.729522</td>\n",
       "      <td>5.774274</td>\n",
       "      <td>0.000000</td>\n",
       "      <td>2.824749</td>\n",
       "      <td>10.404933</td>\n",
       "      <td>9.706363</td>\n",
       "      <td>4.994712</td>\n",
       "      <td>3810.729233</td>\n",
       "    </tr>\n",
       "    <tr>\n",
       "      <th>6</th>\n",
       "      <td>2011</td>\n",
       "      <td>7000.092781</td>\n",
       "      <td>92.027637</td>\n",
       "      <td>23.384478</td>\n",
       "      <td>28.544458</td>\n",
       "      <td>373.195661</td>\n",
       "      <td>6.586856</td>\n",
       "      <td>20.478814</td>\n",
       "      <td>83.277943</td>\n",
       "      <td>0.054463</td>\n",
       "      <td>0.873130</td>\n",
       "      <td>72.955117</td>\n",
       "      <td>12.124808</td>\n",
       "      <td>5.687520</td>\n",
       "      <td>7719.283666</td>\n",
       "    </tr>\n",
       "    <tr>\n",
       "      <th>7</th>\n",
       "      <td>2012</td>\n",
       "      <td>3693.871080</td>\n",
       "      <td>38.933390</td>\n",
       "      <td>22.707220</td>\n",
       "      <td>21.054780</td>\n",
       "      <td>457.072670</td>\n",
       "      <td>1.115060</td>\n",
       "      <td>9.978510</td>\n",
       "      <td>43.693940</td>\n",
       "      <td>0.088460</td>\n",
       "      <td>0.744610</td>\n",
       "      <td>72.930470</td>\n",
       "      <td>17.162420</td>\n",
       "      <td>4.235380</td>\n",
       "      <td>4383.587990</td>\n",
       "    </tr>\n",
       "    <tr>\n",
       "      <th>8</th>\n",
       "      <td>2013</td>\n",
       "      <td>4754.118210</td>\n",
       "      <td>89.293284</td>\n",
       "      <td>19.111372</td>\n",
       "      <td>31.187461</td>\n",
       "      <td>410.759534</td>\n",
       "      <td>7.136436</td>\n",
       "      <td>26.600553</td>\n",
       "      <td>7.197624</td>\n",
       "      <td>0.000000</td>\n",
       "      <td>2.180252</td>\n",
       "      <td>54.454541</td>\n",
       "      <td>12.530821</td>\n",
       "      <td>3.945647</td>\n",
       "      <td>5418.515737</td>\n",
       "    </tr>\n",
       "  </tbody>\n",
       "</table>\n",
       "</div>"
      ],
      "text/plain": [
       "   year  Consumo Industrial - Anchoveta  \\\n",
       "3  2008                     6159.387000   \n",
       "4  2009                     5828.636000   \n",
       "5  2010                     3330.413040   \n",
       "6  2011                     7000.092781   \n",
       "7  2012                     3693.871080   \n",
       "8  2013                     4754.118210   \n",
       "\n",
       "   Consumo Humano - Congelado - Concha de abanico  \\\n",
       "3                                       18.790000   \n",
       "4                                       24.634372   \n",
       "5                                       60.001250   \n",
       "6                                       92.027637   \n",
       "7                                       38.933390   \n",
       "8                                       89.293284   \n",
       "\n",
       "   Consumo Humano - Congelado - Langostino  \\\n",
       "3                                12.817000   \n",
       "4                                11.877399   \n",
       "5                                14.477939   \n",
       "6                                23.384478   \n",
       "7                                22.707220   \n",
       "8                                19.111372   \n",
       "\n",
       "   Consumo Humano - Congelado - Merluza  \\\n",
       "3                             26.348398   \n",
       "4                             36.774763   \n",
       "5                             25.647697   \n",
       "6                             28.544458   \n",
       "7                             21.054780   \n",
       "8                             31.187461   \n",
       "\n",
       "   Consumo Humano - Congelado - Calamar gigante  \\\n",
       "3                                    484.162082   \n",
       "4                                    355.106589   \n",
       "5                                    327.571909   \n",
       "6                                    373.195661   \n",
       "7                                    457.072670   \n",
       "8                                    410.759534   \n",
       "\n",
       "   Consumo Humano - Conservas - Atún  Consumo Humano - Conservas - Caballa  \\\n",
       "3                           3.283711                             47.694121   \n",
       "4                           2.017061                             51.355908   \n",
       "5                           9.182845                              9.729522   \n",
       "6                           6.586856                             20.478814   \n",
       "7                           1.115060                              9.978510   \n",
       "8                           7.136436                             26.600553   \n",
       "\n",
       "   Consumo Humano - Conservas - Jurel  Consumo Humano - Conservas - Sardina  \\\n",
       "3                           58.864202                              0.000000   \n",
       "4                           14.289041                              0.000000   \n",
       "5                            5.774274                              0.000000   \n",
       "6                           83.277943                              0.054463   \n",
       "7                           43.693940                              0.088460   \n",
       "8                            7.197624                              0.000000   \n",
       "\n",
       "   Consumo Humano - Fresco - Concha de abanico  \\\n",
       "3                                     0.828187   \n",
       "4                                     1.843072   \n",
       "5                                     2.824749   \n",
       "6                                     0.873130   \n",
       "7                                     0.744610   \n",
       "8                                     2.180252   \n",
       "\n",
       "   Consumo Humano - Fresco - Jurel  Consumo Humano - Fresco - Liza  \\\n",
       "3                        80.092885                       14.514054   \n",
       "4                        47.079175                       17.311344   \n",
       "5                        10.404933                        9.706363   \n",
       "6                        72.955117                       12.124808   \n",
       "7                        72.930470                       17.162420   \n",
       "8                        54.454541                       12.530821   \n",
       "\n",
       "   Consumo Humano - Fresco - Tollo  total_production  \n",
       "3                         2.933360       6909.715000  \n",
       "4                         4.057886       6394.982610  \n",
       "5                         4.994712       3810.729233  \n",
       "6                         5.687520       7719.283666  \n",
       "7                         4.235380       4383.587990  \n",
       "8                         3.945647       5418.515737  "
      ]
     },
     "execution_count": 125,
     "metadata": {},
     "output_type": "execute_result"
    }
   ],
   "source": [
    "extraction_fish.iloc[ 3:9, : ]"
   ]
  },
  {
   "cell_type": "code",
   "execution_count": 140,
   "metadata": {},
   "outputs": [
    {
     "data": {
      "text/plain": [
       "Int64Index([4], dtype='int64')"
      ]
     },
     "execution_count": 140,
     "metadata": {},
     "output_type": "execute_result"
    }
   ],
   "source": [
    "extraction_fish[extraction_fish.year==2009].index[0]"
   ]
  },
  {
   "cell_type": "code",
   "execution_count": 158,
   "metadata": {},
   "outputs": [],
   "source": [
    "year_init = extraction_fish[extraction_fish.year == 2009].index[0]\n",
    "year_end = extraction_fish[extraction_fish.year == 2015].index[0]\n",
    "extraction_fish.iloc[ year_init:year_end+1, : ]"
   ]
  },
  {
   "cell_type": "code",
   "execution_count": 159,
   "metadata": {},
   "outputs": [
    {
     "data": {
      "text/html": [
       "<div>\n",
       "<style scoped>\n",
       "    .dataframe tbody tr th:only-of-type {\n",
       "        vertical-align: middle;\n",
       "    }\n",
       "\n",
       "    .dataframe tbody tr th {\n",
       "        vertical-align: top;\n",
       "    }\n",
       "\n",
       "    .dataframe thead th {\n",
       "        text-align: right;\n",
       "    }\n",
       "</style>\n",
       "<table border=\"1\" class=\"dataframe\">\n",
       "  <thead>\n",
       "    <tr style=\"text-align: right;\">\n",
       "      <th></th>\n",
       "      <th>year</th>\n",
       "      <th>Consumo Industrial - Anchoveta</th>\n",
       "      <th>Consumo Humano - Congelado - Concha de abanico</th>\n",
       "      <th>Consumo Humano - Congelado - Langostino</th>\n",
       "      <th>Consumo Humano - Congelado - Merluza</th>\n",
       "      <th>Consumo Humano - Congelado - Calamar gigante</th>\n",
       "      <th>Consumo Humano - Conservas - Atún</th>\n",
       "      <th>Consumo Humano - Conservas - Caballa</th>\n",
       "      <th>Consumo Humano - Conservas - Jurel</th>\n",
       "      <th>Consumo Humano - Conservas - Sardina</th>\n",
       "      <th>Consumo Humano - Fresco - Concha de abanico</th>\n",
       "      <th>Consumo Humano - Fresco - Jurel</th>\n",
       "      <th>Consumo Humano - Fresco - Liza</th>\n",
       "      <th>Consumo Humano - Fresco - Tollo</th>\n",
       "      <th>total_production</th>\n",
       "    </tr>\n",
       "  </thead>\n",
       "  <tbody>\n",
       "    <tr>\n",
       "      <th>4</th>\n",
       "      <td>2009</td>\n",
       "      <td>5828.636000</td>\n",
       "      <td>24.634372</td>\n",
       "      <td>11.877399</td>\n",
       "      <td>36.774763</td>\n",
       "      <td>355.106589</td>\n",
       "      <td>2.017061</td>\n",
       "      <td>51.355908</td>\n",
       "      <td>14.289041</td>\n",
       "      <td>0.000000</td>\n",
       "      <td>1.843072</td>\n",
       "      <td>47.079175</td>\n",
       "      <td>17.311344</td>\n",
       "      <td>4.057886</td>\n",
       "      <td>6394.982610</td>\n",
       "    </tr>\n",
       "    <tr>\n",
       "      <th>5</th>\n",
       "      <td>2010</td>\n",
       "      <td>3330.413040</td>\n",
       "      <td>60.001250</td>\n",
       "      <td>14.477939</td>\n",
       "      <td>25.647697</td>\n",
       "      <td>327.571909</td>\n",
       "      <td>9.182845</td>\n",
       "      <td>9.729522</td>\n",
       "      <td>5.774274</td>\n",
       "      <td>0.000000</td>\n",
       "      <td>2.824749</td>\n",
       "      <td>10.404933</td>\n",
       "      <td>9.706363</td>\n",
       "      <td>4.994712</td>\n",
       "      <td>3810.729233</td>\n",
       "    </tr>\n",
       "    <tr>\n",
       "      <th>6</th>\n",
       "      <td>2011</td>\n",
       "      <td>7000.092781</td>\n",
       "      <td>92.027637</td>\n",
       "      <td>23.384478</td>\n",
       "      <td>28.544458</td>\n",
       "      <td>373.195661</td>\n",
       "      <td>6.586856</td>\n",
       "      <td>20.478814</td>\n",
       "      <td>83.277943</td>\n",
       "      <td>0.054463</td>\n",
       "      <td>0.873130</td>\n",
       "      <td>72.955117</td>\n",
       "      <td>12.124808</td>\n",
       "      <td>5.687520</td>\n",
       "      <td>7719.283666</td>\n",
       "    </tr>\n",
       "    <tr>\n",
       "      <th>7</th>\n",
       "      <td>2012</td>\n",
       "      <td>3693.871080</td>\n",
       "      <td>38.933390</td>\n",
       "      <td>22.707220</td>\n",
       "      <td>21.054780</td>\n",
       "      <td>457.072670</td>\n",
       "      <td>1.115060</td>\n",
       "      <td>9.978510</td>\n",
       "      <td>43.693940</td>\n",
       "      <td>0.088460</td>\n",
       "      <td>0.744610</td>\n",
       "      <td>72.930470</td>\n",
       "      <td>17.162420</td>\n",
       "      <td>4.235380</td>\n",
       "      <td>4383.587990</td>\n",
       "    </tr>\n",
       "    <tr>\n",
       "      <th>8</th>\n",
       "      <td>2013</td>\n",
       "      <td>4754.118210</td>\n",
       "      <td>89.293284</td>\n",
       "      <td>19.111372</td>\n",
       "      <td>31.187461</td>\n",
       "      <td>410.759534</td>\n",
       "      <td>7.136436</td>\n",
       "      <td>26.600553</td>\n",
       "      <td>7.197624</td>\n",
       "      <td>0.000000</td>\n",
       "      <td>2.180252</td>\n",
       "      <td>54.454541</td>\n",
       "      <td>12.530821</td>\n",
       "      <td>3.945647</td>\n",
       "      <td>5418.515737</td>\n",
       "    </tr>\n",
       "    <tr>\n",
       "      <th>9</th>\n",
       "      <td>2014</td>\n",
       "      <td>2255.453460</td>\n",
       "      <td>52.266500</td>\n",
       "      <td>21.762990</td>\n",
       "      <td>30.770800</td>\n",
       "      <td>465.007580</td>\n",
       "      <td>4.734540</td>\n",
       "      <td>29.576440</td>\n",
       "      <td>8.882560</td>\n",
       "      <td>0.000000</td>\n",
       "      <td>0.608160</td>\n",
       "      <td>46.346459</td>\n",
       "      <td>12.248670</td>\n",
       "      <td>5.206880</td>\n",
       "      <td>2932.865039</td>\n",
       "    </tr>\n",
       "    <tr>\n",
       "      <th>10</th>\n",
       "      <td>2015</td>\n",
       "      <td>3616.481500</td>\n",
       "      <td>14.843150</td>\n",
       "      <td>26.772210</td>\n",
       "      <td>25.644130</td>\n",
       "      <td>426.932300</td>\n",
       "      <td>11.082120</td>\n",
       "      <td>15.314910</td>\n",
       "      <td>2.769796</td>\n",
       "      <td>0.164140</td>\n",
       "      <td>0.615910</td>\n",
       "      <td>17.536930</td>\n",
       "      <td>12.463520</td>\n",
       "      <td>7.717680</td>\n",
       "      <td>4178.338296</td>\n",
       "    </tr>\n",
       "  </tbody>\n",
       "</table>\n",
       "</div>"
      ],
      "text/plain": [
       "    year  Consumo Industrial - Anchoveta  \\\n",
       "4   2009                     5828.636000   \n",
       "5   2010                     3330.413040   \n",
       "6   2011                     7000.092781   \n",
       "7   2012                     3693.871080   \n",
       "8   2013                     4754.118210   \n",
       "9   2014                     2255.453460   \n",
       "10  2015                     3616.481500   \n",
       "\n",
       "    Consumo Humano - Congelado - Concha de abanico  \\\n",
       "4                                        24.634372   \n",
       "5                                        60.001250   \n",
       "6                                        92.027637   \n",
       "7                                        38.933390   \n",
       "8                                        89.293284   \n",
       "9                                        52.266500   \n",
       "10                                       14.843150   \n",
       "\n",
       "    Consumo Humano - Congelado - Langostino  \\\n",
       "4                                 11.877399   \n",
       "5                                 14.477939   \n",
       "6                                 23.384478   \n",
       "7                                 22.707220   \n",
       "8                                 19.111372   \n",
       "9                                 21.762990   \n",
       "10                                26.772210   \n",
       "\n",
       "    Consumo Humano - Congelado - Merluza  \\\n",
       "4                              36.774763   \n",
       "5                              25.647697   \n",
       "6                              28.544458   \n",
       "7                              21.054780   \n",
       "8                              31.187461   \n",
       "9                              30.770800   \n",
       "10                             25.644130   \n",
       "\n",
       "    Consumo Humano - Congelado - Calamar gigante  \\\n",
       "4                                     355.106589   \n",
       "5                                     327.571909   \n",
       "6                                     373.195661   \n",
       "7                                     457.072670   \n",
       "8                                     410.759534   \n",
       "9                                     465.007580   \n",
       "10                                    426.932300   \n",
       "\n",
       "    Consumo Humano - Conservas - Atún  Consumo Humano - Conservas - Caballa  \\\n",
       "4                            2.017061                             51.355908   \n",
       "5                            9.182845                              9.729522   \n",
       "6                            6.586856                             20.478814   \n",
       "7                            1.115060                              9.978510   \n",
       "8                            7.136436                             26.600553   \n",
       "9                            4.734540                             29.576440   \n",
       "10                          11.082120                             15.314910   \n",
       "\n",
       "    Consumo Humano - Conservas - Jurel  Consumo Humano - Conservas - Sardina  \\\n",
       "4                            14.289041                              0.000000   \n",
       "5                             5.774274                              0.000000   \n",
       "6                            83.277943                              0.054463   \n",
       "7                            43.693940                              0.088460   \n",
       "8                             7.197624                              0.000000   \n",
       "9                             8.882560                              0.000000   \n",
       "10                            2.769796                              0.164140   \n",
       "\n",
       "    Consumo Humano - Fresco - Concha de abanico  \\\n",
       "4                                      1.843072   \n",
       "5                                      2.824749   \n",
       "6                                      0.873130   \n",
       "7                                      0.744610   \n",
       "8                                      2.180252   \n",
       "9                                      0.608160   \n",
       "10                                     0.615910   \n",
       "\n",
       "    Consumo Humano - Fresco - Jurel  Consumo Humano - Fresco - Liza  \\\n",
       "4                         47.079175                       17.311344   \n",
       "5                         10.404933                        9.706363   \n",
       "6                         72.955117                       12.124808   \n",
       "7                         72.930470                       17.162420   \n",
       "8                         54.454541                       12.530821   \n",
       "9                         46.346459                       12.248670   \n",
       "10                        17.536930                       12.463520   \n",
       "\n",
       "    Consumo Humano - Fresco - Tollo  total_production  \n",
       "4                          4.057886       6394.982610  \n",
       "5                          4.994712       3810.729233  \n",
       "6                          5.687520       7719.283666  \n",
       "7                          4.235380       4383.587990  \n",
       "8                          3.945647       5418.515737  \n",
       "9                          5.206880       2932.865039  \n",
       "10                         7.717680       4178.338296  "
      ]
     },
     "execution_count": 159,
     "metadata": {},
     "output_type": "execute_result"
    }
   ],
   "source": []
  },
  {
   "cell_type": "code",
   "execution_count": 144,
   "metadata": {},
   "outputs": [],
   "source": [
    "year_init = extraction_fish[extraction_fish.year==2009].index[0]"
   ]
  },
  {
   "cell_type": "code",
   "execution_count": 145,
   "metadata": {},
   "outputs": [],
   "source": [
    "year_end =  extraction_fish[extraction_fish.year==2015].index[0]"
   ]
  },
  {
   "cell_type": "code",
   "execution_count": 146,
   "metadata": {},
   "outputs": [
    {
     "data": {
      "text/html": [
       "<div>\n",
       "<style scoped>\n",
       "    .dataframe tbody tr th:only-of-type {\n",
       "        vertical-align: middle;\n",
       "    }\n",
       "\n",
       "    .dataframe tbody tr th {\n",
       "        vertical-align: top;\n",
       "    }\n",
       "\n",
       "    .dataframe thead th {\n",
       "        text-align: right;\n",
       "    }\n",
       "</style>\n",
       "<table border=\"1\" class=\"dataframe\">\n",
       "  <thead>\n",
       "    <tr style=\"text-align: right;\">\n",
       "      <th></th>\n",
       "      <th>year</th>\n",
       "      <th>Consumo Industrial - Anchoveta</th>\n",
       "      <th>Consumo Humano - Congelado - Concha de abanico</th>\n",
       "      <th>Consumo Humano - Congelado - Langostino</th>\n",
       "      <th>Consumo Humano - Congelado - Merluza</th>\n",
       "      <th>Consumo Humano - Congelado - Calamar gigante</th>\n",
       "      <th>Consumo Humano - Conservas - Atún</th>\n",
       "      <th>Consumo Humano - Conservas - Caballa</th>\n",
       "      <th>Consumo Humano - Conservas - Jurel</th>\n",
       "      <th>Consumo Humano - Conservas - Sardina</th>\n",
       "      <th>Consumo Humano - Fresco - Concha de abanico</th>\n",
       "      <th>Consumo Humano - Fresco - Jurel</th>\n",
       "      <th>Consumo Humano - Fresco - Liza</th>\n",
       "      <th>Consumo Humano - Fresco - Tollo</th>\n",
       "      <th>total_production</th>\n",
       "    </tr>\n",
       "  </thead>\n",
       "  <tbody>\n",
       "    <tr>\n",
       "      <th>4</th>\n",
       "      <td>2009</td>\n",
       "      <td>5828.636000</td>\n",
       "      <td>24.634372</td>\n",
       "      <td>11.877399</td>\n",
       "      <td>36.774763</td>\n",
       "      <td>355.106589</td>\n",
       "      <td>2.017061</td>\n",
       "      <td>51.355908</td>\n",
       "      <td>14.289041</td>\n",
       "      <td>0.000000</td>\n",
       "      <td>1.843072</td>\n",
       "      <td>47.079175</td>\n",
       "      <td>17.311344</td>\n",
       "      <td>4.057886</td>\n",
       "      <td>6394.982610</td>\n",
       "    </tr>\n",
       "    <tr>\n",
       "      <th>5</th>\n",
       "      <td>2010</td>\n",
       "      <td>3330.413040</td>\n",
       "      <td>60.001250</td>\n",
       "      <td>14.477939</td>\n",
       "      <td>25.647697</td>\n",
       "      <td>327.571909</td>\n",
       "      <td>9.182845</td>\n",
       "      <td>9.729522</td>\n",
       "      <td>5.774274</td>\n",
       "      <td>0.000000</td>\n",
       "      <td>2.824749</td>\n",
       "      <td>10.404933</td>\n",
       "      <td>9.706363</td>\n",
       "      <td>4.994712</td>\n",
       "      <td>3810.729233</td>\n",
       "    </tr>\n",
       "    <tr>\n",
       "      <th>6</th>\n",
       "      <td>2011</td>\n",
       "      <td>7000.092781</td>\n",
       "      <td>92.027637</td>\n",
       "      <td>23.384478</td>\n",
       "      <td>28.544458</td>\n",
       "      <td>373.195661</td>\n",
       "      <td>6.586856</td>\n",
       "      <td>20.478814</td>\n",
       "      <td>83.277943</td>\n",
       "      <td>0.054463</td>\n",
       "      <td>0.873130</td>\n",
       "      <td>72.955117</td>\n",
       "      <td>12.124808</td>\n",
       "      <td>5.687520</td>\n",
       "      <td>7719.283666</td>\n",
       "    </tr>\n",
       "    <tr>\n",
       "      <th>7</th>\n",
       "      <td>2012</td>\n",
       "      <td>3693.871080</td>\n",
       "      <td>38.933390</td>\n",
       "      <td>22.707220</td>\n",
       "      <td>21.054780</td>\n",
       "      <td>457.072670</td>\n",
       "      <td>1.115060</td>\n",
       "      <td>9.978510</td>\n",
       "      <td>43.693940</td>\n",
       "      <td>0.088460</td>\n",
       "      <td>0.744610</td>\n",
       "      <td>72.930470</td>\n",
       "      <td>17.162420</td>\n",
       "      <td>4.235380</td>\n",
       "      <td>4383.587990</td>\n",
       "    </tr>\n",
       "    <tr>\n",
       "      <th>8</th>\n",
       "      <td>2013</td>\n",
       "      <td>4754.118210</td>\n",
       "      <td>89.293284</td>\n",
       "      <td>19.111372</td>\n",
       "      <td>31.187461</td>\n",
       "      <td>410.759534</td>\n",
       "      <td>7.136436</td>\n",
       "      <td>26.600553</td>\n",
       "      <td>7.197624</td>\n",
       "      <td>0.000000</td>\n",
       "      <td>2.180252</td>\n",
       "      <td>54.454541</td>\n",
       "      <td>12.530821</td>\n",
       "      <td>3.945647</td>\n",
       "      <td>5418.515737</td>\n",
       "    </tr>\n",
       "    <tr>\n",
       "      <th>9</th>\n",
       "      <td>2014</td>\n",
       "      <td>2255.453460</td>\n",
       "      <td>52.266500</td>\n",
       "      <td>21.762990</td>\n",
       "      <td>30.770800</td>\n",
       "      <td>465.007580</td>\n",
       "      <td>4.734540</td>\n",
       "      <td>29.576440</td>\n",
       "      <td>8.882560</td>\n",
       "      <td>0.000000</td>\n",
       "      <td>0.608160</td>\n",
       "      <td>46.346459</td>\n",
       "      <td>12.248670</td>\n",
       "      <td>5.206880</td>\n",
       "      <td>2932.865039</td>\n",
       "    </tr>\n",
       "    <tr>\n",
       "      <th>10</th>\n",
       "      <td>2015</td>\n",
       "      <td>3616.481500</td>\n",
       "      <td>14.843150</td>\n",
       "      <td>26.772210</td>\n",
       "      <td>25.644130</td>\n",
       "      <td>426.932300</td>\n",
       "      <td>11.082120</td>\n",
       "      <td>15.314910</td>\n",
       "      <td>2.769796</td>\n",
       "      <td>0.164140</td>\n",
       "      <td>0.615910</td>\n",
       "      <td>17.536930</td>\n",
       "      <td>12.463520</td>\n",
       "      <td>7.717680</td>\n",
       "      <td>4178.338296</td>\n",
       "    </tr>\n",
       "  </tbody>\n",
       "</table>\n",
       "</div>"
      ],
      "text/plain": [
       "    year  Consumo Industrial - Anchoveta  \\\n",
       "4   2009                     5828.636000   \n",
       "5   2010                     3330.413040   \n",
       "6   2011                     7000.092781   \n",
       "7   2012                     3693.871080   \n",
       "8   2013                     4754.118210   \n",
       "9   2014                     2255.453460   \n",
       "10  2015                     3616.481500   \n",
       "\n",
       "    Consumo Humano - Congelado - Concha de abanico  \\\n",
       "4                                        24.634372   \n",
       "5                                        60.001250   \n",
       "6                                        92.027637   \n",
       "7                                        38.933390   \n",
       "8                                        89.293284   \n",
       "9                                        52.266500   \n",
       "10                                       14.843150   \n",
       "\n",
       "    Consumo Humano - Congelado - Langostino  \\\n",
       "4                                 11.877399   \n",
       "5                                 14.477939   \n",
       "6                                 23.384478   \n",
       "7                                 22.707220   \n",
       "8                                 19.111372   \n",
       "9                                 21.762990   \n",
       "10                                26.772210   \n",
       "\n",
       "    Consumo Humano - Congelado - Merluza  \\\n",
       "4                              36.774763   \n",
       "5                              25.647697   \n",
       "6                              28.544458   \n",
       "7                              21.054780   \n",
       "8                              31.187461   \n",
       "9                              30.770800   \n",
       "10                             25.644130   \n",
       "\n",
       "    Consumo Humano - Congelado - Calamar gigante  \\\n",
       "4                                     355.106589   \n",
       "5                                     327.571909   \n",
       "6                                     373.195661   \n",
       "7                                     457.072670   \n",
       "8                                     410.759534   \n",
       "9                                     465.007580   \n",
       "10                                    426.932300   \n",
       "\n",
       "    Consumo Humano - Conservas - Atún  Consumo Humano - Conservas - Caballa  \\\n",
       "4                            2.017061                             51.355908   \n",
       "5                            9.182845                              9.729522   \n",
       "6                            6.586856                             20.478814   \n",
       "7                            1.115060                              9.978510   \n",
       "8                            7.136436                             26.600553   \n",
       "9                            4.734540                             29.576440   \n",
       "10                          11.082120                             15.314910   \n",
       "\n",
       "    Consumo Humano - Conservas - Jurel  Consumo Humano - Conservas - Sardina  \\\n",
       "4                            14.289041                              0.000000   \n",
       "5                             5.774274                              0.000000   \n",
       "6                            83.277943                              0.054463   \n",
       "7                            43.693940                              0.088460   \n",
       "8                             7.197624                              0.000000   \n",
       "9                             8.882560                              0.000000   \n",
       "10                            2.769796                              0.164140   \n",
       "\n",
       "    Consumo Humano - Fresco - Concha de abanico  \\\n",
       "4                                      1.843072   \n",
       "5                                      2.824749   \n",
       "6                                      0.873130   \n",
       "7                                      0.744610   \n",
       "8                                      2.180252   \n",
       "9                                      0.608160   \n",
       "10                                     0.615910   \n",
       "\n",
       "    Consumo Humano - Fresco - Jurel  Consumo Humano - Fresco - Liza  \\\n",
       "4                         47.079175                       17.311344   \n",
       "5                         10.404933                        9.706363   \n",
       "6                         72.955117                       12.124808   \n",
       "7                         72.930470                       17.162420   \n",
       "8                         54.454541                       12.530821   \n",
       "9                         46.346459                       12.248670   \n",
       "10                        17.536930                       12.463520   \n",
       "\n",
       "    Consumo Humano - Fresco - Tollo  total_production  \n",
       "4                          4.057886       6394.982610  \n",
       "5                          4.994712       3810.729233  \n",
       "6                          5.687520       7719.283666  \n",
       "7                          4.235380       4383.587990  \n",
       "8                          3.945647       5418.515737  \n",
       "9                          5.206880       2932.865039  \n",
       "10                         7.717680       4178.338296  "
      ]
     },
     "execution_count": 146,
     "metadata": {},
     "output_type": "execute_result"
    }
   ],
   "source": [
    "extraction_fish.iloc[ year_init:year_end+1, : ]"
   ]
  },
  {
   "cell_type": "code",
   "execution_count": null,
   "metadata": {},
   "outputs": [],
   "source": [
    "# 2009 -- 4\n",
    "# 2015 - 10"
   ]
  },
  {
   "cell_type": "code",
   "execution_count": 130,
   "metadata": {},
   "outputs": [
    {
     "data": {
      "text/html": [
       "<div>\n",
       "<style scoped>\n",
       "    .dataframe tbody tr th:only-of-type {\n",
       "        vertical-align: middle;\n",
       "    }\n",
       "\n",
       "    .dataframe tbody tr th {\n",
       "        vertical-align: top;\n",
       "    }\n",
       "\n",
       "    .dataframe thead th {\n",
       "        text-align: right;\n",
       "    }\n",
       "</style>\n",
       "<table border=\"1\" class=\"dataframe\">\n",
       "  <thead>\n",
       "    <tr style=\"text-align: right;\">\n",
       "      <th></th>\n",
       "      <th>year</th>\n",
       "      <th>Consumo Industrial - Anchoveta</th>\n",
       "      <th>Consumo Humano - Congelado - Concha de abanico</th>\n",
       "      <th>Consumo Humano - Congelado - Langostino</th>\n",
       "      <th>Consumo Humano - Congelado - Merluza</th>\n",
       "      <th>Consumo Humano - Congelado - Calamar gigante</th>\n",
       "      <th>Consumo Humano - Conservas - Atún</th>\n",
       "      <th>Consumo Humano - Conservas - Caballa</th>\n",
       "      <th>Consumo Humano - Conservas - Jurel</th>\n",
       "      <th>Consumo Humano - Conservas - Sardina</th>\n",
       "      <th>Consumo Humano - Fresco - Concha de abanico</th>\n",
       "      <th>Consumo Humano - Fresco - Jurel</th>\n",
       "      <th>Consumo Humano - Fresco - Liza</th>\n",
       "      <th>Consumo Humano - Fresco - Tollo</th>\n",
       "      <th>total_production</th>\n",
       "    </tr>\n",
       "  </thead>\n",
       "  <tbody>\n",
       "    <tr>\n",
       "      <th>4</th>\n",
       "      <td>2009</td>\n",
       "      <td>5828.636000</td>\n",
       "      <td>24.634372</td>\n",
       "      <td>11.877399</td>\n",
       "      <td>36.774763</td>\n",
       "      <td>355.106589</td>\n",
       "      <td>2.017061</td>\n",
       "      <td>51.355908</td>\n",
       "      <td>14.289041</td>\n",
       "      <td>0.000000</td>\n",
       "      <td>1.843072</td>\n",
       "      <td>47.079175</td>\n",
       "      <td>17.311344</td>\n",
       "      <td>4.057886</td>\n",
       "      <td>6394.982610</td>\n",
       "    </tr>\n",
       "    <tr>\n",
       "      <th>5</th>\n",
       "      <td>2010</td>\n",
       "      <td>3330.413040</td>\n",
       "      <td>60.001250</td>\n",
       "      <td>14.477939</td>\n",
       "      <td>25.647697</td>\n",
       "      <td>327.571909</td>\n",
       "      <td>9.182845</td>\n",
       "      <td>9.729522</td>\n",
       "      <td>5.774274</td>\n",
       "      <td>0.000000</td>\n",
       "      <td>2.824749</td>\n",
       "      <td>10.404933</td>\n",
       "      <td>9.706363</td>\n",
       "      <td>4.994712</td>\n",
       "      <td>3810.729233</td>\n",
       "    </tr>\n",
       "    <tr>\n",
       "      <th>6</th>\n",
       "      <td>2011</td>\n",
       "      <td>7000.092781</td>\n",
       "      <td>92.027637</td>\n",
       "      <td>23.384478</td>\n",
       "      <td>28.544458</td>\n",
       "      <td>373.195661</td>\n",
       "      <td>6.586856</td>\n",
       "      <td>20.478814</td>\n",
       "      <td>83.277943</td>\n",
       "      <td>0.054463</td>\n",
       "      <td>0.873130</td>\n",
       "      <td>72.955117</td>\n",
       "      <td>12.124808</td>\n",
       "      <td>5.687520</td>\n",
       "      <td>7719.283666</td>\n",
       "    </tr>\n",
       "    <tr>\n",
       "      <th>7</th>\n",
       "      <td>2012</td>\n",
       "      <td>3693.871080</td>\n",
       "      <td>38.933390</td>\n",
       "      <td>22.707220</td>\n",
       "      <td>21.054780</td>\n",
       "      <td>457.072670</td>\n",
       "      <td>1.115060</td>\n",
       "      <td>9.978510</td>\n",
       "      <td>43.693940</td>\n",
       "      <td>0.088460</td>\n",
       "      <td>0.744610</td>\n",
       "      <td>72.930470</td>\n",
       "      <td>17.162420</td>\n",
       "      <td>4.235380</td>\n",
       "      <td>4383.587990</td>\n",
       "    </tr>\n",
       "    <tr>\n",
       "      <th>8</th>\n",
       "      <td>2013</td>\n",
       "      <td>4754.118210</td>\n",
       "      <td>89.293284</td>\n",
       "      <td>19.111372</td>\n",
       "      <td>31.187461</td>\n",
       "      <td>410.759534</td>\n",
       "      <td>7.136436</td>\n",
       "      <td>26.600553</td>\n",
       "      <td>7.197624</td>\n",
       "      <td>0.000000</td>\n",
       "      <td>2.180252</td>\n",
       "      <td>54.454541</td>\n",
       "      <td>12.530821</td>\n",
       "      <td>3.945647</td>\n",
       "      <td>5418.515737</td>\n",
       "    </tr>\n",
       "    <tr>\n",
       "      <th>9</th>\n",
       "      <td>2014</td>\n",
       "      <td>2255.453460</td>\n",
       "      <td>52.266500</td>\n",
       "      <td>21.762990</td>\n",
       "      <td>30.770800</td>\n",
       "      <td>465.007580</td>\n",
       "      <td>4.734540</td>\n",
       "      <td>29.576440</td>\n",
       "      <td>8.882560</td>\n",
       "      <td>0.000000</td>\n",
       "      <td>0.608160</td>\n",
       "      <td>46.346459</td>\n",
       "      <td>12.248670</td>\n",
       "      <td>5.206880</td>\n",
       "      <td>2932.865039</td>\n",
       "    </tr>\n",
       "    <tr>\n",
       "      <th>10</th>\n",
       "      <td>2015</td>\n",
       "      <td>3616.481500</td>\n",
       "      <td>14.843150</td>\n",
       "      <td>26.772210</td>\n",
       "      <td>25.644130</td>\n",
       "      <td>426.932300</td>\n",
       "      <td>11.082120</td>\n",
       "      <td>15.314910</td>\n",
       "      <td>2.769796</td>\n",
       "      <td>0.164140</td>\n",
       "      <td>0.615910</td>\n",
       "      <td>17.536930</td>\n",
       "      <td>12.463520</td>\n",
       "      <td>7.717680</td>\n",
       "      <td>4178.338296</td>\n",
       "    </tr>\n",
       "  </tbody>\n",
       "</table>\n",
       "</div>"
      ],
      "text/plain": [
       "    year  Consumo Industrial - Anchoveta  \\\n",
       "4   2009                     5828.636000   \n",
       "5   2010                     3330.413040   \n",
       "6   2011                     7000.092781   \n",
       "7   2012                     3693.871080   \n",
       "8   2013                     4754.118210   \n",
       "9   2014                     2255.453460   \n",
       "10  2015                     3616.481500   \n",
       "\n",
       "    Consumo Humano - Congelado - Concha de abanico  \\\n",
       "4                                        24.634372   \n",
       "5                                        60.001250   \n",
       "6                                        92.027637   \n",
       "7                                        38.933390   \n",
       "8                                        89.293284   \n",
       "9                                        52.266500   \n",
       "10                                       14.843150   \n",
       "\n",
       "    Consumo Humano - Congelado - Langostino  \\\n",
       "4                                 11.877399   \n",
       "5                                 14.477939   \n",
       "6                                 23.384478   \n",
       "7                                 22.707220   \n",
       "8                                 19.111372   \n",
       "9                                 21.762990   \n",
       "10                                26.772210   \n",
       "\n",
       "    Consumo Humano - Congelado - Merluza  \\\n",
       "4                              36.774763   \n",
       "5                              25.647697   \n",
       "6                              28.544458   \n",
       "7                              21.054780   \n",
       "8                              31.187461   \n",
       "9                              30.770800   \n",
       "10                             25.644130   \n",
       "\n",
       "    Consumo Humano - Congelado - Calamar gigante  \\\n",
       "4                                     355.106589   \n",
       "5                                     327.571909   \n",
       "6                                     373.195661   \n",
       "7                                     457.072670   \n",
       "8                                     410.759534   \n",
       "9                                     465.007580   \n",
       "10                                    426.932300   \n",
       "\n",
       "    Consumo Humano - Conservas - Atún  Consumo Humano - Conservas - Caballa  \\\n",
       "4                            2.017061                             51.355908   \n",
       "5                            9.182845                              9.729522   \n",
       "6                            6.586856                             20.478814   \n",
       "7                            1.115060                              9.978510   \n",
       "8                            7.136436                             26.600553   \n",
       "9                            4.734540                             29.576440   \n",
       "10                          11.082120                             15.314910   \n",
       "\n",
       "    Consumo Humano - Conservas - Jurel  Consumo Humano - Conservas - Sardina  \\\n",
       "4                            14.289041                              0.000000   \n",
       "5                             5.774274                              0.000000   \n",
       "6                            83.277943                              0.054463   \n",
       "7                            43.693940                              0.088460   \n",
       "8                             7.197624                              0.000000   \n",
       "9                             8.882560                              0.000000   \n",
       "10                            2.769796                              0.164140   \n",
       "\n",
       "    Consumo Humano - Fresco - Concha de abanico  \\\n",
       "4                                      1.843072   \n",
       "5                                      2.824749   \n",
       "6                                      0.873130   \n",
       "7                                      0.744610   \n",
       "8                                      2.180252   \n",
       "9                                      0.608160   \n",
       "10                                     0.615910   \n",
       "\n",
       "    Consumo Humano - Fresco - Jurel  Consumo Humano - Fresco - Liza  \\\n",
       "4                         47.079175                       17.311344   \n",
       "5                         10.404933                        9.706363   \n",
       "6                         72.955117                       12.124808   \n",
       "7                         72.930470                       17.162420   \n",
       "8                         54.454541                       12.530821   \n",
       "9                         46.346459                       12.248670   \n",
       "10                        17.536930                       12.463520   \n",
       "\n",
       "    Consumo Humano - Fresco - Tollo  total_production  \n",
       "4                          4.057886       6394.982610  \n",
       "5                          4.994712       3810.729233  \n",
       "6                          5.687520       7719.283666  \n",
       "7                          4.235380       4383.587990  \n",
       "8                          3.945647       5418.515737  \n",
       "9                          5.206880       2932.865039  \n",
       "10                         7.717680       4178.338296  "
      ]
     },
     "execution_count": 130,
     "metadata": {},
     "output_type": "execute_result"
    }
   ],
   "source": [
    "extraction_fish.iloc[ 4:11, : ]"
   ]
  },
  {
   "cell_type": "code",
   "execution_count": null,
   "metadata": {},
   "outputs": [],
   "source": [
    "extraction_fish"
   ]
  },
  {
   "cell_type": "code",
   "execution_count": 161,
   "metadata": {},
   "outputs": [],
   "source": [
    "def sample_data(data, year_init, year_end):\n",
    "    \n",
    "    year_init = data[data.year == year_init].index[0]\n",
    "    year_end = data[data.year == year_end].index[0]\n",
    "    \n",
    "    samp_data = data.iloc[ year_init:year_end+1, : ]\n",
    "    \n",
    "    return samp_data"
   ]
  },
  {
   "cell_type": "code",
   "execution_count": 166,
   "metadata": {},
   "outputs": [
    {
     "data": {
      "text/html": [
       "<div>\n",
       "<style scoped>\n",
       "    .dataframe tbody tr th:only-of-type {\n",
       "        vertical-align: middle;\n",
       "    }\n",
       "\n",
       "    .dataframe tbody tr th {\n",
       "        vertical-align: top;\n",
       "    }\n",
       "\n",
       "    .dataframe thead th {\n",
       "        text-align: right;\n",
       "    }\n",
       "</style>\n",
       "<table border=\"1\" class=\"dataframe\">\n",
       "  <thead>\n",
       "    <tr style=\"text-align: right;\">\n",
       "      <th></th>\n",
       "      <th>year</th>\n",
       "      <th>Consumo Industrial - Anchoveta</th>\n",
       "      <th>Consumo Humano - Congelado - Concha de abanico</th>\n",
       "      <th>Consumo Humano - Congelado - Langostino</th>\n",
       "      <th>Consumo Humano - Congelado - Merluza</th>\n",
       "      <th>Consumo Humano - Congelado - Calamar gigante</th>\n",
       "      <th>Consumo Humano - Conservas - Atún</th>\n",
       "      <th>Consumo Humano - Conservas - Caballa</th>\n",
       "      <th>Consumo Humano - Conservas - Jurel</th>\n",
       "      <th>Consumo Humano - Conservas - Sardina</th>\n",
       "      <th>Consumo Humano - Fresco - Concha de abanico</th>\n",
       "      <th>Consumo Humano - Fresco - Jurel</th>\n",
       "      <th>Consumo Humano - Fresco - Liza</th>\n",
       "      <th>Consumo Humano - Fresco - Tollo</th>\n",
       "      <th>total_production</th>\n",
       "    </tr>\n",
       "  </thead>\n",
       "  <tbody>\n",
       "    <tr>\n",
       "      <th>4</th>\n",
       "      <td>2009</td>\n",
       "      <td>5828.636000</td>\n",
       "      <td>24.634372</td>\n",
       "      <td>11.877399</td>\n",
       "      <td>36.774763</td>\n",
       "      <td>355.106589</td>\n",
       "      <td>2.017061</td>\n",
       "      <td>51.355908</td>\n",
       "      <td>14.289041</td>\n",
       "      <td>0.000000</td>\n",
       "      <td>1.843072</td>\n",
       "      <td>47.079175</td>\n",
       "      <td>17.311344</td>\n",
       "      <td>4.057886</td>\n",
       "      <td>6394.982610</td>\n",
       "    </tr>\n",
       "    <tr>\n",
       "      <th>5</th>\n",
       "      <td>2010</td>\n",
       "      <td>3330.413040</td>\n",
       "      <td>60.001250</td>\n",
       "      <td>14.477939</td>\n",
       "      <td>25.647697</td>\n",
       "      <td>327.571909</td>\n",
       "      <td>9.182845</td>\n",
       "      <td>9.729522</td>\n",
       "      <td>5.774274</td>\n",
       "      <td>0.000000</td>\n",
       "      <td>2.824749</td>\n",
       "      <td>10.404933</td>\n",
       "      <td>9.706363</td>\n",
       "      <td>4.994712</td>\n",
       "      <td>3810.729233</td>\n",
       "    </tr>\n",
       "    <tr>\n",
       "      <th>6</th>\n",
       "      <td>2011</td>\n",
       "      <td>7000.092781</td>\n",
       "      <td>92.027637</td>\n",
       "      <td>23.384478</td>\n",
       "      <td>28.544458</td>\n",
       "      <td>373.195661</td>\n",
       "      <td>6.586856</td>\n",
       "      <td>20.478814</td>\n",
       "      <td>83.277943</td>\n",
       "      <td>0.054463</td>\n",
       "      <td>0.873130</td>\n",
       "      <td>72.955117</td>\n",
       "      <td>12.124808</td>\n",
       "      <td>5.687520</td>\n",
       "      <td>7719.283666</td>\n",
       "    </tr>\n",
       "    <tr>\n",
       "      <th>7</th>\n",
       "      <td>2012</td>\n",
       "      <td>3693.871080</td>\n",
       "      <td>38.933390</td>\n",
       "      <td>22.707220</td>\n",
       "      <td>21.054780</td>\n",
       "      <td>457.072670</td>\n",
       "      <td>1.115060</td>\n",
       "      <td>9.978510</td>\n",
       "      <td>43.693940</td>\n",
       "      <td>0.088460</td>\n",
       "      <td>0.744610</td>\n",
       "      <td>72.930470</td>\n",
       "      <td>17.162420</td>\n",
       "      <td>4.235380</td>\n",
       "      <td>4383.587990</td>\n",
       "    </tr>\n",
       "    <tr>\n",
       "      <th>8</th>\n",
       "      <td>2013</td>\n",
       "      <td>4754.118210</td>\n",
       "      <td>89.293284</td>\n",
       "      <td>19.111372</td>\n",
       "      <td>31.187461</td>\n",
       "      <td>410.759534</td>\n",
       "      <td>7.136436</td>\n",
       "      <td>26.600553</td>\n",
       "      <td>7.197624</td>\n",
       "      <td>0.000000</td>\n",
       "      <td>2.180252</td>\n",
       "      <td>54.454541</td>\n",
       "      <td>12.530821</td>\n",
       "      <td>3.945647</td>\n",
       "      <td>5418.515737</td>\n",
       "    </tr>\n",
       "    <tr>\n",
       "      <th>9</th>\n",
       "      <td>2014</td>\n",
       "      <td>2255.453460</td>\n",
       "      <td>52.266500</td>\n",
       "      <td>21.762990</td>\n",
       "      <td>30.770800</td>\n",
       "      <td>465.007580</td>\n",
       "      <td>4.734540</td>\n",
       "      <td>29.576440</td>\n",
       "      <td>8.882560</td>\n",
       "      <td>0.000000</td>\n",
       "      <td>0.608160</td>\n",
       "      <td>46.346459</td>\n",
       "      <td>12.248670</td>\n",
       "      <td>5.206880</td>\n",
       "      <td>2932.865039</td>\n",
       "    </tr>\n",
       "    <tr>\n",
       "      <th>10</th>\n",
       "      <td>2015</td>\n",
       "      <td>3616.481500</td>\n",
       "      <td>14.843150</td>\n",
       "      <td>26.772210</td>\n",
       "      <td>25.644130</td>\n",
       "      <td>426.932300</td>\n",
       "      <td>11.082120</td>\n",
       "      <td>15.314910</td>\n",
       "      <td>2.769796</td>\n",
       "      <td>0.164140</td>\n",
       "      <td>0.615910</td>\n",
       "      <td>17.536930</td>\n",
       "      <td>12.463520</td>\n",
       "      <td>7.717680</td>\n",
       "      <td>4178.338296</td>\n",
       "    </tr>\n",
       "  </tbody>\n",
       "</table>\n",
       "</div>"
      ],
      "text/plain": [
       "    year  Consumo Industrial - Anchoveta  \\\n",
       "4   2009                     5828.636000   \n",
       "5   2010                     3330.413040   \n",
       "6   2011                     7000.092781   \n",
       "7   2012                     3693.871080   \n",
       "8   2013                     4754.118210   \n",
       "9   2014                     2255.453460   \n",
       "10  2015                     3616.481500   \n",
       "\n",
       "    Consumo Humano - Congelado - Concha de abanico  \\\n",
       "4                                        24.634372   \n",
       "5                                        60.001250   \n",
       "6                                        92.027637   \n",
       "7                                        38.933390   \n",
       "8                                        89.293284   \n",
       "9                                        52.266500   \n",
       "10                                       14.843150   \n",
       "\n",
       "    Consumo Humano - Congelado - Langostino  \\\n",
       "4                                 11.877399   \n",
       "5                                 14.477939   \n",
       "6                                 23.384478   \n",
       "7                                 22.707220   \n",
       "8                                 19.111372   \n",
       "9                                 21.762990   \n",
       "10                                26.772210   \n",
       "\n",
       "    Consumo Humano - Congelado - Merluza  \\\n",
       "4                              36.774763   \n",
       "5                              25.647697   \n",
       "6                              28.544458   \n",
       "7                              21.054780   \n",
       "8                              31.187461   \n",
       "9                              30.770800   \n",
       "10                             25.644130   \n",
       "\n",
       "    Consumo Humano - Congelado - Calamar gigante  \\\n",
       "4                                     355.106589   \n",
       "5                                     327.571909   \n",
       "6                                     373.195661   \n",
       "7                                     457.072670   \n",
       "8                                     410.759534   \n",
       "9                                     465.007580   \n",
       "10                                    426.932300   \n",
       "\n",
       "    Consumo Humano - Conservas - Atún  Consumo Humano - Conservas - Caballa  \\\n",
       "4                            2.017061                             51.355908   \n",
       "5                            9.182845                              9.729522   \n",
       "6                            6.586856                             20.478814   \n",
       "7                            1.115060                              9.978510   \n",
       "8                            7.136436                             26.600553   \n",
       "9                            4.734540                             29.576440   \n",
       "10                          11.082120                             15.314910   \n",
       "\n",
       "    Consumo Humano - Conservas - Jurel  Consumo Humano - Conservas - Sardina  \\\n",
       "4                            14.289041                              0.000000   \n",
       "5                             5.774274                              0.000000   \n",
       "6                            83.277943                              0.054463   \n",
       "7                            43.693940                              0.088460   \n",
       "8                             7.197624                              0.000000   \n",
       "9                             8.882560                              0.000000   \n",
       "10                            2.769796                              0.164140   \n",
       "\n",
       "    Consumo Humano - Fresco - Concha de abanico  \\\n",
       "4                                      1.843072   \n",
       "5                                      2.824749   \n",
       "6                                      0.873130   \n",
       "7                                      0.744610   \n",
       "8                                      2.180252   \n",
       "9                                      0.608160   \n",
       "10                                     0.615910   \n",
       "\n",
       "    Consumo Humano - Fresco - Jurel  Consumo Humano - Fresco - Liza  \\\n",
       "4                         47.079175                       17.311344   \n",
       "5                         10.404933                        9.706363   \n",
       "6                         72.955117                       12.124808   \n",
       "7                         72.930470                       17.162420   \n",
       "8                         54.454541                       12.530821   \n",
       "9                         46.346459                       12.248670   \n",
       "10                        17.536930                       12.463520   \n",
       "\n",
       "    Consumo Humano - Fresco - Tollo  total_production  \n",
       "4                          4.057886       6394.982610  \n",
       "5                          4.994712       3810.729233  \n",
       "6                          5.687520       7719.283666  \n",
       "7                          4.235380       4383.587990  \n",
       "8                          3.945647       5418.515737  \n",
       "9                          5.206880       2932.865039  \n",
       "10                         7.717680       4178.338296  "
      ]
     },
     "execution_count": 166,
     "metadata": {},
     "output_type": "execute_result"
    }
   ],
   "source": [
    "year_init = extraction_fish[extraction_fish.year == 2009].index[0]\n",
    "year_end = extraction_fish[extraction_fish.year == 2015].index[0]\n",
    "extraction_fish.iloc[ year_init:year_end+1, : ]"
   ]
  },
  {
   "cell_type": "code",
   "execution_count": 167,
   "metadata": {},
   "outputs": [
    {
     "data": {
      "text/html": [
       "<div>\n",
       "<style scoped>\n",
       "    .dataframe tbody tr th:only-of-type {\n",
       "        vertical-align: middle;\n",
       "    }\n",
       "\n",
       "    .dataframe tbody tr th {\n",
       "        vertical-align: top;\n",
       "    }\n",
       "\n",
       "    .dataframe thead th {\n",
       "        text-align: right;\n",
       "    }\n",
       "</style>\n",
       "<table border=\"1\" class=\"dataframe\">\n",
       "  <thead>\n",
       "    <tr style=\"text-align: right;\">\n",
       "      <th></th>\n",
       "      <th>year</th>\n",
       "      <th>Consumo Industrial - Anchoveta</th>\n",
       "      <th>Consumo Humano - Congelado - Concha de abanico</th>\n",
       "      <th>Consumo Humano - Congelado - Langostino</th>\n",
       "      <th>Consumo Humano - Congelado - Merluza</th>\n",
       "      <th>Consumo Humano - Congelado - Calamar gigante</th>\n",
       "      <th>Consumo Humano - Conservas - Atún</th>\n",
       "      <th>Consumo Humano - Conservas - Caballa</th>\n",
       "      <th>Consumo Humano - Conservas - Jurel</th>\n",
       "      <th>Consumo Humano - Conservas - Sardina</th>\n",
       "      <th>Consumo Humano - Fresco - Concha de abanico</th>\n",
       "      <th>Consumo Humano - Fresco - Jurel</th>\n",
       "      <th>Consumo Humano - Fresco - Liza</th>\n",
       "      <th>Consumo Humano - Fresco - Tollo</th>\n",
       "      <th>total_production</th>\n",
       "    </tr>\n",
       "  </thead>\n",
       "  <tbody>\n",
       "    <tr>\n",
       "      <th>3</th>\n",
       "      <td>2008</td>\n",
       "      <td>6159.387000</td>\n",
       "      <td>18.790000</td>\n",
       "      <td>12.817000</td>\n",
       "      <td>26.348398</td>\n",
       "      <td>484.162082</td>\n",
       "      <td>3.283711</td>\n",
       "      <td>47.694121</td>\n",
       "      <td>58.864202</td>\n",
       "      <td>0.000000</td>\n",
       "      <td>0.828187</td>\n",
       "      <td>80.092885</td>\n",
       "      <td>14.514054</td>\n",
       "      <td>2.933360</td>\n",
       "      <td>6909.715000</td>\n",
       "    </tr>\n",
       "    <tr>\n",
       "      <th>4</th>\n",
       "      <td>2009</td>\n",
       "      <td>5828.636000</td>\n",
       "      <td>24.634372</td>\n",
       "      <td>11.877399</td>\n",
       "      <td>36.774763</td>\n",
       "      <td>355.106589</td>\n",
       "      <td>2.017061</td>\n",
       "      <td>51.355908</td>\n",
       "      <td>14.289041</td>\n",
       "      <td>0.000000</td>\n",
       "      <td>1.843072</td>\n",
       "      <td>47.079175</td>\n",
       "      <td>17.311344</td>\n",
       "      <td>4.057886</td>\n",
       "      <td>6394.982610</td>\n",
       "    </tr>\n",
       "    <tr>\n",
       "      <th>5</th>\n",
       "      <td>2010</td>\n",
       "      <td>3330.413040</td>\n",
       "      <td>60.001250</td>\n",
       "      <td>14.477939</td>\n",
       "      <td>25.647697</td>\n",
       "      <td>327.571909</td>\n",
       "      <td>9.182845</td>\n",
       "      <td>9.729522</td>\n",
       "      <td>5.774274</td>\n",
       "      <td>0.000000</td>\n",
       "      <td>2.824749</td>\n",
       "      <td>10.404933</td>\n",
       "      <td>9.706363</td>\n",
       "      <td>4.994712</td>\n",
       "      <td>3810.729233</td>\n",
       "    </tr>\n",
       "    <tr>\n",
       "      <th>6</th>\n",
       "      <td>2011</td>\n",
       "      <td>7000.092781</td>\n",
       "      <td>92.027637</td>\n",
       "      <td>23.384478</td>\n",
       "      <td>28.544458</td>\n",
       "      <td>373.195661</td>\n",
       "      <td>6.586856</td>\n",
       "      <td>20.478814</td>\n",
       "      <td>83.277943</td>\n",
       "      <td>0.054463</td>\n",
       "      <td>0.873130</td>\n",
       "      <td>72.955117</td>\n",
       "      <td>12.124808</td>\n",
       "      <td>5.687520</td>\n",
       "      <td>7719.283666</td>\n",
       "    </tr>\n",
       "    <tr>\n",
       "      <th>7</th>\n",
       "      <td>2012</td>\n",
       "      <td>3693.871080</td>\n",
       "      <td>38.933390</td>\n",
       "      <td>22.707220</td>\n",
       "      <td>21.054780</td>\n",
       "      <td>457.072670</td>\n",
       "      <td>1.115060</td>\n",
       "      <td>9.978510</td>\n",
       "      <td>43.693940</td>\n",
       "      <td>0.088460</td>\n",
       "      <td>0.744610</td>\n",
       "      <td>72.930470</td>\n",
       "      <td>17.162420</td>\n",
       "      <td>4.235380</td>\n",
       "      <td>4383.587990</td>\n",
       "    </tr>\n",
       "    <tr>\n",
       "      <th>8</th>\n",
       "      <td>2013</td>\n",
       "      <td>4754.118210</td>\n",
       "      <td>89.293284</td>\n",
       "      <td>19.111372</td>\n",
       "      <td>31.187461</td>\n",
       "      <td>410.759534</td>\n",
       "      <td>7.136436</td>\n",
       "      <td>26.600553</td>\n",
       "      <td>7.197624</td>\n",
       "      <td>0.000000</td>\n",
       "      <td>2.180252</td>\n",
       "      <td>54.454541</td>\n",
       "      <td>12.530821</td>\n",
       "      <td>3.945647</td>\n",
       "      <td>5418.515737</td>\n",
       "    </tr>\n",
       "    <tr>\n",
       "      <th>9</th>\n",
       "      <td>2014</td>\n",
       "      <td>2255.453460</td>\n",
       "      <td>52.266500</td>\n",
       "      <td>21.762990</td>\n",
       "      <td>30.770800</td>\n",
       "      <td>465.007580</td>\n",
       "      <td>4.734540</td>\n",
       "      <td>29.576440</td>\n",
       "      <td>8.882560</td>\n",
       "      <td>0.000000</td>\n",
       "      <td>0.608160</td>\n",
       "      <td>46.346459</td>\n",
       "      <td>12.248670</td>\n",
       "      <td>5.206880</td>\n",
       "      <td>2932.865039</td>\n",
       "    </tr>\n",
       "    <tr>\n",
       "      <th>10</th>\n",
       "      <td>2015</td>\n",
       "      <td>3616.481500</td>\n",
       "      <td>14.843150</td>\n",
       "      <td>26.772210</td>\n",
       "      <td>25.644130</td>\n",
       "      <td>426.932300</td>\n",
       "      <td>11.082120</td>\n",
       "      <td>15.314910</td>\n",
       "      <td>2.769796</td>\n",
       "      <td>0.164140</td>\n",
       "      <td>0.615910</td>\n",
       "      <td>17.536930</td>\n",
       "      <td>12.463520</td>\n",
       "      <td>7.717680</td>\n",
       "      <td>4178.338296</td>\n",
       "    </tr>\n",
       "    <tr>\n",
       "      <th>11</th>\n",
       "      <td>2016</td>\n",
       "      <td>2732.733740</td>\n",
       "      <td>10.090130</td>\n",
       "      <td>29.253750</td>\n",
       "      <td>25.800210</td>\n",
       "      <td>246.124700</td>\n",
       "      <td>10.884490</td>\n",
       "      <td>57.675170</td>\n",
       "      <td>0.412040</td>\n",
       "      <td>0.007490</td>\n",
       "      <td>0.579750</td>\n",
       "      <td>12.472050</td>\n",
       "      <td>15.757580</td>\n",
       "      <td>9.453130</td>\n",
       "      <td>3151.244230</td>\n",
       "    </tr>\n",
       "    <tr>\n",
       "      <th>12</th>\n",
       "      <td>2017</td>\n",
       "      <td>3165.490240</td>\n",
       "      <td>4.596090</td>\n",
       "      <td>38.760070</td>\n",
       "      <td>37.147430</td>\n",
       "      <td>252.429930</td>\n",
       "      <td>11.802750</td>\n",
       "      <td>23.249140</td>\n",
       "      <td>1.052910</td>\n",
       "      <td>0.000000</td>\n",
       "      <td>0.373700</td>\n",
       "      <td>6.889530</td>\n",
       "      <td>29.061740</td>\n",
       "      <td>6.692660</td>\n",
       "      <td>3577.546190</td>\n",
       "    </tr>\n",
       "    <tr>\n",
       "      <th>13</th>\n",
       "      <td>2018</td>\n",
       "      <td>6072.887839</td>\n",
       "      <td>36.530349</td>\n",
       "      <td>31.505879</td>\n",
       "      <td>34.876576</td>\n",
       "      <td>319.146488</td>\n",
       "      <td>18.138975</td>\n",
       "      <td>24.610468</td>\n",
       "      <td>14.619846</td>\n",
       "      <td>0.000000</td>\n",
       "      <td>1.551366</td>\n",
       "      <td>14.720969</td>\n",
       "      <td>23.326310</td>\n",
       "      <td>3.672117</td>\n",
       "      <td>6595.587183</td>\n",
       "    </tr>\n",
       "    <tr>\n",
       "      <th>14</th>\n",
       "      <td>2019</td>\n",
       "      <td>3381.437222</td>\n",
       "      <td>53.112863</td>\n",
       "      <td>42.857637</td>\n",
       "      <td>28.979849</td>\n",
       "      <td>483.765239</td>\n",
       "      <td>17.839298</td>\n",
       "      <td>19.598784</td>\n",
       "      <td>27.733432</td>\n",
       "      <td>0.000000</td>\n",
       "      <td>1.226521</td>\n",
       "      <td>40.798701</td>\n",
       "      <td>24.029820</td>\n",
       "      <td>1.241883</td>\n",
       "      <td>4122.621249</td>\n",
       "    </tr>\n",
       "    <tr>\n",
       "      <th>15</th>\n",
       "      <td>2020</td>\n",
       "      <td>4314.558220</td>\n",
       "      <td>46.995287</td>\n",
       "      <td>34.516971</td>\n",
       "      <td>19.842900</td>\n",
       "      <td>407.384850</td>\n",
       "      <td>3.843680</td>\n",
       "      <td>28.408700</td>\n",
       "      <td>23.475890</td>\n",
       "      <td>0.000000</td>\n",
       "      <td>0.616697</td>\n",
       "      <td>48.115810</td>\n",
       "      <td>14.992172</td>\n",
       "      <td>0.544585</td>\n",
       "      <td>4943.295762</td>\n",
       "    </tr>\n",
       "  </tbody>\n",
       "</table>\n",
       "</div>"
      ],
      "text/plain": [
       "    year  Consumo Industrial - Anchoveta  \\\n",
       "3   2008                     6159.387000   \n",
       "4   2009                     5828.636000   \n",
       "5   2010                     3330.413040   \n",
       "6   2011                     7000.092781   \n",
       "7   2012                     3693.871080   \n",
       "8   2013                     4754.118210   \n",
       "9   2014                     2255.453460   \n",
       "10  2015                     3616.481500   \n",
       "11  2016                     2732.733740   \n",
       "12  2017                     3165.490240   \n",
       "13  2018                     6072.887839   \n",
       "14  2019                     3381.437222   \n",
       "15  2020                     4314.558220   \n",
       "\n",
       "    Consumo Humano - Congelado - Concha de abanico  \\\n",
       "3                                        18.790000   \n",
       "4                                        24.634372   \n",
       "5                                        60.001250   \n",
       "6                                        92.027637   \n",
       "7                                        38.933390   \n",
       "8                                        89.293284   \n",
       "9                                        52.266500   \n",
       "10                                       14.843150   \n",
       "11                                       10.090130   \n",
       "12                                        4.596090   \n",
       "13                                       36.530349   \n",
       "14                                       53.112863   \n",
       "15                                       46.995287   \n",
       "\n",
       "    Consumo Humano - Congelado - Langostino  \\\n",
       "3                                 12.817000   \n",
       "4                                 11.877399   \n",
       "5                                 14.477939   \n",
       "6                                 23.384478   \n",
       "7                                 22.707220   \n",
       "8                                 19.111372   \n",
       "9                                 21.762990   \n",
       "10                                26.772210   \n",
       "11                                29.253750   \n",
       "12                                38.760070   \n",
       "13                                31.505879   \n",
       "14                                42.857637   \n",
       "15                                34.516971   \n",
       "\n",
       "    Consumo Humano - Congelado - Merluza  \\\n",
       "3                              26.348398   \n",
       "4                              36.774763   \n",
       "5                              25.647697   \n",
       "6                              28.544458   \n",
       "7                              21.054780   \n",
       "8                              31.187461   \n",
       "9                              30.770800   \n",
       "10                             25.644130   \n",
       "11                             25.800210   \n",
       "12                             37.147430   \n",
       "13                             34.876576   \n",
       "14                             28.979849   \n",
       "15                             19.842900   \n",
       "\n",
       "    Consumo Humano - Congelado - Calamar gigante  \\\n",
       "3                                     484.162082   \n",
       "4                                     355.106589   \n",
       "5                                     327.571909   \n",
       "6                                     373.195661   \n",
       "7                                     457.072670   \n",
       "8                                     410.759534   \n",
       "9                                     465.007580   \n",
       "10                                    426.932300   \n",
       "11                                    246.124700   \n",
       "12                                    252.429930   \n",
       "13                                    319.146488   \n",
       "14                                    483.765239   \n",
       "15                                    407.384850   \n",
       "\n",
       "    Consumo Humano - Conservas - Atún  Consumo Humano - Conservas - Caballa  \\\n",
       "3                            3.283711                             47.694121   \n",
       "4                            2.017061                             51.355908   \n",
       "5                            9.182845                              9.729522   \n",
       "6                            6.586856                             20.478814   \n",
       "7                            1.115060                              9.978510   \n",
       "8                            7.136436                             26.600553   \n",
       "9                            4.734540                             29.576440   \n",
       "10                          11.082120                             15.314910   \n",
       "11                          10.884490                             57.675170   \n",
       "12                          11.802750                             23.249140   \n",
       "13                          18.138975                             24.610468   \n",
       "14                          17.839298                             19.598784   \n",
       "15                           3.843680                             28.408700   \n",
       "\n",
       "    Consumo Humano - Conservas - Jurel  Consumo Humano - Conservas - Sardina  \\\n",
       "3                            58.864202                              0.000000   \n",
       "4                            14.289041                              0.000000   \n",
       "5                             5.774274                              0.000000   \n",
       "6                            83.277943                              0.054463   \n",
       "7                            43.693940                              0.088460   \n",
       "8                             7.197624                              0.000000   \n",
       "9                             8.882560                              0.000000   \n",
       "10                            2.769796                              0.164140   \n",
       "11                            0.412040                              0.007490   \n",
       "12                            1.052910                              0.000000   \n",
       "13                           14.619846                              0.000000   \n",
       "14                           27.733432                              0.000000   \n",
       "15                           23.475890                              0.000000   \n",
       "\n",
       "    Consumo Humano - Fresco - Concha de abanico  \\\n",
       "3                                      0.828187   \n",
       "4                                      1.843072   \n",
       "5                                      2.824749   \n",
       "6                                      0.873130   \n",
       "7                                      0.744610   \n",
       "8                                      2.180252   \n",
       "9                                      0.608160   \n",
       "10                                     0.615910   \n",
       "11                                     0.579750   \n",
       "12                                     0.373700   \n",
       "13                                     1.551366   \n",
       "14                                     1.226521   \n",
       "15                                     0.616697   \n",
       "\n",
       "    Consumo Humano - Fresco - Jurel  Consumo Humano - Fresco - Liza  \\\n",
       "3                         80.092885                       14.514054   \n",
       "4                         47.079175                       17.311344   \n",
       "5                         10.404933                        9.706363   \n",
       "6                         72.955117                       12.124808   \n",
       "7                         72.930470                       17.162420   \n",
       "8                         54.454541                       12.530821   \n",
       "9                         46.346459                       12.248670   \n",
       "10                        17.536930                       12.463520   \n",
       "11                        12.472050                       15.757580   \n",
       "12                         6.889530                       29.061740   \n",
       "13                        14.720969                       23.326310   \n",
       "14                        40.798701                       24.029820   \n",
       "15                        48.115810                       14.992172   \n",
       "\n",
       "    Consumo Humano - Fresco - Tollo  total_production  \n",
       "3                          2.933360       6909.715000  \n",
       "4                          4.057886       6394.982610  \n",
       "5                          4.994712       3810.729233  \n",
       "6                          5.687520       7719.283666  \n",
       "7                          4.235380       4383.587990  \n",
       "8                          3.945647       5418.515737  \n",
       "9                          5.206880       2932.865039  \n",
       "10                         7.717680       4178.338296  \n",
       "11                         9.453130       3151.244230  \n",
       "12                         6.692660       3577.546190  \n",
       "13                         3.672117       6595.587183  \n",
       "14                         1.241883       4122.621249  \n",
       "15                         0.544585       4943.295762  "
      ]
     },
     "execution_count": 167,
     "metadata": {},
     "output_type": "execute_result"
    }
   ],
   "source": [
    "year_init = extraction_fish[extraction_fish.year == 2008].index[0]\n",
    "year_end = extraction_fish[extraction_fish.year == 2020].index[0]\n",
    "extraction_fish.iloc[ year_init:year_end+1, : ]"
   ]
  },
  {
   "cell_type": "code",
   "execution_count": 168,
   "metadata": {},
   "outputs": [
    {
     "data": {
      "text/html": [
       "<div>\n",
       "<style scoped>\n",
       "    .dataframe tbody tr th:only-of-type {\n",
       "        vertical-align: middle;\n",
       "    }\n",
       "\n",
       "    .dataframe tbody tr th {\n",
       "        vertical-align: top;\n",
       "    }\n",
       "\n",
       "    .dataframe thead th {\n",
       "        text-align: right;\n",
       "    }\n",
       "</style>\n",
       "<table border=\"1\" class=\"dataframe\">\n",
       "  <thead>\n",
       "    <tr style=\"text-align: right;\">\n",
       "      <th></th>\n",
       "      <th>year</th>\n",
       "      <th>Consumo Industrial - Anchoveta</th>\n",
       "      <th>Consumo Humano - Congelado - Concha de abanico</th>\n",
       "      <th>Consumo Humano - Congelado - Langostino</th>\n",
       "      <th>Consumo Humano - Congelado - Merluza</th>\n",
       "      <th>Consumo Humano - Congelado - Calamar gigante</th>\n",
       "      <th>Consumo Humano - Conservas - Atún</th>\n",
       "      <th>Consumo Humano - Conservas - Caballa</th>\n",
       "      <th>Consumo Humano - Conservas - Jurel</th>\n",
       "      <th>Consumo Humano - Conservas - Sardina</th>\n",
       "      <th>Consumo Humano - Fresco - Concha de abanico</th>\n",
       "      <th>Consumo Humano - Fresco - Jurel</th>\n",
       "      <th>Consumo Humano - Fresco - Liza</th>\n",
       "      <th>Consumo Humano - Fresco - Tollo</th>\n",
       "      <th>total_production</th>\n",
       "    </tr>\n",
       "  </thead>\n",
       "  <tbody>\n",
       "    <tr>\n",
       "      <th>13</th>\n",
       "      <td>2018</td>\n",
       "      <td>6072.887839</td>\n",
       "      <td>36.530349</td>\n",
       "      <td>31.505879</td>\n",
       "      <td>34.876576</td>\n",
       "      <td>319.146488</td>\n",
       "      <td>18.138975</td>\n",
       "      <td>24.610468</td>\n",
       "      <td>14.619846</td>\n",
       "      <td>0.0</td>\n",
       "      <td>1.551366</td>\n",
       "      <td>14.720969</td>\n",
       "      <td>23.326310</td>\n",
       "      <td>3.672117</td>\n",
       "      <td>6595.587183</td>\n",
       "    </tr>\n",
       "    <tr>\n",
       "      <th>14</th>\n",
       "      <td>2019</td>\n",
       "      <td>3381.437222</td>\n",
       "      <td>53.112863</td>\n",
       "      <td>42.857637</td>\n",
       "      <td>28.979849</td>\n",
       "      <td>483.765239</td>\n",
       "      <td>17.839298</td>\n",
       "      <td>19.598784</td>\n",
       "      <td>27.733432</td>\n",
       "      <td>0.0</td>\n",
       "      <td>1.226521</td>\n",
       "      <td>40.798701</td>\n",
       "      <td>24.029820</td>\n",
       "      <td>1.241883</td>\n",
       "      <td>4122.621249</td>\n",
       "    </tr>\n",
       "    <tr>\n",
       "      <th>15</th>\n",
       "      <td>2020</td>\n",
       "      <td>4314.558220</td>\n",
       "      <td>46.995287</td>\n",
       "      <td>34.516971</td>\n",
       "      <td>19.842900</td>\n",
       "      <td>407.384850</td>\n",
       "      <td>3.843680</td>\n",
       "      <td>28.408700</td>\n",
       "      <td>23.475890</td>\n",
       "      <td>0.0</td>\n",
       "      <td>0.616697</td>\n",
       "      <td>48.115810</td>\n",
       "      <td>14.992172</td>\n",
       "      <td>0.544585</td>\n",
       "      <td>4943.295762</td>\n",
       "    </tr>\n",
       "  </tbody>\n",
       "</table>\n",
       "</div>"
      ],
      "text/plain": [
       "    year  Consumo Industrial - Anchoveta  \\\n",
       "13  2018                     6072.887839   \n",
       "14  2019                     3381.437222   \n",
       "15  2020                     4314.558220   \n",
       "\n",
       "    Consumo Humano - Congelado - Concha de abanico  \\\n",
       "13                                       36.530349   \n",
       "14                                       53.112863   \n",
       "15                                       46.995287   \n",
       "\n",
       "    Consumo Humano - Congelado - Langostino  \\\n",
       "13                                31.505879   \n",
       "14                                42.857637   \n",
       "15                                34.516971   \n",
       "\n",
       "    Consumo Humano - Congelado - Merluza  \\\n",
       "13                             34.876576   \n",
       "14                             28.979849   \n",
       "15                             19.842900   \n",
       "\n",
       "    Consumo Humano - Congelado - Calamar gigante  \\\n",
       "13                                    319.146488   \n",
       "14                                    483.765239   \n",
       "15                                    407.384850   \n",
       "\n",
       "    Consumo Humano - Conservas - Atún  Consumo Humano - Conservas - Caballa  \\\n",
       "13                          18.138975                             24.610468   \n",
       "14                          17.839298                             19.598784   \n",
       "15                           3.843680                             28.408700   \n",
       "\n",
       "    Consumo Humano - Conservas - Jurel  Consumo Humano - Conservas - Sardina  \\\n",
       "13                           14.619846                                   0.0   \n",
       "14                           27.733432                                   0.0   \n",
       "15                           23.475890                                   0.0   \n",
       "\n",
       "    Consumo Humano - Fresco - Concha de abanico  \\\n",
       "13                                     1.551366   \n",
       "14                                     1.226521   \n",
       "15                                     0.616697   \n",
       "\n",
       "    Consumo Humano - Fresco - Jurel  Consumo Humano - Fresco - Liza  \\\n",
       "13                        14.720969                       23.326310   \n",
       "14                        40.798701                       24.029820   \n",
       "15                        48.115810                       14.992172   \n",
       "\n",
       "    Consumo Humano - Fresco - Tollo  total_production  \n",
       "13                         3.672117       6595.587183  \n",
       "14                         1.241883       4122.621249  \n",
       "15                         0.544585       4943.295762  "
      ]
     },
     "execution_count": 168,
     "metadata": {},
     "output_type": "execute_result"
    }
   ],
   "source": [
    "year_init = extraction_fish[extraction_fish.year == 2018].index[0]\n",
    "year_end = extraction_fish[extraction_fish.year == 2020].index[0]\n",
    "extraction_fish.iloc[ year_init:year_end+1, : ]"
   ]
  },
  {
   "cell_type": "code",
   "execution_count": 169,
   "metadata": {},
   "outputs": [
    {
     "data": {
      "text/html": [
       "<div>\n",
       "<style scoped>\n",
       "    .dataframe tbody tr th:only-of-type {\n",
       "        vertical-align: middle;\n",
       "    }\n",
       "\n",
       "    .dataframe tbody tr th {\n",
       "        vertical-align: top;\n",
       "    }\n",
       "\n",
       "    .dataframe thead th {\n",
       "        text-align: right;\n",
       "    }\n",
       "</style>\n",
       "<table border=\"1\" class=\"dataframe\">\n",
       "  <thead>\n",
       "    <tr style=\"text-align: right;\">\n",
       "      <th></th>\n",
       "      <th>year</th>\n",
       "      <th>Consumo Industrial - Anchoveta</th>\n",
       "      <th>Consumo Humano - Congelado - Concha de abanico</th>\n",
       "      <th>Consumo Humano - Congelado - Langostino</th>\n",
       "      <th>Consumo Humano - Congelado - Merluza</th>\n",
       "      <th>Consumo Humano - Congelado - Calamar gigante</th>\n",
       "      <th>Consumo Humano - Conservas - Atún</th>\n",
       "      <th>Consumo Humano - Conservas - Caballa</th>\n",
       "      <th>Consumo Humano - Conservas - Jurel</th>\n",
       "      <th>Consumo Humano - Conservas - Sardina</th>\n",
       "      <th>Consumo Humano - Fresco - Concha de abanico</th>\n",
       "      <th>Consumo Humano - Fresco - Jurel</th>\n",
       "      <th>Consumo Humano - Fresco - Liza</th>\n",
       "      <th>Consumo Humano - Fresco - Tollo</th>\n",
       "      <th>total_production</th>\n",
       "    </tr>\n",
       "  </thead>\n",
       "  <tbody>\n",
       "    <tr>\n",
       "      <th>14</th>\n",
       "      <td>2019</td>\n",
       "      <td>3381.437222</td>\n",
       "      <td>53.112863</td>\n",
       "      <td>42.857637</td>\n",
       "      <td>28.979849</td>\n",
       "      <td>483.765239</td>\n",
       "      <td>17.839298</td>\n",
       "      <td>19.598784</td>\n",
       "      <td>27.733432</td>\n",
       "      <td>0.0</td>\n",
       "      <td>1.226521</td>\n",
       "      <td>40.798701</td>\n",
       "      <td>24.029820</td>\n",
       "      <td>1.241883</td>\n",
       "      <td>4122.621249</td>\n",
       "    </tr>\n",
       "    <tr>\n",
       "      <th>15</th>\n",
       "      <td>2020</td>\n",
       "      <td>4314.558220</td>\n",
       "      <td>46.995287</td>\n",
       "      <td>34.516971</td>\n",
       "      <td>19.842900</td>\n",
       "      <td>407.384850</td>\n",
       "      <td>3.843680</td>\n",
       "      <td>28.408700</td>\n",
       "      <td>23.475890</td>\n",
       "      <td>0.0</td>\n",
       "      <td>0.616697</td>\n",
       "      <td>48.115810</td>\n",
       "      <td>14.992172</td>\n",
       "      <td>0.544585</td>\n",
       "      <td>4943.295762</td>\n",
       "    </tr>\n",
       "  </tbody>\n",
       "</table>\n",
       "</div>"
      ],
      "text/plain": [
       "    year  Consumo Industrial - Anchoveta  \\\n",
       "14  2019                     3381.437222   \n",
       "15  2020                     4314.558220   \n",
       "\n",
       "    Consumo Humano - Congelado - Concha de abanico  \\\n",
       "14                                       53.112863   \n",
       "15                                       46.995287   \n",
       "\n",
       "    Consumo Humano - Congelado - Langostino  \\\n",
       "14                                42.857637   \n",
       "15                                34.516971   \n",
       "\n",
       "    Consumo Humano - Congelado - Merluza  \\\n",
       "14                             28.979849   \n",
       "15                             19.842900   \n",
       "\n",
       "    Consumo Humano - Congelado - Calamar gigante  \\\n",
       "14                                    483.765239   \n",
       "15                                    407.384850   \n",
       "\n",
       "    Consumo Humano - Conservas - Atún  Consumo Humano - Conservas - Caballa  \\\n",
       "14                          17.839298                             19.598784   \n",
       "15                           3.843680                             28.408700   \n",
       "\n",
       "    Consumo Humano - Conservas - Jurel  Consumo Humano - Conservas - Sardina  \\\n",
       "14                           27.733432                                   0.0   \n",
       "15                           23.475890                                   0.0   \n",
       "\n",
       "    Consumo Humano - Fresco - Concha de abanico  \\\n",
       "14                                     1.226521   \n",
       "15                                     0.616697   \n",
       "\n",
       "    Consumo Humano - Fresco - Jurel  Consumo Humano - Fresco - Liza  \\\n",
       "14                        40.798701                       24.029820   \n",
       "15                        48.115810                       14.992172   \n",
       "\n",
       "    Consumo Humano - Fresco - Tollo  total_production  \n",
       "14                         1.241883       4122.621249  \n",
       "15                         0.544585       4943.295762  "
      ]
     },
     "execution_count": 169,
     "metadata": {},
     "output_type": "execute_result"
    }
   ],
   "source": [
    "sample_data(data = extraction_fish, year_init=2019, year_end=2020)"
   ]
  },
  {
   "cell_type": "markdown",
   "metadata": {},
   "source": [
    "### <a id='#5.2.'>5.2. Class </a> \n",
    "\n",
    "A class is a user-defined blueprint or prototype from which objects are created. Classes provide a means of bundling data and functionality together. Creating a new class creates a new type of object, allowing new instances of that type to be made.\n",
    "\n",
    "<img src=\"../_images\\classes.png\">"
   ]
  },
  {
   "cell_type": "markdown",
   "metadata": {},
   "source": [
    "### <a id='#5.2.1.'>5.2.1. The Importance of Python Classes </a> \n",
    "\n",
    "Classes are a way to organize your code into generic, reusable peices. At their best they are generic blueprints for things that will be used over and over again with little modification. The original concept was inspired by independent biological systems or organism unique from other organisms by the set or collection of features (attributes) and abilities (methods).\n",
    "\n",
    "Functions are great to use when data is central to the work being done. Classes are great when you need to represent a collection of attributes and methods that will be used over and over again in other places.\n",
    "\n",
    "Generally if you find your self writing functions inside of functions you should consider writing a class instead. If you only have one function in a class then stick with just writing a function.\n",
    "\n",
    "\n",
    "\n",
    "- Classes provide an easy way of keeping the data members and methods together in one place which helps in keeping the program more organized.\n",
    "- Using classes also provides another functionality of this object-oriented programming paradigm, that is, inheritance.\n",
    "- Classes also help in overriding any standard operator.\n",
    "- Using classes provides the ability to reuse the code which makes the program more efficient.\n",
    "- Grouping related functions and keeping them in one place (inside a class) provides a clean structure to the code which increases the readability of the program."
   ]
  },
  {
   "cell_type": "markdown",
   "metadata": {},
   "source": [
    "###  <a id='#5.2.2.'> 5.2.2. Defining a class </a> \n",
    "it is considered to be a good practice to include a brief description about the class to increase the readability and understandability of the code."
   ]
  },
  {
   "cell_type": "markdown",
   "metadata": {},
   "source": [
    "<font size=\"4\">\n",
    "<font color='green'>class</font> class_name:<br> <br>\n",
    "&nbsp;&nbsp;&nbsp;&nbsp;    \"\"\"Description\"\"\" <br><br>\n",
    "&nbsp;&nbsp;&nbsp;&nbsp;<font color='red'>def __init__</font><font color  = 'blue'>( <font color='red'>self</font>, parameter1, parameter2 )</font>:<br><br>\n",
    "</font>"
   ]
  },
  {
   "cell_type": "markdown",
   "metadata": {},
   "source": [
    "### <a id='#5.2.3.'> 5.2.3. Attributes </a> \n",
    "A value associated with an object which is referenced by name using dotted expressions. For example, `np.size`."
   ]
  },
  {
   "cell_type": "code",
   "execution_count": 181,
   "metadata": {},
   "outputs": [
    {
     "data": {
      "text/plain": [
       "(16, 15)"
      ]
     },
     "execution_count": 181,
     "metadata": {},
     "output_type": "execute_result"
    }
   ],
   "source": [
    "extraction_fish.shape"
   ]
  },
  {
   "cell_type": "code",
   "execution_count": 196,
   "metadata": {},
   "outputs": [
    {
     "data": {
      "text/plain": [
       "array([ 8, 18])"
      ]
     },
     "execution_count": 196,
     "metadata": {},
     "output_type": "execute_result"
    }
   ],
   "source": [
    "import numpy as np \n",
    "\n",
    "A = np.arange( 8, 25 , 10)\n",
    "A"
   ]
  },
  {
   "cell_type": "code",
   "execution_count": 192,
   "metadata": {},
   "outputs": [
    {
     "data": {
      "text/plain": [
       "array([[1, 2, 4],\n",
       "       [5, 6, 7]])"
      ]
     },
     "execution_count": 192,
     "metadata": {},
     "output_type": "execute_result"
    }
   ],
   "source": [
    "matrix = np.array( [ [1, 2, 4], [5, 6, 7]   ] )\n",
    "matrix"
   ]
  },
  {
   "cell_type": "code",
   "execution_count": 193,
   "metadata": {},
   "outputs": [
    {
     "data": {
      "text/plain": [
       "1"
      ]
     },
     "execution_count": 193,
     "metadata": {},
     "output_type": "execute_result"
    }
   ],
   "source": [
    "A.ndim"
   ]
  },
  {
   "cell_type": "code",
   "execution_count": 194,
   "metadata": {},
   "outputs": [
    {
     "data": {
      "text/plain": [
       "2"
      ]
     },
     "execution_count": 194,
     "metadata": {},
     "output_type": "execute_result"
    }
   ],
   "source": [
    "matrix.ndim"
   ]
  },
  {
   "cell_type": "code",
   "execution_count": 195,
   "metadata": {},
   "outputs": [
    {
     "data": {
      "text/plain": [
       "1"
      ]
     },
     "execution_count": 195,
     "metadata": {},
     "output_type": "execute_result"
    }
   ],
   "source": [
    "A.ndim"
   ]
  },
  {
   "cell_type": "code",
   "execution_count": 13,
   "metadata": {},
   "outputs": [
    {
     "data": {
      "text/plain": [
       "1"
      ]
     },
     "execution_count": 13,
     "metadata": {},
     "output_type": "execute_result"
    }
   ],
   "source": [
    "A.ndim"
   ]
  },
  {
   "cell_type": "code",
   "execution_count": 175,
   "metadata": {},
   "outputs": [
    {
     "data": {
      "text/plain": [
       "(9,)"
      ]
     },
     "execution_count": 175,
     "metadata": {},
     "output_type": "execute_result"
    }
   ],
   "source": [
    "A.shape"
   ]
  },
  {
   "cell_type": "code",
   "execution_count": 8,
   "metadata": {},
   "outputs": [
    {
     "data": {
      "text/plain": [
       "dtype('int32')"
      ]
     },
     "execution_count": 8,
     "metadata": {},
     "output_type": "execute_result"
    }
   ],
   "source": [
    "A.dtype"
   ]
  },
  {
   "cell_type": "code",
   "execution_count": 9,
   "metadata": {},
   "outputs": [],
   "source": [
    "#list_1  =  [\"alex\", \"Anzony\", \"Mariela\"]"
   ]
  },
  {
   "cell_type": "code",
   "execution_count": 10,
   "metadata": {},
   "outputs": [],
   "source": [
    "#list_1"
   ]
  },
  {
   "cell_type": "code",
   "execution_count": 11,
   "metadata": {},
   "outputs": [
    {
     "data": {
      "text/plain": [
       "4"
      ]
     },
     "execution_count": 11,
     "metadata": {},
     "output_type": "execute_result"
    }
   ],
   "source": [
    "# this an attribute / size\n",
    "A.itemsize"
   ]
  },
  {
   "cell_type": "code",
   "execution_count": 155,
   "metadata": {},
   "outputs": [
    {
     "data": {
      "text/plain": [
       "(9,)"
      ]
     },
     "execution_count": 155,
     "metadata": {},
     "output_type": "execute_result"
    }
   ],
   "source": [
    "#\n",
    "A.shape"
   ]
  },
  {
   "cell_type": "markdown",
   "metadata": {},
   "source": [
    "### <a id='#5.2.5.'> 5.2.5. Method </a>\n",
    "A function which is defined inside a class body. If called as an attribute of an instance of that class, the method will get the instance object as its first argument (which is usually called self). See function and nested scope."
   ]
  },
  {
   "cell_type": "code",
   "execution_count": 197,
   "metadata": {},
   "outputs": [
    {
     "data": {
      "text/plain": [
       "numpy.ndarray"
      ]
     },
     "execution_count": 197,
     "metadata": {},
     "output_type": "execute_result"
    }
   ],
   "source": [
    "A = np.arange( 0, 10 )\n",
    "type(A)"
   ]
  },
  {
   "cell_type": "code",
   "execution_count": 198,
   "metadata": {},
   "outputs": [
    {
     "data": {
      "text/plain": [
       "array([0, 1, 2, 3, 4, 5, 6, 7, 8, 9])"
      ]
     },
     "execution_count": 198,
     "metadata": {},
     "output_type": "execute_result"
    }
   ],
   "source": [
    "A"
   ]
  },
  {
   "cell_type": "code",
   "execution_count": 203,
   "metadata": {},
   "outputs": [
    {
     "data": {
      "text/plain": [
       "9"
      ]
     },
     "execution_count": 203,
     "metadata": {},
     "output_type": "execute_result"
    }
   ],
   "source": [
    "A.max()"
   ]
  },
  {
   "cell_type": "code",
   "execution_count": 201,
   "metadata": {},
   "outputs": [
    {
     "data": {
      "text/plain": [
       "0"
      ]
     },
     "execution_count": 201,
     "metadata": {},
     "output_type": "execute_result"
    }
   ],
   "source": [
    "A.min()"
   ]
  },
  {
   "cell_type": "code",
   "execution_count": 19,
   "metadata": {},
   "outputs": [
    {
     "data": {
      "text/plain": [
       "24"
      ]
     },
     "execution_count": 19,
     "metadata": {},
     "output_type": "execute_result"
    }
   ],
   "source": [
    "A.max()"
   ]
  },
  {
   "cell_type": "code",
   "execution_count": 20,
   "metadata": {},
   "outputs": [
    {
     "data": {
      "text/plain": [
       "8"
      ]
     },
     "execution_count": 20,
     "metadata": {},
     "output_type": "execute_result"
    }
   ],
   "source": [
    "A.min()# np.max(A)"
   ]
  },
  {
   "cell_type": "code",
   "execution_count": 21,
   "metadata": {},
   "outputs": [
    {
     "data": {
      "text/plain": [
       "16.0"
      ]
     },
     "execution_count": 21,
     "metadata": {},
     "output_type": "execute_result"
    }
   ],
   "source": [
    "A.mean()"
   ]
  },
  {
   "cell_type": "code",
   "execution_count": 213,
   "metadata": {},
   "outputs": [],
   "source": [
    "B = A "
   ]
  },
  {
   "cell_type": "code",
   "execution_count": 190,
   "metadata": {},
   "outputs": [
    {
     "data": {
      "text/plain": [
       "array([[ 8,  9, 10, 11, 12, 13, 14, 15, 16, 17, 18, 19, 20, 21, 22, 23,\n",
       "        24]])"
      ]
     },
     "execution_count": 190,
     "metadata": {},
     "output_type": "execute_result"
    }
   ],
   "source": [
    "# this a method\n",
    "A.reshape( 1, -1 )"
   ]
  },
  {
   "cell_type": "code",
   "execution_count": 191,
   "metadata": {},
   "outputs": [
    {
     "data": {
      "text/plain": [
       "(17,)"
      ]
     },
     "execution_count": 191,
     "metadata": {},
     "output_type": "execute_result"
    }
   ],
   "source": [
    "A.shape"
   ]
  },
  {
   "cell_type": "code",
   "execution_count": 194,
   "metadata": {},
   "outputs": [
    {
     "data": {
      "text/plain": [
       "(1, 17)"
      ]
     },
     "execution_count": 194,
     "metadata": {},
     "output_type": "execute_result"
    }
   ],
   "source": [
    "A_2 = A.reshape( 1, -1 )\n",
    "A_2.shape"
   ]
  },
  {
   "cell_type": "code",
   "execution_count": 204,
   "metadata": {},
   "outputs": [
    {
     "data": {
      "text/plain": [
       "['T',\n",
       " '__abs__',\n",
       " '__add__',\n",
       " '__and__',\n",
       " '__array__',\n",
       " '__array_finalize__',\n",
       " '__array_function__',\n",
       " '__array_interface__',\n",
       " '__array_prepare__',\n",
       " '__array_priority__',\n",
       " '__array_struct__',\n",
       " '__array_ufunc__',\n",
       " '__array_wrap__',\n",
       " '__bool__',\n",
       " '__class__',\n",
       " '__class_getitem__',\n",
       " '__complex__',\n",
       " '__contains__',\n",
       " '__copy__',\n",
       " '__deepcopy__',\n",
       " '__delattr__',\n",
       " '__delitem__',\n",
       " '__dir__',\n",
       " '__divmod__',\n",
       " '__dlpack__',\n",
       " '__dlpack_device__',\n",
       " '__doc__',\n",
       " '__eq__',\n",
       " '__float__',\n",
       " '__floordiv__',\n",
       " '__format__',\n",
       " '__ge__',\n",
       " '__getattribute__',\n",
       " '__getitem__',\n",
       " '__gt__',\n",
       " '__hash__',\n",
       " '__iadd__',\n",
       " '__iand__',\n",
       " '__ifloordiv__',\n",
       " '__ilshift__',\n",
       " '__imatmul__',\n",
       " '__imod__',\n",
       " '__imul__',\n",
       " '__index__',\n",
       " '__init__',\n",
       " '__init_subclass__',\n",
       " '__int__',\n",
       " '__invert__',\n",
       " '__ior__',\n",
       " '__ipow__',\n",
       " '__irshift__',\n",
       " '__isub__',\n",
       " '__iter__',\n",
       " '__itruediv__',\n",
       " '__ixor__',\n",
       " '__le__',\n",
       " '__len__',\n",
       " '__lshift__',\n",
       " '__lt__',\n",
       " '__matmul__',\n",
       " '__mod__',\n",
       " '__mul__',\n",
       " '__ne__',\n",
       " '__neg__',\n",
       " '__new__',\n",
       " '__or__',\n",
       " '__pos__',\n",
       " '__pow__',\n",
       " '__radd__',\n",
       " '__rand__',\n",
       " '__rdivmod__',\n",
       " '__reduce__',\n",
       " '__reduce_ex__',\n",
       " '__repr__',\n",
       " '__rfloordiv__',\n",
       " '__rlshift__',\n",
       " '__rmatmul__',\n",
       " '__rmod__',\n",
       " '__rmul__',\n",
       " '__ror__',\n",
       " '__rpow__',\n",
       " '__rrshift__',\n",
       " '__rshift__',\n",
       " '__rsub__',\n",
       " '__rtruediv__',\n",
       " '__rxor__',\n",
       " '__setattr__',\n",
       " '__setitem__',\n",
       " '__setstate__',\n",
       " '__sizeof__',\n",
       " '__str__',\n",
       " '__sub__',\n",
       " '__subclasshook__',\n",
       " '__truediv__',\n",
       " '__xor__',\n",
       " 'all',\n",
       " 'any',\n",
       " 'argmax',\n",
       " 'argmin',\n",
       " 'argpartition',\n",
       " 'argsort',\n",
       " 'astype',\n",
       " 'base',\n",
       " 'byteswap',\n",
       " 'choose',\n",
       " 'clip',\n",
       " 'compress',\n",
       " 'conj',\n",
       " 'conjugate',\n",
       " 'copy',\n",
       " 'ctypes',\n",
       " 'cumprod',\n",
       " 'cumsum',\n",
       " 'data',\n",
       " 'diagonal',\n",
       " 'dot',\n",
       " 'dtype',\n",
       " 'dump',\n",
       " 'dumps',\n",
       " 'fill',\n",
       " 'flags',\n",
       " 'flat',\n",
       " 'flatten',\n",
       " 'getfield',\n",
       " 'imag',\n",
       " 'item',\n",
       " 'itemset',\n",
       " 'itemsize',\n",
       " 'max',\n",
       " 'mean',\n",
       " 'min',\n",
       " 'nbytes',\n",
       " 'ndim',\n",
       " 'newbyteorder',\n",
       " 'nonzero',\n",
       " 'partition',\n",
       " 'prod',\n",
       " 'ptp',\n",
       " 'put',\n",
       " 'ravel',\n",
       " 'real',\n",
       " 'repeat',\n",
       " 'reshape',\n",
       " 'resize',\n",
       " 'round',\n",
       " 'searchsorted',\n",
       " 'setfield',\n",
       " 'setflags',\n",
       " 'shape',\n",
       " 'size',\n",
       " 'sort',\n",
       " 'squeeze',\n",
       " 'std',\n",
       " 'strides',\n",
       " 'sum',\n",
       " 'swapaxes',\n",
       " 'take',\n",
       " 'tobytes',\n",
       " 'tofile',\n",
       " 'tolist',\n",
       " 'tostring',\n",
       " 'trace',\n",
       " 'transpose',\n",
       " 'var',\n",
       " 'view']"
      ]
     },
     "execution_count": 204,
     "metadata": {},
     "output_type": "execute_result"
    }
   ],
   "source": [
    "dir(A)"
   ]
  },
  {
   "cell_type": "code",
   "execution_count": 22,
   "metadata": {},
   "outputs": [
    {
     "data": {
      "text/plain": [
       "['T',\n",
       " '__abs__',\n",
       " '__add__',\n",
       " '__and__',\n",
       " '__array__',\n",
       " '__array_finalize__',\n",
       " '__array_function__',\n",
       " '__array_interface__',\n",
       " '__array_prepare__',\n",
       " '__array_priority__',\n",
       " '__array_struct__',\n",
       " '__array_ufunc__',\n",
       " '__array_wrap__',\n",
       " '__bool__',\n",
       " '__class__',\n",
       " '__complex__',\n",
       " '__contains__',\n",
       " '__copy__',\n",
       " '__deepcopy__',\n",
       " '__delattr__',\n",
       " '__delitem__',\n",
       " '__dir__',\n",
       " '__divmod__',\n",
       " '__doc__',\n",
       " '__eq__',\n",
       " '__float__',\n",
       " '__floordiv__',\n",
       " '__format__',\n",
       " '__ge__',\n",
       " '__getattribute__',\n",
       " '__getitem__',\n",
       " '__gt__',\n",
       " '__hash__',\n",
       " '__iadd__',\n",
       " '__iand__',\n",
       " '__ifloordiv__',\n",
       " '__ilshift__',\n",
       " '__imatmul__',\n",
       " '__imod__',\n",
       " '__imul__',\n",
       " '__index__',\n",
       " '__init__',\n",
       " '__init_subclass__',\n",
       " '__int__',\n",
       " '__invert__',\n",
       " '__ior__',\n",
       " '__ipow__',\n",
       " '__irshift__',\n",
       " '__isub__',\n",
       " '__iter__',\n",
       " '__itruediv__',\n",
       " '__ixor__',\n",
       " '__le__',\n",
       " '__len__',\n",
       " '__lshift__',\n",
       " '__lt__',\n",
       " '__matmul__',\n",
       " '__mod__',\n",
       " '__mul__',\n",
       " '__ne__',\n",
       " '__neg__',\n",
       " '__new__',\n",
       " '__or__',\n",
       " '__pos__',\n",
       " '__pow__',\n",
       " '__radd__',\n",
       " '__rand__',\n",
       " '__rdivmod__',\n",
       " '__reduce__',\n",
       " '__reduce_ex__',\n",
       " '__repr__',\n",
       " '__rfloordiv__',\n",
       " '__rlshift__',\n",
       " '__rmatmul__',\n",
       " '__rmod__',\n",
       " '__rmul__',\n",
       " '__ror__',\n",
       " '__rpow__',\n",
       " '__rrshift__',\n",
       " '__rshift__',\n",
       " '__rsub__',\n",
       " '__rtruediv__',\n",
       " '__rxor__',\n",
       " '__setattr__',\n",
       " '__setitem__',\n",
       " '__setstate__',\n",
       " '__sizeof__',\n",
       " '__str__',\n",
       " '__sub__',\n",
       " '__subclasshook__',\n",
       " '__truediv__',\n",
       " '__xor__',\n",
       " 'all',\n",
       " 'any',\n",
       " 'argmax',\n",
       " 'argmin',\n",
       " 'argpartition',\n",
       " 'argsort',\n",
       " 'astype',\n",
       " 'base',\n",
       " 'byteswap',\n",
       " 'choose',\n",
       " 'clip',\n",
       " 'compress',\n",
       " 'conj',\n",
       " 'conjugate',\n",
       " 'copy',\n",
       " 'ctypes',\n",
       " 'cumprod',\n",
       " 'cumsum',\n",
       " 'data',\n",
       " 'diagonal',\n",
       " 'dot',\n",
       " 'dtype',\n",
       " 'dump',\n",
       " 'dumps',\n",
       " 'fill',\n",
       " 'flags',\n",
       " 'flat',\n",
       " 'flatten',\n",
       " 'getfield',\n",
       " 'imag',\n",
       " 'item',\n",
       " 'itemset',\n",
       " 'itemsize',\n",
       " 'max',\n",
       " 'mean',\n",
       " 'min',\n",
       " 'nbytes',\n",
       " 'ndim',\n",
       " 'newbyteorder',\n",
       " 'nonzero',\n",
       " 'partition',\n",
       " 'prod',\n",
       " 'ptp',\n",
       " 'put',\n",
       " 'ravel',\n",
       " 'real',\n",
       " 'repeat',\n",
       " 'reshape',\n",
       " 'resize',\n",
       " 'round',\n",
       " 'searchsorted',\n",
       " 'setfield',\n",
       " 'setflags',\n",
       " 'shape',\n",
       " 'size',\n",
       " 'sort',\n",
       " 'squeeze',\n",
       " 'std',\n",
       " 'strides',\n",
       " 'sum',\n",
       " 'swapaxes',\n",
       " 'take',\n",
       " 'tobytes',\n",
       " 'tofile',\n",
       " 'tolist',\n",
       " 'tostring',\n",
       " 'trace',\n",
       " 'transpose',\n",
       " 'var',\n",
       " 'view']"
      ]
     },
     "execution_count": 22,
     "metadata": {},
     "output_type": "execute_result"
    }
   ],
   "source": [
    "dir(A)"
   ]
  },
  {
   "cell_type": "code",
   "execution_count": 175,
   "metadata": {},
   "outputs": [
    {
     "data": {
      "text/plain": [
       "['T',\n",
       " '__abs__',\n",
       " '__add__',\n",
       " '__and__',\n",
       " '__array__',\n",
       " '__array_finalize__',\n",
       " '__array_function__',\n",
       " '__array_interface__',\n",
       " '__array_prepare__',\n",
       " '__array_priority__',\n",
       " '__array_struct__',\n",
       " '__array_ufunc__',\n",
       " '__array_wrap__',\n",
       " '__bool__',\n",
       " '__class__',\n",
       " '__complex__',\n",
       " '__contains__',\n",
       " '__copy__',\n",
       " '__deepcopy__',\n",
       " '__delattr__',\n",
       " '__delitem__',\n",
       " '__dir__',\n",
       " '__divmod__',\n",
       " '__doc__',\n",
       " '__eq__',\n",
       " '__float__',\n",
       " '__floordiv__',\n",
       " '__format__',\n",
       " '__ge__',\n",
       " '__getattribute__',\n",
       " '__getitem__',\n",
       " '__gt__',\n",
       " '__hash__',\n",
       " '__iadd__',\n",
       " '__iand__',\n",
       " '__ifloordiv__',\n",
       " '__ilshift__',\n",
       " '__imatmul__',\n",
       " '__imod__',\n",
       " '__imul__',\n",
       " '__index__',\n",
       " '__init__',\n",
       " '__init_subclass__',\n",
       " '__int__',\n",
       " '__invert__',\n",
       " '__ior__',\n",
       " '__ipow__',\n",
       " '__irshift__',\n",
       " '__isub__',\n",
       " '__iter__',\n",
       " '__itruediv__',\n",
       " '__ixor__',\n",
       " '__le__',\n",
       " '__len__',\n",
       " '__lshift__',\n",
       " '__lt__',\n",
       " '__matmul__',\n",
       " '__mod__',\n",
       " '__mul__',\n",
       " '__ne__',\n",
       " '__neg__',\n",
       " '__new__',\n",
       " '__or__',\n",
       " '__pos__',\n",
       " '__pow__',\n",
       " '__radd__',\n",
       " '__rand__',\n",
       " '__rdivmod__',\n",
       " '__reduce__',\n",
       " '__reduce_ex__',\n",
       " '__repr__',\n",
       " '__rfloordiv__',\n",
       " '__rlshift__',\n",
       " '__rmatmul__',\n",
       " '__rmod__',\n",
       " '__rmul__',\n",
       " '__ror__',\n",
       " '__rpow__',\n",
       " '__rrshift__',\n",
       " '__rshift__',\n",
       " '__rsub__',\n",
       " '__rtruediv__',\n",
       " '__rxor__',\n",
       " '__setattr__',\n",
       " '__setitem__',\n",
       " '__setstate__',\n",
       " '__sizeof__',\n",
       " '__str__',\n",
       " '__sub__',\n",
       " '__subclasshook__',\n",
       " '__truediv__',\n",
       " '__xor__',\n",
       " 'all',\n",
       " 'any',\n",
       " 'argmax',\n",
       " 'argmin',\n",
       " 'argpartition',\n",
       " 'argsort',\n",
       " 'astype',\n",
       " 'base',\n",
       " 'byteswap',\n",
       " 'choose',\n",
       " 'clip',\n",
       " 'compress',\n",
       " 'conj',\n",
       " 'conjugate',\n",
       " 'copy',\n",
       " 'ctypes',\n",
       " 'cumprod',\n",
       " 'cumsum',\n",
       " 'data',\n",
       " 'diagonal',\n",
       " 'dot',\n",
       " 'dtype',\n",
       " 'dump',\n",
       " 'dumps',\n",
       " 'fill',\n",
       " 'flags',\n",
       " 'flat',\n",
       " 'flatten',\n",
       " 'getfield',\n",
       " 'imag',\n",
       " 'item',\n",
       " 'itemset',\n",
       " 'itemsize',\n",
       " 'max',\n",
       " 'mean',\n",
       " 'min',\n",
       " 'nbytes',\n",
       " 'ndim',\n",
       " 'newbyteorder',\n",
       " 'nonzero',\n",
       " 'partition',\n",
       " 'prod',\n",
       " 'ptp',\n",
       " 'put',\n",
       " 'ravel',\n",
       " 'real',\n",
       " 'repeat',\n",
       " 'reshape',\n",
       " 'resize',\n",
       " 'round',\n",
       " 'searchsorted',\n",
       " 'setfield',\n",
       " 'setflags',\n",
       " 'shape',\n",
       " 'size',\n",
       " 'sort',\n",
       " 'squeeze',\n",
       " 'std',\n",
       " 'strides',\n",
       " 'sum',\n",
       " 'swapaxes',\n",
       " 'take',\n",
       " 'tobytes',\n",
       " 'tofile',\n",
       " 'tolist',\n",
       " 'tostring',\n",
       " 'trace',\n",
       " 'transpose',\n",
       " 'var',\n",
       " 'view']"
      ]
     },
     "execution_count": 175,
     "metadata": {},
     "output_type": "execute_result"
    }
   ],
   "source": [
    "dir(A)"
   ]
  },
  {
   "cell_type": "code",
   "execution_count": 184,
   "metadata": {},
   "outputs": [
    {
     "data": {
      "text/plain": [
       "['T',\n",
       " '__abs__',\n",
       " '__add__',\n",
       " '__and__',\n",
       " '__array__',\n",
       " '__array_finalize__',\n",
       " '__array_function__',\n",
       " '__array_interface__',\n",
       " '__array_prepare__',\n",
       " '__array_priority__',\n",
       " '__array_struct__',\n",
       " '__array_ufunc__',\n",
       " '__array_wrap__',\n",
       " '__bool__',\n",
       " '__class__',\n",
       " '__complex__',\n",
       " '__contains__',\n",
       " '__copy__',\n",
       " '__deepcopy__',\n",
       " '__delattr__',\n",
       " '__delitem__',\n",
       " '__dir__',\n",
       " '__divmod__',\n",
       " '__doc__',\n",
       " '__eq__',\n",
       " '__float__',\n",
       " '__floordiv__',\n",
       " '__format__',\n",
       " '__ge__',\n",
       " '__getattribute__',\n",
       " '__getitem__',\n",
       " '__gt__',\n",
       " '__hash__',\n",
       " '__iadd__',\n",
       " '__iand__',\n",
       " '__ifloordiv__',\n",
       " '__ilshift__',\n",
       " '__imatmul__',\n",
       " '__imod__',\n",
       " '__imul__',\n",
       " '__index__',\n",
       " '__init__',\n",
       " '__init_subclass__',\n",
       " '__int__',\n",
       " '__invert__',\n",
       " '__ior__',\n",
       " '__ipow__',\n",
       " '__irshift__',\n",
       " '__isub__',\n",
       " '__iter__',\n",
       " '__itruediv__',\n",
       " '__ixor__',\n",
       " '__le__',\n",
       " '__len__',\n",
       " '__lshift__',\n",
       " '__lt__',\n",
       " '__matmul__',\n",
       " '__mod__',\n",
       " '__mul__',\n",
       " '__ne__',\n",
       " '__neg__',\n",
       " '__new__',\n",
       " '__or__',\n",
       " '__pos__',\n",
       " '__pow__',\n",
       " '__radd__',\n",
       " '__rand__',\n",
       " '__rdivmod__',\n",
       " '__reduce__',\n",
       " '__reduce_ex__',\n",
       " '__repr__',\n",
       " '__rfloordiv__',\n",
       " '__rlshift__',\n",
       " '__rmatmul__',\n",
       " '__rmod__',\n",
       " '__rmul__',\n",
       " '__ror__',\n",
       " '__rpow__',\n",
       " '__rrshift__',\n",
       " '__rshift__',\n",
       " '__rsub__',\n",
       " '__rtruediv__',\n",
       " '__rxor__',\n",
       " '__setattr__',\n",
       " '__setitem__',\n",
       " '__setstate__',\n",
       " '__sizeof__',\n",
       " '__str__',\n",
       " '__sub__',\n",
       " '__subclasshook__',\n",
       " '__truediv__',\n",
       " '__xor__',\n",
       " 'all',\n",
       " 'any',\n",
       " 'argmax',\n",
       " 'argmin',\n",
       " 'argpartition',\n",
       " 'argsort',\n",
       " 'astype',\n",
       " 'base',\n",
       " 'byteswap',\n",
       " 'choose',\n",
       " 'clip',\n",
       " 'compress',\n",
       " 'conj',\n",
       " 'conjugate',\n",
       " 'copy',\n",
       " 'ctypes',\n",
       " 'cumprod',\n",
       " 'cumsum',\n",
       " 'data',\n",
       " 'diagonal',\n",
       " 'dot',\n",
       " 'dtype',\n",
       " 'dump',\n",
       " 'dumps',\n",
       " 'fill',\n",
       " 'flags',\n",
       " 'flat',\n",
       " 'flatten',\n",
       " 'getfield',\n",
       " 'imag',\n",
       " 'item',\n",
       " 'itemset',\n",
       " 'itemsize',\n",
       " 'max',\n",
       " 'mean',\n",
       " 'min',\n",
       " 'nbytes',\n",
       " 'ndim',\n",
       " 'newbyteorder',\n",
       " 'nonzero',\n",
       " 'partition',\n",
       " 'prod',\n",
       " 'ptp',\n",
       " 'put',\n",
       " 'ravel',\n",
       " 'real',\n",
       " 'repeat',\n",
       " 'reshape',\n",
       " 'resize',\n",
       " 'round',\n",
       " 'searchsorted',\n",
       " 'setfield',\n",
       " 'setflags',\n",
       " 'shape',\n",
       " 'size',\n",
       " 'sort',\n",
       " 'squeeze',\n",
       " 'std',\n",
       " 'strides',\n",
       " 'sum',\n",
       " 'swapaxes',\n",
       " 'take',\n",
       " 'tobytes',\n",
       " 'tofile',\n",
       " 'tolist',\n",
       " 'tostring',\n",
       " 'trace',\n",
       " 'transpose',\n",
       " 'var',\n",
       " 'view']"
      ]
     },
     "execution_count": 184,
     "metadata": {},
     "output_type": "execute_result"
    }
   ],
   "source": [
    "dir(A)"
   ]
  },
  {
   "cell_type": "code",
   "execution_count": 118,
   "metadata": {},
   "outputs": [
    {
     "data": {
      "text/plain": [
       "8"
      ]
     },
     "execution_count": 118,
     "metadata": {},
     "output_type": "execute_result"
    }
   ],
   "source": [
    "A.min()"
   ]
  },
  {
   "cell_type": "markdown",
   "metadata": {},
   "source": [
    "|Name| Definition|\n",
    "|---|---|\n",
    "|attribute|A variable stored in an instance or class.|\n",
    "|method|A function stored in an instance or class.|"
   ]
  },
  {
   "cell_type": "markdown",
   "metadata": {},
   "source": [
    "###  <a id='#5.2.6.'> 5.2.6. \\_\\_init\\_\\_() </a>\n",
    "\n",
    "In python classes, “__init__” method is reserved. It is automatically called when you create an object using a class and is used to initialize the variables of the class. It is equivalent to a constructor.\n",
    "\n",
    "- Like any other method, init method starts with the keyword **“def”**\n",
    "- **“self”** is the first parameter in this method just like any other method although in case of init, **“self”** refers to a newly created object unlike other methods where it refers to the current object or instance associated with that particular method.\n",
    "- Additional parameters can be added"
   ]
  },
  {
   "cell_type": "markdown",
   "metadata": {},
   "source": [
    "### <a id='#5.2.7.'> 5.2.7. Self</a>\n",
    "self represents the instance of the class. By using the **“self”** keyword we build attributes and methods for the class in python. It binds the attributes with the given arguments."
   ]
  },
  {
   "cell_type": "markdown",
   "metadata": {},
   "source": [
    "In the example, **MyFirstClass** I use self to define attributes and methods. "
   ]
  },
  {
   "cell_type": "code",
   "execution_count": 50,
   "metadata": {},
   "outputs": [],
   "source": [
    "def print_name(name):\n",
    "    print(name)"
   ]
  },
  {
   "cell_type": "code",
   "execution_count": 51,
   "metadata": {},
   "outputs": [
    {
     "name": "stdout",
     "output_type": "stream",
     "text": [
      "Alexander\n"
     ]
    }
   ],
   "source": [
    "print_name(name = \"Alexander\")"
   ]
  },
  {
   "cell_type": "code",
   "execution_count": 217,
   "metadata": {},
   "outputs": [],
   "source": [
    "class medialab_students:\n",
    "    \n",
    "    def __init__(self, name, age, school ):\n",
    "        \n",
    "        self.name_student = name\n",
    "        self.age_student = age\n",
    "        self.name_school = school\n",
    "        \n",
    "    def print_name(self):\n",
    "        print( f'I am {self.name_student}.' )\n",
    "        \n",
    "    def print_age(self):\n",
    "        print( f'I am  { self.age_student } years old' )\n"
   ]
  },
  {
   "cell_type": "code",
   "execution_count": 218,
   "metadata": {},
   "outputs": [],
   "source": [
    "student1 =  medialab_students(name=\"Emily Pinares\", age= 25, school = \"Rosa de Santa Maria\")"
   ]
  },
  {
   "cell_type": "code",
   "execution_count": 219,
   "metadata": {},
   "outputs": [
    {
     "data": {
      "text/plain": [
       "'Rosa de Santa Maria'"
      ]
     },
     "execution_count": 219,
     "metadata": {},
     "output_type": "execute_result"
    }
   ],
   "source": [
    "student1.name_school"
   ]
  },
  {
   "cell_type": "code",
   "execution_count": 213,
   "metadata": {},
   "outputs": [
    {
     "data": {
      "text/plain": [
       "'Emily Pinares'"
      ]
     },
     "execution_count": 213,
     "metadata": {},
     "output_type": "execute_result"
    }
   ],
   "source": [
    "student1.name_student"
   ]
  },
  {
   "cell_type": "code",
   "execution_count": 209,
   "metadata": {},
   "outputs": [
    {
     "data": {
      "text/plain": [
       "25"
      ]
     },
     "execution_count": 209,
     "metadata": {},
     "output_type": "execute_result"
    }
   ],
   "source": [
    "student1.age_student"
   ]
  },
  {
   "cell_type": "code",
   "execution_count": 210,
   "metadata": {},
   "outputs": [
    {
     "name": "stdout",
     "output_type": "stream",
     "text": [
      "I am Emily Pinares.\n"
     ]
    }
   ],
   "source": [
    "student1.print_name()"
   ]
  },
  {
   "cell_type": "code",
   "execution_count": 211,
   "metadata": {},
   "outputs": [
    {
     "name": "stdout",
     "output_type": "stream",
     "text": [
      "I am  25 years old\n"
     ]
    }
   ],
   "source": [
    "student1.print_age()"
   ]
  },
  {
   "cell_type": "code",
   "execution_count": 45,
   "metadata": {},
   "outputs": [],
   "source": [
    "class qlab_students:\n",
    "    \n",
    "    def __init__(self, name, age):\n",
    "        self.name_student = name\n",
    "        self.age_student = age\n",
    "\n",
    "    def print_name( self ):\n",
    "        print( f'I am { self.name_student }.' )\n",
    "        \n",
    "    def print_age( self ):\n",
    "        print( f'I am  { self.age_student } years old' ) "
   ]
  },
  {
   "cell_type": "code",
   "execution_count": 52,
   "metadata": {},
   "outputs": [],
   "source": [
    "student1 = qlab_students( name=\"Maria Alejandra Colan\", age=\"20\"  )"
   ]
  },
  {
   "cell_type": "code",
   "execution_count": 53,
   "metadata": {},
   "outputs": [
    {
     "data": {
      "text/plain": [
       "__main__.qlab_students"
      ]
     },
     "execution_count": 53,
     "metadata": {},
     "output_type": "execute_result"
    }
   ],
   "source": [
    "type(student1)"
   ]
  },
  {
   "cell_type": "code",
   "execution_count": 54,
   "metadata": {},
   "outputs": [
    {
     "name": "stdout",
     "output_type": "stream",
     "text": [
      "I am  20 years old\n"
     ]
    }
   ],
   "source": [
    "student1.print_age()"
   ]
  },
  {
   "cell_type": "code",
   "execution_count": null,
   "metadata": {},
   "outputs": [],
   "source": []
  },
  {
   "cell_type": "code",
   "execution_count": 48,
   "metadata": {},
   "outputs": [
    {
     "name": "stdout",
     "output_type": "stream",
     "text": [
      "I am Maria Alejandra Colan.\n"
     ]
    }
   ],
   "source": [
    "# Call methods\n",
    "student1.print_name()"
   ]
  },
  {
   "cell_type": "code",
   "execution_count": null,
   "metadata": {},
   "outputs": [],
   "source": []
  },
  {
   "cell_type": "code",
   "execution_count": 105,
   "metadata": {},
   "outputs": [],
   "source": [
    "def calculator(x, y):\n",
    "    mult = x*y\n",
    "    return(mult)"
   ]
  },
  {
   "cell_type": "code",
   "execution_count": 106,
   "metadata": {},
   "outputs": [
    {
     "data": {
      "text/plain": [
       "150"
      ]
     },
     "execution_count": 106,
     "metadata": {},
     "output_type": "execute_result"
    }
   ],
   "source": [
    "calculator(10, 15)"
   ]
  },
  {
   "cell_type": "code",
   "execution_count": 107,
   "metadata": {},
   "outputs": [
    {
     "ename": "NameError",
     "evalue": "name 'mult' is not defined",
     "output_type": "error",
     "traceback": [
      "\u001b[1;31m---------------------------------------------------------------------------\u001b[0m",
      "\u001b[1;31mNameError\u001b[0m                                 Traceback (most recent call last)",
      "\u001b[1;32mC:\\Users\\ALEXAN~1\\AppData\\Local\\Temp/ipykernel_25944/1686954695.py\u001b[0m in \u001b[0;36m<module>\u001b[1;34m\u001b[0m\n\u001b[1;32m----> 1\u001b[1;33m \u001b[0mmult\u001b[0m\u001b[1;33m\u001b[0m\u001b[1;33m\u001b[0m\u001b[0m\n\u001b[0m",
      "\u001b[1;31mNameError\u001b[0m: name 'mult' is not defined"
     ]
    }
   ],
   "source": [
    "mult\n"
   ]
  },
  {
   "cell_type": "code",
   "execution_count": 104,
   "metadata": {},
   "outputs": [],
   "source": [
    "list_students = [\"Daniela\", \"Angie\", \"Esteban\", \"Alexandro\", \"Alex\"]"
   ]
  },
  {
   "cell_type": "code",
   "execution_count": null,
   "metadata": {},
   "outputs": [],
   "source": []
  },
  {
   "cell_type": "code",
   "execution_count": 110,
   "metadata": {},
   "outputs": [],
   "source": [
    "# Requested by Brisa\n",
    "class qlab_students_2:\n",
    "    \n",
    "    def __init__(self, list_st, ages, schools):\n",
    "        self.name_student = list_st\n",
    "        self.age_student = ages\n",
    "        self.list_school = schools\n",
    "            \n",
    "    def first_st_list(self):\n",
    "        print(f'the first in list is {self.name_student[0]}.')\n",
    "        \n",
    "    def first_st_list_alpha(self):\n",
    "        list_sorted = sorted(self.name_student)\n",
    "        print(f'the first in the list by alpha order {list_sorted[0]}. ')\n",
    "    \n",
    "    def print_name( self ):\n",
    "        print( f'The list of students is { self.name_student }.' )\n",
    "        \n",
    "    def print_age( self ):\n",
    "        print( f'The range of ages is { self.age_student } years old' ) \n",
    "    \n",
    "    def print_schools( self ):\n",
    "         print( f'The list of schools is  { self.list_school } ' ) "
   ]
  },
  {
   "cell_type": "code",
   "execution_count": 109,
   "metadata": {},
   "outputs": [
    {
     "data": {
      "text/plain": [
       "['__class__',\n",
       " '__delattr__',\n",
       " '__dict__',\n",
       " '__dir__',\n",
       " '__doc__',\n",
       " '__eq__',\n",
       " '__format__',\n",
       " '__ge__',\n",
       " '__getattribute__',\n",
       " '__gt__',\n",
       " '__hash__',\n",
       " '__init__',\n",
       " '__init_subclass__',\n",
       " '__le__',\n",
       " '__lt__',\n",
       " '__module__',\n",
       " '__ne__',\n",
       " '__new__',\n",
       " '__reduce__',\n",
       " '__reduce_ex__',\n",
       " '__repr__',\n",
       " '__setattr__',\n",
       " '__sizeof__',\n",
       " '__str__',\n",
       " '__subclasshook__',\n",
       " '__weakref__',\n",
       " 'first_st_list',\n",
       " 'first_st_list_alpha',\n",
       " 'print_age',\n",
       " 'print_name',\n",
       " 'print_schools']"
      ]
     },
     "execution_count": 109,
     "metadata": {},
     "output_type": "execute_result"
    }
   ],
   "source": [
    "dir(qlab_students_2)"
   ]
  },
  {
   "cell_type": "code",
   "execution_count": 100,
   "metadata": {},
   "outputs": [
    {
     "data": {
      "text/plain": [
       "['Alex', 'Alexandro', 'Angie', 'Daniela', 'Esteban']"
      ]
     },
     "execution_count": 100,
     "metadata": {},
     "output_type": "execute_result"
    }
   ],
   "source": [
    "sorted(list_students)"
   ]
  },
  {
   "cell_type": "code",
   "execution_count": 101,
   "metadata": {},
   "outputs": [],
   "source": [
    "list_students = [\"Daniela\", \"Angie\", \"Esteban\", \"Alexandro\", \"Alex\"]\n",
    "list_ages = [20, 19, 18, 20]\n",
    "list_schools = [\"Claretiano\", \"San Columbano\", \"2045\", \"Colegio Mayor\" ]"
   ]
  },
  {
   "cell_type": "code",
   "execution_count": 111,
   "metadata": {},
   "outputs": [],
   "source": [
    "summer_students =  qlab_students_2( list_st = list_students, ages= list_ages, schools=list_schools)"
   ]
  },
  {
   "cell_type": "code",
   "execution_count": 112,
   "metadata": {},
   "outputs": [
    {
     "data": {
      "text/plain": [
       "['Daniela', 'Angie', 'Esteban', 'Alexandro', 'Alex']"
      ]
     },
     "execution_count": 112,
     "metadata": {},
     "output_type": "execute_result"
    }
   ],
   "source": [
    "# Atribute 1 \n",
    "summer_students.name_student"
   ]
  },
  {
   "cell_type": "code",
   "execution_count": 115,
   "metadata": {},
   "outputs": [
    {
     "data": {
      "text/plain": [
       "[20, 19, 18, 20]"
      ]
     },
     "execution_count": 115,
     "metadata": {},
     "output_type": "execute_result"
    }
   ],
   "source": [
    "# Atribute 2 \n",
    "summer_students.age_student"
   ]
  },
  {
   "cell_type": "code",
   "execution_count": 116,
   "metadata": {},
   "outputs": [
    {
     "data": {
      "text/plain": [
       "['__class__',\n",
       " '__delattr__',\n",
       " '__dict__',\n",
       " '__dir__',\n",
       " '__doc__',\n",
       " '__eq__',\n",
       " '__format__',\n",
       " '__ge__',\n",
       " '__getattribute__',\n",
       " '__gt__',\n",
       " '__hash__',\n",
       " '__init__',\n",
       " '__init_subclass__',\n",
       " '__le__',\n",
       " '__lt__',\n",
       " '__module__',\n",
       " '__ne__',\n",
       " '__new__',\n",
       " '__reduce__',\n",
       " '__reduce_ex__',\n",
       " '__repr__',\n",
       " '__setattr__',\n",
       " '__sizeof__',\n",
       " '__str__',\n",
       " '__subclasshook__',\n",
       " '__weakref__',\n",
       " 'age_student',\n",
       " 'first_st_list',\n",
       " 'first_st_list_alpha',\n",
       " 'list_school',\n",
       " 'name_student',\n",
       " 'print_age',\n",
       " 'print_name',\n",
       " 'print_schools']"
      ]
     },
     "execution_count": 116,
     "metadata": {},
     "output_type": "execute_result"
    }
   ],
   "source": [
    "dir(summer_students)"
   ]
  },
  {
   "cell_type": "code",
   "execution_count": 103,
   "metadata": {},
   "outputs": [
    {
     "name": "stdout",
     "output_type": "stream",
     "text": [
      "The list of schools is  ['Claretiano', 'San Columbano', '2045', 'Colegio Mayor'] \n"
     ]
    }
   ],
   "source": [
    "summer_students.print_schools()"
   ]
  },
  {
   "cell_type": "code",
   "execution_count": 96,
   "metadata": {},
   "outputs": [
    {
     "name": "stdout",
     "output_type": "stream",
     "text": [
      "the first in the list by alpha order Alex. \n"
     ]
    }
   ],
   "source": [
    "summer_students.first_st_list_alpha()"
   ]
  },
  {
   "cell_type": "code",
   "execution_count": 88,
   "metadata": {},
   "outputs": [
    {
     "name": "stdout",
     "output_type": "stream",
     "text": [
      "The list of students is ['Daniela', 'Angie', 'Esteban', 'Alexandro'].\n"
     ]
    }
   ],
   "source": [
    "summer_students.print_name()"
   ]
  },
  {
   "cell_type": "code",
   "execution_count": 74,
   "metadata": {},
   "outputs": [
    {
     "name": "stdout",
     "output_type": "stream",
     "text": [
      "the first in list is Daniela.\n"
     ]
    }
   ],
   "source": [
    "summer_students.first_st_list()"
   ]
  },
  {
   "cell_type": "code",
   "execution_count": null,
   "metadata": {},
   "outputs": [],
   "source": []
  },
  {
   "cell_type": "code",
   "execution_count": 44,
   "metadata": {},
   "outputs": [
    {
     "name": "stdout",
     "output_type": "stream",
     "text": [
      "I am  20 years old\n"
     ]
    }
   ],
   "source": [
    "student1.print_age()"
   ]
  },
  {
   "cell_type": "code",
   "execution_count": 131,
   "metadata": {},
   "outputs": [],
   "source": [
    "class MyFirstClass:\n",
    "    \n",
    "    def __init__(self, name, age):\n",
    "        self.name = name\n",
    "        self.age = age\n",
    "\n",
    "    def print_name_1( self ):\n",
    "        print( f'I am { self.name }.' )\n",
    "        \n",
    "    def print_age_1( self ):\n",
    "        print( f'I am  { self.age } years old' ) "
   ]
  },
  {
   "cell_type": "code",
   "execution_count": 132,
   "metadata": {},
   "outputs": [],
   "source": [
    "#MyFirstClass( name = \"Dorkas\", age = 25)"
   ]
  },
  {
   "cell_type": "code",
   "execution_count": 140,
   "metadata": {},
   "outputs": [
    {
     "name": "stdout",
     "output_type": "stream",
     "text": [
      "I am Miguel.\n",
      "I am  24 years old\n"
     ]
    }
   ],
   "source": [
    "student1 = MyFirstClass( name = \"Miguel\", age = 24)\n",
    "student1.print_name_1()\n",
    "student1.print_age_1()"
   ]
  },
  {
   "cell_type": "code",
   "execution_count": null,
   "metadata": {},
   "outputs": [],
   "source": []
  },
  {
   "cell_type": "code",
   "execution_count": null,
   "metadata": {},
   "outputs": [],
   "source": [
    "student_0 = MyFirstClass( name = \"Jose\" , age = 22, school = \"Saco Oliveros\" )"
   ]
  },
  {
   "cell_type": "code",
   "execution_count": 35,
   "metadata": {},
   "outputs": [],
   "source": [
    "class MyFirstClass:\n",
    "    \n",
    "    def __init__( self, name, age ):\n",
    "        self.name = name\n",
    "        self.age = age\n",
    "    \n",
    "    # best way to define a method\n",
    "    def print_name_1( self ):\n",
    "        print( f'I am { self.name }.' )\n",
    "    \n",
    "    # wrong way to define a method \n",
    "    def print_name_2():\n",
    "        print( f'This is my { name }.' )\n",
    "    \n",
    "    \n",
    "    # the worst way to call a parameter\n",
    "    # we need to define them as attributes\n",
    "    def print_name_3( self ):\n",
    "        print( f'This is my { name }.' )\n",
    "    \n"
   ]
  },
  {
   "cell_type": "code",
   "execution_count": 155,
   "metadata": {},
   "outputs": [],
   "source": [
    "class MyFirstClass:\n",
    "    \n",
    "    def __init__( self, name, age, school ):\n",
    "        self.name = name\n",
    "        self.age = age\n",
    "        self.school = school\n",
    "    \n",
    "    # how to define a method\n",
    "    def print_name_1( self ):\n",
    "        print( f'I am { self.name }.' )\n",
    "    \n",
    "    # other method\n",
    "    def person_age( self ):\n",
    "        print( f' I am { self.name } , I am { self.age } old. ' )\n",
    "    \n",
    "    # method\n",
    "    def person_school( self ):\n",
    "        print( f' I am {self.name} , I studied at {self.school}. ' )\n",
    "      \n",
    "    # # wrong way to define a method \n",
    "    def print_name_2():\n",
    "        print( f'This is my { name }.' )\n",
    "    \n",
    "    # the worst way to call a parameter\n",
    "    # we need to define them as attributes\n",
    "    # def print_name_3( self ):\n",
    "    #     print( f'This is my { name }.' )\n",
    "    "
   ]
  },
  {
   "cell_type": "code",
   "execution_count": null,
   "metadata": {},
   "outputs": [],
   "source": []
  },
  {
   "cell_type": "code",
   "execution_count": 156,
   "metadata": {},
   "outputs": [],
   "source": [
    "student2 = MyFirstClass( name = \"Jose\" , age = 31, school = \"Agustiniano\" )"
   ]
  },
  {
   "cell_type": "code",
   "execution_count": 157,
   "metadata": {},
   "outputs": [
    {
     "data": {
      "text/plain": [
       "['__class__',\n",
       " '__delattr__',\n",
       " '__dict__',\n",
       " '__dir__',\n",
       " '__doc__',\n",
       " '__eq__',\n",
       " '__format__',\n",
       " '__ge__',\n",
       " '__getattribute__',\n",
       " '__gt__',\n",
       " '__hash__',\n",
       " '__init__',\n",
       " '__init_subclass__',\n",
       " '__le__',\n",
       " '__lt__',\n",
       " '__module__',\n",
       " '__ne__',\n",
       " '__new__',\n",
       " '__reduce__',\n",
       " '__reduce_ex__',\n",
       " '__repr__',\n",
       " '__setattr__',\n",
       " '__sizeof__',\n",
       " '__str__',\n",
       " '__subclasshook__',\n",
       " '__weakref__',\n",
       " 'age',\n",
       " 'name',\n",
       " 'person_age',\n",
       " 'person_school',\n",
       " 'print_name_1',\n",
       " 'print_name_2',\n",
       " 'school']"
      ]
     },
     "execution_count": 157,
     "metadata": {},
     "output_type": "execute_result"
    }
   ],
   "source": [
    "dir(student2)"
   ]
  },
  {
   "cell_type": "code",
   "execution_count": null,
   "metadata": {},
   "outputs": [],
   "source": []
  },
  {
   "cell_type": "code",
   "execution_count": null,
   "metadata": {},
   "outputs": [],
   "source": []
  },
  {
   "cell_type": "code",
   "execution_count": 153,
   "metadata": {},
   "outputs": [
    {
     "name": "stdout",
     "output_type": "stream",
     "text": [
      " I am Jose , I studied at Agustiniano. \n"
     ]
    }
   ],
   "source": [
    "student2.person_school()"
   ]
  },
  {
   "cell_type": "code",
   "execution_count": 154,
   "metadata": {},
   "outputs": [
    {
     "ename": "TypeError",
     "evalue": "print_name_2() takes 0 positional arguments but 1 was given",
     "output_type": "error",
     "traceback": [
      "\u001b[1;31m---------------------------------------------------------------------------\u001b[0m",
      "\u001b[1;31mTypeError\u001b[0m                                 Traceback (most recent call last)",
      "\u001b[1;32mC:\\Users\\ALEXAN~1\\AppData\\Local\\Temp/ipykernel_39524/2593113614.py\u001b[0m in \u001b[0;36m<module>\u001b[1;34m\u001b[0m\n\u001b[1;32m----> 1\u001b[1;33m \u001b[0mstudent2\u001b[0m\u001b[1;33m.\u001b[0m\u001b[0mprint_name_2\u001b[0m\u001b[1;33m(\u001b[0m\u001b[1;33m)\u001b[0m\u001b[1;33m\u001b[0m\u001b[1;33m\u001b[0m\u001b[0m\n\u001b[0m",
      "\u001b[1;31mTypeError\u001b[0m: print_name_2() takes 0 positional arguments but 1 was given"
     ]
    }
   ],
   "source": [
    "student2.print_name_2()"
   ]
  },
  {
   "cell_type": "code",
   "execution_count": 237,
   "metadata": {},
   "outputs": [],
   "source": [
    "student_0 = MyFirstClass( name = \"Jose\" , age = 22, school = \"Saco Oliveros\" )"
   ]
  },
  {
   "cell_type": "code",
   "execution_count": 234,
   "metadata": {},
   "outputs": [
    {
     "name": "stdout",
     "output_type": "stream",
     "text": [
      " I am Jose , I study at Saco Oliveros. \n"
     ]
    }
   ],
   "source": [
    "student_0.person_school()"
   ]
  },
  {
   "cell_type": "code",
   "execution_count": 238,
   "metadata": {},
   "outputs": [
    {
     "ename": "NameError",
     "evalue": "name 'name' is not defined",
     "output_type": "error",
     "traceback": [
      "\u001b[1;31m---------------------------------------------------------------------------\u001b[0m",
      "\u001b[1;31mNameError\u001b[0m                                 Traceback (most recent call last)",
      "\u001b[1;32m<ipython-input-238-3b54dea0ea58>\u001b[0m in \u001b[0;36m<module>\u001b[1;34m\u001b[0m\n\u001b[1;32m----> 1\u001b[1;33m \u001b[0mstudent_0\u001b[0m\u001b[1;33m.\u001b[0m\u001b[0mprint_name_3\u001b[0m\u001b[1;33m(\u001b[0m\u001b[1;33m)\u001b[0m\u001b[1;33m\u001b[0m\u001b[1;33m\u001b[0m\u001b[0m\n\u001b[0m",
      "\u001b[1;32m<ipython-input-236-9e4359ea8732>\u001b[0m in \u001b[0;36mprint_name_3\u001b[1;34m(self)\u001b[0m\n\u001b[0;32m     25\u001b[0m     \u001b[1;31m# we need to define them as attributes\u001b[0m\u001b[1;33m\u001b[0m\u001b[1;33m\u001b[0m\u001b[1;33m\u001b[0m\u001b[0m\n\u001b[0;32m     26\u001b[0m     \u001b[1;32mdef\u001b[0m \u001b[0mprint_name_3\u001b[0m\u001b[1;33m(\u001b[0m \u001b[0mself\u001b[0m \u001b[1;33m)\u001b[0m\u001b[1;33m:\u001b[0m\u001b[1;33m\u001b[0m\u001b[1;33m\u001b[0m\u001b[0m\n\u001b[1;32m---> 27\u001b[1;33m         \u001b[0mprint\u001b[0m\u001b[1;33m(\u001b[0m \u001b[1;34mf'This is my { name }.'\u001b[0m \u001b[1;33m)\u001b[0m\u001b[1;33m\u001b[0m\u001b[1;33m\u001b[0m\u001b[0m\n\u001b[0m\u001b[0;32m     28\u001b[0m \u001b[1;33m\u001b[0m\u001b[0m\n",
      "\u001b[1;31mNameError\u001b[0m: name 'name' is not defined"
     ]
    }
   ],
   "source": [
    "student_0.print_name_3()"
   ]
  },
  {
   "cell_type": "code",
   "execution_count": 224,
   "metadata": {},
   "outputs": [
    {
     "name": "stdout",
     "output_type": "stream",
     "text": [
      "I am Jose.\n"
     ]
    }
   ],
   "source": [
    "student_0.print_name_1()"
   ]
  },
  {
   "cell_type": "markdown",
   "metadata": {},
   "source": [
    "When we create an object using a class, we have an instance of this class."
   ]
  },
  {
   "cell_type": "code",
   "execution_count": 36,
   "metadata": {},
   "outputs": [],
   "source": [
    "student1 = MyFirstClass( name = \"Jose\" , age = 22 )"
   ]
  },
  {
   "cell_type": "markdown",
   "metadata": {},
   "source": [
    "Attributes"
   ]
  },
  {
   "cell_type": "code",
   "execution_count": 26,
   "metadata": {},
   "outputs": [
    {
     "data": {
      "text/plain": [
       "22"
      ]
     },
     "execution_count": 26,
     "metadata": {},
     "output_type": "execute_result"
    }
   ],
   "source": [
    "student1.age"
   ]
  },
  {
   "cell_type": "code",
   "execution_count": 27,
   "metadata": {},
   "outputs": [
    {
     "data": {
      "text/plain": [
       "'Jose'"
      ]
     },
     "execution_count": 27,
     "metadata": {},
     "output_type": "execute_result"
    }
   ],
   "source": [
    "student1.name"
   ]
  },
  {
   "cell_type": "markdown",
   "metadata": {},
   "source": [
    "Methods"
   ]
  },
  {
   "cell_type": "code",
   "execution_count": 28,
   "metadata": {},
   "outputs": [
    {
     "data": {
      "text/plain": [
       "<bound method MyFirstClass.print_name_1 of <__main__.MyFirstClass object at 0x000001C77D5DBE80>>"
      ]
     },
     "execution_count": 28,
     "metadata": {},
     "output_type": "execute_result"
    }
   ],
   "source": [
    "# Calling like an attribute\n",
    "student1.print_name_1"
   ]
  },
  {
   "cell_type": "code",
   "execution_count": 32,
   "metadata": {},
   "outputs": [
    {
     "name": "stdout",
     "output_type": "stream",
     "text": [
      "I am Jose.\n"
     ]
    }
   ],
   "source": [
    "# Calling like as a method\n",
    "student1.print_name_1()"
   ]
  },
  {
   "cell_type": "markdown",
   "metadata": {},
   "source": [
    "When we do not use the **self** keyword, the class do not recognize `print_name_2` function as a method. "
   ]
  },
  {
   "cell_type": "code",
   "execution_count": 33,
   "metadata": {},
   "outputs": [
    {
     "ename": "TypeError",
     "evalue": "print_name_2() takes 0 positional arguments but 1 was given",
     "output_type": "error",
     "traceback": [
      "\u001b[1;31m---------------------------------------------------------------------------\u001b[0m",
      "\u001b[1;31mTypeError\u001b[0m                                 Traceback (most recent call last)",
      "\u001b[1;32m<ipython-input-33-3c8e56978537>\u001b[0m in \u001b[0;36m<module>\u001b[1;34m\u001b[0m\n\u001b[1;32m----> 1\u001b[1;33m \u001b[0mstudent1\u001b[0m\u001b[1;33m.\u001b[0m\u001b[0mprint_name_2\u001b[0m\u001b[1;33m(\u001b[0m\u001b[1;33m)\u001b[0m\u001b[1;33m\u001b[0m\u001b[1;33m\u001b[0m\u001b[0m\n\u001b[0m",
      "\u001b[1;31mTypeError\u001b[0m: print_name_2() takes 0 positional arguments but 1 was given"
     ]
    }
   ],
   "source": [
    "student1.print_name_2()"
   ]
  },
  {
   "cell_type": "markdown",
   "metadata": {},
   "source": [
    "When we do not use the **self** keyword, the class does not recognize `name` variable. We need to define it as an `attribute`. Classes are not the same as functions. In functions, the parameters are identified in the namespace, but in classes, they do not."
   ]
  },
  {
   "cell_type": "code",
   "execution_count": 37,
   "metadata": {},
   "outputs": [
    {
     "ename": "NameError",
     "evalue": "name 'name' is not defined",
     "output_type": "error",
     "traceback": [
      "\u001b[1;31m---------------------------------------------------------------------------\u001b[0m",
      "\u001b[1;31mNameError\u001b[0m                                 Traceback (most recent call last)",
      "\u001b[1;32m<ipython-input-37-f4879dda857f>\u001b[0m in \u001b[0;36m<module>\u001b[1;34m\u001b[0m\n\u001b[1;32m----> 1\u001b[1;33m \u001b[0mstudent1\u001b[0m\u001b[1;33m.\u001b[0m\u001b[0mprint_name_3\u001b[0m\u001b[1;33m(\u001b[0m\u001b[1;33m)\u001b[0m\u001b[1;33m\u001b[0m\u001b[1;33m\u001b[0m\u001b[0m\n\u001b[0m",
      "\u001b[1;32m<ipython-input-35-879bde9c1c57>\u001b[0m in \u001b[0;36mprint_name_3\u001b[1;34m(self)\u001b[0m\n\u001b[0;32m     17\u001b[0m     \u001b[1;31m# we need to define them as attributes\u001b[0m\u001b[1;33m\u001b[0m\u001b[1;33m\u001b[0m\u001b[1;33m\u001b[0m\u001b[0m\n\u001b[0;32m     18\u001b[0m     \u001b[1;32mdef\u001b[0m \u001b[0mprint_name_3\u001b[0m\u001b[1;33m(\u001b[0m \u001b[0mself\u001b[0m \u001b[1;33m)\u001b[0m\u001b[1;33m:\u001b[0m\u001b[1;33m\u001b[0m\u001b[1;33m\u001b[0m\u001b[0m\n\u001b[1;32m---> 19\u001b[1;33m         \u001b[0mprint\u001b[0m\u001b[1;33m(\u001b[0m \u001b[1;34mf'This is my {name}.'\u001b[0m \u001b[1;33m)\u001b[0m\u001b[1;33m\u001b[0m\u001b[1;33m\u001b[0m\u001b[0m\n\u001b[0m\u001b[0;32m     20\u001b[0m \u001b[1;33m\u001b[0m\u001b[0m\n",
      "\u001b[1;31mNameError\u001b[0m: name 'name' is not defined"
     ]
    }
   ],
   "source": [
    "student1.print_name_3()"
   ]
  },
  {
   "cell_type": "code",
   "execution_count": 220,
   "metadata": {},
   "outputs": [],
   "source": [
    "class select_data:\n",
    "    \n",
    "    def __init__(self, data, year_init, year_end):\n",
    "        \n",
    "        self.data = data\n",
    "        self.year_initial = year_init\n",
    "        self.year_final = year_end\n",
    "        \n",
    "    def sample_data(self):\n",
    "        \n",
    "        year_init = self.data[self.data.year == self.year_initial].index[0]\n",
    "        year_end = self.data[self.data.year == self.year_final].index[0]\n",
    "\n",
    "        samp_data = self.data.iloc[ year_init:year_end+1, : ]\n",
    "\n",
    "        return samp_data\n",
    "    "
   ]
  },
  {
   "cell_type": "code",
   "execution_count": 221,
   "metadata": {},
   "outputs": [],
   "source": [
    "data_2009_2019 = select_data(extraction_fish, 2009, 2019 )"
   ]
  },
  {
   "cell_type": "code",
   "execution_count": 226,
   "metadata": {},
   "outputs": [
    {
     "data": {
      "text/html": [
       "<div>\n",
       "<style scoped>\n",
       "    .dataframe tbody tr th:only-of-type {\n",
       "        vertical-align: middle;\n",
       "    }\n",
       "\n",
       "    .dataframe tbody tr th {\n",
       "        vertical-align: top;\n",
       "    }\n",
       "\n",
       "    .dataframe thead th {\n",
       "        text-align: right;\n",
       "    }\n",
       "</style>\n",
       "<table border=\"1\" class=\"dataframe\">\n",
       "  <thead>\n",
       "    <tr style=\"text-align: right;\">\n",
       "      <th></th>\n",
       "      <th>year</th>\n",
       "      <th>Consumo Industrial - Anchoveta</th>\n",
       "      <th>Consumo Humano - Congelado - Concha de abanico</th>\n",
       "      <th>Consumo Humano - Congelado - Langostino</th>\n",
       "      <th>Consumo Humano - Congelado - Merluza</th>\n",
       "      <th>Consumo Humano - Congelado - Calamar gigante</th>\n",
       "      <th>Consumo Humano - Conservas - Atún</th>\n",
       "      <th>Consumo Humano - Conservas - Caballa</th>\n",
       "      <th>Consumo Humano - Conservas - Jurel</th>\n",
       "      <th>Consumo Humano - Conservas - Sardina</th>\n",
       "      <th>Consumo Humano - Fresco - Concha de abanico</th>\n",
       "      <th>Consumo Humano - Fresco - Jurel</th>\n",
       "      <th>Consumo Humano - Fresco - Liza</th>\n",
       "      <th>Consumo Humano - Fresco - Tollo</th>\n",
       "      <th>total_production</th>\n",
       "    </tr>\n",
       "  </thead>\n",
       "  <tbody>\n",
       "    <tr>\n",
       "      <th>0</th>\n",
       "      <td>2005</td>\n",
       "      <td>8628.396000</td>\n",
       "      <td>13.537000</td>\n",
       "      <td>9.021000</td>\n",
       "      <td>23.279000</td>\n",
       "      <td>235.630000</td>\n",
       "      <td>9.877000</td>\n",
       "      <td>25.711000</td>\n",
       "      <td>20.481000</td>\n",
       "      <td>0.165000</td>\n",
       "      <td>1.843080</td>\n",
       "      <td>56.167940</td>\n",
       "      <td>5.875600</td>\n",
       "      <td>0.430000</td>\n",
       "      <td>9030.413620</td>\n",
       "    </tr>\n",
       "    <tr>\n",
       "      <th>1</th>\n",
       "      <td>2006</td>\n",
       "      <td>5891.838000</td>\n",
       "      <td>14.714000</td>\n",
       "      <td>11.295000</td>\n",
       "      <td>25.189000</td>\n",
       "      <td>365.729000</td>\n",
       "      <td>11.336000</td>\n",
       "      <td>58.245000</td>\n",
       "      <td>122.904000</td>\n",
       "      <td>0.048000</td>\n",
       "      <td>4.048000</td>\n",
       "      <td>136.827000</td>\n",
       "      <td>3.166000</td>\n",
       "      <td>1.584000</td>\n",
       "      <td>6646.923000</td>\n",
       "    </tr>\n",
       "    <tr>\n",
       "      <th>2</th>\n",
       "      <td>2007</td>\n",
       "      <td>6084.713000</td>\n",
       "      <td>19.937000</td>\n",
       "      <td>13.548000</td>\n",
       "      <td>28.358488</td>\n",
       "      <td>379.556594</td>\n",
       "      <td>3.713293</td>\n",
       "      <td>26.248739</td>\n",
       "      <td>82.910307</td>\n",
       "      <td>0.001020</td>\n",
       "      <td>4.822991</td>\n",
       "      <td>134.887316</td>\n",
       "      <td>9.317622</td>\n",
       "      <td>2.834958</td>\n",
       "      <td>6790.849328</td>\n",
       "    </tr>\n",
       "    <tr>\n",
       "      <th>3</th>\n",
       "      <td>2008</td>\n",
       "      <td>6159.387000</td>\n",
       "      <td>18.790000</td>\n",
       "      <td>12.817000</td>\n",
       "      <td>26.348398</td>\n",
       "      <td>484.162082</td>\n",
       "      <td>3.283711</td>\n",
       "      <td>47.694121</td>\n",
       "      <td>58.864202</td>\n",
       "      <td>0.000000</td>\n",
       "      <td>0.828187</td>\n",
       "      <td>80.092885</td>\n",
       "      <td>14.514054</td>\n",
       "      <td>2.933360</td>\n",
       "      <td>6909.715000</td>\n",
       "    </tr>\n",
       "    <tr>\n",
       "      <th>4</th>\n",
       "      <td>2009</td>\n",
       "      <td>5828.636000</td>\n",
       "      <td>24.634372</td>\n",
       "      <td>11.877399</td>\n",
       "      <td>36.774763</td>\n",
       "      <td>355.106589</td>\n",
       "      <td>2.017061</td>\n",
       "      <td>51.355908</td>\n",
       "      <td>14.289041</td>\n",
       "      <td>0.000000</td>\n",
       "      <td>1.843072</td>\n",
       "      <td>47.079175</td>\n",
       "      <td>17.311344</td>\n",
       "      <td>4.057886</td>\n",
       "      <td>6394.982610</td>\n",
       "    </tr>\n",
       "    <tr>\n",
       "      <th>5</th>\n",
       "      <td>2010</td>\n",
       "      <td>3330.413040</td>\n",
       "      <td>60.001250</td>\n",
       "      <td>14.477939</td>\n",
       "      <td>25.647697</td>\n",
       "      <td>327.571909</td>\n",
       "      <td>9.182845</td>\n",
       "      <td>9.729522</td>\n",
       "      <td>5.774274</td>\n",
       "      <td>0.000000</td>\n",
       "      <td>2.824749</td>\n",
       "      <td>10.404933</td>\n",
       "      <td>9.706363</td>\n",
       "      <td>4.994712</td>\n",
       "      <td>3810.729233</td>\n",
       "    </tr>\n",
       "    <tr>\n",
       "      <th>6</th>\n",
       "      <td>2011</td>\n",
       "      <td>7000.092781</td>\n",
       "      <td>92.027637</td>\n",
       "      <td>23.384478</td>\n",
       "      <td>28.544458</td>\n",
       "      <td>373.195661</td>\n",
       "      <td>6.586856</td>\n",
       "      <td>20.478814</td>\n",
       "      <td>83.277943</td>\n",
       "      <td>0.054463</td>\n",
       "      <td>0.873130</td>\n",
       "      <td>72.955117</td>\n",
       "      <td>12.124808</td>\n",
       "      <td>5.687520</td>\n",
       "      <td>7719.283666</td>\n",
       "    </tr>\n",
       "    <tr>\n",
       "      <th>7</th>\n",
       "      <td>2012</td>\n",
       "      <td>3693.871080</td>\n",
       "      <td>38.933390</td>\n",
       "      <td>22.707220</td>\n",
       "      <td>21.054780</td>\n",
       "      <td>457.072670</td>\n",
       "      <td>1.115060</td>\n",
       "      <td>9.978510</td>\n",
       "      <td>43.693940</td>\n",
       "      <td>0.088460</td>\n",
       "      <td>0.744610</td>\n",
       "      <td>72.930470</td>\n",
       "      <td>17.162420</td>\n",
       "      <td>4.235380</td>\n",
       "      <td>4383.587990</td>\n",
       "    </tr>\n",
       "    <tr>\n",
       "      <th>8</th>\n",
       "      <td>2013</td>\n",
       "      <td>4754.118210</td>\n",
       "      <td>89.293284</td>\n",
       "      <td>19.111372</td>\n",
       "      <td>31.187461</td>\n",
       "      <td>410.759534</td>\n",
       "      <td>7.136436</td>\n",
       "      <td>26.600553</td>\n",
       "      <td>7.197624</td>\n",
       "      <td>0.000000</td>\n",
       "      <td>2.180252</td>\n",
       "      <td>54.454541</td>\n",
       "      <td>12.530821</td>\n",
       "      <td>3.945647</td>\n",
       "      <td>5418.515737</td>\n",
       "    </tr>\n",
       "    <tr>\n",
       "      <th>9</th>\n",
       "      <td>2014</td>\n",
       "      <td>2255.453460</td>\n",
       "      <td>52.266500</td>\n",
       "      <td>21.762990</td>\n",
       "      <td>30.770800</td>\n",
       "      <td>465.007580</td>\n",
       "      <td>4.734540</td>\n",
       "      <td>29.576440</td>\n",
       "      <td>8.882560</td>\n",
       "      <td>0.000000</td>\n",
       "      <td>0.608160</td>\n",
       "      <td>46.346459</td>\n",
       "      <td>12.248670</td>\n",
       "      <td>5.206880</td>\n",
       "      <td>2932.865039</td>\n",
       "    </tr>\n",
       "    <tr>\n",
       "      <th>10</th>\n",
       "      <td>2015</td>\n",
       "      <td>3616.481500</td>\n",
       "      <td>14.843150</td>\n",
       "      <td>26.772210</td>\n",
       "      <td>25.644130</td>\n",
       "      <td>426.932300</td>\n",
       "      <td>11.082120</td>\n",
       "      <td>15.314910</td>\n",
       "      <td>2.769796</td>\n",
       "      <td>0.164140</td>\n",
       "      <td>0.615910</td>\n",
       "      <td>17.536930</td>\n",
       "      <td>12.463520</td>\n",
       "      <td>7.717680</td>\n",
       "      <td>4178.338296</td>\n",
       "    </tr>\n",
       "    <tr>\n",
       "      <th>11</th>\n",
       "      <td>2016</td>\n",
       "      <td>2732.733740</td>\n",
       "      <td>10.090130</td>\n",
       "      <td>29.253750</td>\n",
       "      <td>25.800210</td>\n",
       "      <td>246.124700</td>\n",
       "      <td>10.884490</td>\n",
       "      <td>57.675170</td>\n",
       "      <td>0.412040</td>\n",
       "      <td>0.007490</td>\n",
       "      <td>0.579750</td>\n",
       "      <td>12.472050</td>\n",
       "      <td>15.757580</td>\n",
       "      <td>9.453130</td>\n",
       "      <td>3151.244230</td>\n",
       "    </tr>\n",
       "    <tr>\n",
       "      <th>12</th>\n",
       "      <td>2017</td>\n",
       "      <td>3165.490240</td>\n",
       "      <td>4.596090</td>\n",
       "      <td>38.760070</td>\n",
       "      <td>37.147430</td>\n",
       "      <td>252.429930</td>\n",
       "      <td>11.802750</td>\n",
       "      <td>23.249140</td>\n",
       "      <td>1.052910</td>\n",
       "      <td>0.000000</td>\n",
       "      <td>0.373700</td>\n",
       "      <td>6.889530</td>\n",
       "      <td>29.061740</td>\n",
       "      <td>6.692660</td>\n",
       "      <td>3577.546190</td>\n",
       "    </tr>\n",
       "    <tr>\n",
       "      <th>13</th>\n",
       "      <td>2018</td>\n",
       "      <td>6072.887839</td>\n",
       "      <td>36.530349</td>\n",
       "      <td>31.505879</td>\n",
       "      <td>34.876576</td>\n",
       "      <td>319.146488</td>\n",
       "      <td>18.138975</td>\n",
       "      <td>24.610468</td>\n",
       "      <td>14.619846</td>\n",
       "      <td>0.000000</td>\n",
       "      <td>1.551366</td>\n",
       "      <td>14.720969</td>\n",
       "      <td>23.326310</td>\n",
       "      <td>3.672117</td>\n",
       "      <td>6595.587183</td>\n",
       "    </tr>\n",
       "    <tr>\n",
       "      <th>14</th>\n",
       "      <td>2019</td>\n",
       "      <td>3381.437222</td>\n",
       "      <td>53.112863</td>\n",
       "      <td>42.857637</td>\n",
       "      <td>28.979849</td>\n",
       "      <td>483.765239</td>\n",
       "      <td>17.839298</td>\n",
       "      <td>19.598784</td>\n",
       "      <td>27.733432</td>\n",
       "      <td>0.000000</td>\n",
       "      <td>1.226521</td>\n",
       "      <td>40.798701</td>\n",
       "      <td>24.029820</td>\n",
       "      <td>1.241883</td>\n",
       "      <td>4122.621249</td>\n",
       "    </tr>\n",
       "    <tr>\n",
       "      <th>15</th>\n",
       "      <td>2020</td>\n",
       "      <td>4314.558220</td>\n",
       "      <td>46.995287</td>\n",
       "      <td>34.516971</td>\n",
       "      <td>19.842900</td>\n",
       "      <td>407.384850</td>\n",
       "      <td>3.843680</td>\n",
       "      <td>28.408700</td>\n",
       "      <td>23.475890</td>\n",
       "      <td>0.000000</td>\n",
       "      <td>0.616697</td>\n",
       "      <td>48.115810</td>\n",
       "      <td>14.992172</td>\n",
       "      <td>0.544585</td>\n",
       "      <td>4943.295762</td>\n",
       "    </tr>\n",
       "  </tbody>\n",
       "</table>\n",
       "</div>"
      ],
      "text/plain": [
       "    year  Consumo Industrial - Anchoveta  \\\n",
       "0   2005                     8628.396000   \n",
       "1   2006                     5891.838000   \n",
       "2   2007                     6084.713000   \n",
       "3   2008                     6159.387000   \n",
       "4   2009                     5828.636000   \n",
       "5   2010                     3330.413040   \n",
       "6   2011                     7000.092781   \n",
       "7   2012                     3693.871080   \n",
       "8   2013                     4754.118210   \n",
       "9   2014                     2255.453460   \n",
       "10  2015                     3616.481500   \n",
       "11  2016                     2732.733740   \n",
       "12  2017                     3165.490240   \n",
       "13  2018                     6072.887839   \n",
       "14  2019                     3381.437222   \n",
       "15  2020                     4314.558220   \n",
       "\n",
       "    Consumo Humano - Congelado - Concha de abanico  \\\n",
       "0                                        13.537000   \n",
       "1                                        14.714000   \n",
       "2                                        19.937000   \n",
       "3                                        18.790000   \n",
       "4                                        24.634372   \n",
       "5                                        60.001250   \n",
       "6                                        92.027637   \n",
       "7                                        38.933390   \n",
       "8                                        89.293284   \n",
       "9                                        52.266500   \n",
       "10                                       14.843150   \n",
       "11                                       10.090130   \n",
       "12                                        4.596090   \n",
       "13                                       36.530349   \n",
       "14                                       53.112863   \n",
       "15                                       46.995287   \n",
       "\n",
       "    Consumo Humano - Congelado - Langostino  \\\n",
       "0                                  9.021000   \n",
       "1                                 11.295000   \n",
       "2                                 13.548000   \n",
       "3                                 12.817000   \n",
       "4                                 11.877399   \n",
       "5                                 14.477939   \n",
       "6                                 23.384478   \n",
       "7                                 22.707220   \n",
       "8                                 19.111372   \n",
       "9                                 21.762990   \n",
       "10                                26.772210   \n",
       "11                                29.253750   \n",
       "12                                38.760070   \n",
       "13                                31.505879   \n",
       "14                                42.857637   \n",
       "15                                34.516971   \n",
       "\n",
       "    Consumo Humano - Congelado - Merluza  \\\n",
       "0                              23.279000   \n",
       "1                              25.189000   \n",
       "2                              28.358488   \n",
       "3                              26.348398   \n",
       "4                              36.774763   \n",
       "5                              25.647697   \n",
       "6                              28.544458   \n",
       "7                              21.054780   \n",
       "8                              31.187461   \n",
       "9                              30.770800   \n",
       "10                             25.644130   \n",
       "11                             25.800210   \n",
       "12                             37.147430   \n",
       "13                             34.876576   \n",
       "14                             28.979849   \n",
       "15                             19.842900   \n",
       "\n",
       "    Consumo Humano - Congelado - Calamar gigante  \\\n",
       "0                                     235.630000   \n",
       "1                                     365.729000   \n",
       "2                                     379.556594   \n",
       "3                                     484.162082   \n",
       "4                                     355.106589   \n",
       "5                                     327.571909   \n",
       "6                                     373.195661   \n",
       "7                                     457.072670   \n",
       "8                                     410.759534   \n",
       "9                                     465.007580   \n",
       "10                                    426.932300   \n",
       "11                                    246.124700   \n",
       "12                                    252.429930   \n",
       "13                                    319.146488   \n",
       "14                                    483.765239   \n",
       "15                                    407.384850   \n",
       "\n",
       "    Consumo Humano - Conservas - Atún  Consumo Humano - Conservas - Caballa  \\\n",
       "0                            9.877000                             25.711000   \n",
       "1                           11.336000                             58.245000   \n",
       "2                            3.713293                             26.248739   \n",
       "3                            3.283711                             47.694121   \n",
       "4                            2.017061                             51.355908   \n",
       "5                            9.182845                              9.729522   \n",
       "6                            6.586856                             20.478814   \n",
       "7                            1.115060                              9.978510   \n",
       "8                            7.136436                             26.600553   \n",
       "9                            4.734540                             29.576440   \n",
       "10                          11.082120                             15.314910   \n",
       "11                          10.884490                             57.675170   \n",
       "12                          11.802750                             23.249140   \n",
       "13                          18.138975                             24.610468   \n",
       "14                          17.839298                             19.598784   \n",
       "15                           3.843680                             28.408700   \n",
       "\n",
       "    Consumo Humano - Conservas - Jurel  Consumo Humano - Conservas - Sardina  \\\n",
       "0                            20.481000                              0.165000   \n",
       "1                           122.904000                              0.048000   \n",
       "2                            82.910307                              0.001020   \n",
       "3                            58.864202                              0.000000   \n",
       "4                            14.289041                              0.000000   \n",
       "5                             5.774274                              0.000000   \n",
       "6                            83.277943                              0.054463   \n",
       "7                            43.693940                              0.088460   \n",
       "8                             7.197624                              0.000000   \n",
       "9                             8.882560                              0.000000   \n",
       "10                            2.769796                              0.164140   \n",
       "11                            0.412040                              0.007490   \n",
       "12                            1.052910                              0.000000   \n",
       "13                           14.619846                              0.000000   \n",
       "14                           27.733432                              0.000000   \n",
       "15                           23.475890                              0.000000   \n",
       "\n",
       "    Consumo Humano - Fresco - Concha de abanico  \\\n",
       "0                                      1.843080   \n",
       "1                                      4.048000   \n",
       "2                                      4.822991   \n",
       "3                                      0.828187   \n",
       "4                                      1.843072   \n",
       "5                                      2.824749   \n",
       "6                                      0.873130   \n",
       "7                                      0.744610   \n",
       "8                                      2.180252   \n",
       "9                                      0.608160   \n",
       "10                                     0.615910   \n",
       "11                                     0.579750   \n",
       "12                                     0.373700   \n",
       "13                                     1.551366   \n",
       "14                                     1.226521   \n",
       "15                                     0.616697   \n",
       "\n",
       "    Consumo Humano - Fresco - Jurel  Consumo Humano - Fresco - Liza  \\\n",
       "0                         56.167940                        5.875600   \n",
       "1                        136.827000                        3.166000   \n",
       "2                        134.887316                        9.317622   \n",
       "3                         80.092885                       14.514054   \n",
       "4                         47.079175                       17.311344   \n",
       "5                         10.404933                        9.706363   \n",
       "6                         72.955117                       12.124808   \n",
       "7                         72.930470                       17.162420   \n",
       "8                         54.454541                       12.530821   \n",
       "9                         46.346459                       12.248670   \n",
       "10                        17.536930                       12.463520   \n",
       "11                        12.472050                       15.757580   \n",
       "12                         6.889530                       29.061740   \n",
       "13                        14.720969                       23.326310   \n",
       "14                        40.798701                       24.029820   \n",
       "15                        48.115810                       14.992172   \n",
       "\n",
       "    Consumo Humano - Fresco - Tollo  total_production  \n",
       "0                          0.430000       9030.413620  \n",
       "1                          1.584000       6646.923000  \n",
       "2                          2.834958       6790.849328  \n",
       "3                          2.933360       6909.715000  \n",
       "4                          4.057886       6394.982610  \n",
       "5                          4.994712       3810.729233  \n",
       "6                          5.687520       7719.283666  \n",
       "7                          4.235380       4383.587990  \n",
       "8                          3.945647       5418.515737  \n",
       "9                          5.206880       2932.865039  \n",
       "10                         7.717680       4178.338296  \n",
       "11                         9.453130       3151.244230  \n",
       "12                         6.692660       3577.546190  \n",
       "13                         3.672117       6595.587183  \n",
       "14                         1.241883       4122.621249  \n",
       "15                         0.544585       4943.295762  "
      ]
     },
     "execution_count": 226,
     "metadata": {},
     "output_type": "execute_result"
    }
   ],
   "source": [
    "data_2009_2019.data"
   ]
  },
  {
   "cell_type": "code",
   "execution_count": 225,
   "metadata": {},
   "outputs": [
    {
     "data": {
      "text/html": [
       "<div>\n",
       "<style scoped>\n",
       "    .dataframe tbody tr th:only-of-type {\n",
       "        vertical-align: middle;\n",
       "    }\n",
       "\n",
       "    .dataframe tbody tr th {\n",
       "        vertical-align: top;\n",
       "    }\n",
       "\n",
       "    .dataframe thead th {\n",
       "        text-align: right;\n",
       "    }\n",
       "</style>\n",
       "<table border=\"1\" class=\"dataframe\">\n",
       "  <thead>\n",
       "    <tr style=\"text-align: right;\">\n",
       "      <th></th>\n",
       "      <th>year</th>\n",
       "      <th>Consumo Industrial - Anchoveta</th>\n",
       "      <th>Consumo Humano - Congelado - Concha de abanico</th>\n",
       "      <th>Consumo Humano - Congelado - Langostino</th>\n",
       "      <th>Consumo Humano - Congelado - Merluza</th>\n",
       "      <th>Consumo Humano - Congelado - Calamar gigante</th>\n",
       "      <th>Consumo Humano - Conservas - Atún</th>\n",
       "      <th>Consumo Humano - Conservas - Caballa</th>\n",
       "      <th>Consumo Humano - Conservas - Jurel</th>\n",
       "      <th>Consumo Humano - Conservas - Sardina</th>\n",
       "      <th>Consumo Humano - Fresco - Concha de abanico</th>\n",
       "      <th>Consumo Humano - Fresco - Jurel</th>\n",
       "      <th>Consumo Humano - Fresco - Liza</th>\n",
       "      <th>Consumo Humano - Fresco - Tollo</th>\n",
       "      <th>total_production</th>\n",
       "    </tr>\n",
       "  </thead>\n",
       "  <tbody>\n",
       "    <tr>\n",
       "      <th>4</th>\n",
       "      <td>2009</td>\n",
       "      <td>5828.636000</td>\n",
       "      <td>24.634372</td>\n",
       "      <td>11.877399</td>\n",
       "      <td>36.774763</td>\n",
       "      <td>355.106589</td>\n",
       "      <td>2.017061</td>\n",
       "      <td>51.355908</td>\n",
       "      <td>14.289041</td>\n",
       "      <td>0.000000</td>\n",
       "      <td>1.843072</td>\n",
       "      <td>47.079175</td>\n",
       "      <td>17.311344</td>\n",
       "      <td>4.057886</td>\n",
       "      <td>6394.982610</td>\n",
       "    </tr>\n",
       "    <tr>\n",
       "      <th>5</th>\n",
       "      <td>2010</td>\n",
       "      <td>3330.413040</td>\n",
       "      <td>60.001250</td>\n",
       "      <td>14.477939</td>\n",
       "      <td>25.647697</td>\n",
       "      <td>327.571909</td>\n",
       "      <td>9.182845</td>\n",
       "      <td>9.729522</td>\n",
       "      <td>5.774274</td>\n",
       "      <td>0.000000</td>\n",
       "      <td>2.824749</td>\n",
       "      <td>10.404933</td>\n",
       "      <td>9.706363</td>\n",
       "      <td>4.994712</td>\n",
       "      <td>3810.729233</td>\n",
       "    </tr>\n",
       "    <tr>\n",
       "      <th>6</th>\n",
       "      <td>2011</td>\n",
       "      <td>7000.092781</td>\n",
       "      <td>92.027637</td>\n",
       "      <td>23.384478</td>\n",
       "      <td>28.544458</td>\n",
       "      <td>373.195661</td>\n",
       "      <td>6.586856</td>\n",
       "      <td>20.478814</td>\n",
       "      <td>83.277943</td>\n",
       "      <td>0.054463</td>\n",
       "      <td>0.873130</td>\n",
       "      <td>72.955117</td>\n",
       "      <td>12.124808</td>\n",
       "      <td>5.687520</td>\n",
       "      <td>7719.283666</td>\n",
       "    </tr>\n",
       "    <tr>\n",
       "      <th>7</th>\n",
       "      <td>2012</td>\n",
       "      <td>3693.871080</td>\n",
       "      <td>38.933390</td>\n",
       "      <td>22.707220</td>\n",
       "      <td>21.054780</td>\n",
       "      <td>457.072670</td>\n",
       "      <td>1.115060</td>\n",
       "      <td>9.978510</td>\n",
       "      <td>43.693940</td>\n",
       "      <td>0.088460</td>\n",
       "      <td>0.744610</td>\n",
       "      <td>72.930470</td>\n",
       "      <td>17.162420</td>\n",
       "      <td>4.235380</td>\n",
       "      <td>4383.587990</td>\n",
       "    </tr>\n",
       "    <tr>\n",
       "      <th>8</th>\n",
       "      <td>2013</td>\n",
       "      <td>4754.118210</td>\n",
       "      <td>89.293284</td>\n",
       "      <td>19.111372</td>\n",
       "      <td>31.187461</td>\n",
       "      <td>410.759534</td>\n",
       "      <td>7.136436</td>\n",
       "      <td>26.600553</td>\n",
       "      <td>7.197624</td>\n",
       "      <td>0.000000</td>\n",
       "      <td>2.180252</td>\n",
       "      <td>54.454541</td>\n",
       "      <td>12.530821</td>\n",
       "      <td>3.945647</td>\n",
       "      <td>5418.515737</td>\n",
       "    </tr>\n",
       "    <tr>\n",
       "      <th>9</th>\n",
       "      <td>2014</td>\n",
       "      <td>2255.453460</td>\n",
       "      <td>52.266500</td>\n",
       "      <td>21.762990</td>\n",
       "      <td>30.770800</td>\n",
       "      <td>465.007580</td>\n",
       "      <td>4.734540</td>\n",
       "      <td>29.576440</td>\n",
       "      <td>8.882560</td>\n",
       "      <td>0.000000</td>\n",
       "      <td>0.608160</td>\n",
       "      <td>46.346459</td>\n",
       "      <td>12.248670</td>\n",
       "      <td>5.206880</td>\n",
       "      <td>2932.865039</td>\n",
       "    </tr>\n",
       "    <tr>\n",
       "      <th>10</th>\n",
       "      <td>2015</td>\n",
       "      <td>3616.481500</td>\n",
       "      <td>14.843150</td>\n",
       "      <td>26.772210</td>\n",
       "      <td>25.644130</td>\n",
       "      <td>426.932300</td>\n",
       "      <td>11.082120</td>\n",
       "      <td>15.314910</td>\n",
       "      <td>2.769796</td>\n",
       "      <td>0.164140</td>\n",
       "      <td>0.615910</td>\n",
       "      <td>17.536930</td>\n",
       "      <td>12.463520</td>\n",
       "      <td>7.717680</td>\n",
       "      <td>4178.338296</td>\n",
       "    </tr>\n",
       "    <tr>\n",
       "      <th>11</th>\n",
       "      <td>2016</td>\n",
       "      <td>2732.733740</td>\n",
       "      <td>10.090130</td>\n",
       "      <td>29.253750</td>\n",
       "      <td>25.800210</td>\n",
       "      <td>246.124700</td>\n",
       "      <td>10.884490</td>\n",
       "      <td>57.675170</td>\n",
       "      <td>0.412040</td>\n",
       "      <td>0.007490</td>\n",
       "      <td>0.579750</td>\n",
       "      <td>12.472050</td>\n",
       "      <td>15.757580</td>\n",
       "      <td>9.453130</td>\n",
       "      <td>3151.244230</td>\n",
       "    </tr>\n",
       "    <tr>\n",
       "      <th>12</th>\n",
       "      <td>2017</td>\n",
       "      <td>3165.490240</td>\n",
       "      <td>4.596090</td>\n",
       "      <td>38.760070</td>\n",
       "      <td>37.147430</td>\n",
       "      <td>252.429930</td>\n",
       "      <td>11.802750</td>\n",
       "      <td>23.249140</td>\n",
       "      <td>1.052910</td>\n",
       "      <td>0.000000</td>\n",
       "      <td>0.373700</td>\n",
       "      <td>6.889530</td>\n",
       "      <td>29.061740</td>\n",
       "      <td>6.692660</td>\n",
       "      <td>3577.546190</td>\n",
       "    </tr>\n",
       "    <tr>\n",
       "      <th>13</th>\n",
       "      <td>2018</td>\n",
       "      <td>6072.887839</td>\n",
       "      <td>36.530349</td>\n",
       "      <td>31.505879</td>\n",
       "      <td>34.876576</td>\n",
       "      <td>319.146488</td>\n",
       "      <td>18.138975</td>\n",
       "      <td>24.610468</td>\n",
       "      <td>14.619846</td>\n",
       "      <td>0.000000</td>\n",
       "      <td>1.551366</td>\n",
       "      <td>14.720969</td>\n",
       "      <td>23.326310</td>\n",
       "      <td>3.672117</td>\n",
       "      <td>6595.587183</td>\n",
       "    </tr>\n",
       "    <tr>\n",
       "      <th>14</th>\n",
       "      <td>2019</td>\n",
       "      <td>3381.437222</td>\n",
       "      <td>53.112863</td>\n",
       "      <td>42.857637</td>\n",
       "      <td>28.979849</td>\n",
       "      <td>483.765239</td>\n",
       "      <td>17.839298</td>\n",
       "      <td>19.598784</td>\n",
       "      <td>27.733432</td>\n",
       "      <td>0.000000</td>\n",
       "      <td>1.226521</td>\n",
       "      <td>40.798701</td>\n",
       "      <td>24.029820</td>\n",
       "      <td>1.241883</td>\n",
       "      <td>4122.621249</td>\n",
       "    </tr>\n",
       "  </tbody>\n",
       "</table>\n",
       "</div>"
      ],
      "text/plain": [
       "    year  Consumo Industrial - Anchoveta  \\\n",
       "4   2009                     5828.636000   \n",
       "5   2010                     3330.413040   \n",
       "6   2011                     7000.092781   \n",
       "7   2012                     3693.871080   \n",
       "8   2013                     4754.118210   \n",
       "9   2014                     2255.453460   \n",
       "10  2015                     3616.481500   \n",
       "11  2016                     2732.733740   \n",
       "12  2017                     3165.490240   \n",
       "13  2018                     6072.887839   \n",
       "14  2019                     3381.437222   \n",
       "\n",
       "    Consumo Humano - Congelado - Concha de abanico  \\\n",
       "4                                        24.634372   \n",
       "5                                        60.001250   \n",
       "6                                        92.027637   \n",
       "7                                        38.933390   \n",
       "8                                        89.293284   \n",
       "9                                        52.266500   \n",
       "10                                       14.843150   \n",
       "11                                       10.090130   \n",
       "12                                        4.596090   \n",
       "13                                       36.530349   \n",
       "14                                       53.112863   \n",
       "\n",
       "    Consumo Humano - Congelado - Langostino  \\\n",
       "4                                 11.877399   \n",
       "5                                 14.477939   \n",
       "6                                 23.384478   \n",
       "7                                 22.707220   \n",
       "8                                 19.111372   \n",
       "9                                 21.762990   \n",
       "10                                26.772210   \n",
       "11                                29.253750   \n",
       "12                                38.760070   \n",
       "13                                31.505879   \n",
       "14                                42.857637   \n",
       "\n",
       "    Consumo Humano - Congelado - Merluza  \\\n",
       "4                              36.774763   \n",
       "5                              25.647697   \n",
       "6                              28.544458   \n",
       "7                              21.054780   \n",
       "8                              31.187461   \n",
       "9                              30.770800   \n",
       "10                             25.644130   \n",
       "11                             25.800210   \n",
       "12                             37.147430   \n",
       "13                             34.876576   \n",
       "14                             28.979849   \n",
       "\n",
       "    Consumo Humano - Congelado - Calamar gigante  \\\n",
       "4                                     355.106589   \n",
       "5                                     327.571909   \n",
       "6                                     373.195661   \n",
       "7                                     457.072670   \n",
       "8                                     410.759534   \n",
       "9                                     465.007580   \n",
       "10                                    426.932300   \n",
       "11                                    246.124700   \n",
       "12                                    252.429930   \n",
       "13                                    319.146488   \n",
       "14                                    483.765239   \n",
       "\n",
       "    Consumo Humano - Conservas - Atún  Consumo Humano - Conservas - Caballa  \\\n",
       "4                            2.017061                             51.355908   \n",
       "5                            9.182845                              9.729522   \n",
       "6                            6.586856                             20.478814   \n",
       "7                            1.115060                              9.978510   \n",
       "8                            7.136436                             26.600553   \n",
       "9                            4.734540                             29.576440   \n",
       "10                          11.082120                             15.314910   \n",
       "11                          10.884490                             57.675170   \n",
       "12                          11.802750                             23.249140   \n",
       "13                          18.138975                             24.610468   \n",
       "14                          17.839298                             19.598784   \n",
       "\n",
       "    Consumo Humano - Conservas - Jurel  Consumo Humano - Conservas - Sardina  \\\n",
       "4                            14.289041                              0.000000   \n",
       "5                             5.774274                              0.000000   \n",
       "6                            83.277943                              0.054463   \n",
       "7                            43.693940                              0.088460   \n",
       "8                             7.197624                              0.000000   \n",
       "9                             8.882560                              0.000000   \n",
       "10                            2.769796                              0.164140   \n",
       "11                            0.412040                              0.007490   \n",
       "12                            1.052910                              0.000000   \n",
       "13                           14.619846                              0.000000   \n",
       "14                           27.733432                              0.000000   \n",
       "\n",
       "    Consumo Humano - Fresco - Concha de abanico  \\\n",
       "4                                      1.843072   \n",
       "5                                      2.824749   \n",
       "6                                      0.873130   \n",
       "7                                      0.744610   \n",
       "8                                      2.180252   \n",
       "9                                      0.608160   \n",
       "10                                     0.615910   \n",
       "11                                     0.579750   \n",
       "12                                     0.373700   \n",
       "13                                     1.551366   \n",
       "14                                     1.226521   \n",
       "\n",
       "    Consumo Humano - Fresco - Jurel  Consumo Humano - Fresco - Liza  \\\n",
       "4                         47.079175                       17.311344   \n",
       "5                         10.404933                        9.706363   \n",
       "6                         72.955117                       12.124808   \n",
       "7                         72.930470                       17.162420   \n",
       "8                         54.454541                       12.530821   \n",
       "9                         46.346459                       12.248670   \n",
       "10                        17.536930                       12.463520   \n",
       "11                        12.472050                       15.757580   \n",
       "12                         6.889530                       29.061740   \n",
       "13                        14.720969                       23.326310   \n",
       "14                        40.798701                       24.029820   \n",
       "\n",
       "    Consumo Humano - Fresco - Tollo  total_production  \n",
       "4                          4.057886       6394.982610  \n",
       "5                          4.994712       3810.729233  \n",
       "6                          5.687520       7719.283666  \n",
       "7                          4.235380       4383.587990  \n",
       "8                          3.945647       5418.515737  \n",
       "9                          5.206880       2932.865039  \n",
       "10                         7.717680       4178.338296  \n",
       "11                         9.453130       3151.244230  \n",
       "12                         6.692660       3577.546190  \n",
       "13                         3.672117       6595.587183  \n",
       "14                         1.241883       4122.621249  "
      ]
     },
     "execution_count": 225,
     "metadata": {},
     "output_type": "execute_result"
    }
   ],
   "source": [
    "data_2009_2019.sample_data()"
   ]
  },
  {
   "cell_type": "code",
   "execution_count": null,
   "metadata": {},
   "outputs": [],
   "source": [
    "def sample_data(data, year_init, year_end):\n",
    "    \n",
    "    year_init = data[data.year == year_init].index[0]\n",
    "    year_end = data[data.year == year_end].index[0]\n",
    "    \n",
    "    samp_data = data.iloc[ year_init:year_end+1, : ]\n",
    "    \n",
    "    return samp_data"
   ]
  },
  {
   "cell_type": "code",
   "execution_count": null,
   "metadata": {},
   "outputs": [],
   "source": []
  },
  {
   "cell_type": "code",
   "execution_count": null,
   "metadata": {},
   "outputs": [],
   "source": []
  },
  {
   "cell_type": "code",
   "execution_count": null,
   "metadata": {},
   "outputs": [],
   "source": []
  },
  {
   "cell_type": "markdown",
   "metadata": {},
   "source": [
    "# <a id='#5.3.'>5.3. References </a>  \n",
    "\n",
    "- [Functions](https://www.datacamp.com/community/tutorials/functions-python-tutorial?utm_source=adwords_ppc&utm_medium=cpc&utm_campaignid=1455363063&utm_adgroupid=65083631748&utm_device=c&utm_keyword=&utm_matchtype=&utm_network=g&utm_adpostion=&utm_creative=332602034358&utm_targetid=dsa-473406571355&utm_loc_interest_ms=&utm_loc_physical_ms=9060932&gclid=CjwKCAiAqIKNBhAIEiwAu_ZLDp9lkv0t5drR4g_hjgXp0DBU3XoRLPEeQT9wGMhCyiZd09kjsAXKaRoCFmUQAvD_BwE)\n",
    "- [Functions](https://www.w3schools.com/python/python_functions.asp)\n",
    "- [Args and Kwargs](https://book.pythontips.com/en/latest/args_and_kwargs.html)\n",
    "\n",
    "- [Clases](https://www.geeksforgeeks.org/namespaces-and-scope-in-python/#:~:text=A%20namespace%20is%20a%20system,form%20of%20a%20Python%20dictionary.&text=Its%20Name%20(which%20means%20name,talks%20something%20related%20to%20scope)\n",
    "\n",
    "- [Clases](https://www.geeksforgeeks.org/python-classes-and-objects/)\n",
    "\n",
    "- [Clases Advantages](https://intellipaat.com/blog/tutorial/python-tutorial/python-classes-and-objects/#_Advantages_of_class)\n",
    "\n",
    "- [Self](https://www.geeksforgeeks.org/self-in-python-class/)\n",
    "\n",
    "- [FU](https://realpython.com/defining-your-own-python-function/#functions-in-python)\n",
    "\n",
    "- https://stackoverflow.com/questions/46312470/difference-between-methods-and-attributes-in-python\n",
    "\n",
    "- https://stackoverflow.com/questions/2489669/how-do-python-functions-handle-the-types-of-parameters-that-you-pass-in"
   ]
  }
 ],
 "metadata": {
  "hide_input": false,
  "kernelspec": {
   "display_name": "Python 3 (ipykernel)",
   "language": "python",
   "name": "python3"
  },
  "language_info": {
   "codemirror_mode": {
    "name": "ipython",
    "version": 3
   },
   "file_extension": ".py",
   "mimetype": "text/x-python",
   "name": "python",
   "nbconvert_exporter": "python",
   "pygments_lexer": "ipython3",
   "version": "3.11.5"
  }
 },
 "nbformat": 4,
 "nbformat_minor": 4
}
