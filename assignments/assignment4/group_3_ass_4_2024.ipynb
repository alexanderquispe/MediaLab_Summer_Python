{
 "cells": [
  {
   "cell_type": "code",
   "execution_count": null,
   "metadata": {},
   "outputs": [],
   "source": [
    "#Assignment 4\n",
    "\n",
    "\n",
    "##1. Inspect this dataset ./_data/bogota_firms.xlsx and show some descriptive statistics of it.\n",
    "##2.Reshape the dataset from wide to long at year level. Drop columns if they are in Dollars. Keep columns from Operating revenue (Turnover) th LCU 2023 to the end, and the name of the firm.\n",
    "##3.Rename the columns and use short names for each column. This new name should be shorter than 20 characters.\n",
    "##4.Generate a dictionary with the definition of all the columns in your dataset.\n",
    "##5.Generate a function named as calling_data that take as input the name of the firm or list of names (firm_name) and (start_year, end_year). The function should return a tuple with a dataframe with the same format as the one resulting from task 1-4, and your dictionary of columns. The function should work without end_year. It means it only takes start_year."
   ]
  }
 ],
 "metadata": {
  "language_info": {
   "name": "python"
  }
 },
 "nbformat": 4,
 "nbformat_minor": 2
}
