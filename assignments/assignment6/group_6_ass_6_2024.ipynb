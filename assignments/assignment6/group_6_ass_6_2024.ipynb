{
 "cells": [
  {
   "cell_type": "code",
   "execution_count": null,
   "metadata": {
    "scrolled": true
   },
   "outputs": [],
   "source": [
    "!pip install folium"
   ]
  },
  {
   "cell_type": "code",
   "execution_count": null,
   "metadata": {},
   "outputs": [],
   "source": [
    "import folium as fm"
   ]
  },
  {
   "cell_type": "markdown",
   "metadata": {},
   "source": [
    "# Assignment 6\n",
    "You have to replicate all the maps in this JN using folium."
   ]
  },
  {
   "cell_type": "code",
   "execution_count": null,
   "metadata": {
    "scrolled": true
   },
   "outputs": [],
   "source": [
    "from IPython.display import display, HTML\n",
    "\n",
    "display(HTML(data=\"\"\"\n",
    "<style>\n",
    "    div#notebook-container    { width: 95%; }\n",
    "    div#menubar-container     { width: 65%; }\n",
    "    div#maintoolbar-container { width: 99%; }a\n",
    "</style>\n",
    "\"\"\"))\n"
   ]
  },
  {
   "cell_type": "code",
   "execution_count": null,
   "metadata": {
    "scrolled": true
   },
   "outputs": [],
   "source": [
    "!pip install geopandas"
   ]
  },
  {
   "cell_type": "code",
   "execution_count": null,
   "metadata": {},
   "outputs": [],
   "source": [
    "import matplotlib.pyplot as plt \n",
    "\n",
    "import numpy as np\n",
    "import pandas as pd\n",
    "import geopandas as gpd"
   ]
  },
  {
   "cell_type": "code",
   "execution_count": null,
   "metadata": {},
   "outputs": [],
   "source": [
    "# Get data of labor\n",
    "sex_work = pd.read_stata( r'C:\\Users\\favio\\Documents\\GitHubDesktop\\MediaLab_Summer_Python\\_data\\8_trab_sex_20.dta' )\n",
    "sex_work[ 'dpt_code' ] = sex_work.cod_ubigeo.str[ :2 ].copy()\n",
    "sex_work[ 'prov_code' ] = sex_work.cod_ubigeo.str[ :4 ].copy()\n",
    "\n",
    "# Sex work\n",
    "women_work = sex_work[ sex_work.sex == 'Mujer' ].copy().reset_index( drop = True )"
   ]
  },
  {
   "cell_type": "code",
   "execution_count": null,
   "metadata": {},
   "outputs": [],
   "source": [
    "# get data from lima\n",
    "women_work[ 'month' ] = pd.to_datetime( women_work.month , format = '%B' ) \\\n",
    "                                    .dt.strftime( '%m' ) \\\n",
    "                                    .astype( int )"
   ]
  },
  {
   "cell_type": "code",
   "execution_count": null,
   "metadata": {},
   "outputs": [],
   "source": [
    "# Sort by department and month\n",
    "women_work.sort_values([ 'dpt_code', 'month'], inplace = True )\n",
    "\n",
    "# Get the total number of women workers by dpt\n",
    "dpt_women_work = women_work.groupby( [ 'dpt_code', 'month'], as_index = False )[['empl']] \\\n",
    "                            .sum() \\\n",
    "                            .rename( columns = {'empl' :'women_empl'})\n",
    "\n",
    "# Sort by dpt code and month\n",
    "dpt_women_work.sort_values([ 'dpt_code', 'month'], inplace = True )"
   ]
  },
  {
   "cell_type": "code",
   "execution_count": null,
   "metadata": {},
   "outputs": [],
   "source": [
    "df2 = dpt_women_work.groupby( ['dpt_code'],as_index = False )[['women_empl']].mean()"
   ]
  },
  {
   "cell_type": "markdown",
   "metadata": {},
   "source": [
    "## Shapefile"
   ]
  },
  {
   "cell_type": "code",
   "execution_count": null,
   "metadata": {},
   "outputs": [],
   "source": [
    "dpt_shp = gpd.read_file( r'C:\\Users\\favio\\Documents\\GitHubDesktop\\MediaLab_Summer_Python\\_data\\INEI_LIMITE_DEPARTAMENTAL\\INEI_LIMITE_DEPARTAMENTAL.shp' )"
   ]
  },
  {
   "cell_type": "code",
   "execution_count": null,
   "metadata": {},
   "outputs": [],
   "source": [
    "lat_palacio = -12.0757538\n",
    "long_palacio = -76.9863174\n",
    "zoom_start = 5"
   ]
  },
  {
   "cell_type": "code",
   "execution_count": null,
   "metadata": {},
   "outputs": [],
   "source": [
    "import folium\n",
    "# Crear un mapa de Folium centrado en el Perú\n",
    "map_peru = fm.Map(location=[lat_palacio, long_palacio], zoom_start=5)\n",
    "\n",
    "# Añadir el GeoJSON de los departamentos al mapa con colores según el promedio de mujeres empleadas\n",
    "folium.Choropleth(\n",
    "    geo_data=dpt_shp,\n",
    "    name='choropleth',\n",
    "    data=df2,\n",
    "    columns=['dpt_code', 'women_empl'],\n",
    "    key_on='feature.properties.CCDD',\n",
    "    fill_color='YlOrRd',\n",
    "    fill_opacity=0.7,\n",
    "    line_opacity=0.2,\n",
    "    legend_name='Average number of women victims of sexual labor'\n",
    ").add_to(map_peru)"
   ]
  },
  {
   "cell_type": "code",
   "execution_count": null,
   "metadata": {
    "scrolled": true
   },
   "outputs": [],
   "source": [
    "map_peru"
   ]
  },
  {
   "cell_type": "code",
   "execution_count": null,
   "metadata": {},
   "outputs": [],
   "source": [
    "bins = [675.33, 20000, 40000, 60000, 100000, 656477.25]"
   ]
  },
  {
   "cell_type": "code",
   "execution_count": null,
   "metadata": {},
   "outputs": [],
   "source": [
    "# Crear un mapa de Folium centrado en el Perú\n",
    "map_peru = fm.Map(location=[lat_palacio, long_palacio], zoom_start=5)\n",
    "\n",
    "# Añadir el GeoJSON de los departamentos al mapa con colores según el promedio de mujeres empleadas\n",
    "folium.Choropleth(\n",
    "    geo_data=dpt_shp,\n",
    "    name='choropleth',\n",
    "    data=df2,\n",
    "    columns=['dpt_code', 'women_empl'],\n",
    "    key_on='feature.properties.CCDD',\n",
    "    fill_color='YlOrRd',\n",
    "    fill_opacity=0.7,\n",
    "    line_opacity=0.2,\n",
    "    legend_name='Average number of women victims of sexual labor',\n",
    "    bins = bins\n",
    ").add_to(map_peru)"
   ]
  },
  {
   "cell_type": "code",
   "execution_count": null,
   "metadata": {},
   "outputs": [],
   "source": [
    "map_peru"
   ]
  },
  {
   "cell_type": "code",
   "execution_count": null,
   "metadata": {},
   "outputs": [],
   "source": [
    "# Filtrar el GeoDataFrame para excluir el departamento con el código '15'\n",
    "dpt_shp_filtered = dpt_shp[dpt_shp['CCDD'] != '15']\n",
    "\n",
    "# Crea un mapa de Folium centrado en el Perú\n",
    "map_peru = folium.Map(location=[lat_palacio, long_palacio], zoom_start=5)\n",
    "\n",
    "# Añadir el GeoJSON de los departamentos al mapa con colores según el promedio de mujeres empleadas\n",
    "folium.Choropleth(\n",
    "    geo_data=dpt_shp_filtered,\n",
    "    name='choropleth',\n",
    "    data=df2,\n",
    "    columns=['dpt_code', 'women_empl'],\n",
    "    key_on='feature.properties.CCDD',\n",
    "    fill_color='YlOrRd',\n",
    "    fill_opacity=0.7,\n",
    "    line_opacity=0.2,\n",
    "    legend_name='Average number of women victims of sexual labor',\n",
    "    bins=bins\n",
    ").add_to(map_peru)"
   ]
  },
  {
   "cell_type": "code",
   "execution_count": null,
   "metadata": {},
   "outputs": [],
   "source": [
    "map_peru"
   ]
  },
  {
   "cell_type": "code",
   "execution_count": null,
   "metadata": {},
   "outputs": [],
   "source": []
  },
  {
   "cell_type": "code",
   "execution_count": null,
   "metadata": {},
   "outputs": [],
   "source": []
  },
  {
   "cell_type": "code",
   "execution_count": null,
   "metadata": {},
   "outputs": [],
   "source": [
    "df4 = sex_work.groupby( ['dpt_code', 'month', 'sex'], as_index = False )[['empl']].sum() \\\n",
    "        .pivot( index = [ 'dpt_code', 'month' ] , columns = 'sex',values='empl') \\\n",
    "        .reset_index()"
   ]
  },
  {
   "cell_type": "code",
   "execution_count": null,
   "metadata": {},
   "outputs": [],
   "source": [
    "df4"
   ]
  },
  {
   "cell_type": "code",
   "execution_count": null,
   "metadata": {},
   "outputs": [],
   "source": [
    "df4[ 'prop_wom' ] = ( df4.Mujer * 100 / df4.Hombre )"
   ]
  },
  {
   "cell_type": "code",
   "execution_count": null,
   "metadata": {},
   "outputs": [],
   "source": [
    "df5 = dpt_shp.merge( df4, left_on = 'CCDD', right_on = 'dpt_code'  )"
   ]
  },
  {
   "cell_type": "code",
   "execution_count": null,
   "metadata": {},
   "outputs": [],
   "source": [
    "df5"
   ]
  },
  {
   "cell_type": "code",
   "execution_count": null,
   "metadata": {},
   "outputs": [],
   "source": [
    "# Crear un mapa de Folium centrado en el Perú\n",
    "map_peru = folium.Map(location=[lat_palacio, long_palacio], zoom_start=5)\n",
    "\n",
    "# Iterar sobre los meses y agregar capas al mapa\n",
    "for month in df5['month'].unique():\n",
    "    # Filtrar el DataFrame para obtener datos del mes actual\n",
    "    df6 = df5[df5['month'] == month]\n",
    "    \n",
    "    folium.Choropleth(\n",
    "        geo_data=df6,\n",
    "        name=f'Choropleth - {month}',\n",
    "        data=df6,\n",
    "        columns=['dpt_code', 'prop_wom'],\n",
    "        key_on='feature.properties.CCDD',\n",
    "        fill_color='YlOrRd',\n",
    "        fill_opacity=0.7,\n",
    "        line_opacity=0.2,\n",
    "        legend_name=f'Proportion of Women - {month}',\n",
    "    ).add_to(map_peru)\n",
    "    \n",
    "\n",
    "# Añadir un control de capas\n",
    "folium.LayerControl().add_to(map_peru)"
   ]
  },
  {
   "cell_type": "code",
   "execution_count": null,
   "metadata": {},
   "outputs": [],
   "source": [
    "map_peru"
   ]
  },
  {
   "cell_type": "code",
   "execution_count": null,
   "metadata": {},
   "outputs": [],
   "source": [
    "# Crear un mapa de Folium centrado en el Perú\n",
    "map_peru = fm.Map(location=[lat_palacio, long_palacio], zoom_start=5)\n",
    "\n",
    "bins = [ 17.02, 30, 40, 50, 100 ] \n",
    "def style_function(feature):\n",
    "        return {\n",
    "            'opacity': 0.2,\n",
    "            'color': 'black',\n",
    "            'dashArray': '5, 5',  # Establecer el estilo de línea '- -'\n",
    "        }\n",
    "\n",
    "# Añadir el GeoJSON de los departamentos al mapa con colores según el promedio de mujeres empleadas\n",
    "folium.Choropleth(\n",
    "    geo_data=dpt_shp,\n",
    "    name='choropleth',\n",
    "    data=df6,\n",
    "    columns=['dpt_code', 'prop_wom'],\n",
    "    key_on='feature.properties.CCDD',\n",
    "    fill_color='YlOrRd',\n",
    "    fill_opacity=0.7,\n",
    "    line_opacity=0.2,\n",
    "    legend_name='Proportion of women victims of sexual labor',\n",
    "    bins = bins\n",
    ").add_to(map_peru)"
   ]
  },
  {
   "cell_type": "code",
   "execution_count": null,
   "metadata": {
    "scrolled": false
   },
   "outputs": [],
   "source": [
    "map_peru"
   ]
  },
  {
   "cell_type": "code",
   "execution_count": null,
   "metadata": {},
   "outputs": [],
   "source": []
  },
  {
   "cell_type": "code",
   "execution_count": null,
   "metadata": {},
   "outputs": [],
   "source": [
    "df6.loc[ (df6.NOMBDEP == 'LIMA'), 'prop_wom' ] = np.nan"
   ]
  },
  {
   "cell_type": "code",
   "execution_count": null,
   "metadata": {},
   "outputs": [],
   "source": [
    "map_peru = fm.Map(location=[lat_palacio, long_palacio], zoom_start=5)\n",
    "\n",
    "bins = [ 17.02, 30, 40, 50, 100 ] \n",
    "def style_function(feature):\n",
    "        return {\n",
    "            'opacity': 0.2,\n",
    "            'color': 'black',\n",
    "            'dashArray': '5, 5',  # Establecer el estilo de línea '- -'\n",
    "        }\n",
    "\n",
    "# Añadir el GeoJSON de los departamentos al mapa con colores según el promedio de mujeres empleadas\n",
    "folium.Choropleth(\n",
    "    geo_data=dpt_shp,\n",
    "    name='choropleth',\n",
    "    data=df6,\n",
    "    columns=['dpt_code', 'prop_wom'],\n",
    "    key_on='feature.properties.CCDD',\n",
    "    fill_color='YlOrRd',\n",
    "    fill_opacity=0.7,\n",
    "    line_opacity=0.2,\n",
    "    legend_name='Proportion of women victims of sexual labor',\n",
    "    bins = bins\n",
    ").add_to(map_peru)"
   ]
  },
  {
   "cell_type": "code",
   "execution_count": null,
   "metadata": {},
   "outputs": [],
   "source": [
    "map_peru"
   ]
  },
  {
   "cell_type": "code",
   "execution_count": null,
   "metadata": {},
   "outputs": [],
   "source": []
  },
  {
   "cell_type": "code",
   "execution_count": null,
   "metadata": {},
   "outputs": [],
   "source": [
    "map_peru = fm.Map(location=[lat_palacio, long_palacio], zoom_start=5)\n",
    "def get_fixed_color(feature):\n",
    "    return {\n",
    "        'fillColor': 'blue',  # Color de relleno\n",
    "        'color': 'black',     # Color del contorno\n",
    "        'weight': 0.5,          # Grosor del contorno\n",
    "        'fillOpacity': 0.7    # Opacidad del relleno\n",
    "    }\n",
    "\n",
    "# Agregar la capa GeoJson al mapa con el estilo definido\n",
    "folium.GeoJson(\n",
    "    dpt_shp,\n",
    "    name='Departments',\n",
    "    style_function=get_fixed_color\n",
    ").add_to(map_peru)\n",
    "\n",
    "# Añadir un control de capas\n",
    "folium.LayerControl().add_to(map_peru)"
   ]
  },
  {
   "cell_type": "code",
   "execution_count": null,
   "metadata": {},
   "outputs": [],
   "source": [
    "map_peru"
   ]
  },
  {
   "cell_type": "code",
   "execution_count": null,
   "metadata": {},
   "outputs": [],
   "source": []
  },
  {
   "cell_type": "code",
   "execution_count": null,
   "metadata": {},
   "outputs": [],
   "source": [
    "dpt_shp['country'] = 'PERU'"
   ]
  },
  {
   "cell_type": "code",
   "execution_count": null,
   "metadata": {},
   "outputs": [],
   "source": [
    "ctr_shp = dpt_shp.dissolve( by = 'country')"
   ]
  },
  {
   "cell_type": "code",
   "execution_count": null,
   "metadata": {},
   "outputs": [],
   "source": [
    "map_peru = fm.Map(location=[lat_palacio, long_palacio], zoom_start=5)\n",
    "def get_fixed_color(feature):\n",
    "    return {\n",
    "        'fillColor': 'blue',  # Color de relleno\n",
    "        'color': 'black',     # Color del contorno\n",
    "        'weight': 0.5,          # Grosor del contorno\n",
    "        'fillOpacity': 0.7    # Opacidad del relleno\n",
    "    }\n",
    "\n",
    "# Agregar la capa GeoJson al mapa con el estilo definido\n",
    "folium.GeoJson(\n",
    "    ctr_shp,\n",
    "    name='Departments',\n",
    "    style_function=get_fixed_color\n",
    ").add_to(map_peru)\n",
    "\n",
    "# Añadir un control de capas\n",
    "folium.LayerControl().add_to(map_peru)"
   ]
  },
  {
   "cell_type": "code",
   "execution_count": null,
   "metadata": {},
   "outputs": [],
   "source": [
    "map_peru"
   ]
  }
 ],
 "metadata": {
  "hide_input": false,
  "kernelspec": {
   "display_name": "Python 3 (ipykernel)",
   "language": "python",
   "name": "python3"
  },
  "language_info": {
   "codemirror_mode": {
    "name": "ipython",
    "version": 3
   },
   "file_extension": ".py",
   "mimetype": "text/x-python",
   "name": "python",
   "nbconvert_exporter": "python",
   "pygments_lexer": "ipython3",
   "version": "3.11.5"
  },
  "toc": {
   "base_numbering": 1,
   "nav_menu": {},
   "number_sections": true,
   "sideBar": true,
   "skip_h1_title": false,
   "title_cell": "Table of Contents",
   "title_sidebar": "Contents",
   "toc_cell": false,
   "toc_position": {},
   "toc_section_display": true,
   "toc_window_display": false
  }
 },
 "nbformat": 4,
 "nbformat_minor": 4
}
