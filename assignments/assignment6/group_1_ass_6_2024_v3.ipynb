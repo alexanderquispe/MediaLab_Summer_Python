{
 "cells": [
  {
   "cell_type": "markdown",
   "id": "0ecc41a5",
   "metadata": {},
   "source": [
    "## Assignment 6"
   ]
  },
  {
   "cell_type": "markdown",
   "id": "b1ef9463",
   "metadata": {},
   "source": [
    "## We have not run the codes because when running them the size exceeds the allowed limit (from 100 maximum, we obtain more than 350 mb). "
   ]
  },
  {
   "cell_type": "code",
   "execution_count": null,
   "id": "664b0189",
   "metadata": {},
   "outputs": [],
   "source": [
    "#We add the folium library\n",
    "!pip install folium\n",
    "!pip install geopandas"
   ]
  },
  {
   "cell_type": "code",
   "execution_count": null,
   "id": "2e2db40f",
   "metadata": {},
   "outputs": [],
   "source": [
    "\n",
    "from IPython.display import display, HTML\n",
    "\n",
    "display(HTML(data=\"\"\"\n",
    "<style>\n",
    "    div#notebook-container    { width: 95%; }\n",
    "    div#menubar-container     { width: 65%; }\n",
    "    div#maintoolbar-container { width: 99%; }a\n",
    "</style>\n",
    "\"\"\"))"
   ]
  },
  {
   "cell_type": "code",
   "execution_count": null,
   "id": "09ec20f3",
   "metadata": {},
   "outputs": [],
   "source": [
    "import matplotlib.pyplot as plt \n",
    "import folium \n",
    "import numpy as np\n",
    "import pandas as pd\n",
    "import geopandas as gpd"
   ]
  },
  {
   "cell_type": "code",
   "execution_count": null,
   "id": "68f27fa7",
   "metadata": {},
   "outputs": [],
   "source": [
    "# Get data of labor\n",
    "sex_work = pd.read_stata( r'/Users/pabloparedeschavez/Documents/GitHub/MediaLab_Summer_Python/_data/8_trab_sex_20.dta' )\n",
    "sex_work[ 'dpt_code' ] = sex_work.cod_ubigeo.str[ :2 ].copy()\n",
    "sex_work[ 'prov_code' ] = sex_work.cod_ubigeo.str[ :4 ].copy()\n",
    "\n",
    "# Sex work\n",
    "women_work = sex_work[ sex_work.sex == 'Mujer' ].copy().reset_index( drop = True )"
   ]
  },
  {
   "cell_type": "code",
   "execution_count": null,
   "id": "194c6898",
   "metadata": {},
   "outputs": [],
   "source": [
    "# get data from lima\n",
    "women_work[ 'month' ] = pd.to_datetime( women_work.month , format = '%B' ) \\\n",
    "                                    .dt.strftime( '%m' ) \\\n",
    "                                    .astype( int )"
   ]
  },
  {
   "cell_type": "code",
   "execution_count": null,
   "id": "b03c8698",
   "metadata": {},
   "outputs": [],
   "source": [
    "# Sort by department and month\n",
    "women_work.sort_values([ 'dpt_code', 'month'], inplace = True )\n",
    "\n",
    "# Get the total number of women workers by dpt\n",
    "dpt_women_work = women_work.groupby( [ 'dpt_code', 'month'], as_index = False )[['empl']] \\\n",
    "                            .sum() \\\n",
    "                            .rename( columns = {'empl' :'women_empl'})\n",
    "\n",
    "# Sort by dpt code and month\n",
    "dpt_women_work.sort_values([ 'dpt_code', 'month'], inplace = True )"
   ]
  },
  {
   "cell_type": "code",
   "execution_count": null,
   "id": "dfa8a3b0",
   "metadata": {},
   "outputs": [],
   "source": [
    "df2 = dpt_women_work.groupby( ['dpt_code'],as_index = False )[['women_empl']].mean()\n"
   ]
  },
  {
   "cell_type": "markdown",
   "id": "8668d56c",
   "metadata": {},
   "source": [
    "# Shapefiles\n",
    "# Map 1\n",
    "We replicate the map  using Folium also we added the GeoJSON data"
   ]
  },
  {
   "cell_type": "code",
   "execution_count": null,
   "id": "95098091",
   "metadata": {},
   "outputs": [],
   "source": [
    "dpt_shp = gpd.read_file( r'/Users/pabloparedeschavez/Documents/GitHub/MediaLab_Summer_Python/_data/INEI_LIMITE_DEPARTAMENTAL/INEI_LIMITE_DEPARTAMENTAL.shp' )"
   ]
  },
  {
   "cell_type": "code",
   "execution_count": null,
   "id": "81d2a9fb",
   "metadata": {},
   "outputs": [],
   "source": [
    "print(dpt_shp.columns)\n",
    "#Just to check the list to organize the information"
   ]
  },
  {
   "cell_type": "code",
   "execution_count": null,
   "id": "7ac406dc",
   "metadata": {},
   "outputs": [],
   "source": [
    "print(dpt_shp.head())\n",
    "##Just to check the full list to organize the information"
   ]
  },
  {
   "cell_type": "code",
   "execution_count": null,
   "id": "5b747a9c",
   "metadata": {},
   "outputs": [],
   "source": [
    "df3 = dpt_shp.merge( df2, left_on = 'CCDD', right_on = 'dpt_code'  )"
   ]
  },
  {
   "cell_type": "code",
   "execution_count": null,
   "id": "23aceb84",
   "metadata": {},
   "outputs": [],
   "source": [
    "import branca.colormap as cm  \n",
    "import json  \n",
    " \n",
    "df3_json = df3.to_json()\n",
    "\n",
    "# Creating the map\n",
    "m = folium.Map(location=[-9.1900, -75.0152], zoom_start=6)   \n",
    "\n",
    "# Colormap is needed\n",
    "colormap = cm.linear.Reds_09.scale(df3['women_empl'].min(), df3['women_empl'].max())\n",
    "\n",
    " \n",
    "folium.GeoJson(\n",
    "    df3_json,\n",
    "    name='Women Employment',\n",
    "    style_function=lambda feature: {\n",
    "        'fillColor': colormap(feature['properties']['women_empl']),\n",
    "        'color': 'black',\n",
    "        'weight': 2,\n",
    "        'dashArray': '5, 5'\n",
    "    }\n",
    ").add_to(m)\n",
    "\n",
    "# Colormap for the map\n",
    "colormap.add_to(m)\n",
    " \n",
    "m\n",
    "\n",
    " "
   ]
  },
  {
   "cell_type": "markdown",
   "id": "9dda9946",
   "metadata": {},
   "source": [
    "# Map 2\n",
    "\n",
    "Again we added the GeoJSON data"
   ]
  },
  {
   "cell_type": "code",
   "execution_count": null,
   "id": "d5256c9e",
   "metadata": {},
   "outputs": [],
   "source": [
    "m = folium.Map(location=[-9.1900, -75.0152], zoom_start=6)  \n",
    "\n",
    "\n",
    "bins = [20000, 40000, 60000, 100000]\n",
    "\n",
    "# Colormap will be needed\n",
    "colormap = cm.LinearColormap(colors=['#fee5d9','#fcae91','#fb6a4a','#de2d26'], index=bins, vmin=df3['women_empl'].min(), vmax=df3['women_empl'].max())\n",
    "\n",
    "\n",
    "folium.GeoJson(\n",
    "    df3_json,\n",
    "    name='Women Employment',\n",
    "    style_function=lambda feature: {\n",
    "        'fillColor': colormap(feature['properties']['women_empl']) if feature['properties']['women_empl'] is not None else 'transparent',\n",
    "        'color': 'black',\n",
    "        'weight': 2,\n",
    "        'dashArray': '5, 5'\n",
    "    }\n",
    ").add_to(m)\n",
    "\n",
    "# Add the colormap to the map\n",
    "colormap.caption = 'Number of Employers'\n",
    "colormap.add_to(m)\n",
    "\n",
    " \n",
    "m"
   ]
  },
  {
   "cell_type": "markdown",
   "id": "44e9edcc",
   "metadata": {},
   "source": [
    "# Map 3\n",
    "We skip to show Lima"
   ]
  },
  {
   "cell_type": "code",
   "execution_count": null,
   "id": "fd2a4772",
   "metadata": {},
   "outputs": [],
   "source": [
    "df2_=df2[df2.dpt_code!='15']\n",
    "df3_=df3[df3.CCDD!='15']"
   ]
  },
  {
   "cell_type": "code",
   "execution_count": null,
   "id": "1a63ff00",
   "metadata": {},
   "outputs": [],
   "source": [
    "lat_palacio = -12.0757538\n",
    "long_palacio = -76.9863174\n",
    "zoom_start = 5\n",
    "\n",
    "z = folium.Map(location = [lat_palacio, long_palacio], tiles='OpenStreetMap', zoom_start = zoom_start)\n",
    "\n",
    "bins=[x*10000 for x in range(8)] \n",
    "\n",
    "folium.Choropleth(\n",
    "    geo_data=df3_, \n",
    "    data=df2_, \n",
    "    columns=['dpt_code', 'women_empl'], \n",
    "    key_on=\"feature.properties.dpt_code\", \n",
    "    fill_color=\"Reds\", \n",
    "    line_color = \"#0a0a0a\", \n",
    "    line_dash_array = '5, 5',\n",
    "    threshold_scale=bins, \n",
    "    ).add_to(z)\n",
    "\n",
    "z"
   ]
  },
  {
   "cell_type": "markdown",
   "id": "5ba06f7e",
   "metadata": {},
   "source": [
    "# Map4"
   ]
  },
  {
   "cell_type": "code",
   "execution_count": null,
   "id": "aeed1a7b",
   "metadata": {},
   "outputs": [],
   "source": [
    "# This is the original code of the assignment:\n",
    "df4 = sex_work.groupby( ['dpt_code', 'month', 'sex'], as_index = False )[['empl']].sum() \\\n",
    "        .pivot( index = [ 'dpt_code', 'month' ] , columns = 'sex',values='empl') \\\n",
    "        .reset_index()\n",
    "df4"
   ]
  },
  {
   "cell_type": "code",
   "execution_count": null,
   "id": "ec83f865",
   "metadata": {},
   "outputs": [],
   "source": [
    "# This is the original code of the assignment:\n",
    "df4[ 'prop_wom' ] = ( df4.Mujer * 100 / df4.Hombre )\n",
    " \n"
   ]
  },
  {
   "cell_type": "code",
   "execution_count": null,
   "id": "e35b5d75",
   "metadata": {},
   "outputs": [],
   "source": [
    "# This is the original code of the assignment:\n",
    "df5 = dpt_shp.merge( df4, left_on = 'CCDD', right_on = 'dpt_code'  )\n"
   ]
  },
  {
   "cell_type": "code",
   "execution_count": null,
   "id": "56b1e024",
   "metadata": {},
   "outputs": [],
   "source": [
    "# This is the original code of the assignment:\n",
    "df4 = sex_work.groupby( ['dpt_code', 'month', 'sex'], as_index = False )[['empl']].sum() \\\n",
    "        .pivot( index = [ 'dpt_code', 'month' ] , columns = 'sex',values='empl') \\\n",
    "        .reset_index()\n",
    "\n",
    " \n",
    "df4[ 'prop_wom' ] = ( df4.Mujer * 100 / df4.Hombre )\n",
    "\n",
    "df5 = dpt_shp.merge( df4, left_on = 'CCDD', right_on = 'dpt_code'  )\n",
    "\n",
    "fig, axis = plt.subplots( nrows = 4, ncols= 3, figsize = ( 15, 15 ) )\n",
    "\n",
    "\n",
    "idx = 0\n",
    "for i in range( 4 ):\n",
    "    for j in range ( 3 ):\n",
    "        \n",
    "        \n",
    "        ax = axis[ i ][ j ]\n",
    "        \n",
    "        month = df5.month.unique()[ idx ]\n",
    "        \n",
    "        df6 = df5[ df5.month == month ]\n",
    "        \n",
    "        df6.plot( column='prop_wom', \n",
    "                  cmap='Reds', \n",
    "                  linestyle='--',\n",
    "                  edgecolor='black', \n",
    "                  legend = True, \n",
    "                  ax = ax \n",
    "                )\n",
    "        \n",
    "        ax.set_title( month )\n",
    "        \n",
    "        idx = idx + 1"
   ]
  },
  {
   "cell_type": "code",
   "execution_count": null,
   "id": "2e1434e3",
   "metadata": {},
   "outputs": [],
   "source": [
    "#We add new breakpoints to the bins and  we added the choropleth to the map. This is the example for December. "
   ]
  },
  {
   "cell_type": "code",
   "execution_count": null,
   "id": "54a5decb",
   "metadata": {
    "scrolled": true
   },
   "outputs": [],
   "source": [
    "lat_palacio = -12.0757538\n",
    "long_palacio = -76.9863174\n",
    "zoom_start = 5\n",
    "\n",
    "z = folium.Map(location = [lat_palacio, long_palacio], tiles='OpenStreetMap', zoom_start = zoom_start)\n",
    "\n",
    "bins=[x*10 for x in range(1,9)]  \n",
    "\n",
    "for i in range(12):\n",
    "    \n",
    "     \n",
    "    if i==0:\n",
    "        globals()[f'd_{i}']=folium.Choropleth(    \n",
    "        geo_data=df6,  \n",
    "        data=df6, \n",
    "        columns=['dpt_code', 'prop_wom'],  \n",
    "        key_on=\"feature.properties.dpt_code\", \n",
    "        fill_color=\"Reds\", \n",
    "        line_color = \"#0a0a0a\", \n",
    "        line_dash_array = '5, 5',\n",
    "        threshold_scale=bins, \n",
    "        control=True,  \n",
    "        name=month \n",
    "        )\n",
    "    \n",
    "    else:\n",
    "        globals()[f'd_{i}']=folium.Choropleth(\n",
    "        geo_data=df6, \n",
    "        data=df6, \n",
    "        columns=['dpt_code', 'prop_wom'], \n",
    "        key_on=\"feature.properties.dpt_code\", \n",
    "        fill_color=\"Reds\", \n",
    "        line_color = \"#0a0a0a\", \n",
    "        line_dash_array = '5, 5',\n",
    "        threshold_scale=bins,\n",
    "        control=True,\n",
    "        name=month,\n",
    "        show=False   \n",
    "        )\n",
    "        \n",
    "          \n",
    "        for key in globals()[f'd_{i}']._children:   \n",
    "            if key.startswith('color_map'):        \n",
    "                del(globals()[f'd_{i}']._children[key]) # \n",
    "         \n",
    "    \n",
    "    globals()[f'd_{i}'].add_to(z)\n",
    "    \n",
    "folium.LayerControl(collapsed=False).add_to(z)   \n",
    "\n",
    "z"
   ]
  },
  {
   "cell_type": "code",
   "execution_count": null,
   "id": "77b7c6a5",
   "metadata": {},
   "outputs": [],
   "source": [
    "#This is other way to get the maps by months (second option).\n",
    "\n",
    "\n",
    "import folium\n",
    "\n",
    "lat_palacio = -12.0757538\n",
    "long_palacio = -76.9863174\n",
    "zoom_start = 5\n",
    "\n",
    "z = folium.Map(location=[lat_palacio, long_palacio], tiles='OpenStreetMap', zoom_start=zoom_start)\n",
    "\n",
    "bins = [x * 10 for x in range(1, 9)]\n",
    "\n",
    "months = [\"January\", \"February\", \"March\", \"April\", \"May\", \"June\", \"July\", \"August\", \"September\", \"October\", \"November\", \"December\"]\n",
    "\n",
    "for i, month in enumerate(months):\n",
    "    if i == 0:\n",
    "        globals()[f'd_{i}'] = folium.Choropleth(\n",
    "            geo_data=df6,\n",
    "            data=df6,\n",
    "            columns=['dpt_code', 'prop_wom'],\n",
    "            key_on=\"feature.properties.dpt_code\",\n",
    "            fill_color=\"Reds\",\n",
    "            line_color=\"#0a0a0a\",\n",
    "            line_dash_array='5, 5',\n",
    "            threshold_scale=bins,\n",
    "            control=True,\n",
    "            name=month\n",
    "        )\n",
    "    else:\n",
    "        globals()[f'd_{i}'] = folium.Choropleth(\n",
    "            geo_data=df6,\n",
    "            data=df6,\n",
    "            columns=['dpt_code', 'prop_wom'],\n",
    "            key_on=\"feature.properties.dpt_code\",\n",
    "            fill_color=\"Reds\",\n",
    "            line_color=\"#0a0a0a\",\n",
    "            line_dash_array='5, 5',\n",
    "            threshold_scale=bins,\n",
    "            control=True,\n",
    "            name=month,\n",
    "            show=False\n",
    "        )\n",
    "\n",
    "        for key in globals()[f'd_{i}']._children:\n",
    "            if key.startswith('color_map'):\n",
    "                del (globals()[f'd_{i}']._children[key])\n",
    "\n",
    "    globals()[f'd_{i}'].add_to(z)\n",
    "\n",
    "folium.LayerControl(collapsed=False).add_to(z)\n",
    "\n",
    "z\n"
   ]
  },
  {
   "cell_type": "markdown",
   "id": "f7f3f5b5",
   "metadata": {},
   "source": [
    "## Map 5"
   ]
  },
  {
   "cell_type": "code",
   "execution_count": null,
   "id": "d509d150",
   "metadata": {
    "scrolled": true
   },
   "outputs": [],
   "source": [
    "# We include the column \"prop_woman\" in the DataFrame\n",
    "df6[ 'prop_wom' ] = ( df6.Mujer * 100 / df6.Hombre )\n",
    "df7 = dpt_shp.merge( df6, left_on = 'CCDD', right_on = 'dpt_code'  )\n",
    "df7.head()"
   ]
  },
  {
   "cell_type": "code",
   "execution_count": null,
   "id": "adeff812",
   "metadata": {},
   "outputs": [],
   "source": [
    "# Delete all rows that have 'LIMA' in the 'NOMBDEP' column\n",
    "df8 = df7[df7['NOMBDEP_x'] != 'LIMA']\n",
    "\n",
    "# Ensure indexes are consecutive after deletion\n",
    "df8.reset_index(drop=True, inplace=True)\n",
    "\n",
    "# Show the new DataFrame df8\n",
    "df8.head()"
   ]
  },
  {
   "cell_type": "code",
   "execution_count": null,
   "id": "a8b377b5",
   "metadata": {},
   "outputs": [],
   "source": [
    "import folium\n",
    "import geopandas as gpd\n",
    "from folium.plugins import HeatMap\n",
    "\n",
    "# Copy the DataFrame to avoid SettingWithCopyWarning\n",
    "df8_copy = df8.copy()\n",
    "\n",
    "# Delete all rows that have 'LIMA' in the 'NOMBDEP' column\n",
    "df8_copy = df8_copy[df8_copy['NOMBDEP_x'] != 'LIMA']\n",
    "\n",
    "# Ensure indexes are consecutive after deletion\n",
    "df8_copy.reset_index(drop=True, inplace=True)\n",
    "\n",
    "# The coordinates of the government palace will be used as the centroid\n",
    "lat_palacio = -12.0757538\n",
    "long_palacio = -76.9863174\n",
    "zoom_start = 5\n",
    "\n",
    "# Create a map object\n",
    "m = folium.Map(location=[lat_palacio, long_palacio], tiles='cartodbpositron', zoom_start=zoom_start)\n",
    "\n",
    "# Create the Choropleth and add it to the map\n",
    "choropleth = folium.Choropleth(\n",
    "    geo_data=df8_copy,\n",
    "    data=df8_copy,\n",
    "    columns=['dpt_code', 'prop_wom'],\n",
    "    key_on=\"feature.properties.dpt_code\",\n",
    "    fill_color=\"Reds\",\n",
    "    fill_opacity=0.8,\n",
    "    legend_name=\"Women Proportion\",\n",
    "    bins=[17.01, 20, 30, 40, 50, 100]\n",
    ").add_to(m)\n",
    "\n",
    "# Show the map\n",
    "m\n"
   ]
  },
  {
   "cell_type": "code",
   "execution_count": null,
   "id": "f206534e",
   "metadata": {},
   "outputs": [],
   "source": []
  },
  {
   "cell_type": "code",
   "execution_count": null,
   "id": "250511e5",
   "metadata": {},
   "outputs": [],
   "source": []
  }
 ],
 "metadata": {
  "kernelspec": {
   "display_name": "Python 3 (ipykernel)",
   "language": "python",
   "name": "python3"
  },
  "language_info": {
   "codemirror_mode": {
    "name": "ipython",
    "version": 3
   },
   "file_extension": ".py",
   "mimetype": "text/x-python",
   "name": "python",
   "nbconvert_exporter": "python",
   "pygments_lexer": "ipython3",
   "version": "3.11.5"
  }
 },
 "nbformat": 4,
 "nbformat_minor": 5
}
