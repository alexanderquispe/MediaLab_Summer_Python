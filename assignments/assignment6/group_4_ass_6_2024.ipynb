{
 "cells": [
  {
   "cell_type": "code",
   "execution_count": null,
   "metadata": {},
   "outputs": [],
   "source": []
  },
  {
   "cell_type": "markdown",
   "metadata": {},
   "source": [
    "# Assignment 6\n",
    "You have to replicate all the maps in this JN using folium."
   ]
  },
  {
   "cell_type": "code",
   "execution_count": null,
   "metadata": {},
   "outputs": [],
   "source": [
    "First we install folium"
   ]
  },
  {
   "cell_type": "code",
   "execution_count": null,
   "metadata": {},
   "outputs": [],
   "source": [
    "!pip install folium"
   ]
  },
  {
   "cell_type": "code",
   "execution_count": null,
   "metadata": {},
   "outputs": [],
   "source": [
    "import folium as fm"
   ]
  },
  {
   "cell_type": "code",
   "execution_count": null,
   "metadata": {},
   "outputs": [],
   "source": [
    "from IPython.display import display, HTML\n",
    "\n",
    "display(HTML(data=\"\"\"\n",
    "<style>\n",
    "    div#notebook-container    { width: 95%; }\n",
    "    div#menubar-container     { width: 65%; }\n",
    "    div#maintoolbar-container { width: 99%; }a\n",
    "</style>\n",
    "\"\"\"))\n"
   ]
  },
  {
   "cell_type": "markdown",
   "metadata": {},
   "source": [
    "Then also install geopandas"
   ]
  },
  {
   "cell_type": "code",
   "execution_count": null,
   "metadata": {},
   "outputs": [],
   "source": [
    "!pip install geopandas\n",
    "!pip install --upgrade numpy\n",
    "!pip install --upgrade numpy scipy\n",
    "!pip install --upgrade geopandas\n",
    "import matplotlib.pyplot as plt \n",
    "import numpy as np\n",
    "import pandas as pd\n",
    "import geopandas as gpd"
   ]
  },
  {
   "cell_type": "code",
   "execution_count": null,
   "metadata": {},
   "outputs": [],
   "source": [
    "# Get data of labor\n",
    "sex_work = pd.read_stata('C:\\\\Users\\\\HP\\\\Documents\\\\GitHub\\\\QLAB_Summer_Python\\\\MediaLab_Summer_Python\\\\_data\\\\8_trab_sex_20.dta')\n",
    "sex_work[ 'dpt_code' ] = sex_work.cod_ubigeo.str[ :2 ].copy()\n",
    "sex_work[ 'prov_code' ] = sex_work.cod_ubigeo.str[ :4 ].copy()\n",
    "\n",
    "# Sex work\n",
    "women_work = sex_work[ sex_work.sex == 'Mujer' ].copy().reset_index( drop = True )"
   ]
  },
  {
   "cell_type": "code",
   "execution_count": null,
   "metadata": {},
   "outputs": [],
   "source": [
    "# get data from lima\n",
    "women_work[ 'month' ] = pd.to_datetime( women_work.month , format = '%B' ) \\\n",
    "                                    .dt.strftime( '%m' ) \\\n",
    "                                    .astype( int )"
   ]
  },
  {
   "cell_type": "code",
   "execution_count": null,
   "metadata": {},
   "outputs": [],
   "source": [
    "# Sort by department and month\n",
    "women_work.sort_values([ 'dpt_code', 'month'], inplace = True )\n",
    "\n",
    "# Get the total number of women workers by dpt\n",
    "dpt_women_work = women_work.groupby( [ 'dpt_code', 'month'], as_index = False )[['empl']] \\\n",
    "                            .sum() \\\n",
    "                            .rename( columns = {'empl' :'women_empl'})\n",
    "\n",
    "# Sort by dpt code and month\n",
    "dpt_women_work.sort_values([ 'dpt_code', 'month'], inplace = True )"
   ]
  },
  {
   "cell_type": "code",
   "execution_count": null,
   "metadata": {},
   "outputs": [],
   "source": [
    "df2 = dpt_women_work.groupby( ['dpt_code'],as_index = False )[['women_empl']].mean()"
   ]
  },
  {
   "cell_type": "markdown",
   "metadata": {},
   "source": [
    "## Shapefile"
   ]
  },
  {
   "cell_type": "markdown",
   "metadata": {},
   "source": [
    "# Map 1"
   ]
  },
  {
   "cell_type": "code",
   "execution_count": null,
   "metadata": {},
   "outputs": [],
   "source": [
    "dpt_shp = gpd.read_file(r\"C:\\Users\\HP\\Documents\\GitHub\\QLAB_Summer_Python\\MediaLab_Summer_Python\\_data\\INEI_LIMITE_DEPARTAMENTAL\\INEI_LIMITE_DEPARTAMENTAL.shp\")"
   ]
  },
  {
   "cell_type": "code",
   "execution_count": null,
   "metadata": {},
   "outputs": [],
   "source": [
    "print(dpt_shp.head())"
   ]
  },
  {
   "cell_type": "code",
   "execution_count": null,
   "metadata": {},
   "outputs": [],
   "source": [
    "df3 = dpt_shp.merge(df2, left_on='CCDD', right_on='dpt_code')"
   ]
  },
  {
   "cell_type": "code",
   "execution_count": null,
   "metadata": {},
   "outputs": [],
   "source": [
    "df3.plot( column='women_empl', cmap='Reds', figsize=(20, 20), linestyle='--',\n",
    "                      edgecolor='black', \n",
    "                      legend = True) "
   ]
  },
  {
   "cell_type": "markdown",
   "metadata": {},
   "source": [
    "# Map 2"
   ]
  },
  {
   "cell_type": "code",
   "execution_count": null,
   "metadata": {},
   "outputs": [],
   "source": [
    "import folium"
   ]
  },
  {
   "cell_type": "code",
   "execution_count": null,
   "metadata": {},
   "outputs": [],
   "source": []
  },
  {
   "cell_type": "code",
   "execution_count": null,
   "metadata": {},
   "outputs": [],
   "source": [
    "!pip install folium"
   ]
  },
  {
   "cell_type": "code",
   "execution_count": null,
   "metadata": {},
   "outputs": [],
   "source": [
    "folium.Choropleth(\n",
    "    geo_data=df3,\n",
    "    name='choropleth',\n",
    "    data=df3,\n",
    "    columns=['dpt_code', 'women_empl'],\n",
    "    key_on='feature.properties.dpt_code',\n",
    "    fill_color='YlOrRd',\n",
    "    fill_opacity=0.9,\n",
    "    line_opacity=0.2,\n",
    "    legend_name='Women Employment (%)'\n",
    ").add_to(folium_map)"
   ]
  },
  {
   "cell_type": "code",
   "execution_count": null,
   "metadata": {},
   "outputs": [],
   "source": [
    "folium_map"
   ]
  },
  {
   "cell_type": "code",
   "execution_count": null,
   "metadata": {},
   "outputs": [],
   "source": [
    "import folium\n",
    "from folium.plugins import MarkerCluster\n",
    "\n",
    "import pandas as pd\n",
    "import geopandas as gpd\n",
    "\n",
    "# Calculate the map center\n",
    "map_center_two = [df3.geometry.centroid.y.mean(), df3.geometry.centroid.x.mean()]\n",
    "\n",
    "# Create a Folium map centered at the calculated location\n",
    "folium_map_two = folium.Map(location=map_center_2, zoom_start=5)\n",
    "\n",
    "# Check unique values in 'women_empl' column\n",
    "unique_values = df3['women_empl'].unique()\n",
    "print(\"Unique values in 'women_empl':\", unique_values)\n",
    "\n",
    "# Manually specify bin edges based on unique values\n",
    "bins = [0] + sorted(unique_values)\n"
   ]
  },
  {
   "cell_type": "code",
   "execution_count": null,
   "metadata": {},
   "outputs": [],
   "source": [
    "df4 = sex_work.groupby( ['dpt_code', 'month', 'sex'], as_index = False )[['empl']].sum() \\\n",
    "        .pivot( index = [ 'dpt_code', 'month' ] , columns = 'sex',values='empl') \\\n",
    "        .reset_index()"
   ]
  },
  {
   "cell_type": "code",
   "execution_count": null,
   "metadata": {},
   "outputs": [],
   "source": []
  },
  {
   "cell_type": "code",
   "execution_count": null,
   "metadata": {},
   "outputs": [],
   "source": [
    "df4[ 'prop_wom' ] = ( df4.Mujer * 100 / df4.Hombre )"
   ]
  },
  {
   "cell_type": "code",
   "execution_count": null,
   "metadata": {},
   "outputs": [],
   "source": [
    "df5 = dpt_shp.merge( df4, left_on = 'CCDD', right_on = 'dpt_code'  )"
   ]
  },
  {
   "cell_type": "code",
   "execution_count": null,
   "metadata": {},
   "outputs": [],
   "source": [
    "fig, axis = plt.subplots( nrows = 4, ncols= 3, figsize = ( 15, 15 ) )\n",
    "\n",
    "idx = 0\n",
    "for i in range( 4 ):\n",
    "    for j in range ( 3 ):\n",
    "        \n",
    "        \n",
    "        ax = axis[ i ][ j ]\n",
    "        \n",
    "        month = df5.month.unique()[ idx ]\n",
    "        \n",
    "        df6 = df5[ df5.month == month ]\n",
    "        \n",
    "        df6.plot( column='prop_wom', \n",
    "                  cmap='Reds', \n",
    "                  linestyle='--',\n",
    "                  edgecolor='black', \n",
    "                  legend = True, \n",
    "                  ax = ax \n",
    "                )\n",
    "        \n",
    "        ax.set_title( month )\n",
    "        \n",
    "        idx = idx + 1"
   ]
  },
  {
   "cell_type": "code",
   "execution_count": null,
   "metadata": {},
   "outputs": [],
   "source": [
    "from textwrap import wrap"
   ]
  },
  {
   "cell_type": "code",
   "execution_count": null,
   "metadata": {},
   "outputs": [],
   "source": [
    "# Inverting colour map\n",
    "cmap = plt.cm.OrRd"
   ]
  },
  {
   "cell_type": "code",
   "execution_count": null,
   "metadata": {},
   "outputs": [],
   "source": [
    "df6.loc[ (df6.NOMBDEP == 'LIMA'), 'prop_wom' ] = np.nan"
   ]
  },
  {
   "cell_type": "code",
   "execution_count": null,
   "metadata": {},
   "outputs": [],
   "source": [
    "fig, ax = plt.subplots(figsize=(20, 20))\n",
    "df6.plot( ax = ax, \n",
    "        column='prop_wom', \n",
    "         cmap= cmap, \n",
    "         figsize=(20, 20), \n",
    "         linestyle='--',\n",
    "         edgecolor='black', \n",
    "         legend = True,  \n",
    "         scheme = \"User_Defined\", \n",
    "         missing_kwds= dict(color = \"#DADADB\",), \n",
    "         classification_kwds = dict( bins = [ 20, 30, 40, 50,  100 ] ), \n",
    "         legend_kwds=dict(  loc='upper left',\n",
    "                            bbox_to_anchor=(1.01, 1),\n",
    "                            fontsize='x-large',\n",
    "                            title= \"Women Proportion\", \n",
    "                            title_fontsize = 'x-large', \n",
    "                            frameon= False )\n",
    "        )"
   ]
  },
  {
   "cell_type": "code",
   "execution_count": null,
   "metadata": {},
   "outputs": [],
   "source": [
    "fig, ax = plt.subplots(figsize=(20, 20))\n",
    "dpt_shp.plot( ax = ax )"
   ]
  },
  {
   "cell_type": "code",
   "execution_count": null,
   "metadata": {},
   "outputs": [],
   "source": [
    "dpt_shp['country'] = 'PERU'"
   ]
  },
  {
   "cell_type": "code",
   "execution_count": null,
   "metadata": {},
   "outputs": [],
   "source": [
    "ctr_shp = dpt_shp.dissolve( by = 'country')"
   ]
  },
  {
   "cell_type": "code",
   "execution_count": null,
   "metadata": {},
   "outputs": [],
   "source": [
    "fig, ax = plt.subplots(figsize=(20, 20))\n",
    "ctr_shp.plot( ax = ax )"
   ]
  }
 ],
 "metadata": {
  "hide_input": false,
  "kernelspec": {
   "display_name": "Python 3 (ipykernel)",
   "language": "python",
   "name": "python3"
  },
  "language_info": {
   "codemirror_mode": {
    "name": "ipython",
    "version": 3
   },
   "file_extension": ".py",
   "mimetype": "text/x-python",
   "name": "python",
   "nbconvert_exporter": "python",
   "pygments_lexer": "ipython3",
   "version": "3.11.5"
  },
  "toc": {
   "base_numbering": 1,
   "nav_menu": {},
   "number_sections": true,
   "sideBar": true,
   "skip_h1_title": false,
   "title_cell": "Table of Contents",
   "title_sidebar": "Contents",
   "toc_cell": false,
   "toc_position": {},
   "toc_section_display": true,
   "toc_window_display": false
  }
 },
 "nbformat": 4,
 "nbformat_minor": 4
}
