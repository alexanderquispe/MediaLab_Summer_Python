{
 "cells": [
  {
   "cell_type": "markdown",
   "id": "1d648d5a",
   "metadata": {},
   "source": [
    "# Assignment 3 - Group 4 (Diego, Katty, Ronald, Claudia)"
   ]
  },
  {
   "cell_type": "markdown",
   "id": "4131c565",
   "metadata": {},
   "source": [
    "1. Inspect this dataset `./_data/bogota_firms.xlsx` and show some descriptive statistics of it."
   ]
  },
  {
   "cell_type": "markdown",
   "id": "75e652a9",
   "metadata": {},
   "source": [
    "First we need to import our panda library"
   ]
  },
  {
   "cell_type": "code",
   "execution_count": 20,
   "id": "8b743e27",
   "metadata": {},
   "outputs": [],
   "source": [
    "import pandas as pd"
   ]
  },
  {
   "cell_type": "markdown",
   "id": "bcba2467",
   "metadata": {},
   "source": [
    "Then we assign file path "
   ]
  },
  {
   "cell_type": "code",
   "execution_count": 59,
   "id": "8fc90d61",
   "metadata": {},
   "outputs": [],
   "source": [
    "db_path= r\"C:\\Users\\HP\\Documents\\GitHub\\QLAB_Summer_Python\\MediaLab_Summer_Python\\_data\\bogota_firms.xlsx\""
   ]
  },
  {
   "cell_type": "code",
   "execution_count": 60,
   "id": "7c591ec6",
   "metadata": {},
   "outputs": [],
   "source": [
    "database_bogota = r\"C:\\Users\\HP\\Documents\\GitHub\\QLAB_Summer_Python\\MediaLab_Summer_Python\\_data\\bogota_firms.xlsx\""
   ]
  },
  {
   "cell_type": "markdown",
   "id": "1b8ca555",
   "metadata": {},
   "source": [
    "If we want to read the file and crate a dataframe with pandas, we should use the function 'read_excel' adding the database_bogota variable"
   ]
  },
  {
   "cell_type": "code",
   "execution_count": 61,
   "id": "0c3234f1",
   "metadata": {},
   "outputs": [],
   "source": [
    "data_frame = pd.read_excel(database_bogota, sheet_name='Results')"
   ]
  },
  {
   "cell_type": "markdown",
   "id": "bf328cd1",
   "metadata": {},
   "source": [
    "We'd like to show a random sample of 5 rows from the dataset, here it is:"
   ]
  },
  {
   "cell_type": "code",
   "execution_count": 62,
   "id": "71910707",
   "metadata": {
    "scrolled": true
   },
   "outputs": [
    {
     "data": {
      "text/html": [
       "<div>\n",
       "<style scoped>\n",
       "    .dataframe tbody tr th:only-of-type {\n",
       "        vertical-align: middle;\n",
       "    }\n",
       "\n",
       "    .dataframe tbody tr th {\n",
       "        vertical-align: top;\n",
       "    }\n",
       "\n",
       "    .dataframe thead th {\n",
       "        text-align: right;\n",
       "    }\n",
       "</style>\n",
       "<table border=\"1\" class=\"dataframe\">\n",
       "  <thead>\n",
       "    <tr style=\"text-align: right;\">\n",
       "      <th></th>\n",
       "      <th>Unnamed: 0</th>\n",
       "      <th>Company name Latin alphabet</th>\n",
       "      <th>Country ISO code</th>\n",
       "      <th>City\\nLatin Alphabet</th>\n",
       "      <th>NACE Rev. 2, core code (4 digits)</th>\n",
       "      <th>Consolidation code</th>\n",
       "      <th>Last avail. year</th>\n",
       "      <th>Operating revenue (Turnover)\\nth LCU 2023</th>\n",
       "      <th>Operating revenue (Turnover)\\nth USD 2023</th>\n",
       "      <th>Operating revenue (Turnover)\\nth LCU 2022</th>\n",
       "      <th>...</th>\n",
       "      <th>Operating revenue (Turnover)\\nth LCU 2015</th>\n",
       "      <th>Operating revenue (Turnover)\\nth USD 2015</th>\n",
       "      <th>Operating revenue (Turnover)\\nth LCU 2014</th>\n",
       "      <th>Operating revenue (Turnover)\\nth USD 2014</th>\n",
       "      <th>Operating revenue (Turnover)\\nth LCU 2013</th>\n",
       "      <th>Operating revenue (Turnover)\\nth USD 2013</th>\n",
       "      <th>Operating revenue (Turnover)\\nth LCU 2012</th>\n",
       "      <th>Operating revenue (Turnover)\\nth USD 2012</th>\n",
       "      <th>Operating revenue (Turnover)\\nth LCU 2011</th>\n",
       "      <th>Operating revenue (Turnover)\\nth USD 2011</th>\n",
       "    </tr>\n",
       "  </thead>\n",
       "  <tbody>\n",
       "    <tr>\n",
       "      <th>9163</th>\n",
       "      <td>9164.0</td>\n",
       "      <td>COMERCIALIZADORA DE PRODUCTOS Y DESECHOS S A S</td>\n",
       "      <td>CO</td>\n",
       "      <td>CUCUTA</td>\n",
       "      <td>4677.0</td>\n",
       "      <td>U1</td>\n",
       "      <td>2022</td>\n",
       "      <td>n.a.</td>\n",
       "      <td>n.a.</td>\n",
       "      <td>3800000</td>\n",
       "      <td>...</td>\n",
       "      <td>n.a.</td>\n",
       "      <td>n.a.</td>\n",
       "      <td>673594</td>\n",
       "      <td>281.548694</td>\n",
       "      <td>n.a.</td>\n",
       "      <td>n.a.</td>\n",
       "      <td>n.a.</td>\n",
       "      <td>n.a.</td>\n",
       "      <td>n.a.</td>\n",
       "      <td>n.a.</td>\n",
       "    </tr>\n",
       "    <tr>\n",
       "      <th>8616</th>\n",
       "      <td>8617.0</td>\n",
       "      <td>AGRICOLA EL ONCE VICENTE BORRERO &amp; CIA S C S</td>\n",
       "      <td>CO</td>\n",
       "      <td>CALI</td>\n",
       "      <td>114.0</td>\n",
       "      <td>U1</td>\n",
       "      <td>2022</td>\n",
       "      <td>n.a.</td>\n",
       "      <td>n.a.</td>\n",
       "      <td>3849249.625</td>\n",
       "      <td>...</td>\n",
       "      <td>151720</td>\n",
       "      <td>48.173184</td>\n",
       "      <td>141707</td>\n",
       "      <td>59.230665</td>\n",
       "      <td>140317</td>\n",
       "      <td>72.984459</td>\n",
       "      <td>n.a.</td>\n",
       "      <td>n.a.</td>\n",
       "      <td>n.a.</td>\n",
       "      <td>n.a.</td>\n",
       "    </tr>\n",
       "    <tr>\n",
       "      <th>9979</th>\n",
       "      <td>9980.0</td>\n",
       "      <td>CICAFER S A S</td>\n",
       "      <td>CO</td>\n",
       "      <td>BOGOTA</td>\n",
       "      <td>4752.0</td>\n",
       "      <td>U1</td>\n",
       "      <td>2022</td>\n",
       "      <td>n.a.</td>\n",
       "      <td>n.a.</td>\n",
       "      <td>3737136</td>\n",
       "      <td>...</td>\n",
       "      <td>3638104</td>\n",
       "      <td>1155.148004</td>\n",
       "      <td>2622619</td>\n",
       "      <td>1096.201798</td>\n",
       "      <td>2653849</td>\n",
       "      <td>1380.372531</td>\n",
       "      <td>n.a.</td>\n",
       "      <td>n.a.</td>\n",
       "      <td>n.a.</td>\n",
       "      <td>n.a.</td>\n",
       "    </tr>\n",
       "    <tr>\n",
       "      <th>3011</th>\n",
       "      <td>3012.0</td>\n",
       "      <td>HOTEL VILAR AMERICA S A S BIC</td>\n",
       "      <td>CO</td>\n",
       "      <td>BOGOTA</td>\n",
       "      <td>5510.0</td>\n",
       "      <td>U1</td>\n",
       "      <td>2022</td>\n",
       "      <td>n.a.</td>\n",
       "      <td>n.a.</td>\n",
       "      <td>4404613</td>\n",
       "      <td>...</td>\n",
       "      <td>1993319</td>\n",
       "      <td>632.906169</td>\n",
       "      <td>1912085</td>\n",
       "      <td>799.21293</td>\n",
       "      <td>695395</td>\n",
       "      <td>361.702627</td>\n",
       "      <td>n.a.</td>\n",
       "      <td>n.a.</td>\n",
       "      <td>n.a.</td>\n",
       "      <td>n.a.</td>\n",
       "    </tr>\n",
       "    <tr>\n",
       "      <th>4505</th>\n",
       "      <td>4506.0</td>\n",
       "      <td>IMPORT CICLISTA SOCIEDAD POR ACCIONES SIMPLIFI...</td>\n",
       "      <td>CO</td>\n",
       "      <td>BUCARAMANGA</td>\n",
       "      <td>4649.0</td>\n",
       "      <td>U1</td>\n",
       "      <td>2017</td>\n",
       "      <td>n.a.</td>\n",
       "      <td>n.a.</td>\n",
       "      <td>n.a.</td>\n",
       "      <td>...</td>\n",
       "      <td>n.a.</td>\n",
       "      <td>n.a.</td>\n",
       "      <td>1240185</td>\n",
       "      <td>518.372294</td>\n",
       "      <td>1230214.25</td>\n",
       "      <td>639.883414</td>\n",
       "      <td>n.a.</td>\n",
       "      <td>n.a.</td>\n",
       "      <td>439067.499</td>\n",
       "      <td>246.023047</td>\n",
       "    </tr>\n",
       "  </tbody>\n",
       "</table>\n",
       "<p>5 rows × 33 columns</p>\n",
       "</div>"
      ],
      "text/plain": [
       "      Unnamed: 0                        Company name Latin alphabet  \\\n",
       "9163      9164.0     COMERCIALIZADORA DE PRODUCTOS Y DESECHOS S A S   \n",
       "8616      8617.0       AGRICOLA EL ONCE VICENTE BORRERO & CIA S C S   \n",
       "9979      9980.0                                      CICAFER S A S   \n",
       "3011      3012.0                      HOTEL VILAR AMERICA S A S BIC   \n",
       "4505      4506.0  IMPORT CICLISTA SOCIEDAD POR ACCIONES SIMPLIFI...   \n",
       "\n",
       "     Country ISO code City\\nLatin Alphabet  NACE Rev. 2, core code (4 digits)  \\\n",
       "9163               CO               CUCUTA                             4677.0   \n",
       "8616               CO                 CALI                              114.0   \n",
       "9979               CO               BOGOTA                             4752.0   \n",
       "3011               CO               BOGOTA                             5510.0   \n",
       "4505               CO          BUCARAMANGA                             4649.0   \n",
       "\n",
       "     Consolidation code  Last avail. year  \\\n",
       "9163                 U1              2022   \n",
       "8616                 U1              2022   \n",
       "9979                 U1              2022   \n",
       "3011                 U1              2022   \n",
       "4505                 U1              2017   \n",
       "\n",
       "     Operating revenue (Turnover)\\nth LCU 2023  \\\n",
       "9163                                      n.a.   \n",
       "8616                                      n.a.   \n",
       "9979                                      n.a.   \n",
       "3011                                      n.a.   \n",
       "4505                                      n.a.   \n",
       "\n",
       "     Operating revenue (Turnover)\\nth USD 2023  \\\n",
       "9163                                      n.a.   \n",
       "8616                                      n.a.   \n",
       "9979                                      n.a.   \n",
       "3011                                      n.a.   \n",
       "4505                                      n.a.   \n",
       "\n",
       "     Operating revenue (Turnover)\\nth LCU 2022  ...  \\\n",
       "9163                                   3800000  ...   \n",
       "8616                               3849249.625  ...   \n",
       "9979                                   3737136  ...   \n",
       "3011                                   4404613  ...   \n",
       "4505                                      n.a.  ...   \n",
       "\n",
       "     Operating revenue (Turnover)\\nth LCU 2015  \\\n",
       "9163                                      n.a.   \n",
       "8616                                    151720   \n",
       "9979                                   3638104   \n",
       "3011                                   1993319   \n",
       "4505                                      n.a.   \n",
       "\n",
       "     Operating revenue (Turnover)\\nth USD 2015  \\\n",
       "9163                                      n.a.   \n",
       "8616                                 48.173184   \n",
       "9979                               1155.148004   \n",
       "3011                                632.906169   \n",
       "4505                                      n.a.   \n",
       "\n",
       "     Operating revenue (Turnover)\\nth LCU 2014  \\\n",
       "9163                                    673594   \n",
       "8616                                    141707   \n",
       "9979                                   2622619   \n",
       "3011                                   1912085   \n",
       "4505                                   1240185   \n",
       "\n",
       "     Operating revenue (Turnover)\\nth USD 2014  \\\n",
       "9163                                281.548694   \n",
       "8616                                 59.230665   \n",
       "9979                               1096.201798   \n",
       "3011                                 799.21293   \n",
       "4505                                518.372294   \n",
       "\n",
       "     Operating revenue (Turnover)\\nth LCU 2013  \\\n",
       "9163                                      n.a.   \n",
       "8616                                    140317   \n",
       "9979                                   2653849   \n",
       "3011                                    695395   \n",
       "4505                                1230214.25   \n",
       "\n",
       "     Operating revenue (Turnover)\\nth USD 2013  \\\n",
       "9163                                      n.a.   \n",
       "8616                                 72.984459   \n",
       "9979                               1380.372531   \n",
       "3011                                361.702627   \n",
       "4505                                639.883414   \n",
       "\n",
       "     Operating revenue (Turnover)\\nth LCU 2012  \\\n",
       "9163                                      n.a.   \n",
       "8616                                      n.a.   \n",
       "9979                                      n.a.   \n",
       "3011                                      n.a.   \n",
       "4505                                      n.a.   \n",
       "\n",
       "     Operating revenue (Turnover)\\nth USD 2012  \\\n",
       "9163                                      n.a.   \n",
       "8616                                      n.a.   \n",
       "9979                                      n.a.   \n",
       "3011                                      n.a.   \n",
       "4505                                      n.a.   \n",
       "\n",
       "     Operating revenue (Turnover)\\nth LCU 2011  \\\n",
       "9163                                      n.a.   \n",
       "8616                                      n.a.   \n",
       "9979                                      n.a.   \n",
       "3011                                      n.a.   \n",
       "4505                                439067.499   \n",
       "\n",
       "     Operating revenue (Turnover)\\nth USD 2011  \n",
       "9163                                      n.a.  \n",
       "8616                                      n.a.  \n",
       "9979                                      n.a.  \n",
       "3011                                      n.a.  \n",
       "4505                                246.023047  \n",
       "\n",
       "[5 rows x 33 columns]"
      ]
     },
     "execution_count": 62,
     "metadata": {},
     "output_type": "execute_result"
    }
   ],
   "source": [
    "data_frame.sample(5)"
   ]
  },
  {
   "cell_type": "markdown",
   "id": "43257bf4",
   "metadata": {},
   "source": [
    "2. Reshape the dataset from wide to long at year level. Drop columns if they are in Dollars. Keep columns from Operating revenue (Turnover) th LCU 2023 to the end, and the name of the firm.\n",
    "\n",
    "Firstly, to do the new dataset, we need to drop the columns with dolars data through a loop and drop function"
   ]
  },
  {
   "cell_type": "code",
   "execution_count": 88,
   "id": "3ca0b0e4",
   "metadata": {},
   "outputs": [],
   "source": [
    "delete_usd=[column for column in data_frame.columns if 'USD' in column]  \n",
    "delete_usd = data_frame.drop(columns=delete_usd)"
   ]
  },
  {
   "cell_type": "markdown",
   "id": "6dcb3c1f",
   "metadata": {},
   "source": [
    "Create a new loop for maintain the column of operating revenue"
   ]
  },
  {
   "cell_type": "code",
   "execution_count": 112,
   "id": "eb0d0484",
   "metadata": {
    "scrolled": true
   },
   "outputs": [],
   "source": [
    "maintain_data=[column for column in delete_usd.columns if column == 'Operating revenue (Turnover)\\nth LCU 2023' or column == 'Company name Latin alphabet']\n",
    "maintain_data = delete_usd[maintain_data]"
   ]
  },
  {
   "cell_type": "markdown",
   "id": "70a75936",
   "metadata": {},
   "source": [
    "Now we create a new loop for reshape the dataset with the years and using the melt function"
   ]
  },
  {
   "cell_type": "code",
   "execution_count": 115,
   "id": "0527fece",
   "metadata": {},
   "outputs": [],
   "source": [
    "reshaped_table = maintain_data.melt(id_vars=['Company name Latin alphabet'], var_name='Year', value_name='LCU')\n",
    "reshaped_table['Year'] = reshaped_table['Year'].str.extract('(\\d{4})') "
   ]
  },
  {
   "cell_type": "markdown",
   "id": "63c8ce72",
   "metadata": {},
   "source": [
    "Finally we resolve"
   ]
  },
  {
   "cell_type": "code",
   "execution_count": 116,
   "id": "da001de0",
   "metadata": {},
   "outputs": [
    {
     "data": {
      "text/html": [
       "<div>\n",
       "<style scoped>\n",
       "    .dataframe tbody tr th:only-of-type {\n",
       "        vertical-align: middle;\n",
       "    }\n",
       "\n",
       "    .dataframe tbody tr th {\n",
       "        vertical-align: top;\n",
       "    }\n",
       "\n",
       "    .dataframe thead th {\n",
       "        text-align: right;\n",
       "    }\n",
       "</style>\n",
       "<table border=\"1\" class=\"dataframe\">\n",
       "  <thead>\n",
       "    <tr style=\"text-align: right;\">\n",
       "      <th></th>\n",
       "      <th>Company name Latin alphabet</th>\n",
       "      <th>Year</th>\n",
       "      <th>LCU</th>\n",
       "    </tr>\n",
       "  </thead>\n",
       "  <tbody>\n",
       "    <tr>\n",
       "      <th>0</th>\n",
       "      <td>CONSORCIO CONTINENTAL PARA EL DESARROLLO SOSTE...</td>\n",
       "      <td>2023</td>\n",
       "      <td>n.a.</td>\n",
       "    </tr>\n",
       "    <tr>\n",
       "      <th>1</th>\n",
       "      <td>AGRET CARGA NACIONAL Y ESPECIAL S A S</td>\n",
       "      <td>2023</td>\n",
       "      <td>n.a.</td>\n",
       "    </tr>\n",
       "    <tr>\n",
       "      <th>2</th>\n",
       "      <td>DINASTIA INVERSIONES S A</td>\n",
       "      <td>2023</td>\n",
       "      <td>n.a.</td>\n",
       "    </tr>\n",
       "    <tr>\n",
       "      <th>3</th>\n",
       "      <td>BACKBONE COMUNICACIONES LTDA</td>\n",
       "      <td>2023</td>\n",
       "      <td>n.a.</td>\n",
       "    </tr>\n",
       "    <tr>\n",
       "      <th>4</th>\n",
       "      <td>MACAOL ESPINOSA SAS</td>\n",
       "      <td>2023</td>\n",
       "      <td>n.a.</td>\n",
       "    </tr>\n",
       "    <tr>\n",
       "      <th>...</th>\n",
       "      <td>...</td>\n",
       "      <td>...</td>\n",
       "      <td>...</td>\n",
       "    </tr>\n",
       "    <tr>\n",
       "      <th>9995</th>\n",
       "      <td>GRADISPAN LTDA</td>\n",
       "      <td>2023</td>\n",
       "      <td>n.a.</td>\n",
       "    </tr>\n",
       "    <tr>\n",
       "      <th>9996</th>\n",
       "      <td>CONTACTO ESTRATEGICO OUTSOURCING CONTABLE S A S</td>\n",
       "      <td>2023</td>\n",
       "      <td>n.a.</td>\n",
       "    </tr>\n",
       "    <tr>\n",
       "      <th>9997</th>\n",
       "      <td>JOSHUA CAFE IRLANDES S A S</td>\n",
       "      <td>2023</td>\n",
       "      <td>n.a.</td>\n",
       "    </tr>\n",
       "    <tr>\n",
       "      <th>9998</th>\n",
       "      <td>PROYECTO AGUAS DEL BOSQUE S A S</td>\n",
       "      <td>2023</td>\n",
       "      <td>n.a.</td>\n",
       "    </tr>\n",
       "    <tr>\n",
       "      <th>9999</th>\n",
       "      <td>GRUPO INVERSIONES SYNERGY SAS</td>\n",
       "      <td>2023</td>\n",
       "      <td>n.a.</td>\n",
       "    </tr>\n",
       "  </tbody>\n",
       "</table>\n",
       "<p>10000 rows × 3 columns</p>\n",
       "</div>"
      ],
      "text/plain": [
       "                            Company name Latin alphabet  Year   LCU\n",
       "0     CONSORCIO CONTINENTAL PARA EL DESARROLLO SOSTE...  2023  n.a.\n",
       "1                 AGRET CARGA NACIONAL Y ESPECIAL S A S  2023  n.a.\n",
       "2                              DINASTIA INVERSIONES S A  2023  n.a.\n",
       "3                          BACKBONE COMUNICACIONES LTDA  2023  n.a.\n",
       "4                                   MACAOL ESPINOSA SAS  2023  n.a.\n",
       "...                                                 ...   ...   ...\n",
       "9995                                     GRADISPAN LTDA  2023  n.a.\n",
       "9996    CONTACTO ESTRATEGICO OUTSOURCING CONTABLE S A S  2023  n.a.\n",
       "9997                         JOSHUA CAFE IRLANDES S A S  2023  n.a.\n",
       "9998                    PROYECTO AGUAS DEL BOSQUE S A S  2023  n.a.\n",
       "9999                      GRUPO INVERSIONES SYNERGY SAS  2023  n.a.\n",
       "\n",
       "[10000 rows x 3 columns]"
      ]
     },
     "execution_count": 116,
     "metadata": {},
     "output_type": "execute_result"
    }
   ],
   "source": [
    "reshaped_table"
   ]
  },
  {
   "cell_type": "markdown",
   "id": "8a205fe9",
   "metadata": {},
   "source": [
    "3. Rename the columns and use short names for each column. This new name should be shorter than 20 characters."
   ]
  },
  {
   "cell_type": "markdown",
   "id": "3e8d81e3",
   "metadata": {},
   "source": [
    "First we need to define a dictionary with the new column names:"
   ]
  },
  {
   "cell_type": "code",
   "execution_count": 46,
   "id": "fc1883cb",
   "metadata": {},
   "outputs": [],
   "source": [
    "new_columns = {\n",
    "    \"Company name Latin alphabet\": \"Co. Nm Ltin Alpha\",\n",
    "    \"Country ISO code\": \"Cntry ISO cd\",\n",
    "    \"City\\nLatin Alphabet\": \"City L Alpha\", \"Consolidation code\": \"Conso code\", \"Last avail. year\": \"LAY\", \"Operating revenue (Turnover)\": \"Rev LCU\", }"
   ]
  },
  {
   "cell_type": "markdown",
   "id": "98e68cc8",
   "metadata": {},
   "source": [
    "Then we have to use a function to rename the columns, here it is:"
   ]
  },
  {
   "cell_type": "code",
   "execution_count": 83,
   "id": "51686636",
   "metadata": {},
   "outputs": [],
   "source": [
    "data_frame.rename(columns=new_columns, inplace=True)"
   ]
  },
  {
   "cell_type": "markdown",
   "id": "cfe12e9b",
   "metadata": {},
   "source": [
    "To show how we rename the columns we take 5 random columns to see the results:"
   ]
  },
  {
   "cell_type": "code",
   "execution_count": 47,
   "id": "3413c9fa",
   "metadata": {
    "scrolled": true
   },
   "outputs": [
    {
     "ename": "NameError",
     "evalue": "name 'data_frame' is not defined",
     "output_type": "error",
     "traceback": [
      "\u001b[1;31m---------------------------------------------------------------------------\u001b[0m",
      "\u001b[1;31mNameError\u001b[0m                                 Traceback (most recent call last)",
      "Cell \u001b[1;32mIn[47], line 1\u001b[0m\n\u001b[1;32m----> 1\u001b[0m data_frame\u001b[38;5;241m.\u001b[39msample(\u001b[38;5;241m5\u001b[39m)\n",
      "\u001b[1;31mNameError\u001b[0m: name 'data_frame' is not defined"
     ]
    }
   ],
   "source": [
    "data_frame.sample(5)"
   ]
  },
  {
   "cell_type": "markdown",
   "id": "bf9be849",
   "metadata": {},
   "source": [
    "4. Generate a dictionary with the definition of all the columns in your dataset."
   ]
  },
  {
   "cell_type": "code",
   "execution_count": 2,
   "id": "19455ae1",
   "metadata": {},
   "outputs": [
    {
     "name": "stdout",
     "output_type": "stream",
     "text": [
      "Co._Nm_Ltin_Alpha: Name of the company\n",
      "City_nLatin:Alphabet: City \n",
      "LAY: Year\n"
     ]
    }
   ],
   "source": [
    "column_definitions = {\n",
    "    'Co._Nm_Ltin_Alpha': 'Name of the company',\n",
    "    'City_nLatin:Alphabet': 'City ',\n",
    "    'LAY': 'Year'}\n",
    "\n",
    "# Print the dictionary\n",
    "for column , definition in column_definitions.items():\n",
    "    print(f\"{column}: {definition}\")\n"
   ]
  },
  {
   "cell_type": "markdown",
   "id": "788feddc",
   "metadata": {},
   "source": [
    "5. After reshaping the data, you should replicate the long data, but instead of using methods of pandas, you have to use for loop.b"
   ]
  },
  {
   "cell_type": "code",
   "execution_count": 9,
   "id": "e5ceb462",
   "metadata": {},
   "outputs": [
    {
     "name": "stdout",
     "output_type": "stream",
     "text": [
      "Co._Nm_Ltin_Alpha\n",
      "Name of the company\n",
      "City_nLatin:Alphabet\n",
      "City \n",
      "LAY\n",
      "Year\n"
     ]
    }
   ],
   "source": [
    "# New Data with Loop\n",
    "\n",
    "for key, value in column_definitions.items() :\n",
    "    print(key)\n",
    "    print(value)"
   ]
  },
  {
   "cell_type": "markdown",
   "id": "c643b1c7",
   "metadata": {},
   "source": [
    "6. After reshaping the data, you should replicate the long data, but instead of using methods of pandas, you have to use while loop. "
   ]
  },
  {
   "cell_type": "code",
   "execution_count": 10,
   "id": "862eb8f9",
   "metadata": {},
   "outputs": [],
   "source": [
    "long_data = {'Co. Nm Ltin Alpha': [], 'Cntry ISO cd': [], 'City L Alpha': [], 'Conso code': []}"
   ]
  },
  {
   "cell_type": "code",
   "execution_count": null,
   "id": "4b334520",
   "metadata": {},
   "outputs": [],
   "source": [
    "#Now we reshape wide to long data using a while loop"
   ]
  },
  {
   "cell_type": "code",
   "execution_count": 22,
   "id": "5559647f",
   "metadata": {},
   "outputs": [],
   "source": [
    "import pandas as pd"
   ]
  },
  {
   "cell_type": "code",
   "execution_count": 30,
   "id": "9369936d",
   "metadata": {},
   "outputs": [],
   "source": [
    "data = {'Co._Nm_Ltin_Alpha': ['EMPRESA DE PLANES Y SERVICIOS DE COLOMBIA S A S'], 'Cntry ISO cd': ['CO'], }"
   ]
  },
  {
   "cell_type": "code",
   "execution_count": 35,
   "id": "82495c49",
   "metadata": {
    "scrolled": true
   },
   "outputs": [],
   "source": [
    "dataframe_wide = pd.DataFrame(data)"
   ]
  },
  {
   "cell_type": "code",
   "execution_count": 36,
   "id": "ea46f6cd",
   "metadata": {},
   "outputs": [
    {
     "name": "stdout",
     "output_type": "stream",
     "text": [
      "Wide-format data:\n",
      "                                 Co._Nm_Ltin_Alpha\n",
      "0  EMPRESA DE PLANES Y SERVICIOS DE COLOMBIA S A S\n"
     ]
    }
   ],
   "source": [
    "print(\"Wide-format data:\")\n",
    "print(dataframe_wide)"
   ]
  },
  {
   "cell_type": "code",
   "execution_count": 40,
   "id": "e4553cc4",
   "metadata": {
    "scrolled": false
   },
   "outputs": [],
   "source": [
    "row = 1\n",
    "while row < len(dataframe_wide):\n",
    "    Co.NmLtinAlpha_val = dataframe_wide.at[row, 'Co. Nm Ltin Alpha']\n",
    "    CntryISOcd_val = dataframe_wide.at[row, 'Cntry ISO cd']\n",
    "    col = 1"
   ]
  },
  {
   "cell_type": "code",
   "execution_count": 43,
   "id": "bc3e0a3e",
   "metadata": {},
   "outputs": [
    {
     "name": "stdout",
     "output_type": "stream",
     "text": [
      "\n",
      "Long-format data:\n",
      "                                 Co._Nm_Ltin_Alpha\n",
      "0  EMPRESA DE PLANES Y SERVICIOS DE COLOMBIA S A S\n"
     ]
    }
   ],
   "source": [
    "dataframe_wide = pd.DataFrame(dataframe_wide) \n",
    "print(\"\\nLong-format data:\")\n",
    "print(dataframe_wide)"
   ]
  },
  {
   "cell_type": "code",
   "execution_count": null,
   "id": "83b32f6f",
   "metadata": {},
   "outputs": [],
   "source": []
  }
 ],
 "metadata": {
  "kernelspec": {
   "display_name": "Python 3 (ipykernel)",
   "language": "python",
   "name": "python3"
  },
  "language_info": {
   "codemirror_mode": {
    "name": "ipython",
    "version": 3
   },
   "file_extension": ".py",
   "mimetype": "text/x-python",
   "name": "python",
   "nbconvert_exporter": "python",
   "pygments_lexer": "ipython3",
   "version": "3.11.5"
  }
 },
 "nbformat": 4,
 "nbformat_minor": 5
}
