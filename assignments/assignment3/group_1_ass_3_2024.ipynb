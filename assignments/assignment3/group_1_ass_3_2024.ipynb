{
 "cells": [
  {
   "cell_type": "markdown",
   "id": "1d648d5a",
   "metadata": {},
   "source": [
    "# Assignment 3"
   ]
  },
  {
   "cell_type": "markdown",
   "id": "4131c565",
   "metadata": {},
   "source": [
    "1. Inspect this dataset `./_data/bogota_firms.xlsx` and show some descriptive statistics of it.\n",
    "2. Reshape the dataset from wide to long at year level. Drop columns if they are in Dollars. Keep columns from Operating revenue (Turnover) th LCU 2023 to the end, and the name of the firm.\n",
    "3. Rename the columns and use short names for each column. This new name should be shorter than 20 characters.\n",
    "4. Generate a dictionary with the definition of all the columns in your dataset.\n",
    "5. After reshaping the data, you should replicate the long data, but instead of using methods of pandas, you have to use for loop. \n",
    "6. After reshaping the data, you should replicate the long data, but instead of using methods of pandas, you have to use while loop. "
   ]
  },
  {
   "cell_type": "code",
   "execution_count": 30,
   "id": "23a30b3c",
   "metadata": {},
   "outputs": [],
   "source": [
    "import pandas as pd \n",
    "import numpy as np"
   ]
  },
  {
   "cell_type": "code",
   "execution_count": 52,
   "id": "e1e35702",
   "metadata": {},
   "outputs": [],
   "source": [
    "bogota_database='/Users/pabloparedeschavez/data/bogota_firms.xlsx'"
   ]
  },
  {
   "cell_type": "code",
   "execution_count": 53,
   "id": "91db9e5a",
   "metadata": {
    "scrolled": true
   },
   "outputs": [
    {
     "ename": "NameError",
     "evalue": "name 'results' is not defined",
     "output_type": "error",
     "traceback": [
      "\u001b[0;31m---------------------------------------------------------------------------\u001b[0m",
      "\u001b[0;31mNameError\u001b[0m                                 Traceback (most recent call last)",
      "Cell \u001b[0;32mIn[53], line 2\u001b[0m\n\u001b[1;32m      1\u001b[0m \u001b[38;5;28;01mimport\u001b[39;00m \u001b[38;5;21;01mpandas\u001b[39;00m \u001b[38;5;28;01mas\u001b[39;00m \u001b[38;5;21;01mpd\u001b[39;00m\n\u001b[0;32m----> 2\u001b[0m df\u001b[38;5;241m=\u001b[39mpd\u001b[38;5;241m.\u001b[39mread_excel(bogota_database,sheetname\u001b[38;5;241m=\u001b[39mresults)\n",
      "\u001b[0;31mNameError\u001b[0m: name 'results' is not defined"
     ]
    }
   ],
   "source": [
    "import pandas as pd\n",
    "df=pd.read_excel(bogota_database,sheetname=results)"
   ]
  },
  {
   "cell_type": "code",
   "execution_count": null,
   "id": "ccd3b666",
   "metadata": {},
   "outputs": [],
   "source": []
  },
  {
   "cell_type": "code",
   "execution_count": null,
   "id": "2f1edb42",
   "metadata": {},
   "outputs": [],
   "source": []
  },
  {
   "cell_type": "code",
   "execution_count": null,
   "id": "e66a7f1b",
   "metadata": {},
   "outputs": [],
   "source": []
  }
 ],
 "metadata": {
  "kernelspec": {
   "display_name": "Python 3 (ipykernel)",
   "language": "python",
   "name": "python3"
  },
  "language_info": {
   "codemirror_mode": {
    "name": "ipython",
    "version": 3
   },
   "file_extension": ".py",
   "mimetype": "text/x-python",
   "name": "python",
   "nbconvert_exporter": "python",
   "pygments_lexer": "ipython3",
   "version": "3.11.5"
  }
 },
 "nbformat": 4,
 "nbformat_minor": 5
}
