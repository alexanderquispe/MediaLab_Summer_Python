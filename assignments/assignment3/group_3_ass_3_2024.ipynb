{
 "cells": [
  {
   "cell_type": "code",
   "execution_count": null,
   "metadata": {},
   "outputs": [],
   "source": [
    "# Assignment 3\n",
    "\n",
    "### 1. Inspect this dataset ./_data/bogota_firms.xlsx and show some descriptive statistics of it.\n",
    "\n",
    "### 2. Reshape the dataset from wide to long at year level. Drop columns if they are in Dollars. Keep columns from Operating revenue (Turnover) th LCU 2023 to the end, and the name of the firm.\n",
    "\n",
    "### 3. Rename the columns and use short names for each column. This new name should be shorter than 20 characters.\n",
    "    \n",
    "### 4. Generate a dictionary with the definition of all the columns in your dataset.\n",
    "\n",
    "### 5. After reshaping the data, you should replicate the long data, but instead of using methods of pandas, you have to use for loop.\n",
    "\n",
    "### 6. After reshaping the data, you should replicate the long data, but instead of using methods of pandas, you have to use while loop."
   ]
  }
 ],
 "metadata": {
  "language_info": {
   "name": "python"
  }
 },
 "nbformat": 4,
 "nbformat_minor": 2
}
