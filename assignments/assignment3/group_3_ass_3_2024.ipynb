{
 "cells": [
  {
   "cell_type": "code",
   "execution_count": null,
   "metadata": {},
   "outputs": [],
   "source": [
    "########################################## EXCERCISE 6 ##########################################\n",
    "\n",
    "\n",
    "# Replicating the reshaping of the data using a while loop instead of a for loop\n",
    "\n",
    "# Initialize an empty list to store the reshaped data\n",
    "reshaped_data_while = []\n",
    "\n",
    "row_index = 0\n",
    "num_rows = len(data)\n",
    "\n",
    "# Loop over each row in the filtered dataframe using a while loop\n",
    "while row_index < num_rows:\n",
    "    row = data.iloc[row_index]\n",
    "    company_name = row[\"Company name\"]\n",
    "\n",
    "    col_index = 1  # Starting from the first year column\n",
    "    num_cols = len(data.columns)\n",
    "\n",
    "    # Loop over each year column\n",
    "    while col_index < num_cols:\n",
    "        year_col = data.columns[col_index]\n",
    "        year = year_col.split()[-1]  # Extract the year from the column name\n",
    "        revenue = row[year_col]      # Get the revenue for that year\n",
    "\n",
    "        # Append a dictionary for each year with company name, year, and revenue\n",
    "        reshaped_data_while.append({\"Company name Latin alphabet\": company_name, \"Year\": year, \"Operating Revenue LCU\": revenue})\n",
    "\n",
    "        col_index += 1\n",
    "\n",
    "    row_index += 1\n",
    "\n",
    "# Convert the list of dictionaries to a DataFrame\n",
    "reshaped_df_while_loop = pd.DataFrame(reshaped_data_while)\n",
    "\n",
    "reshaped_df_while_loop.head()  # Displaying the first 5 rows of the new reshaped dataframe\n"
   ]
  },
  {
   "cell_type": "code",
   "execution_count": null,
   "metadata": {},
   "outputs": [],
   "source": []
  }
 ],
 "metadata": {
  "kernelspec": {
   "display_name": "Python 3",
   "language": "python",
   "name": "python3"
  },
  "language_info": {
   "codemirror_mode": {
    "name": "ipython",
    "version": 3
   },
   "file_extension": ".py",
   "mimetype": "text/x-python",
   "name": "python",
   "nbconvert_exporter": "python",
   "pygments_lexer": "ipython3",
   "version": "3.11.5"
  }
 },
 "nbformat": 4,
 "nbformat_minor": 2
}
