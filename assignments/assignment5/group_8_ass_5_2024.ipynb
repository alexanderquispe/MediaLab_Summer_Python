{
 "cells": [
  {
   "cell_type": "markdown",
   "id": "1f6f4b47",
   "metadata": {},
   "source": [
    "\n",
    "## Assignment 5\n",
    "\n",
    "In this assignment, your task is to scrape data from the given link. You'll need to extract all votes for departments, provinces, and districts. Follow these steps:\n",
    "\n",
    "1. Click on 'Resumen General'.\n",
    "2. Select 'Presidencial', and then choose 'Peru'.\n",
    "3. Scrape the data and generate a final table with the following columns: department, province, district, political_organization, total_votes.\n",
    "\n",
    "Your code must execute successfully; any errors will result in a zero grade. Ensure you test your code thoroughly.\n"
   ]
  },
  {
   "cell_type": "markdown",
   "id": "e2cad1a3",
   "metadata": {},
   "source": [
    "## Part 1"
   ]
  },
  {
   "cell_type": "markdown",
   "id": "a6d583fb",
   "metadata": {},
   "source": [
    "Install the libraries for excercise"
   ]
  },
  {
   "cell_type": "code",
   "execution_count": 79,
   "id": "a4d642f2",
   "metadata": {},
   "outputs": [
    {
     "name": "stdout",
     "output_type": "stream",
     "text": [
      "Requirement already satisfied: selenium in c:\\users\\gabriela\\anaconda3\\lib\\site-packages (4.16.0)\n",
      "Requirement already satisfied: certifi>=2021.10.8 in c:\\users\\gabriela\\anaconda3\\lib\\site-packages (from selenium) (2022.9.14)\n",
      "Requirement already satisfied: urllib3[socks]<3,>=1.26 in c:\\users\\gabriela\\anaconda3\\lib\\site-packages (from selenium) (1.26.11)\n",
      "Requirement already satisfied: trio~=0.17 in c:\\users\\gabriela\\anaconda3\\lib\\site-packages (from selenium) (0.22.0)\n",
      "Requirement already satisfied: trio-websocket~=0.9 in c:\\users\\gabriela\\anaconda3\\lib\\site-packages (from selenium) (0.9.2)\n",
      "Requirement already satisfied: attrs>=19.2.0 in c:\\users\\gabriela\\anaconda3\\lib\\site-packages (from trio~=0.17->selenium) (21.4.0)\n",
      "Requirement already satisfied: idna in c:\\users\\gabriela\\anaconda3\\lib\\site-packages (from trio~=0.17->selenium) (3.3)\n",
      "Requirement already satisfied: outcome in c:\\users\\gabriela\\anaconda3\\lib\\site-packages (from trio~=0.17->selenium) (1.2.0)\n",
      "Requirement already satisfied: cffi>=1.14 in c:\\users\\gabriela\\anaconda3\\lib\\site-packages (from trio~=0.17->selenium) (1.15.1)\n",
      "Requirement already satisfied: sniffio in c:\\users\\gabriela\\anaconda3\\lib\\site-packages (from trio~=0.17->selenium) (1.2.0)\n",
      "Requirement already satisfied: sortedcontainers in c:\\users\\gabriela\\anaconda3\\lib\\site-packages (from trio~=0.17->selenium) (2.4.0)\n",
      "Requirement already satisfied: async-generator>=1.9 in c:\\users\\gabriela\\anaconda3\\lib\\site-packages (from trio~=0.17->selenium) (1.10)\n",
      "Requirement already satisfied: exceptiongroup>=1.0.0rc9 in c:\\users\\gabriela\\anaconda3\\lib\\site-packages (from trio~=0.17->selenium) (1.1.0)\n",
      "Requirement already satisfied: wsproto>=0.14 in c:\\users\\gabriela\\anaconda3\\lib\\site-packages (from trio-websocket~=0.9->selenium) (1.2.0)\n",
      "Requirement already satisfied: PySocks!=1.5.7,<2.0,>=1.5.6 in c:\\users\\gabriela\\anaconda3\\lib\\site-packages (from urllib3[socks]<3,>=1.26->selenium) (1.7.1)\n",
      "Requirement already satisfied: pycparser in c:\\users\\gabriela\\anaconda3\\lib\\site-packages (from cffi>=1.14->trio~=0.17->selenium) (2.21)\n",
      "Requirement already satisfied: h11<1,>=0.9.0 in c:\\users\\gabriela\\anaconda3\\lib\\site-packages (from wsproto>=0.14->trio-websocket~=0.9->selenium) (0.14.0)\n",
      "Requirement already satisfied: webdriver-manager in c:\\users\\gabriela\\anaconda3\\lib\\site-packages (3.8.5)\n",
      "Requirement already satisfied: python-dotenv in c:\\users\\gabriela\\anaconda3\\lib\\site-packages (from webdriver-manager) (1.0.0)\n",
      "Requirement already satisfied: packaging in c:\\users\\gabriela\\anaconda3\\lib\\site-packages (from webdriver-manager) (21.3)\n",
      "Requirement already satisfied: tqdm in c:\\users\\gabriela\\anaconda3\\lib\\site-packages (from webdriver-manager) (4.64.1)\n",
      "Requirement already satisfied: requests in c:\\users\\gabriela\\anaconda3\\lib\\site-packages (from webdriver-manager) (2.28.1)\n",
      "Requirement already satisfied: pyparsing!=3.0.5,>=2.0.2 in c:\\users\\gabriela\\anaconda3\\lib\\site-packages (from packaging->webdriver-manager) (3.0.9)\n",
      "Requirement already satisfied: urllib3<1.27,>=1.21.1 in c:\\users\\gabriela\\anaconda3\\lib\\site-packages (from requests->webdriver-manager) (1.26.11)\n",
      "Requirement already satisfied: charset-normalizer<3,>=2 in c:\\users\\gabriela\\anaconda3\\lib\\site-packages (from requests->webdriver-manager) (2.0.4)\n",
      "Requirement already satisfied: certifi>=2017.4.17 in c:\\users\\gabriela\\anaconda3\\lib\\site-packages (from requests->webdriver-manager) (2022.9.14)\n",
      "Requirement already satisfied: idna<4,>=2.5 in c:\\users\\gabriela\\anaconda3\\lib\\site-packages (from requests->webdriver-manager) (3.3)\n",
      "Requirement already satisfied: colorama in c:\\users\\gabriela\\anaconda3\\lib\\site-packages (from tqdm->webdriver-manager) (0.4.5)\n",
      "Requirement already satisfied: lxml in c:\\users\\gabriela\\anaconda3\\lib\\site-packages (4.9.1)\n"
     ]
    }
   ],
   "source": [
    "!pip install selenium\n",
    "!pip install webdriver-manager\n",
    "!pip install lxml"
   ]
  },
  {
   "cell_type": "markdown",
   "id": "45301d29",
   "metadata": {},
   "source": [
    "Calling libraries for excercise"
   ]
  },
  {
   "cell_type": "code",
   "execution_count": 125,
   "id": "f00f1b46",
   "metadata": {},
   "outputs": [],
   "source": [
    "#Library for browser\n",
    "from selenium import webdriver\n",
    "\n",
    "# Calling ChromeDrive with time and re\n",
    "from webdriver_manager.chrome import ChromeDriverManager\n",
    "import re\n",
    "import time\n",
    "from selenium import webdriver\n",
    "from selenium.webdriver.chrome.service import Service\n",
    "from selenium.webdriver.common.by import By\n",
    "import pandas as pd\n",
    "\n",
    "#Import unicode\n",
    "from selenium import webdriver\n",
    "from webdriver_manager.chrome import ChromeDriverManager\n",
    "import unidecode\n",
    " # Import Select class\n",
    "from selenium.webdriver.support.ui import Select "
   ]
  },
  {
   "cell_type": "code",
   "execution_count": 174,
   "id": "10ceefc8",
   "metadata": {
    "scrolled": true
   },
   "outputs": [
    {
     "data": {
      "text/plain": [
       "'C:\\\\Users\\\\GABRIELA\\\\Documents\\\\GitHub\\\\MediaLab_Summer_Python\\\\assignments\\\\assignment5'"
      ]
     },
     "execution_count": 174,
     "metadata": {},
     "output_type": "execute_result"
    }
   ],
   "source": [
    "pwd #Path verification"
   ]
  },
  {
   "cell_type": "markdown",
   "id": "f52dad7f",
   "metadata": {},
   "source": [
    "Launch the Chrome Driver"
   ]
  },
  {
   "cell_type": "code",
   "execution_count": 175,
   "id": "17cbd603",
   "metadata": {},
   "outputs": [],
   "source": [
    "## ChromeDriver launch by path\n",
    "service = Service(executable_path=\"C:/Users/GABRIELA/Documents/GitHub/MediaLab_Summer_Python/Lecture_7/chromedriver-win64/chromedriver.exe\")\n",
    "\n",
    "driver = webdriver.Chrome(service = service)\n",
    "\n",
    "## URL from link\n",
    "url = 'https://resultadoshistorico.onpe.gob.pe/EG2021/'\n",
    "driver.get(url)\n",
    "\n",
    "## Maximize the window from visibility\n",
    "driver.maximize_window()"
   ]
  },
  {
   "cell_type": "markdown",
   "id": "9102e15b",
   "metadata": {},
   "source": [
    "Code for click using xparth and html from page"
   ]
  },
  {
   "cell_type": "code",
   "execution_count": 176,
   "id": "95ec2082",
   "metadata": {},
   "outputs": [],
   "source": [
    "element = driver.find_element(By.XPATH, '/html/body/onpe-root/onpe-home-onpe/div[1]/div/div/div/div[2]/div[1]/div/div/a/div[2]/div')\n",
    "element.click() #Work but there is a warning.Then we use drive. find element for the next steps"
   ]
  },
  {
   "cell_type": "markdown",
   "id": "98393cc2",
   "metadata": {},
   "source": [
    "## Part 2"
   ]
  },
  {
   "cell_type": "markdown",
   "id": "00790d00",
   "metadata": {},
   "source": [
    "Code for click using xparth and html from page"
   ]
  },
  {
   "cell_type": "code",
   "execution_count": 177,
   "id": "ced507ca",
   "metadata": {},
   "outputs": [],
   "source": [
    "# Presidencial\n",
    "driver.find_element(By.XPATH, '/html/body/onpe-root/onpe-layout-container/onpe-menu/div/nav/div/div/div[2]/div/div[2]/a').click()\n",
    "time.sleep(2)\n",
    "\n",
    "# Perú\n",
    "driver.find_element(By.XPATH, '/html/body/onpe-root/onpe-layout-container/onpe-onpe-epres-re/div[1]/div[3]/div[1]/div[1]/div/div/div[1]/select/option[2]').click()\n",
    "time.sleep(2)\n"
   ]
  },
  {
   "cell_type": "markdown",
   "id": "e34dac10",
   "metadata": {},
   "source": [
    "Another way "
   ]
  },
  {
   "cell_type": "markdown",
   "id": "b623b788",
   "metadata": {},
   "source": [
    "## Part 3"
   ]
  },
  {
   "cell_type": "code",
   "execution_count": 178,
   "id": "1ce64578",
   "metadata": {},
   "outputs": [],
   "source": [
    "from selenium.webdriver.support.ui import Select"
   ]
  },
  {
   "cell_type": "code",
   "execution_count": 179,
   "id": "d5aa0119",
   "metadata": {
    "scrolled": true
   },
   "outputs": [
    {
     "data": {
      "text/plain": [
       "<selenium.webdriver.remote.webelement.WebElement (session=\"e9bfb54bad94707a2d902c715b6ff3b9\", element=\"E825F94E2B2EFB52017170374809330D_element_51\")>"
      ]
     },
     "execution_count": 179,
     "metadata": {},
     "output_type": "execute_result"
    }
   ],
   "source": [
    "dept_0 = driver.find_element(By.XPATH, \"/html/body/onpe-root/onpe-layout-container/onpe-onpe-epres-re/div[1]/div[3]/div[1]/div[1]/div/div/div[2]/select\" )\n",
    "dept_0"
   ]
  },
  {
   "cell_type": "code",
   "execution_count": 180,
   "id": "6c471bca",
   "metadata": {},
   "outputs": [],
   "source": [
    "dpt = Select( dept_0 )"
   ]
  },
  {
   "cell_type": "code",
   "execution_count": 181,
   "id": "00235c7b",
   "metadata": {
    "scrolled": true
   },
   "outputs": [
    {
     "data": {
      "text/plain": [
       "[<selenium.webdriver.remote.webelement.WebElement (session=\"e9bfb54bad94707a2d902c715b6ff3b9\", element=\"E825F94E2B2EFB52017170374809330D_element_53\")>,\n",
       " <selenium.webdriver.remote.webelement.WebElement (session=\"e9bfb54bad94707a2d902c715b6ff3b9\", element=\"E825F94E2B2EFB52017170374809330D_element_55\")>,\n",
       " <selenium.webdriver.remote.webelement.WebElement (session=\"e9bfb54bad94707a2d902c715b6ff3b9\", element=\"E825F94E2B2EFB52017170374809330D_element_57\")>,\n",
       " <selenium.webdriver.remote.webelement.WebElement (session=\"e9bfb54bad94707a2d902c715b6ff3b9\", element=\"E825F94E2B2EFB52017170374809330D_element_59\")>,\n",
       " <selenium.webdriver.remote.webelement.WebElement (session=\"e9bfb54bad94707a2d902c715b6ff3b9\", element=\"E825F94E2B2EFB52017170374809330D_element_61\")>,\n",
       " <selenium.webdriver.remote.webelement.WebElement (session=\"e9bfb54bad94707a2d902c715b6ff3b9\", element=\"E825F94E2B2EFB52017170374809330D_element_63\")>,\n",
       " <selenium.webdriver.remote.webelement.WebElement (session=\"e9bfb54bad94707a2d902c715b6ff3b9\", element=\"E825F94E2B2EFB52017170374809330D_element_65\")>,\n",
       " <selenium.webdriver.remote.webelement.WebElement (session=\"e9bfb54bad94707a2d902c715b6ff3b9\", element=\"E825F94E2B2EFB52017170374809330D_element_67\")>,\n",
       " <selenium.webdriver.remote.webelement.WebElement (session=\"e9bfb54bad94707a2d902c715b6ff3b9\", element=\"E825F94E2B2EFB52017170374809330D_element_69\")>,\n",
       " <selenium.webdriver.remote.webelement.WebElement (session=\"e9bfb54bad94707a2d902c715b6ff3b9\", element=\"E825F94E2B2EFB52017170374809330D_element_71\")>,\n",
       " <selenium.webdriver.remote.webelement.WebElement (session=\"e9bfb54bad94707a2d902c715b6ff3b9\", element=\"E825F94E2B2EFB52017170374809330D_element_73\")>,\n",
       " <selenium.webdriver.remote.webelement.WebElement (session=\"e9bfb54bad94707a2d902c715b6ff3b9\", element=\"E825F94E2B2EFB52017170374809330D_element_75\")>,\n",
       " <selenium.webdriver.remote.webelement.WebElement (session=\"e9bfb54bad94707a2d902c715b6ff3b9\", element=\"E825F94E2B2EFB52017170374809330D_element_77\")>,\n",
       " <selenium.webdriver.remote.webelement.WebElement (session=\"e9bfb54bad94707a2d902c715b6ff3b9\", element=\"E825F94E2B2EFB52017170374809330D_element_79\")>,\n",
       " <selenium.webdriver.remote.webelement.WebElement (session=\"e9bfb54bad94707a2d902c715b6ff3b9\", element=\"E825F94E2B2EFB52017170374809330D_element_81\")>,\n",
       " <selenium.webdriver.remote.webelement.WebElement (session=\"e9bfb54bad94707a2d902c715b6ff3b9\", element=\"E825F94E2B2EFB52017170374809330D_element_83\")>,\n",
       " <selenium.webdriver.remote.webelement.WebElement (session=\"e9bfb54bad94707a2d902c715b6ff3b9\", element=\"E825F94E2B2EFB52017170374809330D_element_85\")>,\n",
       " <selenium.webdriver.remote.webelement.WebElement (session=\"e9bfb54bad94707a2d902c715b6ff3b9\", element=\"E825F94E2B2EFB52017170374809330D_element_87\")>,\n",
       " <selenium.webdriver.remote.webelement.WebElement (session=\"e9bfb54bad94707a2d902c715b6ff3b9\", element=\"E825F94E2B2EFB52017170374809330D_element_89\")>,\n",
       " <selenium.webdriver.remote.webelement.WebElement (session=\"e9bfb54bad94707a2d902c715b6ff3b9\", element=\"E825F94E2B2EFB52017170374809330D_element_91\")>,\n",
       " <selenium.webdriver.remote.webelement.WebElement (session=\"e9bfb54bad94707a2d902c715b6ff3b9\", element=\"E825F94E2B2EFB52017170374809330D_element_93\")>,\n",
       " <selenium.webdriver.remote.webelement.WebElement (session=\"e9bfb54bad94707a2d902c715b6ff3b9\", element=\"E825F94E2B2EFB52017170374809330D_element_95\")>,\n",
       " <selenium.webdriver.remote.webelement.WebElement (session=\"e9bfb54bad94707a2d902c715b6ff3b9\", element=\"E825F94E2B2EFB52017170374809330D_element_97\")>,\n",
       " <selenium.webdriver.remote.webelement.WebElement (session=\"e9bfb54bad94707a2d902c715b6ff3b9\", element=\"E825F94E2B2EFB52017170374809330D_element_99\")>,\n",
       " <selenium.webdriver.remote.webelement.WebElement (session=\"e9bfb54bad94707a2d902c715b6ff3b9\", element=\"E825F94E2B2EFB52017170374809330D_element_101\")>,\n",
       " <selenium.webdriver.remote.webelement.WebElement (session=\"e9bfb54bad94707a2d902c715b6ff3b9\", element=\"E825F94E2B2EFB52017170374809330D_element_103\")>]"
      ]
     },
     "execution_count": 181,
     "metadata": {},
     "output_type": "execute_result"
    }
   ],
   "source": [
    "dpt.options"
   ]
  },
  {
   "cell_type": "code",
   "execution_count": 182,
   "id": "b6375efb",
   "metadata": {},
   "outputs": [
    {
     "data": {
      "text/plain": [
       "26"
      ]
     },
     "execution_count": 182,
     "metadata": {},
     "output_type": "execute_result"
    }
   ],
   "source": [
    "num_prov_options = len( dpt.options )\n",
    "num_prov_options"
   ]
  },
  {
   "cell_type": "code",
   "execution_count": 183,
   "id": "e514223b",
   "metadata": {},
   "outputs": [
    {
     "name": "stdout",
     "output_type": "stream",
     "text": [
      "--TODOS--\n",
      "AMAZONAS\n",
      "ANCASH\n",
      "APURIMAC\n",
      "AREQUIPA\n",
      "AYACUCHO\n",
      "CAJAMARCA\n",
      "CALLAO\n",
      "CUSCO\n",
      "HUANCAVELICA\n",
      "HUANUCO\n",
      "ICA\n",
      "JUNIN\n",
      "LA LIBERTAD\n",
      "LAMBAYEQUE\n",
      "LIMA\n",
      "LORETO\n",
      "MADRE DE DIOS\n",
      "MOQUEGUA\n",
      "PASCO\n",
      "PIURA\n",
      "PUNO\n",
      "SAN MARTIN\n",
      "TACNA\n",
      "TUMBES\n",
      "UCAYALI\n"
     ]
    }
   ],
   "source": [
    "for dpt_idx in range( num_prov_options ):\n",
    "    \n",
    "    # Get again all departments since HTML is refreshing\n",
    "    # all elements\n",
    "    # Click on one specific department\n",
    "    department = dpt.options[ dpt_idx ]\n",
    "    \n",
    "    # Get departmant name\n",
    "    dpt_name = department.text\n",
    "    print(dpt_name)"
   ]
  },
  {
   "cell_type": "code",
   "execution_count": 184,
   "id": "1e57f1a3",
   "metadata": {},
   "outputs": [],
   "source": [
    "all_tables= {}"
   ]
  },
  {
   "cell_type": "code",
   "execution_count": 185,
   "id": "5f7131d4",
   "metadata": {},
   "outputs": [],
   "source": [
    "for dpt_idx in range(num_prov_options):\n",
    "    \n",
    "    # Get again all departments since HTML is refreshing\n",
    "    # all elements\n",
    "    # Click on one specific department\n",
    "    dpt = Select( driver.find_element( By.XPATH, \"/html/body/onpe-root/onpe-layout-container/onpe-onpe-epres-re/div[1]/div[3]/div[1]/div[1]/div/div/div[2]/select\" ) )\n",
    "    department = dpt.options[ dpt_idx ]\n",
    "    \n",
    "    # Get departmant name\n",
    "    dpt_name = department.text\n",
    "   \n",
    "    # We select a different department name\n",
    "    if dpt_name != \"--TODOS--\" :\n",
    "        \n",
    "        # click on department\n",
    "        department.click()\n",
    "        \n",
    "        # Get all elements of province\n",
    "        prov = Select( driver.find_element(By.XPATH, \"/html/body/onpe-root/onpe-layout-container/onpe-onpe-epres-re/div[1]/div[3]/div[1]/div[1]/div/div/div[3]/select\" ) )\n",
    "        num_prov_options = len( prov.options )\n",
    "        \n",
    "        for prov_idx in range( num_prov_options ):\n",
    "            \n",
    "            # Get again all districts since HTML is refreshing\n",
    "            # all elements\n",
    "            prov = Select( driver.find_element(By.XPATH, \"/html/body/onpe-root/onpe-layout-container/onpe-onpe-epres-re/div[1]/div[3]/div[1]/div[1]/div/div/div[3]/select\" ) )\n",
    "            province = prov.options[ prov_idx ]\n",
    "                \n",
    "            # Get province name\n",
    "            prov_name = province.text\n",
    "            \n",
    "            if prov_name != \"--TODOS--\" :\n",
    "                \n",
    "                # click on province\n",
    "                province.click()\n",
    "                time.sleep(2)\n",
    "\n",
    "                \n",
    "                # Get all elements from district\n",
    "                dist = Select( driver.find_element(By.XPATH, \"/html/body/onpe-root/onpe-layout-container/onpe-onpe-epres-re/div[1]/div[3]/div[1]/div[1]/div/div/div[4]/select\" ) )\n",
    "                num_dist_options = len( dist.options )\n",
    "                \n",
    "                for dist_idx in range( num_dist_options ):\n",
    "                    \n",
    "                    # Get again all districts since HTML is refreshing\n",
    "                    # all elements\n",
    "                    dist = Select( driver.find_element(By.XPATH, \"/html/body/onpe-root/onpe-layout-container/onpe-onpe-epres-re/div[1]/div[3]/div[1]/div[1]/div/div/div[4]/select\" ) )\n",
    "                    district = dist.options[ dist_idx ]\n",
    "                    \n",
    "                    # Get district name\n",
    "                    dist_name = district.text\n",
    "                    \n",
    "                    if dist_name != \"-- SELECCIONE --\" :\n",
    "                        \n",
    "                        # click on district\n",
    "                        district.click()\n",
    "                        # Get UBIGEO\n",
    "                        ubigeo = driver.current_url.split(\"/\")[ -1 ]\n",
    "                        \n",
    "                        ## Get table of presidential votes\n",
    "                        # Get html at this point\n",
    "                        table_path = driver.find_element(By.XPATH, \"/html/body/onpe-root/onpe-layout-container/onpe-onpe-epres-re/div[1]/div[4]/div[1]/div[3]/div\" )\n",
    "                        table_html = table_path.get_attribute( 'innerHTML' )\n",
    "                        # Read the table using pandas\n",
    "                        table = pd.read_html( table_html )\n",
    "                         # Cleaning tables\n",
    "                        row_new_columns = table[ 0 ].iloc[ 0 , 2: ]\n",
    "                        clean_columns = row_new_columns \\\n",
    "                                              .str.replace( \" \", \"_\") \\\n",
    "                                              .str.lower().str.replace( \"%\", \"share_\") \\\n",
    "                                              .apply( lambda x : unidecode.unidecode( x ) ) \\\n",
    "                                              .tolist()\n",
    "                        \n",
    "                        # Selecting specific columns\n",
    "                        table_clean = table[0].iloc[ 1:, 2: ].copy()\n",
    "                        \n",
    "                        # rename columns\n",
    "                        table_clean.columns = clean_columns\n",
    "                        \n",
    "                        # New values to columns \n",
    "                        table_clean[ 'department' ] = dpt_name\n",
    "                        table_clean[ 'province' ]   = prov_name\n",
    "                        table_clean[ 'district' ]   = dist_name\n",
    "                        \n",
    "                        # store tables\n",
    "                        all_tables[ ubigeo ] = table_clean\n",
    "                    "
   ]
  },
  {
   "cell_type": "code",
   "execution_count": 186,
   "id": "11da8ab4",
   "metadata": {},
   "outputs": [],
   "source": [
    "final_data = pd.concat( all_tables.values() ).reset_index( drop = True )\n"
   ]
  },
  {
   "cell_type": "code",
   "execution_count": 187,
   "id": "d7523ba1",
   "metadata": {},
   "outputs": [
    {
     "data": {
      "text/html": [
       "<div>\n",
       "<style scoped>\n",
       "    .dataframe tbody tr th:only-of-type {\n",
       "        vertical-align: middle;\n",
       "    }\n",
       "\n",
       "    .dataframe tbody tr th {\n",
       "        vertical-align: top;\n",
       "    }\n",
       "\n",
       "    .dataframe thead th {\n",
       "        text-align: right;\n",
       "    }\n",
       "</style>\n",
       "<table border=\"1\" class=\"dataframe\">\n",
       "  <thead>\n",
       "    <tr style=\"text-align: right;\">\n",
       "      <th></th>\n",
       "      <th>organizaciones_politicas</th>\n",
       "      <th>total</th>\n",
       "      <th>share_validos</th>\n",
       "      <th>share_emitidos</th>\n",
       "      <th>department</th>\n",
       "      <th>province</th>\n",
       "      <th>district</th>\n",
       "    </tr>\n",
       "  </thead>\n",
       "  <tbody>\n",
       "    <tr>\n",
       "      <th>0</th>\n",
       "      <td>PARTIDO NACIONALISTA PERUANO</td>\n",
       "      <td>356</td>\n",
       "      <td>9.327%</td>\n",
       "      <td>6.389%</td>\n",
       "      <td>AMAZONAS</td>\n",
       "      <td>BAGUA</td>\n",
       "      <td>COPALLIN</td>\n",
       "    </tr>\n",
       "    <tr>\n",
       "      <th>1</th>\n",
       "      <td>EL FRENTE AMPLIO POR JUSTICIA, VIDA Y LIBERTAD</td>\n",
       "      <td>13</td>\n",
       "      <td>0.341%</td>\n",
       "      <td>0.233%</td>\n",
       "      <td>AMAZONAS</td>\n",
       "      <td>BAGUA</td>\n",
       "      <td>COPALLIN</td>\n",
       "    </tr>\n",
       "    <tr>\n",
       "      <th>2</th>\n",
       "      <td>PARTIDO MORADO</td>\n",
       "      <td>41</td>\n",
       "      <td>1.074%</td>\n",
       "      <td>0.736%</td>\n",
       "      <td>AMAZONAS</td>\n",
       "      <td>BAGUA</td>\n",
       "      <td>COPALLIN</td>\n",
       "    </tr>\n",
       "    <tr>\n",
       "      <th>3</th>\n",
       "      <td>PERU PATRIA SEGURA</td>\n",
       "      <td>4</td>\n",
       "      <td>0.105%</td>\n",
       "      <td>0.072%</td>\n",
       "      <td>AMAZONAS</td>\n",
       "      <td>BAGUA</td>\n",
       "      <td>COPALLIN</td>\n",
       "    </tr>\n",
       "    <tr>\n",
       "      <th>4</th>\n",
       "      <td>VICTORIA NACIONAL</td>\n",
       "      <td>151</td>\n",
       "      <td>3.956%</td>\n",
       "      <td>2.710%</td>\n",
       "      <td>AMAZONAS</td>\n",
       "      <td>BAGUA</td>\n",
       "      <td>COPALLIN</td>\n",
       "    </tr>\n",
       "    <tr>\n",
       "      <th>...</th>\n",
       "      <td>...</td>\n",
       "      <td>...</td>\n",
       "      <td>...</td>\n",
       "      <td>...</td>\n",
       "      <td>...</td>\n",
       "      <td>...</td>\n",
       "      <td>...</td>\n",
       "    </tr>\n",
       "    <tr>\n",
       "      <th>34315</th>\n",
       "      <td>ALIANZA PARA EL PROGRESO</td>\n",
       "      <td>181</td>\n",
       "      <td>7.331%</td>\n",
       "      <td>4.696%</td>\n",
       "      <td>UCAYALI</td>\n",
       "      <td>PADRE ABAD</td>\n",
       "      <td>PADRE ABAD</td>\n",
       "    </tr>\n",
       "    <tr>\n",
       "      <th>34316</th>\n",
       "      <td>TOTAL DE VOTOS VÁLIDOS</td>\n",
       "      <td>2469</td>\n",
       "      <td>100.000%</td>\n",
       "      <td>64.063%</td>\n",
       "      <td>UCAYALI</td>\n",
       "      <td>PADRE ABAD</td>\n",
       "      <td>PADRE ABAD</td>\n",
       "    </tr>\n",
       "    <tr>\n",
       "      <th>34317</th>\n",
       "      <td>VOTOS EN BLANCO</td>\n",
       "      <td>959</td>\n",
       "      <td>NaN</td>\n",
       "      <td>24.883%</td>\n",
       "      <td>UCAYALI</td>\n",
       "      <td>PADRE ABAD</td>\n",
       "      <td>PADRE ABAD</td>\n",
       "    </tr>\n",
       "    <tr>\n",
       "      <th>34318</th>\n",
       "      <td>VOTOS NULOS</td>\n",
       "      <td>426</td>\n",
       "      <td>NaN</td>\n",
       "      <td>11.053%</td>\n",
       "      <td>UCAYALI</td>\n",
       "      <td>PADRE ABAD</td>\n",
       "      <td>PADRE ABAD</td>\n",
       "    </tr>\n",
       "    <tr>\n",
       "      <th>34319</th>\n",
       "      <td>TOTAL DE VOTOS EMITIDOS</td>\n",
       "      <td>3854</td>\n",
       "      <td>NaN</td>\n",
       "      <td>100.000%</td>\n",
       "      <td>UCAYALI</td>\n",
       "      <td>PADRE ABAD</td>\n",
       "      <td>PADRE ABAD</td>\n",
       "    </tr>\n",
       "  </tbody>\n",
       "</table>\n",
       "<p>34320 rows × 7 columns</p>\n",
       "</div>"
      ],
      "text/plain": [
       "                             organizaciones_politicas total share_validos  \\\n",
       "0                        PARTIDO NACIONALISTA PERUANO   356        9.327%   \n",
       "1      EL FRENTE AMPLIO POR JUSTICIA, VIDA Y LIBERTAD    13        0.341%   \n",
       "2                                      PARTIDO MORADO    41        1.074%   \n",
       "3                                  PERU PATRIA SEGURA     4        0.105%   \n",
       "4                                   VICTORIA NACIONAL   151        3.956%   \n",
       "...                                               ...   ...           ...   \n",
       "34315                        ALIANZA PARA EL PROGRESO   181        7.331%   \n",
       "34316                          TOTAL DE VOTOS VÁLIDOS  2469      100.000%   \n",
       "34317                                 VOTOS EN BLANCO   959           NaN   \n",
       "34318                                     VOTOS NULOS   426           NaN   \n",
       "34319                         TOTAL DE VOTOS EMITIDOS  3854           NaN   \n",
       "\n",
       "      share_emitidos department    province    district  \n",
       "0             6.389%   AMAZONAS       BAGUA    COPALLIN  \n",
       "1             0.233%   AMAZONAS       BAGUA    COPALLIN  \n",
       "2             0.736%   AMAZONAS       BAGUA    COPALLIN  \n",
       "3             0.072%   AMAZONAS       BAGUA    COPALLIN  \n",
       "4             2.710%   AMAZONAS       BAGUA    COPALLIN  \n",
       "...              ...        ...         ...         ...  \n",
       "34315         4.696%    UCAYALI  PADRE ABAD  PADRE ABAD  \n",
       "34316        64.063%    UCAYALI  PADRE ABAD  PADRE ABAD  \n",
       "34317        24.883%    UCAYALI  PADRE ABAD  PADRE ABAD  \n",
       "34318        11.053%    UCAYALI  PADRE ABAD  PADRE ABAD  \n",
       "34319       100.000%    UCAYALI  PADRE ABAD  PADRE ABAD  \n",
       "\n",
       "[34320 rows x 7 columns]"
      ]
     },
     "execution_count": 187,
     "metadata": {},
     "output_type": "execute_result"
    }
   ],
   "source": [
    "final_data"
   ]
  }
 ],
 "metadata": {
  "kernelspec": {
   "display_name": "Python 3 (ipykernel)",
   "language": "python",
   "name": "python3"
  },
  "language_info": {
   "codemirror_mode": {
    "name": "ipython",
    "version": 3
   },
   "file_extension": ".py",
   "mimetype": "text/x-python",
   "name": "python",
   "nbconvert_exporter": "python",
   "pygments_lexer": "ipython3",
   "version": "3.9.13"
  }
 },
 "nbformat": 4,
 "nbformat_minor": 5
}
