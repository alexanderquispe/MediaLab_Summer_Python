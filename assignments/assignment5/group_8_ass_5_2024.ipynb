{
 "cells": [
  {
   "cell_type": "markdown",
   "id": "0dcee0bd",
   "metadata": {},
   "source": [
    "\n",
    "## Assignment 5\n",
    "\n",
    "In this assignment, your task is to scrape data from the given link. You'll need to extract all votes for departments, provinces, and districts. Follow these steps:\n",
    "\n",
    "1. Click on 'Resumen General'.\n",
    "2. Select 'Presidencial', and then choose 'Peru'.\n",
    "3. Scrape the data and generate a final table with the following columns: department, province, district, political_organization, total_votes.\n",
    "\n",
    "Your code must execute successfully; any errors will result in a zero grade. Ensure you test your code thoroughly.\n"
   ]
  },
  {
   "cell_type": "markdown",
   "id": "5c698ac3",
   "metadata": {},
   "source": [
    "## Part 1"
   ]
  },
  {
   "cell_type": "markdown",
   "id": "d612c4de",
   "metadata": {},
   "source": [
    "Install the libraries for excercise"
   ]
  },
  {
   "cell_type": "code",
   "execution_count": 2,
   "id": "ae37a7d4",
   "metadata": {},
   "outputs": [
    {
     "name": "stdout",
     "output_type": "stream",
     "text": [
      "Requirement already satisfied: selenium in c:\\users\\lenovo\\anaconda3\\lib\\site-packages (4.0.0)\n",
      "Requirement already satisfied: urllib3[secure]~=1.26 in c:\\users\\lenovo\\anaconda3\\lib\\site-packages (from selenium) (1.26.16)\n",
      "Requirement already satisfied: trio~=0.17 in c:\\users\\lenovo\\anaconda3\\lib\\site-packages (from selenium) (0.24.0)\n",
      "Requirement already satisfied: trio-websocket~=0.9 in c:\\users\\lenovo\\anaconda3\\lib\\site-packages (from selenium) (0.11.1)\n",
      "Requirement already satisfied: attrs>=20.1.0 in c:\\users\\lenovo\\anaconda3\\lib\\site-packages (from trio~=0.17->selenium) (22.1.0)\n",
      "Requirement already satisfied: sortedcontainers in c:\\users\\lenovo\\anaconda3\\lib\\site-packages (from trio~=0.17->selenium) (2.4.0)\n",
      "Requirement already satisfied: idna in c:\\users\\lenovo\\anaconda3\\lib\\site-packages (from trio~=0.17->selenium) (3.4)\n",
      "Requirement already satisfied: outcome in c:\\users\\lenovo\\anaconda3\\lib\\site-packages (from trio~=0.17->selenium) (1.3.0.post0)\n",
      "Requirement already satisfied: sniffio>=1.3.0 in c:\\users\\lenovo\\anaconda3\\lib\\site-packages (from trio~=0.17->selenium) (1.3.0)\n",
      "Requirement already satisfied: cffi>=1.14 in c:\\users\\lenovo\\anaconda3\\lib\\site-packages (from trio~=0.17->selenium) (1.15.1)\n",
      "Requirement already satisfied: wsproto>=0.14 in c:\\users\\lenovo\\anaconda3\\lib\\site-packages (from trio-websocket~=0.9->selenium) (1.2.0)\n",
      "Requirement already satisfied: pyOpenSSL>=0.14 in c:\\users\\lenovo\\anaconda3\\lib\\site-packages (from urllib3[secure]~=1.26->selenium) (23.2.0)\n",
      "Requirement already satisfied: cryptography>=1.3.4 in c:\\users\\lenovo\\anaconda3\\lib\\site-packages (from urllib3[secure]~=1.26->selenium) (41.0.3)\n",
      "Requirement already satisfied: certifi in c:\\users\\lenovo\\anaconda3\\lib\\site-packages (from urllib3[secure]~=1.26->selenium) (2023.7.22)\n",
      "Requirement already satisfied: urllib3-secure-extra in c:\\users\\lenovo\\anaconda3\\lib\\site-packages (from urllib3[secure]~=1.26->selenium) (0.1.0)\n",
      "Requirement already satisfied: pycparser in c:\\users\\lenovo\\anaconda3\\lib\\site-packages (from cffi>=1.14->trio~=0.17->selenium) (2.21)\n",
      "Requirement already satisfied: h11<1,>=0.9.0 in c:\\users\\lenovo\\anaconda3\\lib\\site-packages (from wsproto>=0.14->trio-websocket~=0.9->selenium) (0.14.0)\n",
      "Requirement already satisfied: webdriver-manager in c:\\users\\lenovo\\anaconda3\\lib\\site-packages (3.4.2)\n",
      "Requirement already satisfied: requests in c:\\users\\lenovo\\anaconda3\\lib\\site-packages (from webdriver-manager) (2.31.0)\n",
      "Requirement already satisfied: configparser in c:\\users\\lenovo\\anaconda3\\lib\\site-packages (from webdriver-manager) (6.0.0)\n",
      "Requirement already satisfied: crayons in c:\\users\\lenovo\\anaconda3\\lib\\site-packages (from webdriver-manager) (0.4.0)\n",
      "Requirement already satisfied: colorama in c:\\users\\lenovo\\anaconda3\\lib\\site-packages (from crayons->webdriver-manager) (0.4.6)\n",
      "Requirement already satisfied: charset-normalizer<4,>=2 in c:\\users\\lenovo\\anaconda3\\lib\\site-packages (from requests->webdriver-manager) (2.0.4)\n",
      "Requirement already satisfied: idna<4,>=2.5 in c:\\users\\lenovo\\anaconda3\\lib\\site-packages (from requests->webdriver-manager) (3.4)\n",
      "Requirement already satisfied: urllib3<3,>=1.21.1 in c:\\users\\lenovo\\anaconda3\\lib\\site-packages (from requests->webdriver-manager) (1.26.16)\n",
      "Requirement already satisfied: certifi>=2017.4.17 in c:\\users\\lenovo\\anaconda3\\lib\\site-packages (from requests->webdriver-manager) (2023.7.22)\n",
      "Requirement already satisfied: lxml in c:\\users\\lenovo\\anaconda3\\lib\\site-packages (4.9.3)\n"
     ]
    }
   ],
   "source": [
    "!pip install selenium\n",
    "!pip install webdriver-manager\n",
    "!pip install lxml"
   ]
  },
  {
   "cell_type": "markdown",
   "id": "a596e58f",
   "metadata": {},
   "source": [
    "Calling libraries for excercise"
   ]
  },
  {
   "cell_type": "code",
   "execution_count": 6,
   "id": "6b75555a",
   "metadata": {},
   "outputs": [],
   "source": [
    "#Library for browser\n",
    "from selenium import webdriver\n",
    "\n",
    "# Calling ChromeDrive with time and re\n",
    "from webdriver_manager.chrome import ChromeDriverManager\n",
    "import re\n",
    "import time\n",
    "from selenium import webdriver\n",
    "from selenium.webdriver.chrome.service import Service\n",
    "from selenium.webdriver.common.by import By\n",
    "import pandas as pd\n",
    "\n",
    "#Import unicode\n",
    "from selenium import webdriver\n",
    "from webdriver_manager.chrome import ChromeDriverManager\n",
    "import unidecode\n",
    " # Import Select class\n",
    "from selenium.webdriver.support.ui import Select "
   ]
  },
  {
   "cell_type": "code",
   "execution_count": 9,
   "id": "f7fc9675",
   "metadata": {},
   "outputs": [
    {
     "data": {
      "text/plain": [
       "'C:\\\\Users\\\\LENOVO\\\\Documents\\\\GitHub\\\\MediaLab_Summer_Python\\\\assignments\\\\assignment5'"
      ]
     },
     "execution_count": 9,
     "metadata": {},
     "output_type": "execute_result"
    }
   ],
   "source": [
    "pwd #Path verification"
   ]
  },
  {
   "cell_type": "markdown",
   "id": "3192b3de",
   "metadata": {},
   "source": [
    "Launch the Chrome Driver"
   ]
  },
  {
   "cell_type": "code",
   "execution_count": 23,
   "id": "bf99cba0",
   "metadata": {},
   "outputs": [],
   "source": [
    "## ChromeDriver launch by path\n",
    "service = Service(executable_path=\"C:/Users/LENOVO/Documents/GitHub/MediaLab_Summer_Python/Lecture_7/chromedriver-win64/chromedriver.exe\")\n",
    "\n",
    "driver = webdriver.Chrome(service = service)\n",
    "\n",
    "## URL from link\n",
    "url = 'https://resultadoshistorico.onpe.gob.pe/EG2021/'\n",
    "driver.get(url)\n",
    "\n",
    "## Maximize the window from visibility\n",
    "driver.maximize_window()"
   ]
  },
  {
   "cell_type": "markdown",
   "id": "b7503d9b",
   "metadata": {},
   "source": [
    "Code for click using xparth and html from page"
   ]
  },
  {
   "cell_type": "code",
   "execution_count": 22,
   "id": "8f3d9d6e",
   "metadata": {},
   "outputs": [
    {
     "name": "stderr",
     "output_type": "stream",
     "text": [
      "C:\\Users\\LENOVO\\AppData\\Local\\Temp\\ipykernel_1808\\1160811661.py:2: DeprecationWarning: find_element_by_* commands are deprecated. Please use find_element() instead\n",
      "  element = driver.find_element_by_xpath(xpath)\n"
     ]
    }
   ],
   "source": [
    "xpath = '/html/body/onpe-root/onpe-home-onpe/div[1]/div/div/div/div[2]/div[1]/div/div/a/div[2]/div'\n",
    "element = driver.find_element_by_xpath(xpath)\n",
    "element.click() #Work but there is a warning.Then we use drive. find element for the next steps"
   ]
  },
  {
   "cell_type": "code",
   "execution_count": 24,
   "id": "af7b8e87",
   "metadata": {},
   "outputs": [],
   "source": [
    "driver.find_element(By.XPATH, '/html/body/onpe-root/onpe-home-onpe/div[1]/div/div/div/div[2]/div[1]/div/div/a/div[2]/div').click()\n",
    "time.sleep(0) #Time sleep is not necesary for this action"
   ]
  },
  {
   "cell_type": "markdown",
   "id": "21f9f1d3",
   "metadata": {},
   "source": [
    "## Part 2"
   ]
  },
  {
   "cell_type": "markdown",
   "id": "3ff2ce33",
   "metadata": {},
   "source": [
    "Code for click using xparth and html from page"
   ]
  },
  {
   "cell_type": "code",
   "execution_count": 28,
   "id": "a83a6666",
   "metadata": {},
   "outputs": [],
   "source": [
    "# Presidencial\n",
    "driver.find_element(By.XPATH, '/html/body/onpe-root/onpe-layout-container/onpe-menu/div/nav/div/div/div[2]/div/div[2]/a').click()\n",
    "time.sleep(2)\n",
    "\n",
    "# Perú\n",
    "driver.find_element(By.XPATH, '/html/body/onpe-root/onpe-layout-container/onpe-onpe-epres-re/div[1]/div[3]/div[1]/div[1]/div/div/div[1]/select/option[2]').click()\n",
    "time.sleep(2)\n"
   ]
  },
  {
   "cell_type": "markdown",
   "id": "e859a2a9",
   "metadata": {},
   "source": [
    "Another way "
   ]
  },
  {
   "cell_type": "code",
   "execution_count": 29,
   "id": "a6567ef5",
   "metadata": {},
   "outputs": [
    {
     "name": "stderr",
     "output_type": "stream",
     "text": [
      "C:\\Users\\LENOVO\\AppData\\Local\\Temp\\ipykernel_1808\\4206298821.py:3: DeprecationWarning: find_element_by_* commands are deprecated. Please use find_element() instead\n",
      "  element = driver.find_element_by_xpath(xpath)\n",
      "C:\\Users\\LENOVO\\AppData\\Local\\Temp\\ipykernel_1808\\4206298821.py:8: DeprecationWarning: find_element_by_* commands are deprecated. Please use find_element() instead\n",
      "  element = driver.find_element_by_xpath(xpath)\n"
     ]
    }
   ],
   "source": [
    "## Presidencial\n",
    "xpath = '/html/body/onpe-root/onpe-layout-container/onpe-menu/div/nav/div/div/div[2]/div/div[2]/a'\n",
    "element = driver.find_element_by_xpath(xpath)\n",
    "element.click() #Work but there is a warning.Then we use drive. find element for the next steps\n",
    "\n",
    "# Perú\n",
    "xpath = '/html/body/onpe-root/onpe-layout-container/onpe-onpe-epres-re/div[1]/div[3]/div[1]/div[1]/div/div/div[1]/select/option[2]'\n",
    "element = driver.find_element_by_xpath(xpath)\n",
    "element.click() #Work but there is a warning.Then we use drive. find element for the next steps"
   ]
  },
  {
   "cell_type": "markdown",
   "id": "c15c7372",
   "metadata": {},
   "source": [
    "## Part 3"
   ]
  },
  {
   "cell_type": "code",
   "execution_count": null,
   "id": "05401bab",
   "metadata": {},
   "outputs": [],
   "source": []
  }
 ],
 "metadata": {
  "kernelspec": {
   "display_name": "Python 3 (ipykernel)",
   "language": "python",
   "name": "python3"
  },
  "language_info": {
   "codemirror_mode": {
    "name": "ipython",
    "version": 3
   },
   "file_extension": ".py",
   "mimetype": "text/x-python",
   "name": "python",
   "nbconvert_exporter": "python",
   "pygments_lexer": "ipython3",
   "version": "3.11.5"
  }
 },
 "nbformat": 4,
 "nbformat_minor": 5
}
