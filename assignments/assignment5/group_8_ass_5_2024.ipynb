{
 "cells": [
  {
   "cell_type": "markdown",
   "id": "e9b7116c",
   "metadata": {},
   "source": [
    "\n",
    "## Assignment 5\n",
    "\n",
    "In this assignment, your task is to scrape data from the given link. You'll need to extract all votes for departments, provinces, and districts. Follow these steps:\n",
    "\n",
    "1. Click on 'Resumen General'.\n",
    "2. Select 'Presidencial', and then choose 'Peru'.\n",
    "3. Scrape the data and generate a final table with the following columns: department, province, district, political_organization, total_votes.\n",
    "\n",
    "Your code must execute successfully; any errors will result in a zero grade. Ensure you test your code thoroughly.\n"
   ]
  },
  {
   "cell_type": "markdown",
   "id": "1909e2df",
   "metadata": {},
   "source": [
    "## Part 1"
   ]
  },
  {
   "cell_type": "markdown",
   "id": "7227fab5",
   "metadata": {},
   "source": [
    "Install the libraries for excercise"
   ]
  },
  {
   "cell_type": "code",
   "execution_count": 2,
   "id": "e590dee6",
   "metadata": {},
   "outputs": [
    {
     "name": "stdout",
     "output_type": "stream",
     "text": [
      "Requirement already satisfied: selenium in c:\\users\\lenovo\\anaconda3\\lib\\site-packages (4.0.0)\n",
      "Requirement already satisfied: urllib3[secure]~=1.26 in c:\\users\\lenovo\\anaconda3\\lib\\site-packages (from selenium) (1.26.16)\n",
      "Requirement already satisfied: trio~=0.17 in c:\\users\\lenovo\\anaconda3\\lib\\site-packages (from selenium) (0.24.0)\n",
      "Requirement already satisfied: trio-websocket~=0.9 in c:\\users\\lenovo\\anaconda3\\lib\\site-packages (from selenium) (0.11.1)\n",
      "Requirement already satisfied: attrs>=20.1.0 in c:\\users\\lenovo\\anaconda3\\lib\\site-packages (from trio~=0.17->selenium) (22.1.0)\n",
      "Requirement already satisfied: sortedcontainers in c:\\users\\lenovo\\anaconda3\\lib\\site-packages (from trio~=0.17->selenium) (2.4.0)\n",
      "Requirement already satisfied: idna in c:\\users\\lenovo\\anaconda3\\lib\\site-packages (from trio~=0.17->selenium) (3.4)\n",
      "Requirement already satisfied: outcome in c:\\users\\lenovo\\anaconda3\\lib\\site-packages (from trio~=0.17->selenium) (1.3.0.post0)\n",
      "Requirement already satisfied: sniffio>=1.3.0 in c:\\users\\lenovo\\anaconda3\\lib\\site-packages (from trio~=0.17->selenium) (1.3.0)\n",
      "Requirement already satisfied: cffi>=1.14 in c:\\users\\lenovo\\anaconda3\\lib\\site-packages (from trio~=0.17->selenium) (1.15.1)\n",
      "Requirement already satisfied: wsproto>=0.14 in c:\\users\\lenovo\\anaconda3\\lib\\site-packages (from trio-websocket~=0.9->selenium) (1.2.0)\n",
      "Requirement already satisfied: pyOpenSSL>=0.14 in c:\\users\\lenovo\\anaconda3\\lib\\site-packages (from urllib3[secure]~=1.26->selenium) (23.2.0)\n",
      "Requirement already satisfied: cryptography>=1.3.4 in c:\\users\\lenovo\\anaconda3\\lib\\site-packages (from urllib3[secure]~=1.26->selenium) (41.0.3)\n",
      "Requirement already satisfied: certifi in c:\\users\\lenovo\\anaconda3\\lib\\site-packages (from urllib3[secure]~=1.26->selenium) (2023.7.22)\n",
      "Requirement already satisfied: urllib3-secure-extra in c:\\users\\lenovo\\anaconda3\\lib\\site-packages (from urllib3[secure]~=1.26->selenium) (0.1.0)\n",
      "Requirement already satisfied: pycparser in c:\\users\\lenovo\\anaconda3\\lib\\site-packages (from cffi>=1.14->trio~=0.17->selenium) (2.21)\n",
      "Requirement already satisfied: h11<1,>=0.9.0 in c:\\users\\lenovo\\anaconda3\\lib\\site-packages (from wsproto>=0.14->trio-websocket~=0.9->selenium) (0.14.0)\n",
      "Requirement already satisfied: webdriver-manager in c:\\users\\lenovo\\anaconda3\\lib\\site-packages (3.4.2)\n",
      "Requirement already satisfied: requests in c:\\users\\lenovo\\anaconda3\\lib\\site-packages (from webdriver-manager) (2.31.0)\n",
      "Requirement already satisfied: configparser in c:\\users\\lenovo\\anaconda3\\lib\\site-packages (from webdriver-manager) (6.0.0)\n",
      "Requirement already satisfied: crayons in c:\\users\\lenovo\\anaconda3\\lib\\site-packages (from webdriver-manager) (0.4.0)\n",
      "Requirement already satisfied: colorama in c:\\users\\lenovo\\anaconda3\\lib\\site-packages (from crayons->webdriver-manager) (0.4.6)\n",
      "Requirement already satisfied: charset-normalizer<4,>=2 in c:\\users\\lenovo\\anaconda3\\lib\\site-packages (from requests->webdriver-manager) (2.0.4)\n",
      "Requirement already satisfied: idna<4,>=2.5 in c:\\users\\lenovo\\anaconda3\\lib\\site-packages (from requests->webdriver-manager) (3.4)\n",
      "Requirement already satisfied: urllib3<3,>=1.21.1 in c:\\users\\lenovo\\anaconda3\\lib\\site-packages (from requests->webdriver-manager) (1.26.16)\n",
      "Requirement already satisfied: certifi>=2017.4.17 in c:\\users\\lenovo\\anaconda3\\lib\\site-packages (from requests->webdriver-manager) (2023.7.22)\n",
      "Requirement already satisfied: lxml in c:\\users\\lenovo\\anaconda3\\lib\\site-packages (4.9.3)\n"
     ]
    }
   ],
   "source": [
    "!pip install selenium\n",
    "!pip install webdriver-manager\n",
    "!pip install lxml"
   ]
  },
  {
   "cell_type": "markdown",
   "id": "017d2243",
   "metadata": {},
   "source": [
    "Calling libraries for excercise"
   ]
  },
  {
   "cell_type": "code",
   "execution_count": 6,
   "id": "612a3c70",
   "metadata": {},
   "outputs": [],
   "source": [
    "#Library for browser\n",
    "from selenium import webdriver\n",
    "\n",
    "# Calling ChromeDrive with time and re\n",
    "from webdriver_manager.chrome import ChromeDriverManager\n",
    "import re\n",
    "import time\n",
    "from selenium import webdriver\n",
    "from selenium.webdriver.chrome.service import Service\n",
    "from selenium.webdriver.common.by import By\n",
    "import pandas as pd\n",
    "\n",
    "#Import unicode\n",
    "from selenium import webdriver\n",
    "from webdriver_manager.chrome import ChromeDriverManager\n",
    "import unidecode\n",
    " # Import Select class\n",
    "from selenium.webdriver.support.ui import Select "
   ]
  },
  {
   "cell_type": "code",
   "execution_count": 9,
   "id": "3638eace",
   "metadata": {},
   "outputs": [
    {
     "data": {
      "text/plain": [
       "'C:\\\\Users\\\\LENOVO\\\\Documents\\\\GitHub\\\\MediaLab_Summer_Python\\\\assignments\\\\assignment5'"
      ]
     },
     "execution_count": 9,
     "metadata": {},
     "output_type": "execute_result"
    }
   ],
   "source": [
    "pwd #Path verification"
   ]
  },
  {
   "cell_type": "markdown",
   "id": "6a683aba",
   "metadata": {},
   "source": [
    "Launch the Chrome Driver"
   ]
  },
  {
   "cell_type": "code",
   "execution_count": null,
   "id": "4af2ba69",
   "metadata": {},
   "outputs": [],
   "source": []
  }
 ],
 "metadata": {
  "kernelspec": {
   "display_name": "Python 3 (ipykernel)",
   "language": "python",
   "name": "python3"
  },
  "language_info": {
   "codemirror_mode": {
    "name": "ipython",
    "version": 3
   },
   "file_extension": ".py",
   "mimetype": "text/x-python",
   "name": "python",
   "nbconvert_exporter": "python",
   "pygments_lexer": "ipython3",
   "version": "3.11.5"
  }
 },
 "nbformat": 4,
 "nbformat_minor": 5
}
