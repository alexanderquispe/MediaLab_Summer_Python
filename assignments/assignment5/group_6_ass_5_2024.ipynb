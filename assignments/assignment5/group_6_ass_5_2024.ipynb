{
 "cells": [
  {
   "cell_type": "markdown",
   "id": "8f7a7155",
   "metadata": {},
   "source": [
    "# Assignment 5\n",
    "\n",
    "In this assignment, your task is to scrape data from the given [link](https://resultadoshistorico.onpe.gob.pe/EG2021/). You'll need to extract all votes for departments, provinces, and districts. Follow these steps:\n",
    "\n",
    "1. Click on 'Resumen General'.\n",
    "2. Select 'Presidencial', and then choose 'Peru'.\n",
    "3. Scrape the data and generate a final table with the following columns: department, province, district, political_organization, total_votes.\n",
    "\n",
    "Your code must execute successfully; any errors will result in a zero grade. Ensure you test your code thoroughly."
   ]
  },
  {
   "cell_type": "code",
   "execution_count": 1,
   "id": "e74caafb",
   "metadata": {
    "scrolled": true
   },
   "outputs": [
    {
     "name": "stdout",
     "output_type": "stream",
     "text": [
      "Defaulting to user installation because normal site-packages is not writeable\n",
      "Requirement already satisfied: selenium in c:\\users\\favio\\appdata\\roaming\\python\\python311\\site-packages (4.16.0)\n",
      "Requirement already satisfied: urllib3[socks]<3,>=1.26 in c:\\anaconda\\lib\\site-packages (from selenium) (1.26.16)\n",
      "Requirement already satisfied: trio~=0.17 in c:\\users\\favio\\appdata\\roaming\\python\\python311\\site-packages (from selenium) (0.24.0)\n",
      "Requirement already satisfied: trio-websocket~=0.9 in c:\\users\\favio\\appdata\\roaming\\python\\python311\\site-packages (from selenium) (0.11.1)\n",
      "Requirement already satisfied: certifi>=2021.10.8 in c:\\anaconda\\lib\\site-packages (from selenium) (2023.7.22)\n",
      "Requirement already satisfied: attrs>=20.1.0 in c:\\anaconda\\lib\\site-packages (from trio~=0.17->selenium) (22.1.0)\n",
      "Requirement already satisfied: sortedcontainers in c:\\anaconda\\lib\\site-packages (from trio~=0.17->selenium) (2.4.0)\n",
      "Requirement already satisfied: idna in c:\\anaconda\\lib\\site-packages (from trio~=0.17->selenium) (3.4)\n",
      "Requirement already satisfied: outcome in c:\\users\\favio\\appdata\\roaming\\python\\python311\\site-packages (from trio~=0.17->selenium) (1.3.0.post0)\n",
      "Requirement already satisfied: sniffio>=1.3.0 in c:\\users\\favio\\appdata\\roaming\\python\\python311\\site-packages (from trio~=0.17->selenium) (1.3.0)\n",
      "Requirement already satisfied: cffi>=1.14 in c:\\anaconda\\lib\\site-packages (from trio~=0.17->selenium) (1.15.1)\n",
      "Requirement already satisfied: wsproto>=0.14 in c:\\users\\favio\\appdata\\roaming\\python\\python311\\site-packages (from trio-websocket~=0.9->selenium) (1.2.0)\n",
      "Requirement already satisfied: PySocks!=1.5.7,<2.0,>=1.5.6 in c:\\anaconda\\lib\\site-packages (from urllib3[socks]<3,>=1.26->selenium) (1.7.1)\n",
      "Requirement already satisfied: pycparser in c:\\anaconda\\lib\\site-packages (from cffi>=1.14->trio~=0.17->selenium) (2.21)\n",
      "Requirement already satisfied: h11<1,>=0.9.0 in c:\\users\\favio\\appdata\\roaming\\python\\python311\\site-packages (from wsproto>=0.14->trio-websocket~=0.9->selenium) (0.14.0)\n",
      "Defaulting to user installation because normal site-packages is not writeable\n",
      "Requirement already satisfied: webdriver-manager in c:\\users\\favio\\appdata\\roaming\\python\\python311\\site-packages (4.0.1)\n",
      "Requirement already satisfied: requests in c:\\anaconda\\lib\\site-packages (from webdriver-manager) (2.31.0)\n",
      "Requirement already satisfied: python-dotenv in c:\\anaconda\\lib\\site-packages (from webdriver-manager) (0.21.0)\n",
      "Requirement already satisfied: packaging in c:\\anaconda\\lib\\site-packages (from webdriver-manager) (23.1)\n",
      "Requirement already satisfied: charset-normalizer<4,>=2 in c:\\anaconda\\lib\\site-packages (from requests->webdriver-manager) (2.0.4)\n",
      "Requirement already satisfied: idna<4,>=2.5 in c:\\anaconda\\lib\\site-packages (from requests->webdriver-manager) (3.4)\n",
      "Requirement already satisfied: urllib3<3,>=1.21.1 in c:\\anaconda\\lib\\site-packages (from requests->webdriver-manager) (1.26.16)\n",
      "Requirement already satisfied: certifi>=2017.4.17 in c:\\anaconda\\lib\\site-packages (from requests->webdriver-manager) (2023.7.22)\n",
      "Defaulting to user installation because normal site-packages is not writeable\n",
      "Requirement already satisfied: lxml in c:\\anaconda\\lib\\site-packages (4.9.3)\n",
      "Defaulting to user installation because normal site-packages is not writeable\n"
     ]
    },
    {
     "name": "stderr",
     "output_type": "stream",
     "text": [
      "ERROR: Could not find a version that satisfies the requirement lxmunidecodel (from versions: none)\n",
      "ERROR: No matching distribution found for lxmunidecodel\n"
     ]
    }
   ],
   "source": [
    "!pip install selenium\n",
    "!pip install webdriver-manager\n",
    "!pip install lxml\n",
    "!pip install lxmunidecodel\n",
    "\n",
    "#We install the libraries"
   ]
  },
  {
   "cell_type": "code",
   "execution_count": 2,
   "id": "aead8d6d",
   "metadata": {},
   "outputs": [],
   "source": [
    "# this library is to manipulate browser\n",
    "from selenium import webdriver\n",
    "\n",
    "# We call ChromeDriver\n",
    "from webdriver_manager.chrome import ChromeDriverManager\n",
    "import re\n",
    "import time\n",
    "from selenium import webdriver\n",
    "from selenium.webdriver.chrome.service import Service\n",
    "from selenium.webdriver.common.by import By\n",
    "import pandas as pd\n",
    "\n",
    "from selenium import webdriver\n",
    "from webdriver_manager.chrome import ChromeDriverManager\n",
    "import unidecode\n",
    "from selenium.webdriver.support.ui import Select  # Import Select class"
   ]
  },
  {
   "cell_type": "code",
   "execution_count": 3,
   "id": "789f98ec",
   "metadata": {},
   "outputs": [
    {
     "data": {
      "text/plain": [
       "'C:\\\\Users\\\\favio\\\\Documents\\\\GitHubDesktop\\\\MediaLab_Summer_Python\\\\assignments\\\\assignment5'"
      ]
     },
     "execution_count": 3,
     "metadata": {},
     "output_type": "execute_result"
    }
   ],
   "source": [
    "pwd"
   ]
  },
  {
   "cell_type": "code",
   "execution_count": 11,
   "id": "5ea4fdde",
   "metadata": {
    "scrolled": true
   },
   "outputs": [],
   "source": [
    "# We copy the PATH of the driver\n",
    "service = Service(executable_path=r\"C:\\Users\\favio\\Downloads\\chromedriver-win64\\chromedriver.exe\")\n",
    "\n",
    "driver = webdriver.Chrome(service=service)\n",
    "\n",
    "url = 'https://resultadoshistorico.onpe.gob.pe/EG2021/'\n",
    "\n",
    "driver.get(url)\n",
    "\n",
    "#We maximize the browser and set the Browser Zoom Level to 100 percent\n",
    "\n",
    "driver.maximize_window()\n",
    "\n",
    "driver.execute_script(\"document.body.style.zoom='100%'\")"
   ]
  },
  {
   "cell_type": "code",
   "execution_count": 12,
   "id": "d6c28049",
   "metadata": {},
   "outputs": [],
   "source": [
    "#We select the resumen general"
   ]
  },
  {
   "cell_type": "code",
   "execution_count": 13,
   "id": "386989dc",
   "metadata": {
    "scrolled": true
   },
   "outputs": [],
   "source": [
    "resumen_general = driver.find_element( By.XPATH  , '/html/body/onpe-root/onpe-home-onpe/div[1]/div/div/div/div[2]/div[1]/div/div/a/div[2]/div')\n",
    "resumen_general.click()"
   ]
  },
  {
   "cell_type": "code",
   "execution_count": 14,
   "id": "6b329025",
   "metadata": {},
   "outputs": [],
   "source": [
    "presidencial = driver.find_element( By.XPATH  , '/html/body/onpe-root/onpe-layout-container/onpe-menu/div/nav/div/div/div[2]/div/div[2]/a')\n",
    "presidencial.click()"
   ]
  },
  {
   "cell_type": "code",
   "execution_count": 15,
   "id": "fd0eef9c",
   "metadata": {},
   "outputs": [],
   "source": [
    "# We select presidencial result"
   ]
  },
  {
   "cell_type": "code",
   "execution_count": 50,
   "id": "3f3aead2",
   "metadata": {},
   "outputs": [],
   "source": [
    "peru = driver.find_element( By.XPATH  , '/html/body/onpe-root/onpe-layout-container/onpe-onpe-epres-re/div[1]/div[3]/div[1]/div[1]/div/div/div/select/option[2]')\n",
    "peru.click()"
   ]
  },
  {
   "cell_type": "code",
   "execution_count": 51,
   "id": "20d6ab6c",
   "metadata": {},
   "outputs": [],
   "source": [
    "# Then, we select Perú "
   ]
  },
  {
   "cell_type": "markdown",
   "id": "28982fe1",
   "metadata": {},
   "source": [
    "Scrape the data and generate a final table with the following columns: department, province, district, political_organization, total_votes."
   ]
  },
  {
   "cell_type": "code",
   "execution_count": 52,
   "id": "0bc42399",
   "metadata": {},
   "outputs": [],
   "source": [
    "from selenium import webdriver\n",
    "from selenium.webdriver.common.by import By\n",
    "import pandas as pd\n",
    "\n",
    "# Assuming driver is already initialized\n",
    "peru = driver.find_element(By.XPATH, '/html/body/onpe-root/onpe-layout-container/onpe-onpe-epres-re/div[1]/div[3]/div[1]/div[1]/div/div/div/select/option[2]')\n",
    "peru.click()\n"
   ]
  },
  {
   "cell_type": "code",
   "execution_count": 53,
   "id": "d1f497f7",
   "metadata": {
    "scrolled": true
   },
   "outputs": [],
   "source": [
    "departments = [department.text for department in driver.find_elements(By.XPATH, '/html/body/onpe-root/onpe-layout-container/onpe-onpe-epres-re/div[1]/div[3]/div[1]/div[1]/div/div/div[2]/select')]"
   ]
  },
  {
   "cell_type": "code",
   "execution_count": 54,
   "id": "b6edab70",
   "metadata": {},
   "outputs": [],
   "source": [
    "provinces = [province.text for province in driver.find_elements(By.XPATH, '/html/body/onpe-root/onpe-layout-container/onpe-onpe-epres-re/div[1]/div[3]/div[1]/div[1]/div/div/div[3]/select')]"
   ]
  },
  {
   "cell_type": "code",
   "execution_count": 55,
   "id": "2f4390b8",
   "metadata": {},
   "outputs": [],
   "source": [
    "districts = [district.text for district in driver.find_elements(By.XPATH, '/html/body/onpe-root/onpe-layout-container/onpe-onpe-epres-re/div[1]/div[3]/div[1]/div[1]/div/div/div[4]/select')]"
   ]
  },
  {
   "cell_type": "code",
   "execution_count": 56,
   "id": "3d9bc3ef",
   "metadata": {
    "scrolled": false
   },
   "outputs": [],
   "source": [
    "political_organizations_total_vote = [political_organizations_total_vote.text for political_organizations_total_vote in driver.find_elements(By.XPATH, '/html/body/onpe-root/onpe-layout-container/onpe-onpe-epres-re/div[1]/div[4]/div[1]/div[4]/table')]"
   ]
  },
  {
   "cell_type": "code",
   "execution_count": 57,
   "id": "f79bf46a",
   "metadata": {},
   "outputs": [],
   "source": [
    "data = {'Department': departments, 'Province': provinces, 'District': districts, \"political_organizations_total_votes\" : political_organizations_total_vote}\n",
    "df = pd.DataFrame(data)"
   ]
  },
  {
   "cell_type": "code",
   "execution_count": null,
   "id": "e5eca3e8",
   "metadata": {},
   "outputs": [],
   "source": [
    "#print table"
   ]
  },
  {
   "cell_type": "code",
   "execution_count": 59,
   "id": "41228306",
   "metadata": {},
   "outputs": [
    {
     "data": {
      "text/html": [
       "<div>\n",
       "<style scoped>\n",
       "    .dataframe tbody tr th:only-of-type {\n",
       "        vertical-align: middle;\n",
       "    }\n",
       "\n",
       "    .dataframe tbody tr th {\n",
       "        vertical-align: top;\n",
       "    }\n",
       "\n",
       "    .dataframe thead th {\n",
       "        text-align: right;\n",
       "    }\n",
       "</style>\n",
       "<table border=\"1\" class=\"dataframe\">\n",
       "  <thead>\n",
       "    <tr style=\"text-align: right;\">\n",
       "      <th></th>\n",
       "      <th>Department</th>\n",
       "      <th>Province</th>\n",
       "      <th>District</th>\n",
       "      <th>political_organizations_total_votes</th>\n",
       "    </tr>\n",
       "  </thead>\n",
       "  <tbody>\n",
       "    <tr>\n",
       "      <th>0</th>\n",
       "      <td>--TODOS--\\nAMAZONAS\\nANCASH\\nAPURIMAC\\nAREQUIP...</td>\n",
       "      <td>--TODOS--\\nAIJA\\nANTONIO RAIMONDI\\nASUNCION\\nB...</td>\n",
       "      <td>-- SELECCIONE --</td>\n",
       "      <td></td>\n",
       "    </tr>\n",
       "  </tbody>\n",
       "</table>\n",
       "</div>"
      ],
      "text/plain": [
       "                                          Department  \\\n",
       "0  --TODOS--\\nAMAZONAS\\nANCASH\\nAPURIMAC\\nAREQUIP...   \n",
       "\n",
       "                                            Province          District  \\\n",
       "0  --TODOS--\\nAIJA\\nANTONIO RAIMONDI\\nASUNCION\\nB...  -- SELECCIONE --   \n",
       "\n",
       "  political_organizations_total_votes  \n",
       "0                                      "
      ]
     },
     "execution_count": 59,
     "metadata": {},
     "output_type": "execute_result"
    }
   ],
   "source": [
    "df"
   ]
  },
  {
   "cell_type": "code",
   "execution_count": null,
   "id": "a3e0cf80",
   "metadata": {},
   "outputs": [],
   "source": [
    "#we try :c"
   ]
  }
 ],
 "metadata": {
  "kernelspec": {
   "display_name": "Python 3 (ipykernel)",
   "language": "python",
   "name": "python3"
  },
  "language_info": {
   "codemirror_mode": {
    "name": "ipython",
    "version": 3
   },
   "file_extension": ".py",
   "mimetype": "text/x-python",
   "name": "python",
   "nbconvert_exporter": "python",
   "pygments_lexer": "ipython3",
   "version": "3.11.5"
  }
 },
 "nbformat": 4,
 "nbformat_minor": 5
}
