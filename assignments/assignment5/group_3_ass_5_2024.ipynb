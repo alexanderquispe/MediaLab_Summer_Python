{
 "cells": [
  {
   "cell_type": "code",
   "execution_count": null,
   "metadata": {},
   "outputs": [],
   "source": [
    "# Assignment 5\n",
    "\n",
    "## In this assignment, your task is to scrape data from the given link. You'll need to extract all votes for departments, provinces, and districts. Follow these steps:\n",
    "\n",
    "## Click on 'Resumen General'.\n",
    "## Select 'Presidencial', and then choose 'Peru'.\n",
    "## Scrape the data and generate a final table with the following columns: department, province, district, political_organization, total_votes.\n",
    "## Your code must execute successfully; any errors will result in a zero grade. Ensure you test your code thoroughly."
   ]
  }
 ],
 "metadata": {
  "language_info": {
   "name": "python"
  },
  "orig_nbformat": 4
 },
 "nbformat": 4,
 "nbformat_minor": 2
}
