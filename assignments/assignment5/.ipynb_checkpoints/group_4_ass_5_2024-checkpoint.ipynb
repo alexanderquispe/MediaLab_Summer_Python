{
 "cells": [
  {
   "cell_type": "markdown",
   "metadata": {},
   "source": [
    "# Assignment 5\n",
    "\n",
    "You have to get all the votes for all the departments and provinces and districts available in this [link](https://resultadoshistorico.onpe.gob.pe/EG2021/EleccionesPresidenciales/RePres/T). General a final table with the columns of the department, province, district, political_organization, total_votes.\n",
    "The code must run and do not fail. If the code fails, it will be graded as zero. Check this.\n",
    "\n",
    "1. Click on 'Resumen General'.\n",
    "2. Select 'Presidencial', and then choose 'Peru'.\n",
    "3. Scrape the data and generate a final table with the following columns: department, province, district, political_organization, total_votes.\n",
    "\n",
    "Your code must execute successfully; any errors will result in a zero grade. Ensure you test your code thoroughly."
   ]
  },
  {
   "cell_type": "markdown",
   "metadata": {},
   "source": [
    "We need to open the libraries and drivers"
   ]
  },
  {
   "cell_type": "code",
   "execution_count": 1,
   "metadata": {
    "scrolled": true
   },
   "outputs": [
    {
     "name": "stdout",
     "output_type": "stream",
     "text": [
      "Defaulting to user installation because normal site-packages is not writeable\n",
      "Requirement already satisfied: selenium in c:\\users\\usuario\\appdata\\roaming\\python\\python311\\site-packages (4.16.0)\n",
      "Requirement already satisfied: urllib3[socks]<3,>=1.26 in d:\\programdata\\anaconda3\\lib\\site-packages (from selenium) (1.26.16)\n",
      "Requirement already satisfied: trio~=0.17 in c:\\users\\usuario\\appdata\\roaming\\python\\python311\\site-packages (from selenium) (0.24.0)\n",
      "Requirement already satisfied: trio-websocket~=0.9 in c:\\users\\usuario\\appdata\\roaming\\python\\python311\\site-packages (from selenium) (0.11.1)\n",
      "Requirement already satisfied: certifi>=2021.10.8 in d:\\programdata\\anaconda3\\lib\\site-packages (from selenium) (2023.7.22)\n",
      "Requirement already satisfied: attrs>=20.1.0 in d:\\programdata\\anaconda3\\lib\\site-packages (from trio~=0.17->selenium) (22.1.0)\n",
      "Requirement already satisfied: sortedcontainers in d:\\programdata\\anaconda3\\lib\\site-packages (from trio~=0.17->selenium) (2.4.0)\n",
      "Requirement already satisfied: idna in d:\\programdata\\anaconda3\\lib\\site-packages (from trio~=0.17->selenium) (3.4)\n",
      "Requirement already satisfied: outcome in c:\\users\\usuario\\appdata\\roaming\\python\\python311\\site-packages (from trio~=0.17->selenium) (1.3.0.post0)\n",
      "Requirement already satisfied: sniffio>=1.3.0 in c:\\users\\usuario\\appdata\\roaming\\python\\python311\\site-packages (from trio~=0.17->selenium) (1.3.0)\n",
      "Requirement already satisfied: cffi>=1.14 in d:\\programdata\\anaconda3\\lib\\site-packages (from trio~=0.17->selenium) (1.15.1)\n",
      "Requirement already satisfied: wsproto>=0.14 in c:\\users\\usuario\\appdata\\roaming\\python\\python311\\site-packages (from trio-websocket~=0.9->selenium) (1.2.0)\n",
      "Requirement already satisfied: PySocks!=1.5.7,<2.0,>=1.5.6 in d:\\programdata\\anaconda3\\lib\\site-packages (from urllib3[socks]<3,>=1.26->selenium) (1.7.1)\n",
      "Requirement already satisfied: pycparser in d:\\programdata\\anaconda3\\lib\\site-packages (from cffi>=1.14->trio~=0.17->selenium) (2.21)\n",
      "Requirement already satisfied: h11<1,>=0.9.0 in c:\\users\\usuario\\appdata\\roaming\\python\\python311\\site-packages (from wsproto>=0.14->trio-websocket~=0.9->selenium) (0.14.0)\n",
      "Defaulting to user installation because normal site-packages is not writeable\n",
      "Requirement already satisfied: webdriver-manager in c:\\users\\usuario\\appdata\\roaming\\python\\python311\\site-packages (4.0.1)\n",
      "Requirement already satisfied: requests in d:\\programdata\\anaconda3\\lib\\site-packages (from webdriver-manager) (2.31.0)\n",
      "Requirement already satisfied: python-dotenv in d:\\programdata\\anaconda3\\lib\\site-packages (from webdriver-manager) (0.21.0)\n",
      "Requirement already satisfied: packaging in d:\\programdata\\anaconda3\\lib\\site-packages (from webdriver-manager) (23.1)\n",
      "Requirement already satisfied: charset-normalizer<4,>=2 in d:\\programdata\\anaconda3\\lib\\site-packages (from requests->webdriver-manager) (2.0.4)\n",
      "Requirement already satisfied: idna<4,>=2.5 in d:\\programdata\\anaconda3\\lib\\site-packages (from requests->webdriver-manager) (3.4)\n",
      "Requirement already satisfied: urllib3<3,>=1.21.1 in d:\\programdata\\anaconda3\\lib\\site-packages (from requests->webdriver-manager) (1.26.16)\n",
      "Requirement already satisfied: certifi>=2017.4.17 in d:\\programdata\\anaconda3\\lib\\site-packages (from requests->webdriver-manager) (2023.7.22)\n",
      "Defaulting to user installation because normal site-packages is not writeable\n",
      "Requirement already satisfied: lxml in d:\\programdata\\anaconda3\\lib\\site-packages (4.9.3)\n",
      "Defaulting to user installation because normal site-packages is not writeable\n"
     ]
    },
    {
     "name": "stderr",
     "output_type": "stream",
     "text": [
      "ERROR: Could not find a version that satisfies the requirement lxmunidecodel (from versions: none)\n",
      "ERROR: No matching distribution found for lxmunidecodel\n"
     ]
    }
   ],
   "source": [
    "!pip install selenium\n",
    "!pip install webdriver-manager\n",
    "!pip install lxml\n",
    "!pip install lxmunidecodel"
   ]
  },
  {
   "cell_type": "code",
   "execution_count": 4,
   "metadata": {},
   "outputs": [],
   "source": [
    "from selenium import webdriver"
   ]
  },
  {
   "cell_type": "code",
   "execution_count": 5,
   "metadata": {},
   "outputs": [],
   "source": [
    "from webdriver_manager.chrome import ChromeDriverManager\n",
    "import re\n",
    "import time\n",
    "from selenium import webdriver\n",
    "from selenium.webdriver.chrome.service import Service\n",
    "from selenium.webdriver.common.by import By\n",
    "import pandas as pd\n",
    "\n",
    "from selenium import webdriver\n",
    "from webdriver_manager.chrome import ChromeDriverManager\n",
    "import unidecode\n",
    "from selenium.webdriver.support.ui import Select"
   ]
  },
  {
   "cell_type": "markdown",
   "metadata": {},
   "source": [
    "We set the driver now"
   ]
  },
  {
   "cell_type": "code",
   "execution_count": 6,
   "metadata": {},
   "outputs": [
    {
     "data": {
      "text/plain": [
       "'C:\\\\Users\\\\usuario\\\\Documents\\\\GitHub\\\\MediaLab_Summer_Python\\\\assignments\\\\assignment5'"
      ]
     },
     "execution_count": 6,
     "metadata": {},
     "output_type": "execute_result"
    }
   ],
   "source": [
    "pwd"
   ]
  },
  {
   "cell_type": "code",
   "execution_count": 44,
   "metadata": {},
   "outputs": [],
   "source": [
    "# Case 1 - Download the driver using ChromeDriverManager\n",
    "service = Service(executable_path=\"chromedriver-win64/chromedriver.exe\")\n",
    "\n",
    "driver = webdriver.Chrome(service=service)\n",
    "\n",
    "url = 'https://resultadoshistorico.onpe.gob.pe/EG2021/'\n",
    "\n",
    "driver.get(url)\n",
    "driver.maximize_window()"
   ]
  },
  {
   "cell_type": "markdown",
   "metadata": {},
   "source": [
    "Now, we are using xpath to access to \"resumen general\""
   ]
  },
  {
   "cell_type": "code",
   "execution_count": 45,
   "metadata": {},
   "outputs": [],
   "source": [
    "res_gen= driver.find_element (By.XPATH, '/html/body/onpe-root/onpe-home-onpe/div[1]/div/div/div/div[2]/div[1]/div/div/a/div[2]/div')\n",
    "res_gen.click()"
   ]
  },
  {
   "cell_type": "markdown",
   "metadata": {},
   "source": [
    "Now, we are using xpath to access to \"presidencial\""
   ]
  },
  {
   "cell_type": "code",
   "execution_count": 46,
   "metadata": {},
   "outputs": [],
   "source": [
    "pres= driver.find_element (By.XPATH, '/html/body/onpe-root/onpe-layout-container/onpe-menu/div/nav/div/div/div[2]/div/div[2]/a')\n",
    "pres.click()"
   ]
  },
  {
   "cell_type": "markdown",
   "metadata": {},
   "source": [
    "Now, we are using xpath to access to \"Perú\""
   ]
  },
  {
   "cell_type": "code",
   "execution_count": 50,
   "metadata": {},
   "outputs": [],
   "source": [
    "per= driver.find_element (By.XPATH, '/html/body/onpe-root/onpe-layout-container/onpe-onpe-epres-re/div[1]/div[3]/div[1]/div[1]/div/div/div[1]/select/option[2]')\n",
    "per.click()"
   ]
  },
  {
   "cell_type": "markdown",
   "metadata": {},
   "source": [
    "It's time to scrape the data looping to get the data from all the departments, provinces and districts"
   ]
  },
  {
   "cell_type": "code",
   "execution_count": 61,
   "metadata": {},
   "outputs": [],
   "source": [
    "# Store all_tables\n",
    "all_tables = {}\n",
    "\n",
    "#1.- departments  \n",
    "# we need to create a loop for departments\n",
    "for dept_idx in range( 26 ):\n",
    "    \n",
    "    #get all elements from departments\n",
    "    dept = Select( driver.find_element(By.XPATH, \"/html/body/onpe-root/onpe-layout-container/onpe-onpe-epres-re/div[1]/div[3]/div[1]/div[1]/div/div/div[2]/select\" ) )\n",
    "    department = dept.options[ dept_idx ]\n",
    "    \n",
    "    # Get departmant name\n",
    "    dept_name = department.text\n",
    "    \n",
    "      # We select a different department name\n",
    "    if dept_name != \"--TODOS--\" :\n",
    "        \n",
    "        # click on department\n",
    "        department.click()\n",
    "        \n",
    "#2.- provinces\n",
    "\n",
    "        provi = Select( driver.find_element(By.XPATH, \"/html/body/onpe-root/onpe-layout-container/onpe-onpe-epres-re/div[1]/div[3]/div[1]/div[1]/div/div/div[3]/select\" ) )\n",
    "        num_provi_options = len( provi.options )\n",
    "        \n",
    "# we need to create a loop for provinces\n",
    "        for provi_idx in range( num_provi_options ):\n",
    "\n",
    "            # get all elements from provinces\n",
    "            provi = Select( driver.find_element(By.XPATH, \"/html/body/onpe-root/onpe-layout-container/onpe-onpe-epres-re/div[1]/div[3]/div[1]/div[1]/div/div/div[3]/select\" ) )\n",
    "            province = provi.options[ provi_idx ]\n",
    "                \n",
    "            # Get province name\n",
    "            provi_name = province.text\n",
    "            \n",
    "            if provi_name != \"--TODOS--\" :\n",
    "                \n",
    "                # click on province\n",
    "                province.click()\n",
    "                \n",
    "#3.- districts\n",
    "\n",
    "                distri = Select( driver.find_element(By.XPATH, \"/html/body/onpe-root/onpe-layout-container/onpe-onpe-epres-re/div[1]/div[3]/div[1]/div[1]/div/div/div[4]/select\" ) )\n",
    "                num_distri_options = len( distri.options )\n",
    "                \n",
    "# we need to create a loop for districts\n",
    "                for distri_idx in range( num_distri_options ):\n",
    "                    \n",
    "                    #get all elements from districts\n",
    "                    distri = Select( driver.find_element(By.XPATH, \"/html/body/onpe-root/onpe-layout-container/onpe-onpe-epres-re/div[1]/div[3]/div[1]/div[1]/div/div/div[4]/select\" ) )\n",
    "                    district = distri.options[ distri_idx ]\n",
    "                    \n",
    "                    # Get district name\n",
    "                    distri_name = district.text\n",
    "                   \n",
    "                  # We select a different district name\n",
    "                    if distri_name != \"-- SELECCIONE --\" :\n",
    "                        \n",
    "                        # click on district\n",
    "                        district.click()\n",
    "                        \n",
    "                        # Get UBIGEO\n",
    "                        ubigeo = driver.current_url.split(\"/\")[ -1 ]\n",
    "                        \n",
    "                        ## Get table of presidential votes\n",
    "                        # Get html at this point\n",
    "                        table_path = driver.find_element(By.XPATH, \"/html/body/onpe-root/onpe-layout-container/onpe-onpe-epres-re/div[1]/div[4]/div[1]/div[3]/div\" )\n",
    "                        table_html = table_path.get_attribute( 'innerHTML' )\n",
    "                        # Read the table using pandas\n",
    "                        table = pd.read_html( table_html )\n",
    "                        \n",
    "                        # Cleaning tables\n",
    "                        row_new_columns = table[ 0 ].iloc[ 0 , 2: ]\n",
    "                        clean_columns = row_new_columns \\\n",
    "                                              .str.replace( \" \", \"_\") \\\n",
    "                                              .str.lower().str.replace( \"%\", \"share_\") \\\n",
    "                                              .apply( lambda x : unidecode.unidecode( x ) ) \\\n",
    "                                              .tolist()\n",
    "                        \n",
    "                        # Selecting specific columns\n",
    "                        table_clean = table[0].iloc[ 1:, 2: ].copy()\n",
    "                        \n",
    "                        # rename columns\n",
    "                        table_clean.columns = clean_columns\n",
    "                        \n",
    "                        # New values to columns \n",
    "                        table_clean[ 'department' ] = dept_name\n",
    "                        table_clean[ 'province' ]   = provi_name\n",
    "                        table_clean[ 'district' ]   = distri_name\n",
    "                    \n",
    "                        \n",
    "                        # store tables\n",
    "                        all_tables[ ubigeo ] = table_clean"
   ]
  },
  {
   "cell_type": "code",
   "execution_count": 62,
   "metadata": {},
   "outputs": [],
   "source": [
    "final_table = pd.concat( all_tables.values() ).reset_index( drop = True )"
   ]
  },
  {
   "cell_type": "code",
   "execution_count": 63,
   "metadata": {},
   "outputs": [
    {
     "data": {
      "text/html": [
       "<div>\n",
       "<style scoped>\n",
       "    .dataframe tbody tr th:only-of-type {\n",
       "        vertical-align: middle;\n",
       "    }\n",
       "\n",
       "    .dataframe tbody tr th {\n",
       "        vertical-align: top;\n",
       "    }\n",
       "\n",
       "    .dataframe thead th {\n",
       "        text-align: right;\n",
       "    }\n",
       "</style>\n",
       "<table border=\"1\" class=\"dataframe\">\n",
       "  <thead>\n",
       "    <tr style=\"text-align: right;\">\n",
       "      <th></th>\n",
       "      <th>organizaciones_politicas</th>\n",
       "      <th>total</th>\n",
       "      <th>share_validos</th>\n",
       "      <th>share_emitidos</th>\n",
       "      <th>department</th>\n",
       "      <th>province</th>\n",
       "      <th>district</th>\n",
       "    </tr>\n",
       "  </thead>\n",
       "  <tbody>\n",
       "    <tr>\n",
       "      <th>0</th>\n",
       "      <td>PARTIDO NACIONALISTA PERUANO</td>\n",
       "      <td>356</td>\n",
       "      <td>9.327%</td>\n",
       "      <td>6.389%</td>\n",
       "      <td>AMAZONAS</td>\n",
       "      <td>BAGUA</td>\n",
       "      <td>ARAMANGO</td>\n",
       "    </tr>\n",
       "    <tr>\n",
       "      <th>1</th>\n",
       "      <td>EL FRENTE AMPLIO POR JUSTICIA, VIDA Y LIBERTAD</td>\n",
       "      <td>13</td>\n",
       "      <td>0.341%</td>\n",
       "      <td>0.233%</td>\n",
       "      <td>AMAZONAS</td>\n",
       "      <td>BAGUA</td>\n",
       "      <td>ARAMANGO</td>\n",
       "    </tr>\n",
       "    <tr>\n",
       "      <th>2</th>\n",
       "      <td>PARTIDO MORADO</td>\n",
       "      <td>41</td>\n",
       "      <td>1.074%</td>\n",
       "      <td>0.736%</td>\n",
       "      <td>AMAZONAS</td>\n",
       "      <td>BAGUA</td>\n",
       "      <td>ARAMANGO</td>\n",
       "    </tr>\n",
       "    <tr>\n",
       "      <th>3</th>\n",
       "      <td>PERU PATRIA SEGURA</td>\n",
       "      <td>4</td>\n",
       "      <td>0.105%</td>\n",
       "      <td>0.072%</td>\n",
       "      <td>AMAZONAS</td>\n",
       "      <td>BAGUA</td>\n",
       "      <td>ARAMANGO</td>\n",
       "    </tr>\n",
       "    <tr>\n",
       "      <th>4</th>\n",
       "      <td>VICTORIA NACIONAL</td>\n",
       "      <td>151</td>\n",
       "      <td>3.956%</td>\n",
       "      <td>2.710%</td>\n",
       "      <td>AMAZONAS</td>\n",
       "      <td>BAGUA</td>\n",
       "      <td>ARAMANGO</td>\n",
       "    </tr>\n",
       "    <tr>\n",
       "      <th>...</th>\n",
       "      <td>...</td>\n",
       "      <td>...</td>\n",
       "      <td>...</td>\n",
       "      <td>...</td>\n",
       "      <td>...</td>\n",
       "      <td>...</td>\n",
       "      <td>...</td>\n",
       "    </tr>\n",
       "    <tr>\n",
       "      <th>41157</th>\n",
       "      <td>ALIANZA PARA EL PROGRESO</td>\n",
       "      <td>292</td>\n",
       "      <td>35.394%</td>\n",
       "      <td>20.434%</td>\n",
       "      <td>UCAYALI</td>\n",
       "      <td>PURUS</td>\n",
       "      <td>PURUS</td>\n",
       "    </tr>\n",
       "    <tr>\n",
       "      <th>41158</th>\n",
       "      <td>TOTAL DE VOTOS VÁLIDOS</td>\n",
       "      <td>825</td>\n",
       "      <td>100.000%</td>\n",
       "      <td>57.733%</td>\n",
       "      <td>UCAYALI</td>\n",
       "      <td>PURUS</td>\n",
       "      <td>PURUS</td>\n",
       "    </tr>\n",
       "    <tr>\n",
       "      <th>41159</th>\n",
       "      <td>VOTOS EN BLANCO</td>\n",
       "      <td>422</td>\n",
       "      <td>NaN</td>\n",
       "      <td>29.531%</td>\n",
       "      <td>UCAYALI</td>\n",
       "      <td>PURUS</td>\n",
       "      <td>PURUS</td>\n",
       "    </tr>\n",
       "    <tr>\n",
       "      <th>41160</th>\n",
       "      <td>VOTOS NULOS</td>\n",
       "      <td>182</td>\n",
       "      <td>NaN</td>\n",
       "      <td>12.736%</td>\n",
       "      <td>UCAYALI</td>\n",
       "      <td>PURUS</td>\n",
       "      <td>PURUS</td>\n",
       "    </tr>\n",
       "    <tr>\n",
       "      <th>41161</th>\n",
       "      <td>TOTAL DE VOTOS EMITIDOS</td>\n",
       "      <td>1429</td>\n",
       "      <td>NaN</td>\n",
       "      <td>100.000%</td>\n",
       "      <td>UCAYALI</td>\n",
       "      <td>PURUS</td>\n",
       "      <td>PURUS</td>\n",
       "    </tr>\n",
       "  </tbody>\n",
       "</table>\n",
       "<p>41162 rows × 7 columns</p>\n",
       "</div>"
      ],
      "text/plain": [
       "                             organizaciones_politicas total share_validos  \\\n",
       "0                        PARTIDO NACIONALISTA PERUANO   356        9.327%   \n",
       "1      EL FRENTE AMPLIO POR JUSTICIA, VIDA Y LIBERTAD    13        0.341%   \n",
       "2                                      PARTIDO MORADO    41        1.074%   \n",
       "3                                  PERU PATRIA SEGURA     4        0.105%   \n",
       "4                                   VICTORIA NACIONAL   151        3.956%   \n",
       "...                                               ...   ...           ...   \n",
       "41157                        ALIANZA PARA EL PROGRESO   292       35.394%   \n",
       "41158                          TOTAL DE VOTOS VÁLIDOS   825      100.000%   \n",
       "41159                                 VOTOS EN BLANCO   422           NaN   \n",
       "41160                                     VOTOS NULOS   182           NaN   \n",
       "41161                         TOTAL DE VOTOS EMITIDOS  1429           NaN   \n",
       "\n",
       "      share_emitidos department province  district  \n",
       "0             6.389%   AMAZONAS    BAGUA  ARAMANGO  \n",
       "1             0.233%   AMAZONAS    BAGUA  ARAMANGO  \n",
       "2             0.736%   AMAZONAS    BAGUA  ARAMANGO  \n",
       "3             0.072%   AMAZONAS    BAGUA  ARAMANGO  \n",
       "4             2.710%   AMAZONAS    BAGUA  ARAMANGO  \n",
       "...              ...        ...      ...       ...  \n",
       "41157        20.434%    UCAYALI    PURUS     PURUS  \n",
       "41158        57.733%    UCAYALI    PURUS     PURUS  \n",
       "41159        29.531%    UCAYALI    PURUS     PURUS  \n",
       "41160        12.736%    UCAYALI    PURUS     PURUS  \n",
       "41161       100.000%    UCAYALI    PURUS     PURUS  \n",
       "\n",
       "[41162 rows x 7 columns]"
      ]
     },
     "execution_count": 63,
     "metadata": {},
     "output_type": "execute_result"
    }
   ],
   "source": [
    "final_table"
   ]
  }
 ],
 "metadata": {
  "hide_input": false,
  "kernelspec": {
   "display_name": "Python 3 (ipykernel)",
   "language": "python",
   "name": "python3"
  },
  "language_info": {
   "codemirror_mode": {
    "name": "ipython",
    "version": 3
   },
   "file_extension": ".py",
   "mimetype": "text/x-python",
   "name": "python",
   "nbconvert_exporter": "python",
   "pygments_lexer": "ipython3",
   "version": "3.11.5"
  }
 },
 "nbformat": 4,
 "nbformat_minor": 4
}
