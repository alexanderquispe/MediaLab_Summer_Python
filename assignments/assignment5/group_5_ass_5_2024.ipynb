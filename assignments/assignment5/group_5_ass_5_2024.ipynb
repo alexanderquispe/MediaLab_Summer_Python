{
 "cells": [
  {
   "cell_type": "markdown",
   "id": "8f7a7155",
   "metadata": {},
   "source": [
    "# Assignment 5\n",
    "\n",
    "In this assignment, your task is to scrape data from the given [link](https://resultadoshistorico.onpe.gob.pe/EG2021/). You'll need to extract all votes for departments, provinces, and districts. Follow these steps:\n",
    "\n",
    "1. Click on 'Resumen General'.\n",
    "2. Select 'Presidencial', and then choose 'Peru'.\n",
    "3. Scrape the data and generate a final table with the following columns: department, province, district, political_organization, total_votes.\n",
    "\n",
    "Your code must execute successfully; any errors will result in a zero grade. Ensure you test your code thoroughly."
   ]
  },
  {
   "cell_type": "markdown",
   "id": "70161085",
   "metadata": {},
   "source": [
    "## Exercise 1"
   ]
  },
  {
   "cell_type": "code",
   "execution_count": 1,
   "id": "aead8d6d",
   "metadata": {},
   "outputs": [
    {
     "name": "stdout",
     "output_type": "stream",
     "text": [
      "Collecting selenium\n",
      "  Obtaining dependency information for selenium from https://files.pythonhosted.org/packages/dc/72/96b5afa16908f9abc7c24b70adfd3a46c9740eb728ddfeab28379e38eaf9/selenium-4.16.0-py3-none-any.whl.metadata\n",
      "  Downloading selenium-4.16.0-py3-none-any.whl.metadata (6.9 kB)\n",
      "Requirement already satisfied: urllib3[socks]<3,>=1.26 in c:\\users\\usuario\\anaconda nuevito\\lib\\site-packages (from selenium) (1.26.16)\n",
      "Collecting trio~=0.17 (from selenium)\n",
      "  Obtaining dependency information for trio~=0.17 from https://files.pythonhosted.org/packages/14/fb/9299cf74953f473a15accfdbe2c15218e766bae8c796f2567c83bae03e98/trio-0.24.0-py3-none-any.whl.metadata\n",
      "  Downloading trio-0.24.0-py3-none-any.whl.metadata (4.9 kB)\n",
      "Collecting trio-websocket~=0.9 (from selenium)\n",
      "  Obtaining dependency information for trio-websocket~=0.9 from https://files.pythonhosted.org/packages/48/be/a9ae5f50cad5b6f85bd2574c2c923730098530096e170c1ce7452394d7aa/trio_websocket-0.11.1-py3-none-any.whl.metadata\n",
      "  Downloading trio_websocket-0.11.1-py3-none-any.whl.metadata (4.7 kB)\n",
      "Requirement already satisfied: certifi>=2021.10.8 in c:\\users\\usuario\\anaconda nuevito\\lib\\site-packages (from selenium) (2023.7.22)\n",
      "Requirement already satisfied: attrs>=20.1.0 in c:\\users\\usuario\\anaconda nuevito\\lib\\site-packages (from trio~=0.17->selenium) (22.1.0)\n",
      "Requirement already satisfied: sortedcontainers in c:\\users\\usuario\\anaconda nuevito\\lib\\site-packages (from trio~=0.17->selenium) (2.4.0)\n",
      "Requirement already satisfied: idna in c:\\users\\usuario\\anaconda nuevito\\lib\\site-packages (from trio~=0.17->selenium) (3.4)\n",
      "Collecting outcome (from trio~=0.17->selenium)\n",
      "  Obtaining dependency information for outcome from https://files.pythonhosted.org/packages/55/8b/5ab7257531a5d830fc8000c476e63c935488d74609b50f9384a643ec0a62/outcome-1.3.0.post0-py2.py3-none-any.whl.metadata\n",
      "  Downloading outcome-1.3.0.post0-py2.py3-none-any.whl.metadata (2.6 kB)\n",
      "Collecting sniffio>=1.3.0 (from trio~=0.17->selenium)\n",
      "  Downloading sniffio-1.3.0-py3-none-any.whl (10 kB)\n",
      "Requirement already satisfied: cffi>=1.14 in c:\\users\\usuario\\anaconda nuevito\\lib\\site-packages (from trio~=0.17->selenium) (1.15.1)\n",
      "Collecting wsproto>=0.14 (from trio-websocket~=0.9->selenium)\n",
      "  Downloading wsproto-1.2.0-py3-none-any.whl (24 kB)\n",
      "Requirement already satisfied: PySocks!=1.5.7,<2.0,>=1.5.6 in c:\\users\\usuario\\anaconda nuevito\\lib\\site-packages (from urllib3[socks]<3,>=1.26->selenium) (1.7.1)\n",
      "Requirement already satisfied: pycparser in c:\\users\\usuario\\anaconda nuevito\\lib\\site-packages (from cffi>=1.14->trio~=0.17->selenium) (2.21)\n",
      "Collecting h11<1,>=0.9.0 (from wsproto>=0.14->trio-websocket~=0.9->selenium)\n",
      "  Downloading h11-0.14.0-py3-none-any.whl (58 kB)\n",
      "     ---------------------------------------- 0.0/58.3 kB ? eta -:--:--\n",
      "     ---------------------------------------- 58.3/58.3 kB 1.0 MB/s eta 0:00:00\n",
      "Downloading selenium-4.16.0-py3-none-any.whl (10.0 MB)\n",
      "   ---------------------------------------- 0.0/10.0 MB ? eta -:--:--\n",
      "   ---------------------------------------- 0.1/10.0 MB 3.5 MB/s eta 0:00:03\n",
      "   - -------------------------------------- 0.3/10.0 MB 3.1 MB/s eta 0:00:04\n",
      "   - -------------------------------------- 0.4/10.0 MB 2.8 MB/s eta 0:00:04\n",
      "   -- ------------------------------------- 0.6/10.0 MB 3.1 MB/s eta 0:00:04\n",
      "   -- ------------------------------------- 0.7/10.0 MB 3.3 MB/s eta 0:00:03\n",
      "   --- ------------------------------------ 0.9/10.0 MB 3.3 MB/s eta 0:00:03\n",
      "   ---- ----------------------------------- 1.0/10.0 MB 3.3 MB/s eta 0:00:03\n",
      "   ---- ----------------------------------- 1.2/10.0 MB 3.4 MB/s eta 0:00:03\n",
      "   ----- ---------------------------------- 1.4/10.0 MB 3.4 MB/s eta 0:00:03\n",
      "   ------ --------------------------------- 1.6/10.0 MB 3.6 MB/s eta 0:00:03\n",
      "   ------- -------------------------------- 1.9/10.0 MB 3.8 MB/s eta 0:00:03\n",
      "   -------- ------------------------------- 2.2/10.0 MB 3.9 MB/s eta 0:00:02\n",
      "   --------- ------------------------------ 2.4/10.0 MB 4.1 MB/s eta 0:00:02\n",
      "   ---------- ----------------------------- 2.6/10.0 MB 4.0 MB/s eta 0:00:02\n",
      "   ----------- ---------------------------- 2.8/10.0 MB 4.1 MB/s eta 0:00:02\n",
      "   ------------ --------------------------- 3.2/10.0 MB 4.3 MB/s eta 0:00:02\n",
      "   ------------- -------------------------- 3.5/10.0 MB 4.4 MB/s eta 0:00:02\n",
      "   --------------- ------------------------ 3.8/10.0 MB 4.6 MB/s eta 0:00:02\n",
      "   ---------------- ----------------------- 4.1/10.0 MB 4.7 MB/s eta 0:00:02\n",
      "   ------------------ --------------------- 4.5/10.0 MB 4.9 MB/s eta 0:00:02\n",
      "   ------------------- -------------------- 4.9/10.0 MB 5.1 MB/s eta 0:00:01\n",
      "   --------------------- ------------------ 5.3/10.0 MB 5.3 MB/s eta 0:00:01\n",
      "   ---------------------- ----------------- 5.7/10.0 MB 5.4 MB/s eta 0:00:01\n",
      "   ------------------------ --------------- 6.1/10.0 MB 5.5 MB/s eta 0:00:01\n",
      "   -------------------------- ------------- 6.5/10.0 MB 5.6 MB/s eta 0:00:01\n",
      "   --------------------------- ------------ 6.8/10.0 MB 5.7 MB/s eta 0:00:01\n",
      "   ----------------------------- ---------- 7.2/10.0 MB 5.8 MB/s eta 0:00:01\n",
      "   ------------------------------ --------- 7.6/10.0 MB 5.9 MB/s eta 0:00:01\n",
      "   -------------------------------- ------- 8.0/10.0 MB 5.9 MB/s eta 0:00:01\n",
      "   --------------------------------- ------ 8.4/10.0 MB 6.1 MB/s eta 0:00:01\n",
      "   ----------------------------------- ---- 8.9/10.0 MB 6.2 MB/s eta 0:00:01\n",
      "   ------------------------------------- -- 9.3/10.0 MB 6.3 MB/s eta 0:00:01\n",
      "   -------------------------------------- - 9.7/10.0 MB 6.3 MB/s eta 0:00:01\n",
      "   ---------------------------------------  10.0/10.0 MB 6.4 MB/s eta 0:00:01\n",
      "   ---------------------------------------  10.0/10.0 MB 6.4 MB/s eta 0:00:01\n",
      "   ---------------------------------------- 10.0/10.0 MB 6.0 MB/s eta 0:00:00\n",
      "Downloading trio-0.24.0-py3-none-any.whl (460 kB)\n",
      "   ---------------------------------------- 0.0/460.2 kB ? eta -:--:--\n",
      "   ---------------------------- ---------- 337.9/460.2 kB 10.6 MB/s eta 0:00:01\n",
      "   ---------------------------------------- 460.2/460.2 kB 9.6 MB/s eta 0:00:00\n",
      "Downloading trio_websocket-0.11.1-py3-none-any.whl (17 kB)\n",
      "Downloading outcome-1.3.0.post0-py2.py3-none-any.whl (10 kB)\n",
      "Installing collected packages: sniffio, outcome, h11, wsproto, trio, trio-websocket, selenium\n",
      "  Attempting uninstall: sniffio\n",
      "    Found existing installation: sniffio 1.2.0\n",
      "    Uninstalling sniffio-1.2.0:\n",
      "      Successfully uninstalled sniffio-1.2.0\n",
      "Successfully installed h11-0.14.0 outcome-1.3.0.post0 selenium-4.16.0 sniffio-1.3.0 trio-0.24.0 trio-websocket-0.11.1 wsproto-1.2.0\n",
      "Collecting webdriver-manager\n",
      "  Obtaining dependency information for webdriver-manager from https://files.pythonhosted.org/packages/b1/51/b5c11cf739ac4eecde611794a0ec9df420d0239d51e73bc19eb44f02b48b/webdriver_manager-4.0.1-py2.py3-none-any.whl.metadata\n",
      "  Downloading webdriver_manager-4.0.1-py2.py3-none-any.whl.metadata (12 kB)\n",
      "Requirement already satisfied: requests in c:\\users\\usuario\\anaconda nuevito\\lib\\site-packages (from webdriver-manager) (2.31.0)\n",
      "Requirement already satisfied: python-dotenv in c:\\users\\usuario\\anaconda nuevito\\lib\\site-packages (from webdriver-manager) (0.21.0)\n",
      "Requirement already satisfied: packaging in c:\\users\\usuario\\anaconda nuevito\\lib\\site-packages (from webdriver-manager) (23.1)\n",
      "Requirement already satisfied: charset-normalizer<4,>=2 in c:\\users\\usuario\\anaconda nuevito\\lib\\site-packages (from requests->webdriver-manager) (2.0.4)\n",
      "Requirement already satisfied: idna<4,>=2.5 in c:\\users\\usuario\\anaconda nuevito\\lib\\site-packages (from requests->webdriver-manager) (3.4)\n",
      "Requirement already satisfied: urllib3<3,>=1.21.1 in c:\\users\\usuario\\anaconda nuevito\\lib\\site-packages (from requests->webdriver-manager) (1.26.16)\n",
      "Requirement already satisfied: certifi>=2017.4.17 in c:\\users\\usuario\\anaconda nuevito\\lib\\site-packages (from requests->webdriver-manager) (2023.7.22)\n",
      "Downloading webdriver_manager-4.0.1-py2.py3-none-any.whl (27 kB)\n",
      "Installing collected packages: webdriver-manager\n",
      "Successfully installed webdriver-manager-4.0.1\n",
      "Requirement already satisfied: lxml in c:\\users\\usuario\\anaconda nuevito\\lib\\site-packages (4.9.3)\n"
     ]
    },
    {
     "name": "stderr",
     "output_type": "stream",
     "text": [
      "ERROR: Could not find a version that satisfies the requirement lxmunidecodel (from versions: none)\n",
      "ERROR: No matching distribution found for lxmunidecodel\n"
     ]
    }
   ],
   "source": [
    "## First, install the libraries\n",
    "!pip install selenium\n",
    "!pip install webdriver-manager\n",
    "!pip install lxml\n",
    "!pip install lxmunidecodel"
   ]
  },
  {
   "cell_type": "code",
   "execution_count": 2,
   "id": "320a78fd",
   "metadata": {},
   "outputs": [],
   "source": [
    "# Library to manipulate browser\n",
    "from selenium import webdriver\n",
    "\n",
    "# Then, we call ChromeDriver\n",
    "from webdriver_manager.chrome import ChromeDriverManager\n",
    "import re\n",
    "import time\n",
    "from selenium import webdriver\n",
    "from selenium.webdriver.chrome.service import Service\n",
    "from selenium.webdriver.common.by import By\n",
    "import pandas as pd\n",
    "\n",
    "# And import select class\n",
    "from selenium import webdriver\n",
    "from webdriver_manager.chrome import ChromeDriverManager\n",
    "import unidecode\n",
    "from selenium.webdriver.support.ui import Select"
   ]
  },
  {
   "cell_type": "code",
   "execution_count": 3,
   "id": "65875119",
   "metadata": {},
   "outputs": [
    {
     "data": {
      "text/plain": [
       "'C:\\\\Users\\\\Usuario\\\\Documents\\\\GitHub\\\\MediaLab_Summer_Python\\\\assignments\\\\assignment5'"
      ]
     },
     "execution_count": 3,
     "metadata": {},
     "output_type": "execute_result"
    }
   ],
   "source": [
    "pwd"
   ]
  },
  {
   "cell_type": "code",
   "execution_count": 5,
   "id": "c961131c",
   "metadata": {},
   "outputs": [],
   "source": [
    "## Here, we download the driver using ChromeDriverManager by the path\n",
    "service = Service(executable_path=\"C:/Users/Usuario/Documents/GitHub/MediaLab_Summer_Python/Lecture_7/chromedriver-win64/chromedriver.exe\")\n",
    "\n",
    "driver = webdriver.Chrome(service = service)\n",
    "\n",
    "## Paste the url\n",
    "url = 'https://resultadoshistorico.onpe.gob.pe/EG2021/'\n",
    "driver.get(url)\n",
    "\n",
    "## We put this to maximize the window\n",
    "driver.maximize_window()\n",
    "\n",
    "## We put this to click on 'Resumen General'\n",
    "driver.find_element(By.XPATH, '/html/body/onpe-root/onpe-home-onpe/div[1]/div/div/div/div[2]/div[1]/div/div/a/div[2]/div').click()\n",
    "time.sleep(2)\n",
    "\n",
    "## EXERCISE 2 \n",
    "\n",
    "## We put this to click on 'Presidencial'\n",
    "driver.find_element(By.XPATH, '/html/body/onpe-root/onpe-layout-container/onpe-menu/div/nav/div/div/div[2]/div/div[2]/a').click()\n",
    "time.sleep(2)\n",
    "\n",
    "# Then, we put this to click on 'Perú'\n",
    "driver.find_element(By.XPATH, '/html/body/onpe-root/onpe-layout-container/onpe-onpe-epres-re/div[1]/div[3]/div[1]/div[1]/div/div/div[1]/select/option[2]').click()\n",
    "time.sleep(2)\n"
   ]
  },
  {
   "cell_type": "code",
   "execution_count": null,
   "id": "768c4a21",
   "metadata": {},
   "outputs": [],
   "source": []
  }
 ],
 "metadata": {
  "kernelspec": {
   "display_name": "Python 3 (ipykernel)",
   "language": "python",
   "name": "python3"
  },
  "language_info": {
   "codemirror_mode": {
    "name": "ipython",
    "version": 3
   },
   "file_extension": ".py",
   "mimetype": "text/x-python",
   "name": "python",
   "nbconvert_exporter": "python",
   "pygments_lexer": "ipython3",
   "version": "3.11.5"
  }
 },
 "nbformat": 4,
 "nbformat_minor": 5
}
