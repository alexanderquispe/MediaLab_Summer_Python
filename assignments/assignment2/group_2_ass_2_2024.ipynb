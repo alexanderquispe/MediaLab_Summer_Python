{
 "cells": [
  {
   "cell_type": "markdown",
   "id": "44f81bbe",
   "metadata": {},
   "source": [
    "# Assignment 2 - Group 2"
   ]
  },
  {
   "cell_type": "markdown",
   "id": "1b9b7833",
   "metadata": {},
   "source": [
    "### Exercise 1: Basic Dictionary Creation and Access\n",
    "Objective: Create a dictionary named student_info containing at least three key-value pairs where keys are student names (as strings) and values are their respective ages (as integers). Then, access and print the age of a specific student."
   ]
  },
  {
   "cell_type": "markdown",
   "id": "efd06477",
   "metadata": {},
   "source": [
    "### Exercise 2: Modifying Dictionary Values\n",
    "**Objective:** Start with a dictionary `product_prices` where keys are product names (strings) and values are their prices (floats). Select a product and update its price. Then, add a new product with its price to the dictionary.\n",
    "\n",
    "\n",
    "### Exercise 3: Dictionary Comprehension\n",
    "**Objective:** Create a dictionary `squared_numbers` using dictionary comprehension where keys are integers from 1 to 10, and values are the squares of these keys.\n",
    "\n",
    "### Exercise 4: Nested Dictionaries\n",
    "**Objective:** Create a nested dictionary `employee_data` where each key is an employee ID (integer) and each value is another dictionary with keys 'Name', 'Position', and 'Salary'. Then, access and print the name and position of a specific employee by their ID. This dictionary `employee_data` should have only 5 keys.\n",
    "\n",
    "### Exercise 5: Merging Dictionaries\n",
    "**Objective:** You have two dictionaries `dict1` and `dict2` with non-overlapping keys. Merge these two dictionaries into a new dictionary `merged_dict` and print its contents. This `merged_dict` dict should have all the keys.\n",
    "\n"
   ]
  },
  {
   "cell_type": "code",
   "execution_count": 4,
   "id": "26b990b2",
   "metadata": {},
   "outputs": [],
   "source": [
    "# Initial product prices\n",
    "product_prices = {\n",
    "    \"Laptop\": 999.99,\n",
    "    \"Smartphone\": 499.99,\n",
    "    \"Headphones\": 89.99,\n",
    "    \"Camera\": 279.99\n",
    "}"
   ]
  },
  {
   "cell_type": "code",
   "execution_count": 3,
   "id": "d5cc1405",
   "metadata": {},
   "outputs": [],
   "source": [
    "dict1 = {\"A\": 1, \"B\": 2, \"C\": 3}\n",
    "dict2 = {\"D\": 4, \"E\": 5, \"F\": 6}"
   ]
  },
  {
   "cell_type": "markdown",
   "id": "c2cfc32a",
   "metadata": {},
   "source": [
    "## Excercise 1"
   ]
  },
  {
   "cell_type": "code",
   "execution_count": 5,
   "id": "6c8d985d",
   "metadata": {},
   "outputs": [],
   "source": [
    "# First we create the Dictionary with the studen's names and their ages.\n",
    "student_info = { \"Marta\" : 27, \"Sandra\": 24, \"Carola\": 21, \"Antoni\": 23 }"
   ]
  },
  {
   "cell_type": "code",
   "execution_count": 6,
   "id": "1201802f",
   "metadata": {},
   "outputs": [
    {
     "data": {
      "text/plain": [
       "dict"
      ]
     },
     "execution_count": 6,
     "metadata": {},
     "output_type": "execute_result"
    }
   ],
   "source": [
    "# We verify the object type we have created.\n",
    "type (student_info)"
   ]
  },
  {
   "cell_type": "code",
   "execution_count": 7,
   "id": "73f00242",
   "metadata": {},
   "outputs": [
    {
     "name": "stdout",
     "output_type": "stream",
     "text": [
      "27\n"
     ]
    }
   ],
   "source": [
    "# Now we print the age of a specific student.\n",
    "print(student_info [\"Marta\"])"
   ]
  },
  {
   "cell_type": "code",
   "execution_count": 8,
   "id": "59c199f6",
   "metadata": {},
   "outputs": [
    {
     "name": "stdout",
     "output_type": "stream",
     "text": [
      "21\n"
     ]
    }
   ],
   "source": [
    "print(student_info[\"Carola\"])"
   ]
  },
  {
   "cell_type": "markdown",
   "id": "b90c06b1",
   "metadata": {},
   "source": [
    "## Excercise 2"
   ]
  },
  {
   "cell_type": "code",
   "execution_count": 9,
   "id": "a109f041",
   "metadata": {},
   "outputs": [
    {
     "name": "stdout",
     "output_type": "stream",
     "text": [
      "{'Laptop': 999.99, 'Smartphone': 499.99, 'Headphones': 89.99, 'Camera': 279.99}\n"
     ]
    }
   ],
   "source": [
    "print(product_prices)"
   ]
  },
  {
   "cell_type": "code",
   "execution_count": 12,
   "id": "41d19ebf",
   "metadata": {},
   "outputs": [],
   "source": [
    "product_prices.update ({\"Laptop\" : 777.77})"
   ]
  },
  {
   "cell_type": "code",
   "execution_count": 11,
   "id": "0b1a6c82",
   "metadata": {},
   "outputs": [
    {
     "data": {
      "text/plain": [
       "{'Laptop': 777.77, 'Smartphone': 499.99, 'Headphones': 89.99, 'Camera': 279.99}"
      ]
     },
     "execution_count": 11,
     "metadata": {},
     "output_type": "execute_result"
    }
   ],
   "source": [
    "product_prices"
   ]
  },
  {
   "cell_type": "code",
   "execution_count": 14,
   "id": "faf2c49e",
   "metadata": {},
   "outputs": [],
   "source": [
    "product_prices.update( { \"tablet\" : 500.99  } )"
   ]
  },
  {
   "cell_type": "code",
   "execution_count": 15,
   "id": "4d43c509",
   "metadata": {},
   "outputs": [
    {
     "data": {
      "text/plain": [
       "{'Laptop': 777.77,\n",
       " 'Smartphone': 499.99,\n",
       " 'Headphones': 89.99,\n",
       " 'Camera': 279.99,\n",
       " 'tablet': 500.99}"
      ]
     },
     "execution_count": 15,
     "metadata": {},
     "output_type": "execute_result"
    }
   ],
   "source": [
    "#Price Updated\n",
    "product_prices"
   ]
  },
  {
   "cell_type": "markdown",
   "id": "9320ccc1",
   "metadata": {},
   "source": [
    "product_prices"
   ]
  },
  {
   "cell_type": "markdown",
   "id": "5c629f19",
   "metadata": {},
   "source": [
    "## Excercise 3"
   ]
  },
  {
   "cell_type": "code",
   "execution_count": 16,
   "id": "149a8892",
   "metadata": {},
   "outputs": [
    {
     "data": {
      "text/plain": [
       "{1: 1, 2: 4, 3: 9, 4: 16, 5: 25, 6: 36, 7: 49, 8: 64, 9: 81, 10: 100}"
      ]
     },
     "execution_count": 16,
     "metadata": {},
     "output_type": "execute_result"
    }
   ],
   "source": [
    "# This is the long way to do it.\n",
    "squared_numbers1 ={1:1**2, 2:2**2, 3:3**2, 4:4**2, 5:5**2, 6:6**2, 7:7**2, 8:8**2,9:9**2, 10:10**2}\n",
    "squared_numbers1"
   ]
  },
  {
   "cell_type": "code",
   "execution_count": 18,
   "id": "d176664b",
   "metadata": {},
   "outputs": [],
   "source": [
    "# Here we solved the problem using dictionary comprehension.\n",
    "squared_numbers = {number: number**2 for number in range(1, 11)}"
   ]
  },
  {
   "cell_type": "code",
   "execution_count": 19,
   "id": "5440cd4b",
   "metadata": {},
   "outputs": [
    {
     "data": {
      "text/plain": [
       "{1: 1, 2: 4, 3: 9, 4: 16, 5: 25, 6: 36, 7: 49, 8: 64, 9: 81, 10: 100}"
      ]
     },
     "execution_count": 19,
     "metadata": {},
     "output_type": "execute_result"
    }
   ],
   "source": [
    "squared_numbers"
   ]
  },
  {
   "cell_type": "code",
   "execution_count": 20,
   "id": "a2a1e801",
   "metadata": {},
   "outputs": [
    {
     "data": {
      "text/plain": [
       "dict"
      ]
     },
     "execution_count": 20,
     "metadata": {},
     "output_type": "execute_result"
    }
   ],
   "source": [
    "type(squared_numbers)"
   ]
  },
  {
   "cell_type": "markdown",
   "id": "c251c00c",
   "metadata": {},
   "source": [
    "## Excercise 4"
   ]
  },
  {
   "cell_type": "code",
   "execution_count": 21,
   "id": "f672583b",
   "metadata": {
    "scrolled": true
   },
   "outputs": [
    {
     "data": {
      "text/plain": [
       "{20131266: {'Name': 'Marco', 'Position': 'Marketing', 'Salary': 100},\n",
       " 20111742: {'Name': 'Maria', 'Position': 'Doctor', 'Salary': 50},\n",
       " 20202366: {'Name': 'Juana', 'Position': 'Designer', 'Salary': 200},\n",
       " 20091254: {'Name': 'Pedro', 'Position': 'CEO', 'Salary': 400},\n",
       " 20150364: {'Name': 'Alonso', 'Position': 'Manager', 'Salary': 30}}"
      ]
     },
     "execution_count": 21,
     "metadata": {},
     "output_type": "execute_result"
    }
   ],
   "source": [
    "employee_data = {20131266: {\"Name\": \"Marco\", \"Position\":\"Marketing\", \"Salary\": 100 }, \n",
    "                 20111742: {\"Name\": \"Maria\", \"Position\":\"Doctor\", \"Salary\": 50 },\n",
    "                20202366: {\"Name\": \"Juana\", \"Position\":\"Designer\", \"Salary\": 200 },\n",
    "                20091254: {\"Name\": \"Pedro\", \"Position\":\"CEO\", \"Salary\": 400 },\n",
    "                20150364: {\"Name\": \"Alonso\", \"Position\":\"Manager\", \"Salary\": 30 }}\n",
    "employee_data"
   ]
  },
  {
   "cell_type": "code",
   "execution_count": 22,
   "id": "bef2bb3c",
   "metadata": {},
   "outputs": [
    {
     "name": "stdout",
     "output_type": "stream",
     "text": [
      "Marco\n",
      "Marketing\n"
     ]
    }
   ],
   "source": [
    "print(employee_data [20131266] [\"Name\"])\n",
    "print(employee_data [20131266] [\"Position\"])"
   ]
  },
  {
   "cell_type": "markdown",
   "id": "f670da22",
   "metadata": {},
   "source": [
    "## Exercise 5: Merging Dictionaries"
   ]
  },
  {
   "cell_type": "code",
   "execution_count": 23,
   "id": "fef43895",
   "metadata": {},
   "outputs": [
    {
     "data": {
      "text/plain": [
       "{'A': 1, 'B': 2, 'C': 3}"
      ]
     },
     "execution_count": 23,
     "metadata": {},
     "output_type": "execute_result"
    }
   ],
   "source": [
    "dict1"
   ]
  },
  {
   "cell_type": "code",
   "execution_count": 24,
   "id": "56e83351",
   "metadata": {},
   "outputs": [
    {
     "data": {
      "text/plain": [
       "{'D': 4, 'E': 5, 'F': 6}"
      ]
     },
     "execution_count": 24,
     "metadata": {},
     "output_type": "execute_result"
    }
   ],
   "source": [
    "dict2"
   ]
  },
  {
   "cell_type": "code",
   "execution_count": 25,
   "id": "032045b9",
   "metadata": {},
   "outputs": [
    {
     "data": {
      "text/plain": [
       "{'A': 1, 'B': 2, 'C': 3, 'D': 4, 'E': 5, 'F': 6}"
      ]
     },
     "execution_count": 25,
     "metadata": {},
     "output_type": "execute_result"
    }
   ],
   "source": [
    "merged_dict = {**dict1, **dict2}\n",
    "merged_dict"
   ]
  },
  {
   "cell_type": "markdown",
   "id": "b9b4a06c",
   "metadata": {},
   "source": [
    "## Pandas"
   ]
  },
  {
   "cell_type": "markdown",
   "id": "450d0d1f",
   "metadata": {},
   "source": [
    "### Exercise 1: Selecting Single Column with .loc\n",
    "**Objective**: Use .loc to select and print only the 'Name' column for all rows.\n",
    "\n",
    "### Exercise 2: Row Slicing with .iloc\n",
    "**Objective**: Use .iloc to select and print rows 2 through 4 (inclusive).\n",
    "\n",
    "### Exercise 3: Selecting Multiple Columns with .iloc\n",
    "**Objective**: Use .iloc to select and print the 'Name' and 'Age' columns for all rows.\n",
    "\n",
    "### Exercise 4: Conditional Selection with .loc\n",
    "**Objective**: Use .loc to select and print rows where the 'Age' is greater than 30.\n",
    "\n",
    "### Exercise 5: Modifying Data with .loc\n",
    "**Objective**: Use .loc to change the 'City' of the person named 'Alice' to 'Boston'. Then, print the updated DataFrame."
   ]
  },
  {
   "cell_type": "markdown",
   "id": "4371ae18",
   "metadata": {},
   "source": [
    "## ANSWERS"
   ]
  },
  {
   "cell_type": "markdown",
   "id": "0ef9711a",
   "metadata": {},
   "source": [
    "## Exercise 1: Selecting Single Column with .loc\n",
    "Objective: Use .loc to select and print only the 'Name' column for all rows."
   ]
  },
  {
   "cell_type": "code",
   "execution_count": 3,
   "id": "1cb94a0a",
   "metadata": {},
   "outputs": [],
   "source": [
    "import pandas as pd\n",
    "import numpy as np"
   ]
  },
  {
   "cell_type": "code",
   "execution_count": 4,
   "id": "98c347e4",
   "metadata": {},
   "outputs": [],
   "source": [
    "# Creating a DataFrame for the exercise\n",
    "data = {\n",
    "    'Name': ['Alice', 'Bob', 'Charlie', 'David', 'Eva'],\n",
    "    'Age': [25, 30, 35, 40, 45],\n",
    "    'City': ['New York', 'Los Angeles', 'Chicago', 'Houston', 'Miami']\n",
    "}"
   ]
  },
  {
   "cell_type": "code",
   "execution_count": 5,
   "id": "9b4eb29b",
   "metadata": {},
   "outputs": [
    {
     "data": {
      "text/html": [
       "<div>\n",
       "<style scoped>\n",
       "    .dataframe tbody tr th:only-of-type {\n",
       "        vertical-align: middle;\n",
       "    }\n",
       "\n",
       "    .dataframe tbody tr th {\n",
       "        vertical-align: top;\n",
       "    }\n",
       "\n",
       "    .dataframe thead th {\n",
       "        text-align: right;\n",
       "    }\n",
       "</style>\n",
       "<table border=\"1\" class=\"dataframe\">\n",
       "  <thead>\n",
       "    <tr style=\"text-align: right;\">\n",
       "      <th></th>\n",
       "      <th>Name</th>\n",
       "      <th>Age</th>\n",
       "      <th>City</th>\n",
       "    </tr>\n",
       "  </thead>\n",
       "  <tbody>\n",
       "    <tr>\n",
       "      <th>0</th>\n",
       "      <td>Alice</td>\n",
       "      <td>25</td>\n",
       "      <td>New York</td>\n",
       "    </tr>\n",
       "    <tr>\n",
       "      <th>1</th>\n",
       "      <td>Bob</td>\n",
       "      <td>30</td>\n",
       "      <td>Los Angeles</td>\n",
       "    </tr>\n",
       "    <tr>\n",
       "      <th>2</th>\n",
       "      <td>Charlie</td>\n",
       "      <td>35</td>\n",
       "      <td>Chicago</td>\n",
       "    </tr>\n",
       "    <tr>\n",
       "      <th>3</th>\n",
       "      <td>David</td>\n",
       "      <td>40</td>\n",
       "      <td>Houston</td>\n",
       "    </tr>\n",
       "    <tr>\n",
       "      <th>4</th>\n",
       "      <td>Eva</td>\n",
       "      <td>45</td>\n",
       "      <td>Miami</td>\n",
       "    </tr>\n",
       "  </tbody>\n",
       "</table>\n",
       "</div>"
      ],
      "text/plain": [
       "      Name  Age         City\n",
       "0    Alice   25     New York\n",
       "1      Bob   30  Los Angeles\n",
       "2  Charlie   35      Chicago\n",
       "3    David   40      Houston\n",
       "4      Eva   45        Miami"
      ]
     },
     "execution_count": 5,
     "metadata": {},
     "output_type": "execute_result"
    }
   ],
   "source": [
    "pd.DataFrame (data)"
   ]
  },
  {
   "cell_type": "code",
   "execution_count": 6,
   "id": "e8ead3eb",
   "metadata": {},
   "outputs": [
    {
     "data": {
      "text/html": [
       "<div>\n",
       "<style scoped>\n",
       "    .dataframe tbody tr th:only-of-type {\n",
       "        vertical-align: middle;\n",
       "    }\n",
       "\n",
       "    .dataframe tbody tr th {\n",
       "        vertical-align: top;\n",
       "    }\n",
       "\n",
       "    .dataframe thead th {\n",
       "        text-align: right;\n",
       "    }\n",
       "</style>\n",
       "<table border=\"1\" class=\"dataframe\">\n",
       "  <thead>\n",
       "    <tr style=\"text-align: right;\">\n",
       "      <th></th>\n",
       "      <th>Name</th>\n",
       "      <th>Age</th>\n",
       "      <th>City</th>\n",
       "    </tr>\n",
       "  </thead>\n",
       "  <tbody>\n",
       "    <tr>\n",
       "      <th>0</th>\n",
       "      <td>Alice</td>\n",
       "      <td>25</td>\n",
       "      <td>New York</td>\n",
       "    </tr>\n",
       "    <tr>\n",
       "      <th>1</th>\n",
       "      <td>Bob</td>\n",
       "      <td>30</td>\n",
       "      <td>Los Angeles</td>\n",
       "    </tr>\n",
       "    <tr>\n",
       "      <th>2</th>\n",
       "      <td>Charlie</td>\n",
       "      <td>35</td>\n",
       "      <td>Chicago</td>\n",
       "    </tr>\n",
       "    <tr>\n",
       "      <th>3</th>\n",
       "      <td>David</td>\n",
       "      <td>40</td>\n",
       "      <td>Houston</td>\n",
       "    </tr>\n",
       "    <tr>\n",
       "      <th>4</th>\n",
       "      <td>Eva</td>\n",
       "      <td>45</td>\n",
       "      <td>Miami</td>\n",
       "    </tr>\n",
       "  </tbody>\n",
       "</table>\n",
       "</div>"
      ],
      "text/plain": [
       "      Name  Age         City\n",
       "0    Alice   25     New York\n",
       "1      Bob   30  Los Angeles\n",
       "2  Charlie   35      Chicago\n",
       "3    David   40      Houston\n",
       "4      Eva   45        Miami"
      ]
     },
     "execution_count": 6,
     "metadata": {},
     "output_type": "execute_result"
    }
   ],
   "source": [
    "names = pd.DataFrame (data)\n",
    "names"
   ]
  },
  {
   "cell_type": "code",
   "execution_count": 7,
   "id": "c70beeb9",
   "metadata": {},
   "outputs": [
    {
     "data": {
      "text/html": [
       "<div>\n",
       "<style scoped>\n",
       "    .dataframe tbody tr th:only-of-type {\n",
       "        vertical-align: middle;\n",
       "    }\n",
       "\n",
       "    .dataframe tbody tr th {\n",
       "        vertical-align: top;\n",
       "    }\n",
       "\n",
       "    .dataframe thead th {\n",
       "        text-align: right;\n",
       "    }\n",
       "</style>\n",
       "<table border=\"1\" class=\"dataframe\">\n",
       "  <thead>\n",
       "    <tr style=\"text-align: right;\">\n",
       "      <th></th>\n",
       "      <th>Name</th>\n",
       "    </tr>\n",
       "  </thead>\n",
       "  <tbody>\n",
       "    <tr>\n",
       "      <th>0</th>\n",
       "      <td>Alice</td>\n",
       "    </tr>\n",
       "    <tr>\n",
       "      <th>1</th>\n",
       "      <td>Bob</td>\n",
       "    </tr>\n",
       "    <tr>\n",
       "      <th>2</th>\n",
       "      <td>Charlie</td>\n",
       "    </tr>\n",
       "    <tr>\n",
       "      <th>3</th>\n",
       "      <td>David</td>\n",
       "    </tr>\n",
       "    <tr>\n",
       "      <th>4</th>\n",
       "      <td>Eva</td>\n",
       "    </tr>\n",
       "  </tbody>\n",
       "</table>\n",
       "</div>"
      ],
      "text/plain": [
       "      Name\n",
       "0    Alice\n",
       "1      Bob\n",
       "2  Charlie\n",
       "3    David\n",
       "4      Eva"
      ]
     },
     "execution_count": 7,
     "metadata": {},
     "output_type": "execute_result"
    }
   ],
   "source": [
    "names.loc[ 0:4 , [\"Name\"] ]"
   ]
  },
  {
   "cell_type": "markdown",
   "id": "c558f4f2",
   "metadata": {},
   "source": [
    "## Exercise 2: Row Slicing with .iloc\n",
    "Objective: Use .iloc to select and print rows 2 through 4 (inclusive)."
   ]
  },
  {
   "cell_type": "code",
   "execution_count": 8,
   "id": "00abacaa",
   "metadata": {},
   "outputs": [
    {
     "data": {
      "text/html": [
       "<div>\n",
       "<style scoped>\n",
       "    .dataframe tbody tr th:only-of-type {\n",
       "        vertical-align: middle;\n",
       "    }\n",
       "\n",
       "    .dataframe tbody tr th {\n",
       "        vertical-align: top;\n",
       "    }\n",
       "\n",
       "    .dataframe thead th {\n",
       "        text-align: right;\n",
       "    }\n",
       "</style>\n",
       "<table border=\"1\" class=\"dataframe\">\n",
       "  <thead>\n",
       "    <tr style=\"text-align: right;\">\n",
       "      <th></th>\n",
       "      <th>Name</th>\n",
       "      <th>Age</th>\n",
       "      <th>City</th>\n",
       "    </tr>\n",
       "  </thead>\n",
       "  <tbody>\n",
       "    <tr>\n",
       "      <th>2</th>\n",
       "      <td>Charlie</td>\n",
       "      <td>35</td>\n",
       "      <td>Chicago</td>\n",
       "    </tr>\n",
       "    <tr>\n",
       "      <th>3</th>\n",
       "      <td>David</td>\n",
       "      <td>40</td>\n",
       "      <td>Houston</td>\n",
       "    </tr>\n",
       "    <tr>\n",
       "      <th>4</th>\n",
       "      <td>Eva</td>\n",
       "      <td>45</td>\n",
       "      <td>Miami</td>\n",
       "    </tr>\n",
       "  </tbody>\n",
       "</table>\n",
       "</div>"
      ],
      "text/plain": [
       "      Name  Age     City\n",
       "2  Charlie   35  Chicago\n",
       "3    David   40  Houston\n",
       "4      Eva   45    Miami"
      ]
     },
     "execution_count": 8,
     "metadata": {},
     "output_type": "execute_result"
    }
   ],
   "source": [
    "names.iloc[ 2:5 ]"
   ]
  },
  {
   "cell_type": "markdown",
   "id": "dcdcd541",
   "metadata": {},
   "source": [
    "## Exercise 3: Selecting Multiple Columns with .iloc\n",
    "Objective: Use .iloc to select and print the 'Name' and 'Age' columns for all rows."
   ]
  },
  {
   "cell_type": "code",
   "execution_count": 9,
   "id": "55272014",
   "metadata": {},
   "outputs": [
    {
     "data": {
      "text/html": [
       "<div>\n",
       "<style scoped>\n",
       "    .dataframe tbody tr th:only-of-type {\n",
       "        vertical-align: middle;\n",
       "    }\n",
       "\n",
       "    .dataframe tbody tr th {\n",
       "        vertical-align: top;\n",
       "    }\n",
       "\n",
       "    .dataframe thead th {\n",
       "        text-align: right;\n",
       "    }\n",
       "</style>\n",
       "<table border=\"1\" class=\"dataframe\">\n",
       "  <thead>\n",
       "    <tr style=\"text-align: right;\">\n",
       "      <th></th>\n",
       "      <th>Name</th>\n",
       "      <th>Age</th>\n",
       "    </tr>\n",
       "  </thead>\n",
       "  <tbody>\n",
       "    <tr>\n",
       "      <th>0</th>\n",
       "      <td>Alice</td>\n",
       "      <td>25</td>\n",
       "    </tr>\n",
       "    <tr>\n",
       "      <th>1</th>\n",
       "      <td>Bob</td>\n",
       "      <td>30</td>\n",
       "    </tr>\n",
       "    <tr>\n",
       "      <th>2</th>\n",
       "      <td>Charlie</td>\n",
       "      <td>35</td>\n",
       "    </tr>\n",
       "    <tr>\n",
       "      <th>3</th>\n",
       "      <td>David</td>\n",
       "      <td>40</td>\n",
       "    </tr>\n",
       "    <tr>\n",
       "      <th>4</th>\n",
       "      <td>Eva</td>\n",
       "      <td>45</td>\n",
       "    </tr>\n",
       "  </tbody>\n",
       "</table>\n",
       "</div>"
      ],
      "text/plain": [
       "      Name  Age\n",
       "0    Alice   25\n",
       "1      Bob   30\n",
       "2  Charlie   35\n",
       "3    David   40\n",
       "4      Eva   45"
      ]
     },
     "execution_count": 9,
     "metadata": {},
     "output_type": "execute_result"
    }
   ],
   "source": [
    "names.iloc[0:5,[0,1]]"
   ]
  },
  {
   "cell_type": "markdown",
   "id": "296ea725",
   "metadata": {},
   "source": [
    "## Exercise 4: Conditional Selection with .loc\n",
    "Objective: Use .loc to select and print rows where the 'Age' is greater than 30."
   ]
  },
  {
   "cell_type": "code",
   "execution_count": 10,
   "id": "5c3c3941",
   "metadata": {},
   "outputs": [
    {
     "data": {
      "text/plain": [
       "0    False\n",
       "1    False\n",
       "2     True\n",
       "3     True\n",
       "4     True\n",
       "Name: Age, dtype: bool"
      ]
     },
     "execution_count": 10,
     "metadata": {},
     "output_type": "execute_result"
    }
   ],
   "source": [
    "names [\"Age\"] > 30"
   ]
  },
  {
   "cell_type": "code",
   "execution_count": 11,
   "id": "3f6bfc69",
   "metadata": {},
   "outputs": [
    {
     "data": {
      "text/plain": [
       "0    False\n",
       "1    False\n",
       "2     True\n",
       "3     True\n",
       "4     True\n",
       "Name: Age, dtype: bool"
      ]
     },
     "execution_count": 11,
     "metadata": {},
     "output_type": "execute_result"
    }
   ],
   "source": [
    "list_filter = names[\"Age\"] > 30\n",
    "list_filter"
   ]
  },
  {
   "cell_type": "code",
   "execution_count": 12,
   "id": "667963c5",
   "metadata": {},
   "outputs": [
    {
     "name": "stdout",
     "output_type": "stream",
     "text": [
      "      Name  Age     City\n",
      "2  Charlie   35  Chicago\n",
      "3    David   40  Houston\n",
      "4      Eva   45    Miami\n"
     ]
    }
   ],
   "source": [
    "filtered_data = names[list_filter]\n",
    "print(filtered_data)"
   ]
  },
  {
   "cell_type": "code",
   "execution_count": 13,
   "id": "7f5c2a71",
   "metadata": {},
   "outputs": [
    {
     "data": {
      "text/html": [
       "<div>\n",
       "<style scoped>\n",
       "    .dataframe tbody tr th:only-of-type {\n",
       "        vertical-align: middle;\n",
       "    }\n",
       "\n",
       "    .dataframe tbody tr th {\n",
       "        vertical-align: top;\n",
       "    }\n",
       "\n",
       "    .dataframe thead th {\n",
       "        text-align: right;\n",
       "    }\n",
       "</style>\n",
       "<table border=\"1\" class=\"dataframe\">\n",
       "  <thead>\n",
       "    <tr style=\"text-align: right;\">\n",
       "      <th></th>\n",
       "      <th>Name</th>\n",
       "      <th>Age</th>\n",
       "      <th>City</th>\n",
       "    </tr>\n",
       "  </thead>\n",
       "  <tbody>\n",
       "    <tr>\n",
       "      <th>2</th>\n",
       "      <td>Charlie</td>\n",
       "      <td>35</td>\n",
       "      <td>Chicago</td>\n",
       "    </tr>\n",
       "    <tr>\n",
       "      <th>3</th>\n",
       "      <td>David</td>\n",
       "      <td>40</td>\n",
       "      <td>Houston</td>\n",
       "    </tr>\n",
       "    <tr>\n",
       "      <th>4</th>\n",
       "      <td>Eva</td>\n",
       "      <td>45</td>\n",
       "      <td>Miami</td>\n",
       "    </tr>\n",
       "  </tbody>\n",
       "</table>\n",
       "</div>"
      ],
      "text/plain": [
       "      Name  Age     City\n",
       "2  Charlie   35  Chicago\n",
       "3    David   40  Houston\n",
       "4      Eva   45    Miami"
      ]
     },
     "execution_count": 13,
     "metadata": {},
     "output_type": "execute_result"
    }
   ],
   "source": [
    "names.loc [2:4]"
   ]
  },
  {
   "cell_type": "markdown",
   "id": "8780e40b",
   "metadata": {},
   "source": [
    "## Exercise 5: Modifying Data with .loc\n",
    "Use .loc to change the 'City' of the person named 'Alice' to 'Boston'. Then, print the updated DataFrame."
   ]
  },
  {
   "cell_type": "code",
   "execution_count": 14,
   "id": "abddabcb",
   "metadata": {},
   "outputs": [
    {
     "data": {
      "text/html": [
       "<div>\n",
       "<style scoped>\n",
       "    .dataframe tbody tr th:only-of-type {\n",
       "        vertical-align: middle;\n",
       "    }\n",
       "\n",
       "    .dataframe tbody tr th {\n",
       "        vertical-align: top;\n",
       "    }\n",
       "\n",
       "    .dataframe thead th {\n",
       "        text-align: right;\n",
       "    }\n",
       "</style>\n",
       "<table border=\"1\" class=\"dataframe\">\n",
       "  <thead>\n",
       "    <tr style=\"text-align: right;\">\n",
       "      <th></th>\n",
       "      <th>Name</th>\n",
       "      <th>Age</th>\n",
       "      <th>City</th>\n",
       "    </tr>\n",
       "  </thead>\n",
       "  <tbody>\n",
       "    <tr>\n",
       "      <th>0</th>\n",
       "      <td>Alice</td>\n",
       "      <td>25</td>\n",
       "      <td>New York</td>\n",
       "    </tr>\n",
       "    <tr>\n",
       "      <th>1</th>\n",
       "      <td>Bob</td>\n",
       "      <td>30</td>\n",
       "      <td>Los Angeles</td>\n",
       "    </tr>\n",
       "    <tr>\n",
       "      <th>2</th>\n",
       "      <td>Charlie</td>\n",
       "      <td>35</td>\n",
       "      <td>Chicago</td>\n",
       "    </tr>\n",
       "    <tr>\n",
       "      <th>3</th>\n",
       "      <td>David</td>\n",
       "      <td>40</td>\n",
       "      <td>Houston</td>\n",
       "    </tr>\n",
       "    <tr>\n",
       "      <th>4</th>\n",
       "      <td>Eva</td>\n",
       "      <td>45</td>\n",
       "      <td>Miami</td>\n",
       "    </tr>\n",
       "  </tbody>\n",
       "</table>\n",
       "</div>"
      ],
      "text/plain": [
       "      Name  Age         City\n",
       "0    Alice   25     New York\n",
       "1      Bob   30  Los Angeles\n",
       "2  Charlie   35      Chicago\n",
       "3    David   40      Houston\n",
       "4      Eva   45        Miami"
      ]
     },
     "execution_count": 14,
     "metadata": {},
     "output_type": "execute_result"
    }
   ],
   "source": [
    "newdf = pd.DataFrame(data)\n",
    "newdf"
   ]
  },
  {
   "cell_type": "code",
   "execution_count": 15,
   "id": "96e9c867",
   "metadata": {},
   "outputs": [
    {
     "name": "stdout",
     "output_type": "stream",
     "text": [
      "      Name  Age         City\n",
      "0    Alice   25       Boston\n",
      "1      Bob   30  Los Angeles\n",
      "2  Charlie   35      Chicago\n",
      "3    David   40      Houston\n",
      "4      Eva   45        Miami\n"
     ]
    }
   ],
   "source": [
    "newdf.loc[newdf['Name'] == 'Alice', 'City'] = 'Boston'\n",
    "print(newdf)"
   ]
  }
 ],
 "metadata": {
  "kernelspec": {
   "display_name": "Python 3 (ipykernel)",
   "language": "python",
   "name": "python3"
  },
  "language_info": {
   "codemirror_mode": {
    "name": "ipython",
    "version": 3
   },
   "file_extension": ".py",
   "mimetype": "text/x-python",
   "name": "python",
   "nbconvert_exporter": "python",
   "pygments_lexer": "ipython3",
   "version": "3.11.5"
  }
 },
 "nbformat": 4,
 "nbformat_minor": 5
}
