{
 "cells": [
  {
   "cell_type": "markdown",
   "id": "44f81bbe",
   "metadata": {},
   "source": [
    "# Assignment 2"
   ]
  },
  {
   "cell_type": "markdown",
   "id": "50f74674",
   "metadata": {},
   "source": [
    "### Exercise 1: Basic Dictionary Creation and Access\n",
    "Objective: Create a dictionary named student_info containing at least three key-value pairs where keys are student names (as strings) and values are their respective ages (as integers). Then, access and print the age of a specific student.\n",
    "\n",
    "\n",
    "Primero realizamos el diccionario llamado 'student_info'"
   ]
  },
  {
   "cell_type": "code",
   "execution_count": 6,
   "id": "d9a2f883",
   "metadata": {},
   "outputs": [],
   "source": [
    "student_info= {'Mario': 24, 'Daniela': 22, 'Francisco': 33}  "
   ]
  },
  {
   "cell_type": "code",
   "execution_count": 5,
   "id": "dfae8f08",
   "metadata": {},
   "outputs": [
    {
     "data": {
      "text/plain": [
       "dict"
      ]
     },
     "execution_count": 5,
     "metadata": {},
     "output_type": "execute_result"
    }
   ],
   "source": [
    "type(student_info)"
   ]
  },
  {
   "cell_type": "markdown",
   "id": "549ce577",
   "metadata": {},
   "source": [
    "Comprobamos que es una función diccionario, por lo tanto aplicaremos la función print para saber la edad de Francisco"
   ]
  },
  {
   "cell_type": "code",
   "execution_count": 8,
   "id": "d281541e",
   "metadata": {},
   "outputs": [
    {
     "name": "stdout",
     "output_type": "stream",
     "text": [
      "33\n"
     ]
    }
   ],
   "source": [
    "print(student_info['Francisco'])"
   ]
  },
  {
   "cell_type": "markdown",
   "id": "efd06477",
   "metadata": {},
   "source": [
    "### Exercise 2: Modifying Dictionary Values\n",
    "**Objective:** Start with a dictionary `product_prices` where keys are product names (strings) and values are their prices (floats). Select a product and update its price. Then, add a new product with its price to the dictionary.\n",
    "\n",
    "Iniciamos con el diccionario 'product_prices' con tres productos y sus precios"
   ]
  },
  {
   "cell_type": "code",
   "execution_count": 9,
   "id": "b317e05b",
   "metadata": {},
   "outputs": [],
   "source": [
    "product_prices= {'pollo': 7.50, 'Gaseosa': 12, 'Panetón': 15}  "
   ]
  },
  {
   "cell_type": "markdown",
   "id": "a529633f",
   "metadata": {},
   "source": [
    "Comprobamos que es una función diccionario, con la función type"
   ]
  },
  {
   "cell_type": "code",
   "execution_count": 11,
   "id": "ba661da4",
   "metadata": {},
   "outputs": [
    {
     "data": {
      "text/plain": [
       "dict"
      ]
     },
     "execution_count": 11,
     "metadata": {},
     "output_type": "execute_result"
    }
   ],
   "source": [
    "type(product_prices)"
   ]
  },
  {
   "cell_type": "markdown",
   "id": "129ac337",
   "metadata": {},
   "source": [
    "A continuación elegiremos el precio del pollo y lo subiremos a 8.50. Lo comprobaremos con la función print"
   ]
  },
  {
   "cell_type": "code",
   "execution_count": 13,
   "id": "d669f89c",
   "metadata": {},
   "outputs": [
    {
     "name": "stdout",
     "output_type": "stream",
     "text": [
      "{'pollo': 8.5, 'Gaseosa': 12, 'Panetón': 15}\n"
     ]
    }
   ],
   "source": [
    "product_prices['pollo']= 8.50\n",
    "\n",
    "print(product_prices)"
   ]
  },
  {
   "cell_type": "markdown",
   "id": "23ad9b4d",
   "metadata": {},
   "source": [
    "Ya que aumentamos el precio del pollo, ahora agregaremos al diccionario el vino y su precio con el método update. Luego lo comprobaremos con la función print"
   ]
  },
  {
   "cell_type": "code",
   "execution_count": 15,
   "id": "1e673570",
   "metadata": {},
   "outputs": [
    {
     "name": "stdout",
     "output_type": "stream",
     "text": [
      "{'pollo': 8.5, 'Gaseosa': 12, 'Panetón': 15, 'vino': 34}\n"
     ]
    }
   ],
   "source": [
    "product_prices.update({'vino':34})\n",
    "\n",
    "print (product_prices)"
   ]
  },
  {
   "cell_type": "markdown",
   "id": "6c51307d",
   "metadata": {},
   "source": [
    "### Exercise 3: Dictionary Comprehension\n",
    "**Objective:** Create a dictionary `squared_numbers` using dictionary comprehension where keys are integers from 1 to 10, and values are the squares of these keys.\n",
    "\n"
   ]
  },
  {
   "cell_type": "markdown",
   "id": "f111932c",
   "metadata": {},
   "source": [
    "Al ser un dicionario la función va entre { }, es así que creamos la función en la cual el key lo llamamos number, este number son numeros en un rango del 1 al 10, los valores son el cuadrado, tal cual se ve a continuación:"
   ]
  },
  {
   "cell_type": "code",
   "execution_count": 1,
   "id": "a786db84",
   "metadata": {},
   "outputs": [],
   "source": [
    "squared_numbers= {number: number**2 for number in range(1, 11)}"
   ]
  },
  {
   "cell_type": "markdown",
   "id": "5c4b3e75",
   "metadata": {},
   "source": [
    "Le damos a print para ver el resultado"
   ]
  },
  {
   "cell_type": "code",
   "execution_count": 3,
   "id": "d8c3b498",
   "metadata": {},
   "outputs": [
    {
     "name": "stdout",
     "output_type": "stream",
     "text": [
      "{1: 1, 2: 4, 3: 9, 4: 16, 5: 25, 6: 36, 7: 49, 8: 64, 9: 81, 10: 100}\n"
     ]
    }
   ],
   "source": [
    "print(squared_numbers)"
   ]
  },
  {
   "cell_type": "markdown",
   "id": "597949c7",
   "metadata": {},
   "source": [
    "### Exercise 4: Nested Dictionaries\n",
    "**Objective:** Create a nested dictionary `employee_data` where each key is an employee ID (integer) and each value is another dictionary with keys 'Name', 'Position', and 'Salary'. Then, access and print the name and position of a specific employee by their ID. This dictionary `employee_data` should have only 5 keys.\n"
   ]
  },
  {
   "cell_type": "markdown",
   "id": "70db73f9",
   "metadata": {},
   "source": [
    "Primero creamos el dictionario con los datos: Nombre, Posición y Salario. Son 5 keys asi que creamos 5 IDs:"
   ]
  },
  {
   "cell_type": "code",
   "execution_count": 6,
   "id": "914d600e",
   "metadata": {},
   "outputs": [],
   "source": [
    "employee_data = {\n",
    "    2001: {'Name': 'Katty Ticona', 'Position': 'Media Planner', 'Salary': 3800},\n",
    "    2002: {'Name': 'Diego DuPont', 'Position': 'Journalist', 'Salary': 4000},\n",
    "    2003: {'Name': 'Ronald Tello', 'Position': 'Visual Effects Assistant', 'Salary': 5000},\n",
    "    2004: {'Name': 'Claudia Vera', 'Position': 'Analyst', 'Salary': 2500},\n",
    "    2005: {'Name': 'Andrea Arreluceta', 'Position': 'Graphic Designer', 'Salary': 3000}}"
   ]
  },
  {
   "cell_type": "code",
   "execution_count": 10,
   "id": "14bc4c98",
   "metadata": {},
   "outputs": [
    {
     "name": "stdout",
     "output_type": "stream",
     "text": [
      "{2001: {'Name': 'Katty Ticona', 'Position': 'Media Planner', 'Salary': 3800}, 2002: {'Name': 'Diego DuPont', 'Position': 'Journalist', 'Salary': 4000}, 2003: {'Name': 'Ronald Tello', 'Position': 'Visual Effects Assistant', 'Salary': 5000}, 2004: {'Name': 'Claudia Vera', 'Position': 'Analyst', 'Salary': 2500}, 2005: {'Name': 'Andrea Arreluceta', 'Position': 'Graphic Designer', 'Salary': 3000}}\n"
     ]
    }
   ],
   "source": [
    "print(employee_data)"
   ]
  },
  {
   "cell_type": "markdown",
   "id": "d368e3fe",
   "metadata": {},
   "source": [
    "Luego creamos funciones para poder extraer data del diccionario:"
   ]
  },
  {
   "cell_type": "code",
   "execution_count": 12,
   "id": "97b2547b",
   "metadata": {},
   "outputs": [],
   "source": [
    "def print_employee_info(employee_id):\n",
    "    if employee_id in employee_data:\n",
    "        employee_info = employee_data[employee_id]\n",
    "        print(f\"Employee ID: {employee_id}\")\n",
    "        print(f\"Name: {employee_info['Name']}\")\n",
    "        print(f\"Position: {employee_info['Position']}\")\n",
    " "
   ]
  },
  {
   "cell_type": "markdown",
   "id": "9eac0cff",
   "metadata": {},
   "source": [
    "Ahora podemos tener el nombre y posición de cualquiera de los 5 employees solo con su ID:"
   ]
  },
  {
   "cell_type": "code",
   "execution_count": 13,
   "id": "49ed1d2d",
   "metadata": {},
   "outputs": [
    {
     "name": "stdout",
     "output_type": "stream",
     "text": [
      "Employee ID: 2002\n",
      "Name: Diego DuPont\n",
      "Position: Journalist\n"
     ]
    }
   ],
   "source": [
    "print_employee_info(2002)"
   ]
  },
  {
   "cell_type": "markdown",
   "id": "c4176c53",
   "metadata": {},
   "source": [
    "### Exercise 5: Merging Dictionaries\n",
    "**Objective:** You have two dictionaries `dict1` and `dict2` with non-overlapping keys. Merge these two dictionaries into a new dictionary `merged_dict` and print its contents. This `merged_dict` dict should have all the keys."
   ]
  },
  {
   "cell_type": "code",
   "execution_count": 19,
   "id": "26b990b2",
   "metadata": {},
   "outputs": [],
   "source": [
    "    # Initial product prices\n",
    "    product_prices = {\n",
    "        \"Laptop\": 999.99,\n",
    "        \"Smartphone\": 499.99,\n",
    "        \"Headphones\": 89.99,\n",
    "        \"Camera\": 279.99\n",
    "    }"
   ]
  },
  {
   "cell_type": "code",
   "execution_count": 20,
   "id": "d5cc1405",
   "metadata": {},
   "outputs": [],
   "source": [
    "dict1 = {\"A\": 1, \"B\": 2, \"C\": 3}\n",
    "dict2 = {\"D\": 4, \"E\": 5, \"F\": 6}"
   ]
  },
  {
   "cell_type": "code",
   "execution_count": null,
   "id": "d0da76ce",
   "metadata": {},
   "outputs": [],
   "source": []
  },
  {
   "cell_type": "code",
   "execution_count": 23,
   "id": "54006792",
   "metadata": {},
   "outputs": [],
   "source": [
    "merged_dict = dict(zip(dict1.keys(), dict1.values()))\n"
   ]
  },
  {
   "cell_type": "code",
   "execution_count": 24,
   "id": "bb450b34",
   "metadata": {},
   "outputs": [],
   "source": [
    "merged_dict.update(dict(zip(dict2.keys(), dict2.values())))"
   ]
  },
  {
   "cell_type": "code",
   "execution_count": 25,
   "id": "3f3f2744",
   "metadata": {},
   "outputs": [
    {
     "name": "stdout",
     "output_type": "stream",
     "text": [
      "{'A': 1, 'B': 2, 'C': 3, 'D': 4, 'E': 5, 'F': 6}\n"
     ]
    }
   ],
   "source": [
    "print(merged_dict)"
   ]
  },
  {
   "cell_type": "markdown",
   "id": "b9b4a06c",
   "metadata": {},
   "source": [
    "## Pandas"
   ]
  },
  {
   "cell_type": "markdown",
   "id": "450d0d1f",
   "metadata": {},
   "source": [
    "### Exercise 1: Selecting Single Column with .loc\n",
    "**Objective**: Use .loc to select and print only the 'Name' column for all rows."
   ]
  },
  {
   "cell_type": "code",
   "execution_count": 1,
   "id": "e8115130",
   "metadata": {},
   "outputs": [
    {
     "name": "stdout",
     "output_type": "stream",
     "text": [
      "0     Ronald\n",
      "1    Alberto\n",
      "2       Beto\n",
      "Name: Name, dtype: object\n"
     ]
    }
   ],
   "source": [
    "import pandas as pd\n",
    "\n",
    "# Dataframe example\n",
    "data = {'Name': ['Ronald', 'Alberto', 'Beto'],\n",
    "        'Age': [85, 28, 35],\n",
    "        'City': ['Lima', 'Arequipa', 'Ica']}\n",
    "df = pd.DataFrame(data)\n",
    "\n",
    "# Age column\n",
    "age_column = df.loc[:, 'Name']\n",
    "\n",
    "# Print \n",
    "print(age_column)"
   ]
  },
  {
   "cell_type": "markdown",
   "id": "429a74e8",
   "metadata": {},
   "source": [
    "### Exercise 2: Row Slicing with .iloc\n",
    "**Objective**: Use .iloc to select and print rows 2 through 4 (inclusive)."
   ]
  },
  {
   "cell_type": "code",
   "execution_count": 18,
   "id": "c20ce691",
   "metadata": {},
   "outputs": [
    {
     "name": "stdout",
     "output_type": "stream",
     "text": [
      "   Name  Age City\n",
      "2  Beto   35  Ica\n"
     ]
    }
   ],
   "source": [
    "# Slice 1\n",
    "row_slice = df.iloc[2:5,:]\n",
    "\n",
    "print(row_slice)"
   ]
  },
  {
   "cell_type": "markdown",
   "id": "47d77278",
   "metadata": {},
   "source": [
    "### Exercise 3: Selecting Multiple Columns with .iloc\n",
    "**Objective**: Use .iloc to select and print the 'Name' and 'Age' columns for all rows."
   ]
  },
  {
   "cell_type": "code",
   "execution_count": 14,
   "id": "fec23913",
   "metadata": {},
   "outputs": [
    {
     "name": "stdout",
     "output_type": "stream",
     "text": [
      "      Name  Age\n",
      "0   Ronald   85\n",
      "1  Alberto   28\n",
      "2     Beto   35\n"
     ]
    }
   ],
   "source": [
    "# Slice 2\n",
    "\n",
    "column_data = df.iloc[0:len(df),0: 2]\n",
    "\n",
    "print(column_data)"
   ]
  },
  {
   "cell_type": "markdown",
   "id": "9f0c353a",
   "metadata": {},
   "source": [
    "### Exercise 4: Conditional Selection with .loc\n",
    "**Objective**: Use .loc to select and print rows where the 'Age' is greater than 30."
   ]
  },
  {
   "cell_type": "code",
   "execution_count": null,
   "id": "a90a2c99",
   "metadata": {},
   "outputs": [],
   "source": []
  },
  {
   "cell_type": "markdown",
   "id": "5d2f5b8d",
   "metadata": {},
   "source": [
    "### Exercise 5: Modifying Data with .loc\n",
    "**Objective**: Use .loc to change the 'City' of the person named 'Alice' to 'Boston'. Then, print the updated DataFrame."
   ]
  },
  {
   "cell_type": "code",
   "execution_count": null,
   "id": "85e88f4c",
   "metadata": {},
   "outputs": [],
   "source": [
    "# Creating a DataFrame for the exercise\n",
    "data = {\n",
    "    'Name': ['Alice', 'Bob', 'Charlie', 'David', 'Eva'],\n",
    "    'Age': [25, 30, 35, 40, 45],\n",
    "    'City': ['New York', 'Los Angeles', 'Chicago', 'Houston', 'Miami']\n",
    "}"
   ]
  }
 ],
 "metadata": {
  "kernelspec": {
   "display_name": "Python 3 (ipykernel)",
   "language": "python",
   "name": "python3"
  },
  "language_info": {
   "codemirror_mode": {
    "name": "ipython",
    "version": 3
   },
   "file_extension": ".py",
   "mimetype": "text/x-python",
   "name": "python",
   "nbconvert_exporter": "python",
   "pygments_lexer": "ipython3",
   "version": "3.11.5"
  }
 },
 "nbformat": 4,
 "nbformat_minor": 5
}
